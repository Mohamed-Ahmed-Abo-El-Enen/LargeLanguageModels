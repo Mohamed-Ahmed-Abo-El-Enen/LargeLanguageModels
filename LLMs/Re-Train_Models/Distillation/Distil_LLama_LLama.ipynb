{
  "nbformat": 4,
  "nbformat_minor": 0,
  "metadata": {
    "colab": {
      "provenance": [],
      "gpuType": "A100",
      "machine_shape": "hm"
    },
    "kernelspec": {
      "name": "python3",
      "display_name": "Python 3"
    },
    "language_info": {
      "name": "python"
    },
    "accelerator": "GPU",
    "widgets": {
      "application/vnd.jupyter.widget-state+json": {
        "76c66af96b0a4ea7bcc18009c4f606af": {
          "model_module": "@jupyter-widgets/controls",
          "model_name": "HBoxModel",
          "model_module_version": "1.5.0",
          "state": {
            "_dom_classes": [],
            "_model_module": "@jupyter-widgets/controls",
            "_model_module_version": "1.5.0",
            "_model_name": "HBoxModel",
            "_view_count": null,
            "_view_module": "@jupyter-widgets/controls",
            "_view_module_version": "1.5.0",
            "_view_name": "HBoxView",
            "box_style": "",
            "children": [
              "IPY_MODEL_810f88d25d9b4096a6a75f1ef6681cf9",
              "IPY_MODEL_52e923d4254b44799641ee6859db3dce",
              "IPY_MODEL_4b3ff7f666a841798b966da47d3ef6de"
            ],
            "layout": "IPY_MODEL_441e79edeb0b4d5e9fadf769c6a48143"
          }
        },
        "810f88d25d9b4096a6a75f1ef6681cf9": {
          "model_module": "@jupyter-widgets/controls",
          "model_name": "HTMLModel",
          "model_module_version": "1.5.0",
          "state": {
            "_dom_classes": [],
            "_model_module": "@jupyter-widgets/controls",
            "_model_module_version": "1.5.0",
            "_model_name": "HTMLModel",
            "_view_count": null,
            "_view_module": "@jupyter-widgets/controls",
            "_view_module_version": "1.5.0",
            "_view_name": "HTMLView",
            "description": "",
            "description_tooltip": null,
            "layout": "IPY_MODEL_2147a4dfd1164004b0cf416090756d90",
            "placeholder": "​",
            "style": "IPY_MODEL_0d1793929dea4a6bbf982d55a4726e33",
            "value": "Loading checkpoint shards: 100%"
          }
        },
        "52e923d4254b44799641ee6859db3dce": {
          "model_module": "@jupyter-widgets/controls",
          "model_name": "FloatProgressModel",
          "model_module_version": "1.5.0",
          "state": {
            "_dom_classes": [],
            "_model_module": "@jupyter-widgets/controls",
            "_model_module_version": "1.5.0",
            "_model_name": "FloatProgressModel",
            "_view_count": null,
            "_view_module": "@jupyter-widgets/controls",
            "_view_module_version": "1.5.0",
            "_view_name": "ProgressView",
            "bar_style": "success",
            "description": "",
            "description_tooltip": null,
            "layout": "IPY_MODEL_165e57f837cd468092703bc3c636c6f4",
            "max": 2,
            "min": 0,
            "orientation": "horizontal",
            "style": "IPY_MODEL_6a73d5470c9c4ad6b0c98348438ec94f",
            "value": 2
          }
        },
        "4b3ff7f666a841798b966da47d3ef6de": {
          "model_module": "@jupyter-widgets/controls",
          "model_name": "HTMLModel",
          "model_module_version": "1.5.0",
          "state": {
            "_dom_classes": [],
            "_model_module": "@jupyter-widgets/controls",
            "_model_module_version": "1.5.0",
            "_model_name": "HTMLModel",
            "_view_count": null,
            "_view_module": "@jupyter-widgets/controls",
            "_view_module_version": "1.5.0",
            "_view_name": "HTMLView",
            "description": "",
            "description_tooltip": null,
            "layout": "IPY_MODEL_da622acec69b4c9b977bdae604e17bb6",
            "placeholder": "​",
            "style": "IPY_MODEL_1cc4693500b04572823a4711e2750c37",
            "value": " 2/2 [00:02&lt;00:00,  1.02it/s]"
          }
        },
        "441e79edeb0b4d5e9fadf769c6a48143": {
          "model_module": "@jupyter-widgets/base",
          "model_name": "LayoutModel",
          "model_module_version": "1.2.0",
          "state": {
            "_model_module": "@jupyter-widgets/base",
            "_model_module_version": "1.2.0",
            "_model_name": "LayoutModel",
            "_view_count": null,
            "_view_module": "@jupyter-widgets/base",
            "_view_module_version": "1.2.0",
            "_view_name": "LayoutView",
            "align_content": null,
            "align_items": null,
            "align_self": null,
            "border": null,
            "bottom": null,
            "display": null,
            "flex": null,
            "flex_flow": null,
            "grid_area": null,
            "grid_auto_columns": null,
            "grid_auto_flow": null,
            "grid_auto_rows": null,
            "grid_column": null,
            "grid_gap": null,
            "grid_row": null,
            "grid_template_areas": null,
            "grid_template_columns": null,
            "grid_template_rows": null,
            "height": null,
            "justify_content": null,
            "justify_items": null,
            "left": null,
            "margin": null,
            "max_height": null,
            "max_width": null,
            "min_height": null,
            "min_width": null,
            "object_fit": null,
            "object_position": null,
            "order": null,
            "overflow": null,
            "overflow_x": null,
            "overflow_y": null,
            "padding": null,
            "right": null,
            "top": null,
            "visibility": null,
            "width": null
          }
        },
        "2147a4dfd1164004b0cf416090756d90": {
          "model_module": "@jupyter-widgets/base",
          "model_name": "LayoutModel",
          "model_module_version": "1.2.0",
          "state": {
            "_model_module": "@jupyter-widgets/base",
            "_model_module_version": "1.2.0",
            "_model_name": "LayoutModel",
            "_view_count": null,
            "_view_module": "@jupyter-widgets/base",
            "_view_module_version": "1.2.0",
            "_view_name": "LayoutView",
            "align_content": null,
            "align_items": null,
            "align_self": null,
            "border": null,
            "bottom": null,
            "display": null,
            "flex": null,
            "flex_flow": null,
            "grid_area": null,
            "grid_auto_columns": null,
            "grid_auto_flow": null,
            "grid_auto_rows": null,
            "grid_column": null,
            "grid_gap": null,
            "grid_row": null,
            "grid_template_areas": null,
            "grid_template_columns": null,
            "grid_template_rows": null,
            "height": null,
            "justify_content": null,
            "justify_items": null,
            "left": null,
            "margin": null,
            "max_height": null,
            "max_width": null,
            "min_height": null,
            "min_width": null,
            "object_fit": null,
            "object_position": null,
            "order": null,
            "overflow": null,
            "overflow_x": null,
            "overflow_y": null,
            "padding": null,
            "right": null,
            "top": null,
            "visibility": null,
            "width": null
          }
        },
        "0d1793929dea4a6bbf982d55a4726e33": {
          "model_module": "@jupyter-widgets/controls",
          "model_name": "DescriptionStyleModel",
          "model_module_version": "1.5.0",
          "state": {
            "_model_module": "@jupyter-widgets/controls",
            "_model_module_version": "1.5.0",
            "_model_name": "DescriptionStyleModel",
            "_view_count": null,
            "_view_module": "@jupyter-widgets/base",
            "_view_module_version": "1.2.0",
            "_view_name": "StyleView",
            "description_width": ""
          }
        },
        "165e57f837cd468092703bc3c636c6f4": {
          "model_module": "@jupyter-widgets/base",
          "model_name": "LayoutModel",
          "model_module_version": "1.2.0",
          "state": {
            "_model_module": "@jupyter-widgets/base",
            "_model_module_version": "1.2.0",
            "_model_name": "LayoutModel",
            "_view_count": null,
            "_view_module": "@jupyter-widgets/base",
            "_view_module_version": "1.2.0",
            "_view_name": "LayoutView",
            "align_content": null,
            "align_items": null,
            "align_self": null,
            "border": null,
            "bottom": null,
            "display": null,
            "flex": null,
            "flex_flow": null,
            "grid_area": null,
            "grid_auto_columns": null,
            "grid_auto_flow": null,
            "grid_auto_rows": null,
            "grid_column": null,
            "grid_gap": null,
            "grid_row": null,
            "grid_template_areas": null,
            "grid_template_columns": null,
            "grid_template_rows": null,
            "height": null,
            "justify_content": null,
            "justify_items": null,
            "left": null,
            "margin": null,
            "max_height": null,
            "max_width": null,
            "min_height": null,
            "min_width": null,
            "object_fit": null,
            "object_position": null,
            "order": null,
            "overflow": null,
            "overflow_x": null,
            "overflow_y": null,
            "padding": null,
            "right": null,
            "top": null,
            "visibility": null,
            "width": null
          }
        },
        "6a73d5470c9c4ad6b0c98348438ec94f": {
          "model_module": "@jupyter-widgets/controls",
          "model_name": "ProgressStyleModel",
          "model_module_version": "1.5.0",
          "state": {
            "_model_module": "@jupyter-widgets/controls",
            "_model_module_version": "1.5.0",
            "_model_name": "ProgressStyleModel",
            "_view_count": null,
            "_view_module": "@jupyter-widgets/base",
            "_view_module_version": "1.2.0",
            "_view_name": "StyleView",
            "bar_color": null,
            "description_width": ""
          }
        },
        "da622acec69b4c9b977bdae604e17bb6": {
          "model_module": "@jupyter-widgets/base",
          "model_name": "LayoutModel",
          "model_module_version": "1.2.0",
          "state": {
            "_model_module": "@jupyter-widgets/base",
            "_model_module_version": "1.2.0",
            "_model_name": "LayoutModel",
            "_view_count": null,
            "_view_module": "@jupyter-widgets/base",
            "_view_module_version": "1.2.0",
            "_view_name": "LayoutView",
            "align_content": null,
            "align_items": null,
            "align_self": null,
            "border": null,
            "bottom": null,
            "display": null,
            "flex": null,
            "flex_flow": null,
            "grid_area": null,
            "grid_auto_columns": null,
            "grid_auto_flow": null,
            "grid_auto_rows": null,
            "grid_column": null,
            "grid_gap": null,
            "grid_row": null,
            "grid_template_areas": null,
            "grid_template_columns": null,
            "grid_template_rows": null,
            "height": null,
            "justify_content": null,
            "justify_items": null,
            "left": null,
            "margin": null,
            "max_height": null,
            "max_width": null,
            "min_height": null,
            "min_width": null,
            "object_fit": null,
            "object_position": null,
            "order": null,
            "overflow": null,
            "overflow_x": null,
            "overflow_y": null,
            "padding": null,
            "right": null,
            "top": null,
            "visibility": null,
            "width": null
          }
        },
        "1cc4693500b04572823a4711e2750c37": {
          "model_module": "@jupyter-widgets/controls",
          "model_name": "DescriptionStyleModel",
          "model_module_version": "1.5.0",
          "state": {
            "_model_module": "@jupyter-widgets/controls",
            "_model_module_version": "1.5.0",
            "_model_name": "DescriptionStyleModel",
            "_view_count": null,
            "_view_module": "@jupyter-widgets/base",
            "_view_module_version": "1.2.0",
            "_view_name": "StyleView",
            "description_width": ""
          }
        },
        "c0ebe47dd39b45a7b88917dfad91aabd": {
          "model_module": "@jupyter-widgets/controls",
          "model_name": "HBoxModel",
          "model_module_version": "1.5.0",
          "state": {
            "_dom_classes": [],
            "_model_module": "@jupyter-widgets/controls",
            "_model_module_version": "1.5.0",
            "_model_name": "HBoxModel",
            "_view_count": null,
            "_view_module": "@jupyter-widgets/controls",
            "_view_module_version": "1.5.0",
            "_view_name": "HBoxView",
            "box_style": "",
            "children": [
              "IPY_MODEL_cccc480c16fd4bb18d750e982cf444ae",
              "IPY_MODEL_51ed1fd183624a03adcbcb7815e0f3fd",
              "IPY_MODEL_279125aa8e9f468d9d4c6b321e4868ab"
            ],
            "layout": "IPY_MODEL_8b7c12d4c4aa4ce78144b57eb14f1725"
          }
        },
        "cccc480c16fd4bb18d750e982cf444ae": {
          "model_module": "@jupyter-widgets/controls",
          "model_name": "HTMLModel",
          "model_module_version": "1.5.0",
          "state": {
            "_dom_classes": [],
            "_model_module": "@jupyter-widgets/controls",
            "_model_module_version": "1.5.0",
            "_model_name": "HTMLModel",
            "_view_count": null,
            "_view_module": "@jupyter-widgets/controls",
            "_view_module_version": "1.5.0",
            "_view_name": "HTMLView",
            "description": "",
            "description_tooltip": null,
            "layout": "IPY_MODEL_f24c88821b2a4c818a50fafd890af97c",
            "placeholder": "​",
            "style": "IPY_MODEL_6fc9f9720c5242dc8fd0d2f95a74a66b",
            "value": "Processing samples: 100%"
          }
        },
        "51ed1fd183624a03adcbcb7815e0f3fd": {
          "model_module": "@jupyter-widgets/controls",
          "model_name": "FloatProgressModel",
          "model_module_version": "1.5.0",
          "state": {
            "_dom_classes": [],
            "_model_module": "@jupyter-widgets/controls",
            "_model_module_version": "1.5.0",
            "_model_name": "FloatProgressModel",
            "_view_count": null,
            "_view_module": "@jupyter-widgets/controls",
            "_view_module_version": "1.5.0",
            "_view_name": "ProgressView",
            "bar_style": "success",
            "description": "",
            "description_tooltip": null,
            "layout": "IPY_MODEL_b96647ce46de43d1a93676d8506ea9aa",
            "max": 1000,
            "min": 0,
            "orientation": "horizontal",
            "style": "IPY_MODEL_d1bd45ea9935457f9d39ea859d812985",
            "value": 1000
          }
        },
        "279125aa8e9f468d9d4c6b321e4868ab": {
          "model_module": "@jupyter-widgets/controls",
          "model_name": "HTMLModel",
          "model_module_version": "1.5.0",
          "state": {
            "_dom_classes": [],
            "_model_module": "@jupyter-widgets/controls",
            "_model_module_version": "1.5.0",
            "_model_name": "HTMLModel",
            "_view_count": null,
            "_view_module": "@jupyter-widgets/controls",
            "_view_module_version": "1.5.0",
            "_view_name": "HTMLView",
            "description": "",
            "description_tooltip": null,
            "layout": "IPY_MODEL_e72d21460e2b4cb68fee127be496bc85",
            "placeholder": "​",
            "style": "IPY_MODEL_2057a37ec23f4758a3c0e7ece8555b3e",
            "value": " 1000/1000 [00:00&lt;00:00, 3367.62 examples/s]"
          }
        },
        "8b7c12d4c4aa4ce78144b57eb14f1725": {
          "model_module": "@jupyter-widgets/base",
          "model_name": "LayoutModel",
          "model_module_version": "1.2.0",
          "state": {
            "_model_module": "@jupyter-widgets/base",
            "_model_module_version": "1.2.0",
            "_model_name": "LayoutModel",
            "_view_count": null,
            "_view_module": "@jupyter-widgets/base",
            "_view_module_version": "1.2.0",
            "_view_name": "LayoutView",
            "align_content": null,
            "align_items": null,
            "align_self": null,
            "border": null,
            "bottom": null,
            "display": null,
            "flex": null,
            "flex_flow": null,
            "grid_area": null,
            "grid_auto_columns": null,
            "grid_auto_flow": null,
            "grid_auto_rows": null,
            "grid_column": null,
            "grid_gap": null,
            "grid_row": null,
            "grid_template_areas": null,
            "grid_template_columns": null,
            "grid_template_rows": null,
            "height": null,
            "justify_content": null,
            "justify_items": null,
            "left": null,
            "margin": null,
            "max_height": null,
            "max_width": null,
            "min_height": null,
            "min_width": null,
            "object_fit": null,
            "object_position": null,
            "order": null,
            "overflow": null,
            "overflow_x": null,
            "overflow_y": null,
            "padding": null,
            "right": null,
            "top": null,
            "visibility": null,
            "width": null
          }
        },
        "f24c88821b2a4c818a50fafd890af97c": {
          "model_module": "@jupyter-widgets/base",
          "model_name": "LayoutModel",
          "model_module_version": "1.2.0",
          "state": {
            "_model_module": "@jupyter-widgets/base",
            "_model_module_version": "1.2.0",
            "_model_name": "LayoutModel",
            "_view_count": null,
            "_view_module": "@jupyter-widgets/base",
            "_view_module_version": "1.2.0",
            "_view_name": "LayoutView",
            "align_content": null,
            "align_items": null,
            "align_self": null,
            "border": null,
            "bottom": null,
            "display": null,
            "flex": null,
            "flex_flow": null,
            "grid_area": null,
            "grid_auto_columns": null,
            "grid_auto_flow": null,
            "grid_auto_rows": null,
            "grid_column": null,
            "grid_gap": null,
            "grid_row": null,
            "grid_template_areas": null,
            "grid_template_columns": null,
            "grid_template_rows": null,
            "height": null,
            "justify_content": null,
            "justify_items": null,
            "left": null,
            "margin": null,
            "max_height": null,
            "max_width": null,
            "min_height": null,
            "min_width": null,
            "object_fit": null,
            "object_position": null,
            "order": null,
            "overflow": null,
            "overflow_x": null,
            "overflow_y": null,
            "padding": null,
            "right": null,
            "top": null,
            "visibility": null,
            "width": null
          }
        },
        "6fc9f9720c5242dc8fd0d2f95a74a66b": {
          "model_module": "@jupyter-widgets/controls",
          "model_name": "DescriptionStyleModel",
          "model_module_version": "1.5.0",
          "state": {
            "_model_module": "@jupyter-widgets/controls",
            "_model_module_version": "1.5.0",
            "_model_name": "DescriptionStyleModel",
            "_view_count": null,
            "_view_module": "@jupyter-widgets/base",
            "_view_module_version": "1.2.0",
            "_view_name": "StyleView",
            "description_width": ""
          }
        },
        "b96647ce46de43d1a93676d8506ea9aa": {
          "model_module": "@jupyter-widgets/base",
          "model_name": "LayoutModel",
          "model_module_version": "1.2.0",
          "state": {
            "_model_module": "@jupyter-widgets/base",
            "_model_module_version": "1.2.0",
            "_model_name": "LayoutModel",
            "_view_count": null,
            "_view_module": "@jupyter-widgets/base",
            "_view_module_version": "1.2.0",
            "_view_name": "LayoutView",
            "align_content": null,
            "align_items": null,
            "align_self": null,
            "border": null,
            "bottom": null,
            "display": null,
            "flex": null,
            "flex_flow": null,
            "grid_area": null,
            "grid_auto_columns": null,
            "grid_auto_flow": null,
            "grid_auto_rows": null,
            "grid_column": null,
            "grid_gap": null,
            "grid_row": null,
            "grid_template_areas": null,
            "grid_template_columns": null,
            "grid_template_rows": null,
            "height": null,
            "justify_content": null,
            "justify_items": null,
            "left": null,
            "margin": null,
            "max_height": null,
            "max_width": null,
            "min_height": null,
            "min_width": null,
            "object_fit": null,
            "object_position": null,
            "order": null,
            "overflow": null,
            "overflow_x": null,
            "overflow_y": null,
            "padding": null,
            "right": null,
            "top": null,
            "visibility": null,
            "width": null
          }
        },
        "d1bd45ea9935457f9d39ea859d812985": {
          "model_module": "@jupyter-widgets/controls",
          "model_name": "ProgressStyleModel",
          "model_module_version": "1.5.0",
          "state": {
            "_model_module": "@jupyter-widgets/controls",
            "_model_module_version": "1.5.0",
            "_model_name": "ProgressStyleModel",
            "_view_count": null,
            "_view_module": "@jupyter-widgets/base",
            "_view_module_version": "1.2.0",
            "_view_name": "StyleView",
            "bar_color": null,
            "description_width": ""
          }
        },
        "e72d21460e2b4cb68fee127be496bc85": {
          "model_module": "@jupyter-widgets/base",
          "model_name": "LayoutModel",
          "model_module_version": "1.2.0",
          "state": {
            "_model_module": "@jupyter-widgets/base",
            "_model_module_version": "1.2.0",
            "_model_name": "LayoutModel",
            "_view_count": null,
            "_view_module": "@jupyter-widgets/base",
            "_view_module_version": "1.2.0",
            "_view_name": "LayoutView",
            "align_content": null,
            "align_items": null,
            "align_self": null,
            "border": null,
            "bottom": null,
            "display": null,
            "flex": null,
            "flex_flow": null,
            "grid_area": null,
            "grid_auto_columns": null,
            "grid_auto_flow": null,
            "grid_auto_rows": null,
            "grid_column": null,
            "grid_gap": null,
            "grid_row": null,
            "grid_template_areas": null,
            "grid_template_columns": null,
            "grid_template_rows": null,
            "height": null,
            "justify_content": null,
            "justify_items": null,
            "left": null,
            "margin": null,
            "max_height": null,
            "max_width": null,
            "min_height": null,
            "min_width": null,
            "object_fit": null,
            "object_position": null,
            "order": null,
            "overflow": null,
            "overflow_x": null,
            "overflow_y": null,
            "padding": null,
            "right": null,
            "top": null,
            "visibility": null,
            "width": null
          }
        },
        "2057a37ec23f4758a3c0e7ece8555b3e": {
          "model_module": "@jupyter-widgets/controls",
          "model_name": "DescriptionStyleModel",
          "model_module_version": "1.5.0",
          "state": {
            "_model_module": "@jupyter-widgets/controls",
            "_model_module_version": "1.5.0",
            "_model_name": "DescriptionStyleModel",
            "_view_count": null,
            "_view_module": "@jupyter-widgets/base",
            "_view_module_version": "1.2.0",
            "_view_name": "StyleView",
            "description_width": ""
          }
        }
      }
    }
  },
  "cells": [
    {
      "cell_type": "code",
      "execution_count": null,
      "metadata": {
        "colab": {
          "base_uri": "https://localhost:8080/"
        },
        "id": "rPIiRu5bazlp",
        "outputId": "60f8319e-bc48-4d2a-a8b6-47c23b422476"
      },
      "outputs": [
        {
          "output_type": "stream",
          "name": "stdout",
          "text": [
            "\u001b[2K   \u001b[90m━━━━━━━━━━━━━━━━━━━━━━━━━━━━━━━━━━━━━━━━\u001b[0m \u001b[32m67.0/67.0 MB\u001b[0m \u001b[31m16.9 MB/s\u001b[0m eta \u001b[36m0:00:00\u001b[0m\n",
            "\u001b[2K   \u001b[90m━━━━━━━━━━━━━━━━━━━━━━━━━━━━━━━━━━━━━━━━\u001b[0m \u001b[32m363.4/363.4 MB\u001b[0m \u001b[31m2.9 MB/s\u001b[0m eta \u001b[36m0:00:00\u001b[0m\n",
            "\u001b[2K   \u001b[90m━━━━━━━━━━━━━━━━━━━━━━━━━━━━━━━━━━━━━━━━\u001b[0m \u001b[32m13.8/13.8 MB\u001b[0m \u001b[31m74.2 MB/s\u001b[0m eta \u001b[36m0:00:00\u001b[0m\n",
            "\u001b[2K   \u001b[90m━━━━━━━━━━━━━━━━━━━━━━━━━━━━━━━━━━━━━━━━\u001b[0m \u001b[32m24.6/24.6 MB\u001b[0m \u001b[31m85.9 MB/s\u001b[0m eta \u001b[36m0:00:00\u001b[0m\n",
            "\u001b[2K   \u001b[90m━━━━━━━━━━━━━━━━━━━━━━━━━━━━━━━━━━━━━━━━\u001b[0m \u001b[32m883.7/883.7 kB\u001b[0m \u001b[31m47.8 MB/s\u001b[0m eta \u001b[36m0:00:00\u001b[0m\n",
            "\u001b[2K   \u001b[90m━━━━━━━━━━━━━━━━━━━━━━━━━━━━━━━━━━━━━━━━\u001b[0m \u001b[32m664.8/664.8 MB\u001b[0m \u001b[31m1.6 MB/s\u001b[0m eta \u001b[36m0:00:00\u001b[0m\n",
            "\u001b[2K   \u001b[90m━━━━━━━━━━━━━━━━━━━━━━━━━━━━━━━━━━━━━━━━\u001b[0m \u001b[32m211.5/211.5 MB\u001b[0m \u001b[31m11.3 MB/s\u001b[0m eta \u001b[36m0:00:00\u001b[0m\n",
            "\u001b[2K   \u001b[90m━━━━━━━━━━━━━━━━━━━━━━━━━━━━━━━━━━━━━━━━\u001b[0m \u001b[32m56.3/56.3 MB\u001b[0m \u001b[31m43.9 MB/s\u001b[0m eta \u001b[36m0:00:00\u001b[0m\n",
            "\u001b[2K   \u001b[90m━━━━━━━━━━━━━━━━━━━━━━━━━━━━━━━━━━━━━━━━\u001b[0m \u001b[32m127.9/127.9 MB\u001b[0m \u001b[31m19.9 MB/s\u001b[0m eta \u001b[36m0:00:00\u001b[0m\n",
            "\u001b[2K   \u001b[90m━━━━━━━━━━━━━━━━━━━━━━━━━━━━━━━━━━━━━━━━\u001b[0m \u001b[32m207.5/207.5 MB\u001b[0m \u001b[31m4.3 MB/s\u001b[0m eta \u001b[36m0:00:00\u001b[0m\n",
            "\u001b[2K   \u001b[90m━━━━━━━━━━━━━━━━━━━━━━━━━━━━━━━━━━━━━━━━\u001b[0m \u001b[32m21.1/21.1 MB\u001b[0m \u001b[31m108.2 MB/s\u001b[0m eta \u001b[36m0:00:00\u001b[0m\n",
            "\u001b[2K     \u001b[90m━━━━━━━━━━━━━━━━━━━━━━━━━━━━━━━━━━━━━━━━\u001b[0m \u001b[32m50.5/50.5 kB\u001b[0m \u001b[31m2.1 MB/s\u001b[0m eta \u001b[36m0:00:00\u001b[0m\n",
            "\u001b[?25h  Preparing metadata (setup.py) ... \u001b[?25l\u001b[?25hdone\n",
            "\u001b[2K     \u001b[90m━━━━━━━━━━━━━━━━━━━━━━━━━━━━━━━━━━━━━━━━\u001b[0m \u001b[32m51.8/51.8 kB\u001b[0m \u001b[31m4.5 MB/s\u001b[0m eta \u001b[36m0:00:00\u001b[0m\n",
            "\u001b[?25h  Preparing metadata (setup.py) ... \u001b[?25l\u001b[?25hdone\n",
            "  Preparing metadata (setup.py) ... \u001b[?25l\u001b[?25hdone\n",
            "\u001b[2K   \u001b[90m━━━━━━━━━━━━━━━━━━━━━━━━━━━━━━━━━━━━━━━━\u001b[0m \u001b[32m3.9/3.9 MB\u001b[0m \u001b[31m50.2 MB/s\u001b[0m eta \u001b[36m0:00:00\u001b[0m\n",
            "\u001b[2K   \u001b[90m━━━━━━━━━━━━━━━━━━━━━━━━━━━━━━━━━━━━━━━━\u001b[0m \u001b[32m491.5/491.5 kB\u001b[0m \u001b[31m38.7 MB/s\u001b[0m eta \u001b[36m0:00:00\u001b[0m\n",
            "\u001b[2K   \u001b[90m━━━━━━━━━━━━━━━━━━━━━━━━━━━━━━━━━━━━━━━━\u001b[0m \u001b[32m84.0/84.0 kB\u001b[0m \u001b[31m6.8 MB/s\u001b[0m eta \u001b[36m0:00:00\u001b[0m\n",
            "\u001b[2K   \u001b[90m━━━━━━━━━━━━━━━━━━━━━━━━━━━━━━━━━━━━━━━━\u001b[0m \u001b[32m243.3/243.3 kB\u001b[0m \u001b[31m22.6 MB/s\u001b[0m eta \u001b[36m0:00:00\u001b[0m\n",
            "\u001b[2K   \u001b[90m━━━━━━━━━━━━━━━━━━━━━━━━━━━━━━━━━━━━━━━━\u001b[0m \u001b[32m104.1/104.1 kB\u001b[0m \u001b[31m10.0 MB/s\u001b[0m eta \u001b[36m0:00:00\u001b[0m\n",
            "\u001b[2K   \u001b[90m━━━━━━━━━━━━━━━━━━━━━━━━━━━━━━━━━━━━━━━━\u001b[0m \u001b[32m91.1/91.1 kB\u001b[0m \u001b[31m7.2 MB/s\u001b[0m eta \u001b[36m0:00:00\u001b[0m\n",
            "\u001b[2K   \u001b[90m━━━━━━━━━━━━━━━━━━━━━━━━━━━━━━━━━━━━━━━━\u001b[0m \u001b[32m193.6/193.6 kB\u001b[0m \u001b[31m17.7 MB/s\u001b[0m eta \u001b[36m0:00:00\u001b[0m\n",
            "\u001b[?25h  Building wheel for rouge-score (setup.py) ... \u001b[?25l\u001b[?25hdone\n",
            "  Building wheel for sqlitedict (setup.py) ... \u001b[?25l\u001b[?25hdone\n",
            "  Building wheel for word2number (setup.py) ... \u001b[?25l\u001b[?25hdone\n",
            "\u001b[31mERROR: pip's dependency resolver does not currently take into account all the packages that are installed. This behaviour is the source of the following dependency conflicts.\n",
            "gcsfs 2025.3.2 requires fsspec==2025.3.2, but you have fsspec 2025.3.0 which is incompatible.\u001b[0m\u001b[31m\n",
            "\u001b[0m"
          ]
        }
      ],
      "source": [
        "# !pip install -q transformers\n",
        "!pip install -q bitsandbytes\n",
        "# !pip install -q datasets\n",
        "# !pip install -q torch\n",
        "!pip install -q lm-eval"
      ]
    },
    {
      "cell_type": "code",
      "source": [
        "import torch\n",
        "from torch.optim import AdamW\n",
        "from transformers import (AutoModelForCausalLM, Gemma3ForConditionalGeneration, AutoProcessor,\n",
        "                          AutoTokenizer, BitsAndBytesConfig, Trainer, TrainingArguments)\n",
        "from tqdm import tqdm\n",
        "from datasets import load_dataset\n",
        "from torch.nn import functional as F\n",
        "from torch.utils.data import DataLoader"
      ],
      "metadata": {
        "id": "dEepIRL5bdN9"
      },
      "execution_count": null,
      "outputs": []
    },
    {
      "cell_type": "code",
      "source": [
        "import os\n",
        "from google.colab import userdata\n",
        "\n",
        "os.environ[\"HF_TOKEN\"] =  userdata.get('HF_TOKEN')\n",
        "os.environ['CUDA_LAUNCH_BLOCKING'] = '1'"
      ],
      "metadata": {
        "id": "A4Lpf2DKbnTR"
      },
      "execution_count": null,
      "outputs": []
    },
    {
      "cell_type": "code",
      "source": [],
      "metadata": {
        "id": "xwbBqwk5gZRm"
      },
      "execution_count": null,
      "outputs": []
    },
    {
      "cell_type": "code",
      "source": [],
      "metadata": {
        "id": "_JZksBRSZ4jE"
      },
      "execution_count": null,
      "outputs": []
    },
    {
      "cell_type": "code",
      "source": [],
      "metadata": {
        "id": "T6QuEBumZ4f0"
      },
      "execution_count": null,
      "outputs": []
    },
    {
      "cell_type": "code",
      "source": [],
      "metadata": {
        "id": "JXDxNyHCZ4cc"
      },
      "execution_count": null,
      "outputs": []
    },
    {
      "cell_type": "code",
      "source": [
        "teacher_model_name = \"meta-llama/Llama-3.2-3B\"\n",
        "student_model_name = \"meta-llama/Llama-3.2-1B\""
      ],
      "metadata": {
        "id": "9Xuj1-dRde3M"
      },
      "execution_count": null,
      "outputs": []
    },
    {
      "cell_type": "code",
      "source": [
        "# tokenizer = AutoTokenizer.from_pretrained(teacher_model_name)\n",
        "# tokenizer.pad_token = tokenizer.eos_token\n",
        "# tokenizer.pad_token"
      ],
      "metadata": {
        "id": "708xzjXMeDTp"
      },
      "execution_count": null,
      "outputs": []
    },
    {
      "cell_type": "code",
      "source": [
        "tokenizer = AutoTokenizer.from_pretrained(student_model_name)\n",
        "tokenizer.pad_token = tokenizer.eos_token\n",
        "tokenizer.pad_token"
      ],
      "metadata": {
        "colab": {
          "base_uri": "https://localhost:8080/",
          "height": 35
        },
        "id": "-pfvANZnT6_c",
        "outputId": "e03fd10c-9038-4a2a-dd2a-abb52955c1f1"
      },
      "execution_count": null,
      "outputs": [
        {
          "output_type": "execute_result",
          "data": {
            "text/plain": [
              "'<|end_of_text|>'"
            ],
            "application/vnd.google.colaboratory.intrinsic+json": {
              "type": "string"
            }
          },
          "metadata": {},
          "execution_count": 5
        }
      ]
    },
    {
      "cell_type": "code",
      "source": [
        "device = torch.device(\"cuda\" if torch.cuda.is_available() else \"cpu\")\n",
        "\n",
        "# if torch.cuda.get_device_capability()[0] >= 8:\n",
        "#     !pip install -qqq flash-attn\n",
        "#     torch_dtype = torch.bfloat16\n",
        "#     attn_implementation = \"flash_attention_2\"\n",
        "# else:\n",
        "#     torch_dtype = torch.float16\n",
        "#     attn_implementation = \"eager\"\n",
        "\n",
        "torch_dtype = torch.bfloat16\n",
        "attn_implementation = \"eager\""
      ],
      "metadata": {
        "id": "CxBj1H0blEJy"
      },
      "execution_count": null,
      "outputs": []
    },
    {
      "cell_type": "code",
      "source": [
        "# quantization_config = BitsAndBytesConfig(load_in_4bit=True,\n",
        "#                                          bnb_4bit_use_double_quant=True,\n",
        "#                                          bnb_4bit_quant_type=\"nf4\",\n",
        "#                                          bnb_4bit_compute_dtype=torch_dtype,\n",
        "#                                          llm_int8_enable_fp32_cpu_offload=False)"
      ],
      "metadata": {
        "id": "H_NUYQYkkw_Y"
      },
      "execution_count": null,
      "outputs": []
    },
    {
      "cell_type": "code",
      "source": [
        "# teacher_model = AutoModelForCausalLM.from_pretrained(teacher_model_name,\n",
        "#                                                                quantization_config=quantization_config,\n",
        "#                                                                device_map=\"auto\",\n",
        "#                                                                trust_remote_code=True,\n",
        "#                                                                torch_dtype=torch_dtype,\n",
        "#                                                                attn_implementation=attn_implementation)\n",
        "\n",
        "# student_model = AutoModelForCausalLM.from_pretrained(student_model_name,\n",
        "#                                                      quantization_config=quantization_config,\n",
        "#                                                      device_map=\"auto\",\n",
        "#                                                      trust_remote_code=True,\n",
        "#                                                      attn_implementation=attn_implementation)"
      ],
      "metadata": {
        "id": "kjhUfsRDef4E"
      },
      "execution_count": null,
      "outputs": []
    },
    {
      "cell_type": "code",
      "source": [
        "teacher_model = AutoModelForCausalLM.from_pretrained(teacher_model_name,\n",
        "                                                     device_map=\"auto\")\n",
        "\n",
        "student_model = AutoModelForCausalLM.from_pretrained(student_model_name,\n",
        "                                                     device_map=\"auto\")"
      ],
      "metadata": {
        "colab": {
          "base_uri": "https://localhost:8080/",
          "height": 49,
          "referenced_widgets": [
            "76c66af96b0a4ea7bcc18009c4f606af",
            "810f88d25d9b4096a6a75f1ef6681cf9",
            "52e923d4254b44799641ee6859db3dce",
            "4b3ff7f666a841798b966da47d3ef6de",
            "441e79edeb0b4d5e9fadf769c6a48143",
            "2147a4dfd1164004b0cf416090756d90",
            "0d1793929dea4a6bbf982d55a4726e33",
            "165e57f837cd468092703bc3c636c6f4",
            "6a73d5470c9c4ad6b0c98348438ec94f",
            "da622acec69b4c9b977bdae604e17bb6",
            "1cc4693500b04572823a4711e2750c37"
          ]
        },
        "id": "WK70JlGG0Hpm",
        "outputId": "922e5fc2-4079-4912-96df-2b38bafba9bd"
      },
      "execution_count": null,
      "outputs": [
        {
          "output_type": "display_data",
          "data": {
            "text/plain": [
              "Loading checkpoint shards:   0%|          | 0/2 [00:00<?, ?it/s]"
            ],
            "application/vnd.jupyter.widget-view+json": {
              "version_major": 2,
              "version_minor": 0,
              "model_id": "76c66af96b0a4ea7bcc18009c4f606af"
            }
          },
          "metadata": {}
        }
      ]
    },
    {
      "cell_type": "code",
      "source": [
        "dataset = load_dataset(\"lavita/medical-qa-datasets\", \"all-processed\", split=\"train\")\n",
        "original_dataset = dataset\n",
        "dataset = dataset.select(range(1000))"
      ],
      "metadata": {
        "id": "y-eAHbJZgabi"
      },
      "execution_count": null,
      "outputs": []
    },
    {
      "cell_type": "code",
      "source": [
        "dataset.column_names"
      ],
      "metadata": {
        "colab": {
          "base_uri": "https://localhost:8080/"
        },
        "id": "ciYJmyUiPAwv",
        "outputId": "e6da35a8-40c6-48e4-df44-30bb3ad4629b"
      },
      "execution_count": null,
      "outputs": [
        {
          "output_type": "execute_result",
          "data": {
            "text/plain": [
              "['instruction', 'input', 'output', '__index_level_0__']"
            ]
          },
          "metadata": {},
          "execution_count": 11
        }
      ]
    },
    {
      "cell_type": "code",
      "source": [
        "def format_prompt(example):\n",
        "    return {\n",
        "        \"prompt\": f\"Instruction: {example['instruction']}\\nQuestion{example['input']}\\nAnswer: {example['output']}\"\n",
        "    }\n",
        "\n",
        "formatted_dataset = dataset.map(format_prompt)"
      ],
      "metadata": {
        "id": "UxvCySJMOe-Q"
      },
      "execution_count": null,
      "outputs": []
    },
    {
      "cell_type": "code",
      "source": [
        "print(formatted_dataset['prompt'][0])"
      ],
      "metadata": {
        "colab": {
          "base_uri": "https://localhost:8080/"
        },
        "id": "BerBNR4_MYi6",
        "outputId": "7ce5bb15-37e4-4e61-e06d-3dcbba82819e"
      },
      "execution_count": null,
      "outputs": [
        {
          "output_type": "stream",
          "name": "stdout",
          "text": [
            "Instruction: If you are a doctor, please answer the medical questions based on the patient's description.\n",
            "Questionhi. im a home health aide and i have a client with scoliosis in the back and kidney disease. her feet ankles and calves have been swollen for the past 2 weeks. mostly in her feet. she started a patch for pain in her legs 3 weeks ago. she started swelling up almost a week after she started the patch and the pain doctor cut the dose in half and she is still swollen. she has no blood clots in her legs because one of her doctors checked and they said it might be because of her back. what do you think? im concerned because she has been swollen up for to long and theres only so much i can do being her home health aide. we both want to get to the bottom of this swelling she is having\n",
            "Answer: hi, thanks for contacting chatbot. swelling in the legs and feet can come from many causes, one of them being general circulation or ineffectiveness of the kidneys to rid the body of excess water. most times, people with lower extremity swelling will be placed on diuretics (\\\"water pills\\\") to see if that helps reduce the swelling. if the veins are not working as properly as they were, there may be a need for compression stockings, assuming the arteries are normal. it would be good to get the situation evaluated being that there are so many causes. i hope this answers your question, if you have any further questions, i am here to help. thanks.\n"
          ]
        }
      ]
    },
    {
      "cell_type": "code",
      "source": [
        "def tokenize(samples):\n",
        "    tokenized = tokenizer(samples[\"prompt\"],\n",
        "                          padding=\"max_length\",\n",
        "                          truncation=True,\n",
        "                          max_length=128,\n",
        "                          return_tensors=\"pt\")\n",
        "\n",
        "    input_ids = tokenized[\"input_ids\"]\n",
        "    labels = input_ids.clone()\n",
        "    attention_mask = tokenized[\"attention_mask\"]\n",
        "\n",
        "    return{\n",
        "        \"input_ids\": input_ids,\n",
        "        \"labels\": labels,\n",
        "        \"attention_mask\": attention_mask\n",
        "    }"
      ],
      "metadata": {
        "id": "a2F473azHA1U"
      },
      "execution_count": null,
      "outputs": []
    },
    {
      "cell_type": "code",
      "source": [
        "print(\"Tokenizing dataset .... \")\n",
        "tokenized_dataset = formatted_dataset.map(tokenize,\n",
        "                                          batched=True,\n",
        "                                          batch_size=32,\n",
        "                                          remove_columns=dataset.column_names,\n",
        "                                          desc=\"Processing samples\",\n",
        "                                          load_from_cache_file=False)"
      ],
      "metadata": {
        "colab": {
          "base_uri": "https://localhost:8080/",
          "height": 67,
          "referenced_widgets": [
            "c0ebe47dd39b45a7b88917dfad91aabd",
            "cccc480c16fd4bb18d750e982cf444ae",
            "51ed1fd183624a03adcbcb7815e0f3fd",
            "279125aa8e9f468d9d4c6b321e4868ab",
            "8b7c12d4c4aa4ce78144b57eb14f1725",
            "f24c88821b2a4c818a50fafd890af97c",
            "6fc9f9720c5242dc8fd0d2f95a74a66b",
            "b96647ce46de43d1a93676d8506ea9aa",
            "d1bd45ea9935457f9d39ea859d812985",
            "e72d21460e2b4cb68fee127be496bc85",
            "2057a37ec23f4758a3c0e7ece8555b3e"
          ]
        },
        "id": "N15Tm14wHA4y",
        "outputId": "2ff63c9a-9413-4ca2-afaa-081706cf9c52"
      },
      "execution_count": null,
      "outputs": [
        {
          "output_type": "stream",
          "name": "stdout",
          "text": [
            "Tokenizing dataset .... \n"
          ]
        },
        {
          "output_type": "display_data",
          "data": {
            "text/plain": [
              "Processing samples:   0%|          | 0/1000 [00:00<?, ? examples/s]"
            ],
            "application/vnd.jupyter.widget-view+json": {
              "version_major": 2,
              "version_minor": 0,
              "model_id": "c0ebe47dd39b45a7b88917dfad91aabd"
            }
          },
          "metadata": {}
        }
      ]
    },
    {
      "cell_type": "code",
      "source": [
        "tokenized_dataset.set_format(\"torch\")"
      ],
      "metadata": {
        "id": "VzbieVwkqAv6"
      },
      "execution_count": null,
      "outputs": []
    },
    {
      "cell_type": "code",
      "source": [
        "dataloader = DataLoader(\n",
        "    tokenized_dataset,\n",
        "    batch_size=4,\n",
        "    shuffle=True\n",
        ")"
      ],
      "metadata": {
        "id": "h0hkYX4Wii3r"
      },
      "execution_count": null,
      "outputs": []
    },
    {
      "cell_type": "markdown",
      "source": [
        "### Optimizer"
      ],
      "metadata": {
        "id": "oYb99GQ2qK5_"
      }
    },
    {
      "cell_type": "code",
      "source": [
        "lr = 1e-5\n",
        "optimizer = AdamW(student_model.parameters(), lr=lr)"
      ],
      "metadata": {
        "id": "qfARX98FqCn9"
      },
      "execution_count": null,
      "outputs": []
    },
    {
      "cell_type": "markdown",
      "source": [
        "### Training Loop"
      ],
      "metadata": {
        "id": "Rhc2WyymqPOi"
      }
    },
    {
      "cell_type": "code",
      "source": [
        "num_epochs = 10\n",
        "temperature = 2.0\n",
        "alpha = 1\n",
        "accumulation_steps = 8"
      ],
      "metadata": {
        "id": "FWma9UXmqNQc"
      },
      "execution_count": null,
      "outputs": []
    },
    {
      "cell_type": "code",
      "source": [
        "# batch = next(iter(dataloader))\n",
        "# batch"
      ],
      "metadata": {
        "id": "BoGlfuLHGVwr"
      },
      "execution_count": null,
      "outputs": []
    },
    {
      "cell_type": "code",
      "source": [
        "# teacher_model.eval()\n",
        "# with torch.no_grad():\n",
        "#     teacher_outputs = teacher_model(\n",
        "#         input_ids=batch[\"teacher_input_ids\"].to(device),\n",
        "#         attention_mask=batch[\"teacher_attention_mask\"].to(device),\n",
        "#         labels=batch[\"teacher_labels\"].to(device),\n",
        "#         output_hidden_states=True\n",
        "#     )\n",
        "# teacher_outputs.logits"
      ],
      "metadata": {
        "id": "g7kvxnZNF3iW"
      },
      "execution_count": null,
      "outputs": []
    },
    {
      "cell_type": "code",
      "source": [
        "# student_model.eval()\n",
        "# with torch.no_grad():\n",
        "#     student_outputs = student_model(\n",
        "#         input_ids=batch[\"student_input_ids\"].to(device),\n",
        "#         attention_mask=batch[\"student_attention_mask\"].to(device),\n",
        "#         labels=batch[\"student_labels\"].to(device),\n",
        "#         output_hidden_states=True\n",
        "#     )\n",
        "# student_outputs.logits\n",
        "# student_outputs.loss"
      ],
      "metadata": {
        "id": "aaHQ6hDaqAp4"
      },
      "execution_count": null,
      "outputs": []
    },
    {
      "cell_type": "code",
      "source": [],
      "metadata": {
        "id": "Osok6P2lq6cr"
      },
      "execution_count": null,
      "outputs": []
    },
    {
      "cell_type": "code",
      "source": [
        "for epoch in range(num_epochs):\n",
        "    ### 1 - Model Preparation ###\n",
        "    #initializes each training epoch,\n",
        "    #putting the student model in training mode\n",
        "    student_model.train()\n",
        "    #Initializes total_loss to track the cumulative loss for the epoch.\n",
        "    total_loss = 0\n",
        "\n",
        "    for batch_idx, batch in enumerate(dataloader):\n",
        "        ### 2 - Data procesing.  ###\n",
        "        #Moves the batch data to the appropriate device (CPU/GPU) for processing.\n",
        "        input_ids = batch['input_ids'].to(device)\n",
        "        attention_mask = batch['attention_mask'].to(device)\n",
        "        labels = batch['labels'].to(device)\n",
        "\n",
        "        ### 3 - Teacher Model Inference ###\n",
        "        #Disables gradient computation to save memory and speed up inference.\n",
        "        with torch.no_grad():\n",
        "            teacher_outputs = teacher_model(\n",
        "                input_ids,\n",
        "                attention_mask=attention_mask,\n",
        "                output_hidden_states=True\n",
        "            )\n",
        "            #Applies temperature scaling to soften the teacher's predictions\n",
        "            teacher_logits = teacher_outputs.logits / temperature\n",
        "\n",
        "        ### 4 - Student Model Inference. ###\n",
        "        #The student model generates logits for the same input data.\n",
        "        student_outputs = student_model(\n",
        "            input_ids,\n",
        "            attention_mask=attention_mask,\n",
        "            output_hidden_states=True\n",
        "        )\n",
        "        student_logits = student_outputs.logits\n",
        "\n",
        "        ### 5 - Compute loss ###\n",
        "        # Converts logits to probabilities using softmax\n",
        "        teacher_probs = F.softmax(teacher_logits, dim=-1)\n",
        "        #Computes the KL Divergence between the teacher's probabilities and the student's log probabilities.\n",
        "        #KL Divergence measures how well the student's predictions match the teacher's.\n",
        "        student_log_probs = F.log_softmax(student_logits / temperature, dim=-1)\n",
        "        loss = F.kl_div(student_log_probs, teacher_probs, reduction='batchmean')\n",
        "        #The loss is divided by accumulation_steps to balance gradient updates across accumulated batches.\n",
        "        loss = loss / accumulation_steps\n",
        "\n",
        "        ### 6- Backward pass ###\n",
        "        loss.backward()\n",
        "\n",
        "        ### 7 - Optimization Gradient Accumulation ###\n",
        "        # Accumulates gradients over multiple batches\n",
        "        # Updates model parameters when enough gradients are accumulated\n",
        "        # Resets gradients after update\n",
        "        if ((batch_idx + 1) % accumulation_steps == 0) or (batch_idx + 1 == len(dataloader)):\n",
        "            optimizer.step()\n",
        "            optimizer.zero_grad()\n",
        "\n",
        "        ### 8 - Loss Tracking ###\n",
        "        # Scales the loss back up by multiplying it with accumulation_steps to reflect the actual batch contribution.\n",
        "        total_loss += loss.item() * accumulation_steps\n",
        "\n",
        "        #if (batch_idx + 1) % 100 == 0:\n",
        "        #    print(f\"Epoch {epoch+1}/{num_epochs}, Batch {batch_idx+1}, Loss: {loss.item():.4f}\")\n",
        "\n",
        "    ### 9 - Epoch-Level Reporting\n",
        "    # Computes the average loss for the epoch by dividing the total loss by the number of batches.\n",
        "    avg_loss = total_loss / len(dataloader)\n",
        "    print(f\"Epoch {epoch+1}/{num_epochs}, Average Loss: {avg_loss:.4f}\")"
      ],
      "metadata": {
        "id": "lf0nbJFgqo37",
        "colab": {
          "base_uri": "https://localhost:8080/"
        },
        "outputId": "3ca0ed42-26fd-4d23-ad23-ace52f631e0c"
      },
      "execution_count": null,
      "outputs": [
        {
          "output_type": "stream",
          "name": "stdout",
          "text": [
            "Epoch 1/10, Average Loss: 26.8652\n",
            "Epoch 2/10, Average Loss: 19.3893\n",
            "Epoch 3/10, Average Loss: 16.8216\n",
            "Epoch 4/10, Average Loss: 15.3025\n",
            "Epoch 5/10, Average Loss: 14.4521\n",
            "Epoch 6/10, Average Loss: 13.7981\n",
            "Epoch 7/10, Average Loss: 13.3528\n",
            "Epoch 8/10, Average Loss: 12.9814\n",
            "Epoch 9/10, Average Loss: 12.6443\n",
            "Epoch 10/10, Average Loss: 12.3276\n"
          ]
        }
      ]
    },
    {
      "cell_type": "code",
      "source": [],
      "metadata": {
        "id": "mfhzX5GSuyCx"
      },
      "execution_count": null,
      "outputs": []
    },
    {
      "cell_type": "code",
      "source": [],
      "metadata": {
        "id": "06uwakrH6EOf"
      },
      "execution_count": null,
      "outputs": []
    },
    {
      "cell_type": "markdown",
      "source": [
        "### Store the Model"
      ],
      "metadata": {
        "id": "_YANWUfsv8vQ"
      }
    },
    {
      "cell_type": "code",
      "source": [
        "distil_student_model_name = \"pruned_distil_Llama-3.2-1B\""
      ],
      "metadata": {
        "id": "BPZb4_hUv6Tl"
      },
      "execution_count": null,
      "outputs": []
    },
    {
      "cell_type": "code",
      "source": [
        "student_model.save_pretrained(distil_student_model_name)\n",
        "tokenizer.save_pretrained(distil_student_model_name)"
      ],
      "metadata": {
        "id": "0ko1sQXTt2Df"
      },
      "execution_count": null,
      "outputs": []
    },
    {
      "cell_type": "code",
      "source": [
        "student_model.push_to_hub(distil_student_model_name,\n",
        "                          private=False,\n",
        "                          use_temp_dir=False)\n",
        "tokenizer.push_to_hub(distil_student_model_name,\n",
        "                      private=False,\n",
        "                      use_temp_dir=False)"
      ],
      "metadata": {
        "id": "tJuSThUcwNJC"
      },
      "execution_count": null,
      "outputs": []
    },
    {
      "cell_type": "code",
      "source": [],
      "metadata": {
        "id": "_qETQkZzxZ1v"
      },
      "execution_count": null,
      "outputs": []
    },
    {
      "cell_type": "markdown",
      "source": [
        "### Evaluating the model"
      ],
      "metadata": {
        "id": "gptUkZiew62L"
      }
    },
    {
      "cell_type": "code",
      "source": [
        "from lm_eval import evaluator, tasks, models\n",
        "\n",
        "def evaluate_hf_model(model_name, tasks=['arc_easy'], num_fewshot=0):\n",
        "    model_args = f\"pretrained={model_name},device=cuda\"\n",
        "    tasks = tasks\n",
        "\n",
        "    results = evaluator.simple_evaluate(\n",
        "      model=\"hf\",\n",
        "      model_args=model_args,\n",
        "      tasks=tasks,\n",
        "      num_fewshot=0,\n",
        "      limit=None,\n",
        "      bootstrap_iters=10\n",
        "    )\n",
        "\n",
        "    metrics = results.get('results', {})\n",
        "    return metrics"
      ],
      "metadata": {
        "id": "j0dZT-crw5LA"
      },
      "execution_count": null,
      "outputs": []
    },
    {
      "cell_type": "code",
      "source": [
        "tasks = ['lambada']\n",
        "\n",
        "metrics_pruned_kd = evaluate_hf_model(\"TachyHealthResearch/pruned_distil_Llama-3.2-1B\", tasks=tasks)\n",
        "\n",
        "metrics_pruned_kd"
      ],
      "metadata": {
        "id": "LmzMsVRFxPyJ"
      },
      "execution_count": null,
      "outputs": []
    },
    {
      "cell_type": "code",
      "source": [],
      "metadata": {
        "id": "fbGgWSH8WovD"
      },
      "execution_count": null,
      "outputs": []
    },
    {
      "cell_type": "code",
      "source": [],
      "metadata": {
        "id": "NHRaWKeUWoxo"
      },
      "execution_count": null,
      "outputs": []
    },
    {
      "cell_type": "code",
      "source": [],
      "metadata": {
        "id": "ZPnIgHjYWpCS"
      },
      "execution_count": null,
      "outputs": []
    }
  ]
}