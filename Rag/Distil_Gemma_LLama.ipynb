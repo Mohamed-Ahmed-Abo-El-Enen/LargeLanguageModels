{
  "nbformat": 4,
  "nbformat_minor": 0,
  "metadata": {
    "colab": {
      "provenance": [],
      "gpuType": "A100",
      "machine_shape": "hm"
    },
    "kernelspec": {
      "name": "python3",
      "display_name": "Python 3"
    },
    "language_info": {
      "name": "python"
    },
    "accelerator": "GPU",
    "widgets": {
      "application/vnd.jupyter.widget-state+json": {
        "57b4b3492eec4eb2809568bd180854ec": {
          "model_module": "@jupyter-widgets/controls",
          "model_name": "HBoxModel",
          "model_module_version": "1.5.0",
          "state": {
            "_dom_classes": [],
            "_model_module": "@jupyter-widgets/controls",
            "_model_module_version": "1.5.0",
            "_model_name": "HBoxModel",
            "_view_count": null,
            "_view_module": "@jupyter-widgets/controls",
            "_view_module_version": "1.5.0",
            "_view_name": "HBoxView",
            "box_style": "",
            "children": [
              "IPY_MODEL_a43ba2bcbd634aa2acdca0dd8d7383fd",
              "IPY_MODEL_782615cf64384d3ca1c2128e61095451",
              "IPY_MODEL_efecf9a32cc04659803201585fe3cc12"
            ],
            "layout": "IPY_MODEL_63fefa72e0494a0297b4bde3564306dd"
          }
        },
        "a43ba2bcbd634aa2acdca0dd8d7383fd": {
          "model_module": "@jupyter-widgets/controls",
          "model_name": "HTMLModel",
          "model_module_version": "1.5.0",
          "state": {
            "_dom_classes": [],
            "_model_module": "@jupyter-widgets/controls",
            "_model_module_version": "1.5.0",
            "_model_name": "HTMLModel",
            "_view_count": null,
            "_view_module": "@jupyter-widgets/controls",
            "_view_module_version": "1.5.0",
            "_view_name": "HTMLView",
            "description": "",
            "description_tooltip": null,
            "layout": "IPY_MODEL_9c1a10367c154b3eb3179660acb5987d",
            "placeholder": "​",
            "style": "IPY_MODEL_98ed062776404ce09479851b476fe52d",
            "value": "Loading checkpoint shards: 100%"
          }
        },
        "782615cf64384d3ca1c2128e61095451": {
          "model_module": "@jupyter-widgets/controls",
          "model_name": "FloatProgressModel",
          "model_module_version": "1.5.0",
          "state": {
            "_dom_classes": [],
            "_model_module": "@jupyter-widgets/controls",
            "_model_module_version": "1.5.0",
            "_model_name": "FloatProgressModel",
            "_view_count": null,
            "_view_module": "@jupyter-widgets/controls",
            "_view_module_version": "1.5.0",
            "_view_name": "ProgressView",
            "bar_style": "success",
            "description": "",
            "description_tooltip": null,
            "layout": "IPY_MODEL_4e1ab8cc2a5b4001a8a2ee74868aaa86",
            "max": 2,
            "min": 0,
            "orientation": "horizontal",
            "style": "IPY_MODEL_ece918b4896f48dba6f0ebd042e3ef35",
            "value": 2
          }
        },
        "efecf9a32cc04659803201585fe3cc12": {
          "model_module": "@jupyter-widgets/controls",
          "model_name": "HTMLModel",
          "model_module_version": "1.5.0",
          "state": {
            "_dom_classes": [],
            "_model_module": "@jupyter-widgets/controls",
            "_model_module_version": "1.5.0",
            "_model_name": "HTMLModel",
            "_view_count": null,
            "_view_module": "@jupyter-widgets/controls",
            "_view_module_version": "1.5.0",
            "_view_name": "HTMLView",
            "description": "",
            "description_tooltip": null,
            "layout": "IPY_MODEL_8c4cb4adf5aa4186b917719cecea0b1a",
            "placeholder": "​",
            "style": "IPY_MODEL_7f216c583c4c4050a36813fb03e98b78",
            "value": " 2/2 [00:09&lt;00:00,  4.75s/it]"
          }
        },
        "63fefa72e0494a0297b4bde3564306dd": {
          "model_module": "@jupyter-widgets/base",
          "model_name": "LayoutModel",
          "model_module_version": "1.2.0",
          "state": {
            "_model_module": "@jupyter-widgets/base",
            "_model_module_version": "1.2.0",
            "_model_name": "LayoutModel",
            "_view_count": null,
            "_view_module": "@jupyter-widgets/base",
            "_view_module_version": "1.2.0",
            "_view_name": "LayoutView",
            "align_content": null,
            "align_items": null,
            "align_self": null,
            "border": null,
            "bottom": null,
            "display": null,
            "flex": null,
            "flex_flow": null,
            "grid_area": null,
            "grid_auto_columns": null,
            "grid_auto_flow": null,
            "grid_auto_rows": null,
            "grid_column": null,
            "grid_gap": null,
            "grid_row": null,
            "grid_template_areas": null,
            "grid_template_columns": null,
            "grid_template_rows": null,
            "height": null,
            "justify_content": null,
            "justify_items": null,
            "left": null,
            "margin": null,
            "max_height": null,
            "max_width": null,
            "min_height": null,
            "min_width": null,
            "object_fit": null,
            "object_position": null,
            "order": null,
            "overflow": null,
            "overflow_x": null,
            "overflow_y": null,
            "padding": null,
            "right": null,
            "top": null,
            "visibility": null,
            "width": null
          }
        },
        "9c1a10367c154b3eb3179660acb5987d": {
          "model_module": "@jupyter-widgets/base",
          "model_name": "LayoutModel",
          "model_module_version": "1.2.0",
          "state": {
            "_model_module": "@jupyter-widgets/base",
            "_model_module_version": "1.2.0",
            "_model_name": "LayoutModel",
            "_view_count": null,
            "_view_module": "@jupyter-widgets/base",
            "_view_module_version": "1.2.0",
            "_view_name": "LayoutView",
            "align_content": null,
            "align_items": null,
            "align_self": null,
            "border": null,
            "bottom": null,
            "display": null,
            "flex": null,
            "flex_flow": null,
            "grid_area": null,
            "grid_auto_columns": null,
            "grid_auto_flow": null,
            "grid_auto_rows": null,
            "grid_column": null,
            "grid_gap": null,
            "grid_row": null,
            "grid_template_areas": null,
            "grid_template_columns": null,
            "grid_template_rows": null,
            "height": null,
            "justify_content": null,
            "justify_items": null,
            "left": null,
            "margin": null,
            "max_height": null,
            "max_width": null,
            "min_height": null,
            "min_width": null,
            "object_fit": null,
            "object_position": null,
            "order": null,
            "overflow": null,
            "overflow_x": null,
            "overflow_y": null,
            "padding": null,
            "right": null,
            "top": null,
            "visibility": null,
            "width": null
          }
        },
        "98ed062776404ce09479851b476fe52d": {
          "model_module": "@jupyter-widgets/controls",
          "model_name": "DescriptionStyleModel",
          "model_module_version": "1.5.0",
          "state": {
            "_model_module": "@jupyter-widgets/controls",
            "_model_module_version": "1.5.0",
            "_model_name": "DescriptionStyleModel",
            "_view_count": null,
            "_view_module": "@jupyter-widgets/base",
            "_view_module_version": "1.2.0",
            "_view_name": "StyleView",
            "description_width": ""
          }
        },
        "4e1ab8cc2a5b4001a8a2ee74868aaa86": {
          "model_module": "@jupyter-widgets/base",
          "model_name": "LayoutModel",
          "model_module_version": "1.2.0",
          "state": {
            "_model_module": "@jupyter-widgets/base",
            "_model_module_version": "1.2.0",
            "_model_name": "LayoutModel",
            "_view_count": null,
            "_view_module": "@jupyter-widgets/base",
            "_view_module_version": "1.2.0",
            "_view_name": "LayoutView",
            "align_content": null,
            "align_items": null,
            "align_self": null,
            "border": null,
            "bottom": null,
            "display": null,
            "flex": null,
            "flex_flow": null,
            "grid_area": null,
            "grid_auto_columns": null,
            "grid_auto_flow": null,
            "grid_auto_rows": null,
            "grid_column": null,
            "grid_gap": null,
            "grid_row": null,
            "grid_template_areas": null,
            "grid_template_columns": null,
            "grid_template_rows": null,
            "height": null,
            "justify_content": null,
            "justify_items": null,
            "left": null,
            "margin": null,
            "max_height": null,
            "max_width": null,
            "min_height": null,
            "min_width": null,
            "object_fit": null,
            "object_position": null,
            "order": null,
            "overflow": null,
            "overflow_x": null,
            "overflow_y": null,
            "padding": null,
            "right": null,
            "top": null,
            "visibility": null,
            "width": null
          }
        },
        "ece918b4896f48dba6f0ebd042e3ef35": {
          "model_module": "@jupyter-widgets/controls",
          "model_name": "ProgressStyleModel",
          "model_module_version": "1.5.0",
          "state": {
            "_model_module": "@jupyter-widgets/controls",
            "_model_module_version": "1.5.0",
            "_model_name": "ProgressStyleModel",
            "_view_count": null,
            "_view_module": "@jupyter-widgets/base",
            "_view_module_version": "1.2.0",
            "_view_name": "StyleView",
            "bar_color": null,
            "description_width": ""
          }
        },
        "8c4cb4adf5aa4186b917719cecea0b1a": {
          "model_module": "@jupyter-widgets/base",
          "model_name": "LayoutModel",
          "model_module_version": "1.2.0",
          "state": {
            "_model_module": "@jupyter-widgets/base",
            "_model_module_version": "1.2.0",
            "_model_name": "LayoutModel",
            "_view_count": null,
            "_view_module": "@jupyter-widgets/base",
            "_view_module_version": "1.2.0",
            "_view_name": "LayoutView",
            "align_content": null,
            "align_items": null,
            "align_self": null,
            "border": null,
            "bottom": null,
            "display": null,
            "flex": null,
            "flex_flow": null,
            "grid_area": null,
            "grid_auto_columns": null,
            "grid_auto_flow": null,
            "grid_auto_rows": null,
            "grid_column": null,
            "grid_gap": null,
            "grid_row": null,
            "grid_template_areas": null,
            "grid_template_columns": null,
            "grid_template_rows": null,
            "height": null,
            "justify_content": null,
            "justify_items": null,
            "left": null,
            "margin": null,
            "max_height": null,
            "max_width": null,
            "min_height": null,
            "min_width": null,
            "object_fit": null,
            "object_position": null,
            "order": null,
            "overflow": null,
            "overflow_x": null,
            "overflow_y": null,
            "padding": null,
            "right": null,
            "top": null,
            "visibility": null,
            "width": null
          }
        },
        "7f216c583c4c4050a36813fb03e98b78": {
          "model_module": "@jupyter-widgets/controls",
          "model_name": "DescriptionStyleModel",
          "model_module_version": "1.5.0",
          "state": {
            "_model_module": "@jupyter-widgets/controls",
            "_model_module_version": "1.5.0",
            "_model_name": "DescriptionStyleModel",
            "_view_count": null,
            "_view_module": "@jupyter-widgets/base",
            "_view_module_version": "1.2.0",
            "_view_name": "StyleView",
            "description_width": ""
          }
        },
        "62ca69aefb934df4970b3b8c666e8b75": {
          "model_module": "@jupyter-widgets/controls",
          "model_name": "HBoxModel",
          "model_module_version": "1.5.0",
          "state": {
            "_dom_classes": [],
            "_model_module": "@jupyter-widgets/controls",
            "_model_module_version": "1.5.0",
            "_model_name": "HBoxModel",
            "_view_count": null,
            "_view_module": "@jupyter-widgets/controls",
            "_view_module_version": "1.5.0",
            "_view_name": "HBoxView",
            "box_style": "",
            "children": [
              "IPY_MODEL_d6ff2792baab438e874a187f9fb57b5b",
              "IPY_MODEL_da9a539ce24c4594a22473715d5abc62",
              "IPY_MODEL_1c520652326f49c7a55c6a3191267077"
            ],
            "layout": "IPY_MODEL_52377abfa6c84243b6436033013b8643"
          }
        },
        "d6ff2792baab438e874a187f9fb57b5b": {
          "model_module": "@jupyter-widgets/controls",
          "model_name": "HTMLModel",
          "model_module_version": "1.5.0",
          "state": {
            "_dom_classes": [],
            "_model_module": "@jupyter-widgets/controls",
            "_model_module_version": "1.5.0",
            "_model_name": "HTMLModel",
            "_view_count": null,
            "_view_module": "@jupyter-widgets/controls",
            "_view_module_version": "1.5.0",
            "_view_name": "HTMLView",
            "description": "",
            "description_tooltip": null,
            "layout": "IPY_MODEL_c8c5f3749e7e4d668875ec7abaadf909",
            "placeholder": "​",
            "style": "IPY_MODEL_97fa78fadf17427d97409d4df570928a",
            "value": "Processing samples for distillation: 100%"
          }
        },
        "da9a539ce24c4594a22473715d5abc62": {
          "model_module": "@jupyter-widgets/controls",
          "model_name": "FloatProgressModel",
          "model_module_version": "1.5.0",
          "state": {
            "_dom_classes": [],
            "_model_module": "@jupyter-widgets/controls",
            "_model_module_version": "1.5.0",
            "_model_name": "FloatProgressModel",
            "_view_count": null,
            "_view_module": "@jupyter-widgets/controls",
            "_view_module_version": "1.5.0",
            "_view_name": "ProgressView",
            "bar_style": "success",
            "description": "",
            "description_tooltip": null,
            "layout": "IPY_MODEL_d100961fffb5482f8cfae1d3b97f88aa",
            "max": 1000,
            "min": 0,
            "orientation": "horizontal",
            "style": "IPY_MODEL_6c4d6cba9898419d80ea9d92810f773e",
            "value": 1000
          }
        },
        "1c520652326f49c7a55c6a3191267077": {
          "model_module": "@jupyter-widgets/controls",
          "model_name": "HTMLModel",
          "model_module_version": "1.5.0",
          "state": {
            "_dom_classes": [],
            "_model_module": "@jupyter-widgets/controls",
            "_model_module_version": "1.5.0",
            "_model_name": "HTMLModel",
            "_view_count": null,
            "_view_module": "@jupyter-widgets/controls",
            "_view_module_version": "1.5.0",
            "_view_name": "HTMLView",
            "description": "",
            "description_tooltip": null,
            "layout": "IPY_MODEL_da2c040b1ea1422eaac3b3aa37f34139",
            "placeholder": "​",
            "style": "IPY_MODEL_c1cd4371608149339a838e9f0219bb7a",
            "value": " 1000/1000 [00:01&lt;00:00, 656.57 examples/s]"
          }
        },
        "52377abfa6c84243b6436033013b8643": {
          "model_module": "@jupyter-widgets/base",
          "model_name": "LayoutModel",
          "model_module_version": "1.2.0",
          "state": {
            "_model_module": "@jupyter-widgets/base",
            "_model_module_version": "1.2.0",
            "_model_name": "LayoutModel",
            "_view_count": null,
            "_view_module": "@jupyter-widgets/base",
            "_view_module_version": "1.2.0",
            "_view_name": "LayoutView",
            "align_content": null,
            "align_items": null,
            "align_self": null,
            "border": null,
            "bottom": null,
            "display": null,
            "flex": null,
            "flex_flow": null,
            "grid_area": null,
            "grid_auto_columns": null,
            "grid_auto_flow": null,
            "grid_auto_rows": null,
            "grid_column": null,
            "grid_gap": null,
            "grid_row": null,
            "grid_template_areas": null,
            "grid_template_columns": null,
            "grid_template_rows": null,
            "height": null,
            "justify_content": null,
            "justify_items": null,
            "left": null,
            "margin": null,
            "max_height": null,
            "max_width": null,
            "min_height": null,
            "min_width": null,
            "object_fit": null,
            "object_position": null,
            "order": null,
            "overflow": null,
            "overflow_x": null,
            "overflow_y": null,
            "padding": null,
            "right": null,
            "top": null,
            "visibility": null,
            "width": null
          }
        },
        "c8c5f3749e7e4d668875ec7abaadf909": {
          "model_module": "@jupyter-widgets/base",
          "model_name": "LayoutModel",
          "model_module_version": "1.2.0",
          "state": {
            "_model_module": "@jupyter-widgets/base",
            "_model_module_version": "1.2.0",
            "_model_name": "LayoutModel",
            "_view_count": null,
            "_view_module": "@jupyter-widgets/base",
            "_view_module_version": "1.2.0",
            "_view_name": "LayoutView",
            "align_content": null,
            "align_items": null,
            "align_self": null,
            "border": null,
            "bottom": null,
            "display": null,
            "flex": null,
            "flex_flow": null,
            "grid_area": null,
            "grid_auto_columns": null,
            "grid_auto_flow": null,
            "grid_auto_rows": null,
            "grid_column": null,
            "grid_gap": null,
            "grid_row": null,
            "grid_template_areas": null,
            "grid_template_columns": null,
            "grid_template_rows": null,
            "height": null,
            "justify_content": null,
            "justify_items": null,
            "left": null,
            "margin": null,
            "max_height": null,
            "max_width": null,
            "min_height": null,
            "min_width": null,
            "object_fit": null,
            "object_position": null,
            "order": null,
            "overflow": null,
            "overflow_x": null,
            "overflow_y": null,
            "padding": null,
            "right": null,
            "top": null,
            "visibility": null,
            "width": null
          }
        },
        "97fa78fadf17427d97409d4df570928a": {
          "model_module": "@jupyter-widgets/controls",
          "model_name": "DescriptionStyleModel",
          "model_module_version": "1.5.0",
          "state": {
            "_model_module": "@jupyter-widgets/controls",
            "_model_module_version": "1.5.0",
            "_model_name": "DescriptionStyleModel",
            "_view_count": null,
            "_view_module": "@jupyter-widgets/base",
            "_view_module_version": "1.2.0",
            "_view_name": "StyleView",
            "description_width": ""
          }
        },
        "d100961fffb5482f8cfae1d3b97f88aa": {
          "model_module": "@jupyter-widgets/base",
          "model_name": "LayoutModel",
          "model_module_version": "1.2.0",
          "state": {
            "_model_module": "@jupyter-widgets/base",
            "_model_module_version": "1.2.0",
            "_model_name": "LayoutModel",
            "_view_count": null,
            "_view_module": "@jupyter-widgets/base",
            "_view_module_version": "1.2.0",
            "_view_name": "LayoutView",
            "align_content": null,
            "align_items": null,
            "align_self": null,
            "border": null,
            "bottom": null,
            "display": null,
            "flex": null,
            "flex_flow": null,
            "grid_area": null,
            "grid_auto_columns": null,
            "grid_auto_flow": null,
            "grid_auto_rows": null,
            "grid_column": null,
            "grid_gap": null,
            "grid_row": null,
            "grid_template_areas": null,
            "grid_template_columns": null,
            "grid_template_rows": null,
            "height": null,
            "justify_content": null,
            "justify_items": null,
            "left": null,
            "margin": null,
            "max_height": null,
            "max_width": null,
            "min_height": null,
            "min_width": null,
            "object_fit": null,
            "object_position": null,
            "order": null,
            "overflow": null,
            "overflow_x": null,
            "overflow_y": null,
            "padding": null,
            "right": null,
            "top": null,
            "visibility": null,
            "width": null
          }
        },
        "6c4d6cba9898419d80ea9d92810f773e": {
          "model_module": "@jupyter-widgets/controls",
          "model_name": "ProgressStyleModel",
          "model_module_version": "1.5.0",
          "state": {
            "_model_module": "@jupyter-widgets/controls",
            "_model_module_version": "1.5.0",
            "_model_name": "ProgressStyleModel",
            "_view_count": null,
            "_view_module": "@jupyter-widgets/base",
            "_view_module_version": "1.2.0",
            "_view_name": "StyleView",
            "bar_color": null,
            "description_width": ""
          }
        },
        "da2c040b1ea1422eaac3b3aa37f34139": {
          "model_module": "@jupyter-widgets/base",
          "model_name": "LayoutModel",
          "model_module_version": "1.2.0",
          "state": {
            "_model_module": "@jupyter-widgets/base",
            "_model_module_version": "1.2.0",
            "_model_name": "LayoutModel",
            "_view_count": null,
            "_view_module": "@jupyter-widgets/base",
            "_view_module_version": "1.2.0",
            "_view_name": "LayoutView",
            "align_content": null,
            "align_items": null,
            "align_self": null,
            "border": null,
            "bottom": null,
            "display": null,
            "flex": null,
            "flex_flow": null,
            "grid_area": null,
            "grid_auto_columns": null,
            "grid_auto_flow": null,
            "grid_auto_rows": null,
            "grid_column": null,
            "grid_gap": null,
            "grid_row": null,
            "grid_template_areas": null,
            "grid_template_columns": null,
            "grid_template_rows": null,
            "height": null,
            "justify_content": null,
            "justify_items": null,
            "left": null,
            "margin": null,
            "max_height": null,
            "max_width": null,
            "min_height": null,
            "min_width": null,
            "object_fit": null,
            "object_position": null,
            "order": null,
            "overflow": null,
            "overflow_x": null,
            "overflow_y": null,
            "padding": null,
            "right": null,
            "top": null,
            "visibility": null,
            "width": null
          }
        },
        "c1cd4371608149339a838e9f0219bb7a": {
          "model_module": "@jupyter-widgets/controls",
          "model_name": "DescriptionStyleModel",
          "model_module_version": "1.5.0",
          "state": {
            "_model_module": "@jupyter-widgets/controls",
            "_model_module_version": "1.5.0",
            "_model_name": "DescriptionStyleModel",
            "_view_count": null,
            "_view_module": "@jupyter-widgets/base",
            "_view_module_version": "1.2.0",
            "_view_name": "StyleView",
            "description_width": ""
          }
        },
        "956bfe9109af4b7a829ed1a77edaa0aa": {
          "model_module": "@jupyter-widgets/controls",
          "model_name": "HBoxModel",
          "model_module_version": "1.5.0",
          "state": {
            "_dom_classes": [],
            "_model_module": "@jupyter-widgets/controls",
            "_model_module_version": "1.5.0",
            "_model_name": "HBoxModel",
            "_view_count": null,
            "_view_module": "@jupyter-widgets/controls",
            "_view_module_version": "1.5.0",
            "_view_name": "HBoxView",
            "box_style": "",
            "children": [
              "IPY_MODEL_66ee86649ab247429ed77348578e1a55",
              "IPY_MODEL_7f56ef0232174b3892605b4f25093c77",
              "IPY_MODEL_309c636fe09046739598b8b2c97274ab"
            ],
            "layout": "IPY_MODEL_9f935f2b72464f2480c1f2d5912f0be5"
          }
        },
        "66ee86649ab247429ed77348578e1a55": {
          "model_module": "@jupyter-widgets/controls",
          "model_name": "HTMLModel",
          "model_module_version": "1.5.0",
          "state": {
            "_dom_classes": [],
            "_model_module": "@jupyter-widgets/controls",
            "_model_module_version": "1.5.0",
            "_model_name": "HTMLModel",
            "_view_count": null,
            "_view_module": "@jupyter-widgets/controls",
            "_view_module_version": "1.5.0",
            "_view_name": "HTMLView",
            "description": "",
            "description_tooltip": null,
            "layout": "IPY_MODEL_3bce85d8204b4367bcf3ec7f2e06202e",
            "placeholder": "​",
            "style": "IPY_MODEL_2631fbf119be4a16bd01a0de5eb3f0c0",
            "value": "100%"
          }
        },
        "7f56ef0232174b3892605b4f25093c77": {
          "model_module": "@jupyter-widgets/controls",
          "model_name": "FloatProgressModel",
          "model_module_version": "1.5.0",
          "state": {
            "_dom_classes": [],
            "_model_module": "@jupyter-widgets/controls",
            "_model_module_version": "1.5.0",
            "_model_name": "FloatProgressModel",
            "_view_count": null,
            "_view_module": "@jupyter-widgets/controls",
            "_view_module_version": "1.5.0",
            "_view_name": "ProgressView",
            "bar_style": "success",
            "description": "",
            "description_tooltip": null,
            "layout": "IPY_MODEL_2db4162c39124474abda3d74cb043d09",
            "max": 1,
            "min": 0,
            "orientation": "horizontal",
            "style": "IPY_MODEL_767fd525b16a4a748a61e6a2e0b0669b",
            "value": 1
          }
        },
        "309c636fe09046739598b8b2c97274ab": {
          "model_module": "@jupyter-widgets/controls",
          "model_name": "HTMLModel",
          "model_module_version": "1.5.0",
          "state": {
            "_dom_classes": [],
            "_model_module": "@jupyter-widgets/controls",
            "_model_module_version": "1.5.0",
            "_model_name": "HTMLModel",
            "_view_count": null,
            "_view_module": "@jupyter-widgets/controls",
            "_view_module_version": "1.5.0",
            "_view_name": "HTMLView",
            "description": "",
            "description_tooltip": null,
            "layout": "IPY_MODEL_c2f8f1dea54a47d0ac44b9469451e642",
            "placeholder": "​",
            "style": "IPY_MODEL_2645dfb92d6e427bb10f9b840d38f67e",
            "value": " 1/1 [00:21&lt;00:00, 21.94s/it]"
          }
        },
        "9f935f2b72464f2480c1f2d5912f0be5": {
          "model_module": "@jupyter-widgets/base",
          "model_name": "LayoutModel",
          "model_module_version": "1.2.0",
          "state": {
            "_model_module": "@jupyter-widgets/base",
            "_model_module_version": "1.2.0",
            "_model_name": "LayoutModel",
            "_view_count": null,
            "_view_module": "@jupyter-widgets/base",
            "_view_module_version": "1.2.0",
            "_view_name": "LayoutView",
            "align_content": null,
            "align_items": null,
            "align_self": null,
            "border": null,
            "bottom": null,
            "display": null,
            "flex": null,
            "flex_flow": null,
            "grid_area": null,
            "grid_auto_columns": null,
            "grid_auto_flow": null,
            "grid_auto_rows": null,
            "grid_column": null,
            "grid_gap": null,
            "grid_row": null,
            "grid_template_areas": null,
            "grid_template_columns": null,
            "grid_template_rows": null,
            "height": null,
            "justify_content": null,
            "justify_items": null,
            "left": null,
            "margin": null,
            "max_height": null,
            "max_width": null,
            "min_height": null,
            "min_width": null,
            "object_fit": null,
            "object_position": null,
            "order": null,
            "overflow": null,
            "overflow_x": null,
            "overflow_y": null,
            "padding": null,
            "right": null,
            "top": null,
            "visibility": null,
            "width": null
          }
        },
        "3bce85d8204b4367bcf3ec7f2e06202e": {
          "model_module": "@jupyter-widgets/base",
          "model_name": "LayoutModel",
          "model_module_version": "1.2.0",
          "state": {
            "_model_module": "@jupyter-widgets/base",
            "_model_module_version": "1.2.0",
            "_model_name": "LayoutModel",
            "_view_count": null,
            "_view_module": "@jupyter-widgets/base",
            "_view_module_version": "1.2.0",
            "_view_name": "LayoutView",
            "align_content": null,
            "align_items": null,
            "align_self": null,
            "border": null,
            "bottom": null,
            "display": null,
            "flex": null,
            "flex_flow": null,
            "grid_area": null,
            "grid_auto_columns": null,
            "grid_auto_flow": null,
            "grid_auto_rows": null,
            "grid_column": null,
            "grid_gap": null,
            "grid_row": null,
            "grid_template_areas": null,
            "grid_template_columns": null,
            "grid_template_rows": null,
            "height": null,
            "justify_content": null,
            "justify_items": null,
            "left": null,
            "margin": null,
            "max_height": null,
            "max_width": null,
            "min_height": null,
            "min_width": null,
            "object_fit": null,
            "object_position": null,
            "order": null,
            "overflow": null,
            "overflow_x": null,
            "overflow_y": null,
            "padding": null,
            "right": null,
            "top": null,
            "visibility": null,
            "width": null
          }
        },
        "2631fbf119be4a16bd01a0de5eb3f0c0": {
          "model_module": "@jupyter-widgets/controls",
          "model_name": "DescriptionStyleModel",
          "model_module_version": "1.5.0",
          "state": {
            "_model_module": "@jupyter-widgets/controls",
            "_model_module_version": "1.5.0",
            "_model_name": "DescriptionStyleModel",
            "_view_count": null,
            "_view_module": "@jupyter-widgets/base",
            "_view_module_version": "1.2.0",
            "_view_name": "StyleView",
            "description_width": ""
          }
        },
        "2db4162c39124474abda3d74cb043d09": {
          "model_module": "@jupyter-widgets/base",
          "model_name": "LayoutModel",
          "model_module_version": "1.2.0",
          "state": {
            "_model_module": "@jupyter-widgets/base",
            "_model_module_version": "1.2.0",
            "_model_name": "LayoutModel",
            "_view_count": null,
            "_view_module": "@jupyter-widgets/base",
            "_view_module_version": "1.2.0",
            "_view_name": "LayoutView",
            "align_content": null,
            "align_items": null,
            "align_self": null,
            "border": null,
            "bottom": null,
            "display": null,
            "flex": null,
            "flex_flow": null,
            "grid_area": null,
            "grid_auto_columns": null,
            "grid_auto_flow": null,
            "grid_auto_rows": null,
            "grid_column": null,
            "grid_gap": null,
            "grid_row": null,
            "grid_template_areas": null,
            "grid_template_columns": null,
            "grid_template_rows": null,
            "height": null,
            "justify_content": null,
            "justify_items": null,
            "left": null,
            "margin": null,
            "max_height": null,
            "max_width": null,
            "min_height": null,
            "min_width": null,
            "object_fit": null,
            "object_position": null,
            "order": null,
            "overflow": null,
            "overflow_x": null,
            "overflow_y": null,
            "padding": null,
            "right": null,
            "top": null,
            "visibility": null,
            "width": null
          }
        },
        "767fd525b16a4a748a61e6a2e0b0669b": {
          "model_module": "@jupyter-widgets/controls",
          "model_name": "ProgressStyleModel",
          "model_module_version": "1.5.0",
          "state": {
            "_model_module": "@jupyter-widgets/controls",
            "_model_module_version": "1.5.0",
            "_model_name": "ProgressStyleModel",
            "_view_count": null,
            "_view_module": "@jupyter-widgets/base",
            "_view_module_version": "1.2.0",
            "_view_name": "StyleView",
            "bar_color": null,
            "description_width": ""
          }
        },
        "c2f8f1dea54a47d0ac44b9469451e642": {
          "model_module": "@jupyter-widgets/base",
          "model_name": "LayoutModel",
          "model_module_version": "1.2.0",
          "state": {
            "_model_module": "@jupyter-widgets/base",
            "_model_module_version": "1.2.0",
            "_model_name": "LayoutModel",
            "_view_count": null,
            "_view_module": "@jupyter-widgets/base",
            "_view_module_version": "1.2.0",
            "_view_name": "LayoutView",
            "align_content": null,
            "align_items": null,
            "align_self": null,
            "border": null,
            "bottom": null,
            "display": null,
            "flex": null,
            "flex_flow": null,
            "grid_area": null,
            "grid_auto_columns": null,
            "grid_auto_flow": null,
            "grid_auto_rows": null,
            "grid_column": null,
            "grid_gap": null,
            "grid_row": null,
            "grid_template_areas": null,
            "grid_template_columns": null,
            "grid_template_rows": null,
            "height": null,
            "justify_content": null,
            "justify_items": null,
            "left": null,
            "margin": null,
            "max_height": null,
            "max_width": null,
            "min_height": null,
            "min_width": null,
            "object_fit": null,
            "object_position": null,
            "order": null,
            "overflow": null,
            "overflow_x": null,
            "overflow_y": null,
            "padding": null,
            "right": null,
            "top": null,
            "visibility": null,
            "width": null
          }
        },
        "2645dfb92d6e427bb10f9b840d38f67e": {
          "model_module": "@jupyter-widgets/controls",
          "model_name": "DescriptionStyleModel",
          "model_module_version": "1.5.0",
          "state": {
            "_model_module": "@jupyter-widgets/controls",
            "_model_module_version": "1.5.0",
            "_model_name": "DescriptionStyleModel",
            "_view_count": null,
            "_view_module": "@jupyter-widgets/base",
            "_view_module_version": "1.2.0",
            "_view_name": "StyleView",
            "description_width": ""
          }
        },
        "8f7a5650dedc49309c750068f96784c7": {
          "model_module": "@jupyter-widgets/controls",
          "model_name": "HBoxModel",
          "model_module_version": "1.5.0",
          "state": {
            "_dom_classes": [],
            "_model_module": "@jupyter-widgets/controls",
            "_model_module_version": "1.5.0",
            "_model_name": "HBoxModel",
            "_view_count": null,
            "_view_module": "@jupyter-widgets/controls",
            "_view_module_version": "1.5.0",
            "_view_name": "HBoxView",
            "box_style": "",
            "children": [
              "IPY_MODEL_d72425e2bda74dc990bede98bfb89e14",
              "IPY_MODEL_cfabf8840da6474a935239d836d4af24",
              "IPY_MODEL_410781d026b640b9a8dd673e81fabcfe"
            ],
            "layout": "IPY_MODEL_fcc4cf630e164330af85f2fbd5374ca7"
          }
        },
        "d72425e2bda74dc990bede98bfb89e14": {
          "model_module": "@jupyter-widgets/controls",
          "model_name": "HTMLModel",
          "model_module_version": "1.5.0",
          "state": {
            "_dom_classes": [],
            "_model_module": "@jupyter-widgets/controls",
            "_model_module_version": "1.5.0",
            "_model_name": "HTMLModel",
            "_view_count": null,
            "_view_module": "@jupyter-widgets/controls",
            "_view_module_version": "1.5.0",
            "_view_name": "HTMLView",
            "description": "",
            "description_tooltip": null,
            "layout": "IPY_MODEL_f8a0c4821ebf4d2ea20b75f5ab7d6d8a",
            "placeholder": "​",
            "style": "IPY_MODEL_a88cff638f294406836dc4751a3195fa",
            "value": "model.safetensors: "
          }
        },
        "cfabf8840da6474a935239d836d4af24": {
          "model_module": "@jupyter-widgets/controls",
          "model_name": "FloatProgressModel",
          "model_module_version": "1.5.0",
          "state": {
            "_dom_classes": [],
            "_model_module": "@jupyter-widgets/controls",
            "_model_module_version": "1.5.0",
            "_model_name": "FloatProgressModel",
            "_view_count": null,
            "_view_module": "@jupyter-widgets/controls",
            "_view_module_version": "1.5.0",
            "_view_name": "ProgressView",
            "bar_style": "success",
            "description": "",
            "description_tooltip": null,
            "layout": "IPY_MODEL_4deea90213034a9396ecf4bea4a8232c",
            "max": 2471645608,
            "min": 0,
            "orientation": "horizontal",
            "style": "IPY_MODEL_336b2cf7730642309e674ae3e40cc34a",
            "value": 2471645608
          }
        },
        "410781d026b640b9a8dd673e81fabcfe": {
          "model_module": "@jupyter-widgets/controls",
          "model_name": "HTMLModel",
          "model_module_version": "1.5.0",
          "state": {
            "_dom_classes": [],
            "_model_module": "@jupyter-widgets/controls",
            "_model_module_version": "1.5.0",
            "_model_name": "HTMLModel",
            "_view_count": null,
            "_view_module": "@jupyter-widgets/controls",
            "_view_module_version": "1.5.0",
            "_view_name": "HTMLView",
            "description": "",
            "description_tooltip": null,
            "layout": "IPY_MODEL_4fa082dae575474180af601fb919bd58",
            "placeholder": "​",
            "style": "IPY_MODEL_92c3280f256341b38636d9d0db0734c2",
            "value": " 2.48G/? [00:21&lt;00:00, 405MB/s]"
          }
        },
        "fcc4cf630e164330af85f2fbd5374ca7": {
          "model_module": "@jupyter-widgets/base",
          "model_name": "LayoutModel",
          "model_module_version": "1.2.0",
          "state": {
            "_model_module": "@jupyter-widgets/base",
            "_model_module_version": "1.2.0",
            "_model_name": "LayoutModel",
            "_view_count": null,
            "_view_module": "@jupyter-widgets/base",
            "_view_module_version": "1.2.0",
            "_view_name": "LayoutView",
            "align_content": null,
            "align_items": null,
            "align_self": null,
            "border": null,
            "bottom": null,
            "display": null,
            "flex": null,
            "flex_flow": null,
            "grid_area": null,
            "grid_auto_columns": null,
            "grid_auto_flow": null,
            "grid_auto_rows": null,
            "grid_column": null,
            "grid_gap": null,
            "grid_row": null,
            "grid_template_areas": null,
            "grid_template_columns": null,
            "grid_template_rows": null,
            "height": null,
            "justify_content": null,
            "justify_items": null,
            "left": null,
            "margin": null,
            "max_height": null,
            "max_width": null,
            "min_height": null,
            "min_width": null,
            "object_fit": null,
            "object_position": null,
            "order": null,
            "overflow": null,
            "overflow_x": null,
            "overflow_y": null,
            "padding": null,
            "right": null,
            "top": null,
            "visibility": null,
            "width": null
          }
        },
        "f8a0c4821ebf4d2ea20b75f5ab7d6d8a": {
          "model_module": "@jupyter-widgets/base",
          "model_name": "LayoutModel",
          "model_module_version": "1.2.0",
          "state": {
            "_model_module": "@jupyter-widgets/base",
            "_model_module_version": "1.2.0",
            "_model_name": "LayoutModel",
            "_view_count": null,
            "_view_module": "@jupyter-widgets/base",
            "_view_module_version": "1.2.0",
            "_view_name": "LayoutView",
            "align_content": null,
            "align_items": null,
            "align_self": null,
            "border": null,
            "bottom": null,
            "display": null,
            "flex": null,
            "flex_flow": null,
            "grid_area": null,
            "grid_auto_columns": null,
            "grid_auto_flow": null,
            "grid_auto_rows": null,
            "grid_column": null,
            "grid_gap": null,
            "grid_row": null,
            "grid_template_areas": null,
            "grid_template_columns": null,
            "grid_template_rows": null,
            "height": null,
            "justify_content": null,
            "justify_items": null,
            "left": null,
            "margin": null,
            "max_height": null,
            "max_width": null,
            "min_height": null,
            "min_width": null,
            "object_fit": null,
            "object_position": null,
            "order": null,
            "overflow": null,
            "overflow_x": null,
            "overflow_y": null,
            "padding": null,
            "right": null,
            "top": null,
            "visibility": null,
            "width": null
          }
        },
        "a88cff638f294406836dc4751a3195fa": {
          "model_module": "@jupyter-widgets/controls",
          "model_name": "DescriptionStyleModel",
          "model_module_version": "1.5.0",
          "state": {
            "_model_module": "@jupyter-widgets/controls",
            "_model_module_version": "1.5.0",
            "_model_name": "DescriptionStyleModel",
            "_view_count": null,
            "_view_module": "@jupyter-widgets/base",
            "_view_module_version": "1.2.0",
            "_view_name": "StyleView",
            "description_width": ""
          }
        },
        "4deea90213034a9396ecf4bea4a8232c": {
          "model_module": "@jupyter-widgets/base",
          "model_name": "LayoutModel",
          "model_module_version": "1.2.0",
          "state": {
            "_model_module": "@jupyter-widgets/base",
            "_model_module_version": "1.2.0",
            "_model_name": "LayoutModel",
            "_view_count": null,
            "_view_module": "@jupyter-widgets/base",
            "_view_module_version": "1.2.0",
            "_view_name": "LayoutView",
            "align_content": null,
            "align_items": null,
            "align_self": null,
            "border": null,
            "bottom": null,
            "display": null,
            "flex": null,
            "flex_flow": null,
            "grid_area": null,
            "grid_auto_columns": null,
            "grid_auto_flow": null,
            "grid_auto_rows": null,
            "grid_column": null,
            "grid_gap": null,
            "grid_row": null,
            "grid_template_areas": null,
            "grid_template_columns": null,
            "grid_template_rows": null,
            "height": null,
            "justify_content": null,
            "justify_items": null,
            "left": null,
            "margin": null,
            "max_height": null,
            "max_width": null,
            "min_height": null,
            "min_width": null,
            "object_fit": null,
            "object_position": null,
            "order": null,
            "overflow": null,
            "overflow_x": null,
            "overflow_y": null,
            "padding": null,
            "right": null,
            "top": null,
            "visibility": null,
            "width": null
          }
        },
        "336b2cf7730642309e674ae3e40cc34a": {
          "model_module": "@jupyter-widgets/controls",
          "model_name": "ProgressStyleModel",
          "model_module_version": "1.5.0",
          "state": {
            "_model_module": "@jupyter-widgets/controls",
            "_model_module_version": "1.5.0",
            "_model_name": "ProgressStyleModel",
            "_view_count": null,
            "_view_module": "@jupyter-widgets/base",
            "_view_module_version": "1.2.0",
            "_view_name": "StyleView",
            "bar_color": null,
            "description_width": ""
          }
        },
        "4fa082dae575474180af601fb919bd58": {
          "model_module": "@jupyter-widgets/base",
          "model_name": "LayoutModel",
          "model_module_version": "1.2.0",
          "state": {
            "_model_module": "@jupyter-widgets/base",
            "_model_module_version": "1.2.0",
            "_model_name": "LayoutModel",
            "_view_count": null,
            "_view_module": "@jupyter-widgets/base",
            "_view_module_version": "1.2.0",
            "_view_name": "LayoutView",
            "align_content": null,
            "align_items": null,
            "align_self": null,
            "border": null,
            "bottom": null,
            "display": null,
            "flex": null,
            "flex_flow": null,
            "grid_area": null,
            "grid_auto_columns": null,
            "grid_auto_flow": null,
            "grid_auto_rows": null,
            "grid_column": null,
            "grid_gap": null,
            "grid_row": null,
            "grid_template_areas": null,
            "grid_template_columns": null,
            "grid_template_rows": null,
            "height": null,
            "justify_content": null,
            "justify_items": null,
            "left": null,
            "margin": null,
            "max_height": null,
            "max_width": null,
            "min_height": null,
            "min_width": null,
            "object_fit": null,
            "object_position": null,
            "order": null,
            "overflow": null,
            "overflow_x": null,
            "overflow_y": null,
            "padding": null,
            "right": null,
            "top": null,
            "visibility": null,
            "width": null
          }
        },
        "92c3280f256341b38636d9d0db0734c2": {
          "model_module": "@jupyter-widgets/controls",
          "model_name": "DescriptionStyleModel",
          "model_module_version": "1.5.0",
          "state": {
            "_model_module": "@jupyter-widgets/controls",
            "_model_module_version": "1.5.0",
            "_model_name": "DescriptionStyleModel",
            "_view_count": null,
            "_view_module": "@jupyter-widgets/base",
            "_view_module_version": "1.2.0",
            "_view_name": "StyleView",
            "description_width": ""
          }
        },
        "2e2212eb4a40416181220959f4672c7e": {
          "model_module": "@jupyter-widgets/controls",
          "model_name": "HBoxModel",
          "model_module_version": "1.5.0",
          "state": {
            "_dom_classes": [],
            "_model_module": "@jupyter-widgets/controls",
            "_model_module_version": "1.5.0",
            "_model_name": "HBoxModel",
            "_view_count": null,
            "_view_module": "@jupyter-widgets/controls",
            "_view_module_version": "1.5.0",
            "_view_name": "HBoxView",
            "box_style": "",
            "children": [
              "IPY_MODEL_888fff6942314d44901723d39da5d25f",
              "IPY_MODEL_33ccb14719f84e78b0872cf6c1158f04",
              "IPY_MODEL_609d0394d1c54b8cbf6cd3c58b849153"
            ],
            "layout": "IPY_MODEL_f11d73faee2a4c198004ac0f48da0a5b"
          }
        },
        "888fff6942314d44901723d39da5d25f": {
          "model_module": "@jupyter-widgets/controls",
          "model_name": "HTMLModel",
          "model_module_version": "1.5.0",
          "state": {
            "_dom_classes": [],
            "_model_module": "@jupyter-widgets/controls",
            "_model_module_version": "1.5.0",
            "_model_name": "HTMLModel",
            "_view_count": null,
            "_view_module": "@jupyter-widgets/controls",
            "_view_module_version": "1.5.0",
            "_view_name": "HTMLView",
            "description": "",
            "description_tooltip": null,
            "layout": "IPY_MODEL_ef872b9417664d448d437f3b271fef4f",
            "placeholder": "​",
            "style": "IPY_MODEL_2e76934a31fe47e187935b9724c7c14b",
            "value": "README.md: 100%"
          }
        },
        "33ccb14719f84e78b0872cf6c1158f04": {
          "model_module": "@jupyter-widgets/controls",
          "model_name": "FloatProgressModel",
          "model_module_version": "1.5.0",
          "state": {
            "_dom_classes": [],
            "_model_module": "@jupyter-widgets/controls",
            "_model_module_version": "1.5.0",
            "_model_name": "FloatProgressModel",
            "_view_count": null,
            "_view_module": "@jupyter-widgets/controls",
            "_view_module_version": "1.5.0",
            "_view_name": "ProgressView",
            "bar_style": "success",
            "description": "",
            "description_tooltip": null,
            "layout": "IPY_MODEL_740998269f824d959d31e2ca4ea36ead",
            "max": 5174,
            "min": 0,
            "orientation": "horizontal",
            "style": "IPY_MODEL_a5c9ef4c215b48dfb3aa1db4d0bbe402",
            "value": 5174
          }
        },
        "609d0394d1c54b8cbf6cd3c58b849153": {
          "model_module": "@jupyter-widgets/controls",
          "model_name": "HTMLModel",
          "model_module_version": "1.5.0",
          "state": {
            "_dom_classes": [],
            "_model_module": "@jupyter-widgets/controls",
            "_model_module_version": "1.5.0",
            "_model_name": "HTMLModel",
            "_view_count": null,
            "_view_module": "@jupyter-widgets/controls",
            "_view_module_version": "1.5.0",
            "_view_name": "HTMLView",
            "description": "",
            "description_tooltip": null,
            "layout": "IPY_MODEL_fb395240639f4020a0baf955d8924b00",
            "placeholder": "​",
            "style": "IPY_MODEL_a7808394aaba4426b7a1b52cd6898d91",
            "value": " 5.17k/5.17k [00:00&lt;00:00, 672kB/s]"
          }
        },
        "f11d73faee2a4c198004ac0f48da0a5b": {
          "model_module": "@jupyter-widgets/base",
          "model_name": "LayoutModel",
          "model_module_version": "1.2.0",
          "state": {
            "_model_module": "@jupyter-widgets/base",
            "_model_module_version": "1.2.0",
            "_model_name": "LayoutModel",
            "_view_count": null,
            "_view_module": "@jupyter-widgets/base",
            "_view_module_version": "1.2.0",
            "_view_name": "LayoutView",
            "align_content": null,
            "align_items": null,
            "align_self": null,
            "border": null,
            "bottom": null,
            "display": null,
            "flex": null,
            "flex_flow": null,
            "grid_area": null,
            "grid_auto_columns": null,
            "grid_auto_flow": null,
            "grid_auto_rows": null,
            "grid_column": null,
            "grid_gap": null,
            "grid_row": null,
            "grid_template_areas": null,
            "grid_template_columns": null,
            "grid_template_rows": null,
            "height": null,
            "justify_content": null,
            "justify_items": null,
            "left": null,
            "margin": null,
            "max_height": null,
            "max_width": null,
            "min_height": null,
            "min_width": null,
            "object_fit": null,
            "object_position": null,
            "order": null,
            "overflow": null,
            "overflow_x": null,
            "overflow_y": null,
            "padding": null,
            "right": null,
            "top": null,
            "visibility": null,
            "width": null
          }
        },
        "ef872b9417664d448d437f3b271fef4f": {
          "model_module": "@jupyter-widgets/base",
          "model_name": "LayoutModel",
          "model_module_version": "1.2.0",
          "state": {
            "_model_module": "@jupyter-widgets/base",
            "_model_module_version": "1.2.0",
            "_model_name": "LayoutModel",
            "_view_count": null,
            "_view_module": "@jupyter-widgets/base",
            "_view_module_version": "1.2.0",
            "_view_name": "LayoutView",
            "align_content": null,
            "align_items": null,
            "align_self": null,
            "border": null,
            "bottom": null,
            "display": null,
            "flex": null,
            "flex_flow": null,
            "grid_area": null,
            "grid_auto_columns": null,
            "grid_auto_flow": null,
            "grid_auto_rows": null,
            "grid_column": null,
            "grid_gap": null,
            "grid_row": null,
            "grid_template_areas": null,
            "grid_template_columns": null,
            "grid_template_rows": null,
            "height": null,
            "justify_content": null,
            "justify_items": null,
            "left": null,
            "margin": null,
            "max_height": null,
            "max_width": null,
            "min_height": null,
            "min_width": null,
            "object_fit": null,
            "object_position": null,
            "order": null,
            "overflow": null,
            "overflow_x": null,
            "overflow_y": null,
            "padding": null,
            "right": null,
            "top": null,
            "visibility": null,
            "width": null
          }
        },
        "2e76934a31fe47e187935b9724c7c14b": {
          "model_module": "@jupyter-widgets/controls",
          "model_name": "DescriptionStyleModel",
          "model_module_version": "1.5.0",
          "state": {
            "_model_module": "@jupyter-widgets/controls",
            "_model_module_version": "1.5.0",
            "_model_name": "DescriptionStyleModel",
            "_view_count": null,
            "_view_module": "@jupyter-widgets/base",
            "_view_module_version": "1.2.0",
            "_view_name": "StyleView",
            "description_width": ""
          }
        },
        "740998269f824d959d31e2ca4ea36ead": {
          "model_module": "@jupyter-widgets/base",
          "model_name": "LayoutModel",
          "model_module_version": "1.2.0",
          "state": {
            "_model_module": "@jupyter-widgets/base",
            "_model_module_version": "1.2.0",
            "_model_name": "LayoutModel",
            "_view_count": null,
            "_view_module": "@jupyter-widgets/base",
            "_view_module_version": "1.2.0",
            "_view_name": "LayoutView",
            "align_content": null,
            "align_items": null,
            "align_self": null,
            "border": null,
            "bottom": null,
            "display": null,
            "flex": null,
            "flex_flow": null,
            "grid_area": null,
            "grid_auto_columns": null,
            "grid_auto_flow": null,
            "grid_auto_rows": null,
            "grid_column": null,
            "grid_gap": null,
            "grid_row": null,
            "grid_template_areas": null,
            "grid_template_columns": null,
            "grid_template_rows": null,
            "height": null,
            "justify_content": null,
            "justify_items": null,
            "left": null,
            "margin": null,
            "max_height": null,
            "max_width": null,
            "min_height": null,
            "min_width": null,
            "object_fit": null,
            "object_position": null,
            "order": null,
            "overflow": null,
            "overflow_x": null,
            "overflow_y": null,
            "padding": null,
            "right": null,
            "top": null,
            "visibility": null,
            "width": null
          }
        },
        "a5c9ef4c215b48dfb3aa1db4d0bbe402": {
          "model_module": "@jupyter-widgets/controls",
          "model_name": "ProgressStyleModel",
          "model_module_version": "1.5.0",
          "state": {
            "_model_module": "@jupyter-widgets/controls",
            "_model_module_version": "1.5.0",
            "_model_name": "ProgressStyleModel",
            "_view_count": null,
            "_view_module": "@jupyter-widgets/base",
            "_view_module_version": "1.2.0",
            "_view_name": "StyleView",
            "bar_color": null,
            "description_width": ""
          }
        },
        "fb395240639f4020a0baf955d8924b00": {
          "model_module": "@jupyter-widgets/base",
          "model_name": "LayoutModel",
          "model_module_version": "1.2.0",
          "state": {
            "_model_module": "@jupyter-widgets/base",
            "_model_module_version": "1.2.0",
            "_model_name": "LayoutModel",
            "_view_count": null,
            "_view_module": "@jupyter-widgets/base",
            "_view_module_version": "1.2.0",
            "_view_name": "LayoutView",
            "align_content": null,
            "align_items": null,
            "align_self": null,
            "border": null,
            "bottom": null,
            "display": null,
            "flex": null,
            "flex_flow": null,
            "grid_area": null,
            "grid_auto_columns": null,
            "grid_auto_flow": null,
            "grid_auto_rows": null,
            "grid_column": null,
            "grid_gap": null,
            "grid_row": null,
            "grid_template_areas": null,
            "grid_template_columns": null,
            "grid_template_rows": null,
            "height": null,
            "justify_content": null,
            "justify_items": null,
            "left": null,
            "margin": null,
            "max_height": null,
            "max_width": null,
            "min_height": null,
            "min_width": null,
            "object_fit": null,
            "object_position": null,
            "order": null,
            "overflow": null,
            "overflow_x": null,
            "overflow_y": null,
            "padding": null,
            "right": null,
            "top": null,
            "visibility": null,
            "width": null
          }
        },
        "a7808394aaba4426b7a1b52cd6898d91": {
          "model_module": "@jupyter-widgets/controls",
          "model_name": "DescriptionStyleModel",
          "model_module_version": "1.5.0",
          "state": {
            "_model_module": "@jupyter-widgets/controls",
            "_model_module_version": "1.5.0",
            "_model_name": "DescriptionStyleModel",
            "_view_count": null,
            "_view_module": "@jupyter-widgets/base",
            "_view_module_version": "1.2.0",
            "_view_name": "StyleView",
            "description_width": ""
          }
        },
        "6693f698281f40628cc847161e9441c0": {
          "model_module": "@jupyter-widgets/controls",
          "model_name": "HBoxModel",
          "model_module_version": "1.5.0",
          "state": {
            "_dom_classes": [],
            "_model_module": "@jupyter-widgets/controls",
            "_model_module_version": "1.5.0",
            "_model_name": "HBoxModel",
            "_view_count": null,
            "_view_module": "@jupyter-widgets/controls",
            "_view_module_version": "1.5.0",
            "_view_name": "HBoxView",
            "box_style": "",
            "children": [
              "IPY_MODEL_8822a80c1746452dbee41d5e4c354f68",
              "IPY_MODEL_6166ef1dc13d4cb7b1101cf7a631be98",
              "IPY_MODEL_d5fd9f1321cd4057afbb22eb4af6a7bc"
            ],
            "layout": "IPY_MODEL_c5cc17e507ac4d8ab93cd78bc858ebd1"
          }
        },
        "8822a80c1746452dbee41d5e4c354f68": {
          "model_module": "@jupyter-widgets/controls",
          "model_name": "HTMLModel",
          "model_module_version": "1.5.0",
          "state": {
            "_dom_classes": [],
            "_model_module": "@jupyter-widgets/controls",
            "_model_module_version": "1.5.0",
            "_model_name": "HTMLModel",
            "_view_count": null,
            "_view_module": "@jupyter-widgets/controls",
            "_view_module_version": "1.5.0",
            "_view_name": "HTMLView",
            "description": "",
            "description_tooltip": null,
            "layout": "IPY_MODEL_5ad2a075c8cd4b449b407ab9a298a1c8",
            "placeholder": "​",
            "style": "IPY_MODEL_b6ca7349dedc46b38c7ef193e21cf1ad",
            "value": "100%"
          }
        },
        "6166ef1dc13d4cb7b1101cf7a631be98": {
          "model_module": "@jupyter-widgets/controls",
          "model_name": "FloatProgressModel",
          "model_module_version": "1.5.0",
          "state": {
            "_dom_classes": [],
            "_model_module": "@jupyter-widgets/controls",
            "_model_module_version": "1.5.0",
            "_model_name": "FloatProgressModel",
            "_view_count": null,
            "_view_module": "@jupyter-widgets/controls",
            "_view_module_version": "1.5.0",
            "_view_name": "ProgressView",
            "bar_style": "success",
            "description": "",
            "description_tooltip": null,
            "layout": "IPY_MODEL_6130b8e85d814c29937d807efc61ef4d",
            "max": 1,
            "min": 0,
            "orientation": "horizontal",
            "style": "IPY_MODEL_58bfc59e124e45e087677882f05edf5b",
            "value": 1
          }
        },
        "d5fd9f1321cd4057afbb22eb4af6a7bc": {
          "model_module": "@jupyter-widgets/controls",
          "model_name": "HTMLModel",
          "model_module_version": "1.5.0",
          "state": {
            "_dom_classes": [],
            "_model_module": "@jupyter-widgets/controls",
            "_model_module_version": "1.5.0",
            "_model_name": "HTMLModel",
            "_view_count": null,
            "_view_module": "@jupyter-widgets/controls",
            "_view_module_version": "1.5.0",
            "_view_name": "HTMLView",
            "description": "",
            "description_tooltip": null,
            "layout": "IPY_MODEL_22489debd95d4bd0b9d9d86733e38805",
            "placeholder": "​",
            "style": "IPY_MODEL_549400529aff4848a4bf8afc1b76db2e",
            "value": " 1/1 [00:00&lt;00:00,  1.12it/s]"
          }
        },
        "c5cc17e507ac4d8ab93cd78bc858ebd1": {
          "model_module": "@jupyter-widgets/base",
          "model_name": "LayoutModel",
          "model_module_version": "1.2.0",
          "state": {
            "_model_module": "@jupyter-widgets/base",
            "_model_module_version": "1.2.0",
            "_model_name": "LayoutModel",
            "_view_count": null,
            "_view_module": "@jupyter-widgets/base",
            "_view_module_version": "1.2.0",
            "_view_name": "LayoutView",
            "align_content": null,
            "align_items": null,
            "align_self": null,
            "border": null,
            "bottom": null,
            "display": null,
            "flex": null,
            "flex_flow": null,
            "grid_area": null,
            "grid_auto_columns": null,
            "grid_auto_flow": null,
            "grid_auto_rows": null,
            "grid_column": null,
            "grid_gap": null,
            "grid_row": null,
            "grid_template_areas": null,
            "grid_template_columns": null,
            "grid_template_rows": null,
            "height": null,
            "justify_content": null,
            "justify_items": null,
            "left": null,
            "margin": null,
            "max_height": null,
            "max_width": null,
            "min_height": null,
            "min_width": null,
            "object_fit": null,
            "object_position": null,
            "order": null,
            "overflow": null,
            "overflow_x": null,
            "overflow_y": null,
            "padding": null,
            "right": null,
            "top": null,
            "visibility": null,
            "width": null
          }
        },
        "5ad2a075c8cd4b449b407ab9a298a1c8": {
          "model_module": "@jupyter-widgets/base",
          "model_name": "LayoutModel",
          "model_module_version": "1.2.0",
          "state": {
            "_model_module": "@jupyter-widgets/base",
            "_model_module_version": "1.2.0",
            "_model_name": "LayoutModel",
            "_view_count": null,
            "_view_module": "@jupyter-widgets/base",
            "_view_module_version": "1.2.0",
            "_view_name": "LayoutView",
            "align_content": null,
            "align_items": null,
            "align_self": null,
            "border": null,
            "bottom": null,
            "display": null,
            "flex": null,
            "flex_flow": null,
            "grid_area": null,
            "grid_auto_columns": null,
            "grid_auto_flow": null,
            "grid_auto_rows": null,
            "grid_column": null,
            "grid_gap": null,
            "grid_row": null,
            "grid_template_areas": null,
            "grid_template_columns": null,
            "grid_template_rows": null,
            "height": null,
            "justify_content": null,
            "justify_items": null,
            "left": null,
            "margin": null,
            "max_height": null,
            "max_width": null,
            "min_height": null,
            "min_width": null,
            "object_fit": null,
            "object_position": null,
            "order": null,
            "overflow": null,
            "overflow_x": null,
            "overflow_y": null,
            "padding": null,
            "right": null,
            "top": null,
            "visibility": null,
            "width": null
          }
        },
        "b6ca7349dedc46b38c7ef193e21cf1ad": {
          "model_module": "@jupyter-widgets/controls",
          "model_name": "DescriptionStyleModel",
          "model_module_version": "1.5.0",
          "state": {
            "_model_module": "@jupyter-widgets/controls",
            "_model_module_version": "1.5.0",
            "_model_name": "DescriptionStyleModel",
            "_view_count": null,
            "_view_module": "@jupyter-widgets/base",
            "_view_module_version": "1.2.0",
            "_view_name": "StyleView",
            "description_width": ""
          }
        },
        "6130b8e85d814c29937d807efc61ef4d": {
          "model_module": "@jupyter-widgets/base",
          "model_name": "LayoutModel",
          "model_module_version": "1.2.0",
          "state": {
            "_model_module": "@jupyter-widgets/base",
            "_model_module_version": "1.2.0",
            "_model_name": "LayoutModel",
            "_view_count": null,
            "_view_module": "@jupyter-widgets/base",
            "_view_module_version": "1.2.0",
            "_view_name": "LayoutView",
            "align_content": null,
            "align_items": null,
            "align_self": null,
            "border": null,
            "bottom": null,
            "display": null,
            "flex": null,
            "flex_flow": null,
            "grid_area": null,
            "grid_auto_columns": null,
            "grid_auto_flow": null,
            "grid_auto_rows": null,
            "grid_column": null,
            "grid_gap": null,
            "grid_row": null,
            "grid_template_areas": null,
            "grid_template_columns": null,
            "grid_template_rows": null,
            "height": null,
            "justify_content": null,
            "justify_items": null,
            "left": null,
            "margin": null,
            "max_height": null,
            "max_width": null,
            "min_height": null,
            "min_width": null,
            "object_fit": null,
            "object_position": null,
            "order": null,
            "overflow": null,
            "overflow_x": null,
            "overflow_y": null,
            "padding": null,
            "right": null,
            "top": null,
            "visibility": null,
            "width": null
          }
        },
        "58bfc59e124e45e087677882f05edf5b": {
          "model_module": "@jupyter-widgets/controls",
          "model_name": "ProgressStyleModel",
          "model_module_version": "1.5.0",
          "state": {
            "_model_module": "@jupyter-widgets/controls",
            "_model_module_version": "1.5.0",
            "_model_name": "ProgressStyleModel",
            "_view_count": null,
            "_view_module": "@jupyter-widgets/base",
            "_view_module_version": "1.2.0",
            "_view_name": "StyleView",
            "bar_color": null,
            "description_width": ""
          }
        },
        "22489debd95d4bd0b9d9d86733e38805": {
          "model_module": "@jupyter-widgets/base",
          "model_name": "LayoutModel",
          "model_module_version": "1.2.0",
          "state": {
            "_model_module": "@jupyter-widgets/base",
            "_model_module_version": "1.2.0",
            "_model_name": "LayoutModel",
            "_view_count": null,
            "_view_module": "@jupyter-widgets/base",
            "_view_module_version": "1.2.0",
            "_view_name": "LayoutView",
            "align_content": null,
            "align_items": null,
            "align_self": null,
            "border": null,
            "bottom": null,
            "display": null,
            "flex": null,
            "flex_flow": null,
            "grid_area": null,
            "grid_auto_columns": null,
            "grid_auto_flow": null,
            "grid_auto_rows": null,
            "grid_column": null,
            "grid_gap": null,
            "grid_row": null,
            "grid_template_areas": null,
            "grid_template_columns": null,
            "grid_template_rows": null,
            "height": null,
            "justify_content": null,
            "justify_items": null,
            "left": null,
            "margin": null,
            "max_height": null,
            "max_width": null,
            "min_height": null,
            "min_width": null,
            "object_fit": null,
            "object_position": null,
            "order": null,
            "overflow": null,
            "overflow_x": null,
            "overflow_y": null,
            "padding": null,
            "right": null,
            "top": null,
            "visibility": null,
            "width": null
          }
        },
        "549400529aff4848a4bf8afc1b76db2e": {
          "model_module": "@jupyter-widgets/controls",
          "model_name": "DescriptionStyleModel",
          "model_module_version": "1.5.0",
          "state": {
            "_model_module": "@jupyter-widgets/controls",
            "_model_module_version": "1.5.0",
            "_model_name": "DescriptionStyleModel",
            "_view_count": null,
            "_view_module": "@jupyter-widgets/base",
            "_view_module_version": "1.2.0",
            "_view_name": "StyleView",
            "description_width": ""
          }
        },
        "e52d714ad2db4d518888a074b664b950": {
          "model_module": "@jupyter-widgets/controls",
          "model_name": "HBoxModel",
          "model_module_version": "1.5.0",
          "state": {
            "_dom_classes": [],
            "_model_module": "@jupyter-widgets/controls",
            "_model_module_version": "1.5.0",
            "_model_name": "HBoxModel",
            "_view_count": null,
            "_view_module": "@jupyter-widgets/controls",
            "_view_module_version": "1.5.0",
            "_view_name": "HBoxView",
            "box_style": "",
            "children": [
              "IPY_MODEL_4343cbd27cd44c3aa885bf25ba222b50",
              "IPY_MODEL_b337a5920d574fd38d7f1be25d8e6aac",
              "IPY_MODEL_e5f85057c6174714aa9542ab32869c30"
            ],
            "layout": "IPY_MODEL_6eaeade50a4948e7b526c9b877b9cf7f"
          }
        },
        "4343cbd27cd44c3aa885bf25ba222b50": {
          "model_module": "@jupyter-widgets/controls",
          "model_name": "HTMLModel",
          "model_module_version": "1.5.0",
          "state": {
            "_dom_classes": [],
            "_model_module": "@jupyter-widgets/controls",
            "_model_module_version": "1.5.0",
            "_model_name": "HTMLModel",
            "_view_count": null,
            "_view_module": "@jupyter-widgets/controls",
            "_view_module_version": "1.5.0",
            "_view_name": "HTMLView",
            "description": "",
            "description_tooltip": null,
            "layout": "IPY_MODEL_986c65e9ee3346a28c86208454a60377",
            "placeholder": "​",
            "style": "IPY_MODEL_56779d9ea68c4b8398dc2cf32e88184f",
            "value": "tokenizer.json: "
          }
        },
        "b337a5920d574fd38d7f1be25d8e6aac": {
          "model_module": "@jupyter-widgets/controls",
          "model_name": "FloatProgressModel",
          "model_module_version": "1.5.0",
          "state": {
            "_dom_classes": [],
            "_model_module": "@jupyter-widgets/controls",
            "_model_module_version": "1.5.0",
            "_model_name": "FloatProgressModel",
            "_view_count": null,
            "_view_module": "@jupyter-widgets/controls",
            "_view_module_version": "1.5.0",
            "_view_name": "ProgressView",
            "bar_style": "success",
            "description": "",
            "description_tooltip": null,
            "layout": "IPY_MODEL_4682c748adc1485684f547b751e3cae9",
            "max": 17209920,
            "min": 0,
            "orientation": "horizontal",
            "style": "IPY_MODEL_1022bd45ac184e3880db62a5a5b0ae3b",
            "value": 17209920
          }
        },
        "e5f85057c6174714aa9542ab32869c30": {
          "model_module": "@jupyter-widgets/controls",
          "model_name": "HTMLModel",
          "model_module_version": "1.5.0",
          "state": {
            "_dom_classes": [],
            "_model_module": "@jupyter-widgets/controls",
            "_model_module_version": "1.5.0",
            "_model_name": "HTMLModel",
            "_view_count": null,
            "_view_module": "@jupyter-widgets/controls",
            "_view_module_version": "1.5.0",
            "_view_name": "HTMLView",
            "description": "",
            "description_tooltip": null,
            "layout": "IPY_MODEL_db9d41ba3bd54d36a33f5a6254fc4548",
            "placeholder": "​",
            "style": "IPY_MODEL_62634986ed07462296d33bb92e585362",
            "value": " 32.0M/? [00:00&lt;00:00, 68.7MB/s]"
          }
        },
        "6eaeade50a4948e7b526c9b877b9cf7f": {
          "model_module": "@jupyter-widgets/base",
          "model_name": "LayoutModel",
          "model_module_version": "1.2.0",
          "state": {
            "_model_module": "@jupyter-widgets/base",
            "_model_module_version": "1.2.0",
            "_model_name": "LayoutModel",
            "_view_count": null,
            "_view_module": "@jupyter-widgets/base",
            "_view_module_version": "1.2.0",
            "_view_name": "LayoutView",
            "align_content": null,
            "align_items": null,
            "align_self": null,
            "border": null,
            "bottom": null,
            "display": null,
            "flex": null,
            "flex_flow": null,
            "grid_area": null,
            "grid_auto_columns": null,
            "grid_auto_flow": null,
            "grid_auto_rows": null,
            "grid_column": null,
            "grid_gap": null,
            "grid_row": null,
            "grid_template_areas": null,
            "grid_template_columns": null,
            "grid_template_rows": null,
            "height": null,
            "justify_content": null,
            "justify_items": null,
            "left": null,
            "margin": null,
            "max_height": null,
            "max_width": null,
            "min_height": null,
            "min_width": null,
            "object_fit": null,
            "object_position": null,
            "order": null,
            "overflow": null,
            "overflow_x": null,
            "overflow_y": null,
            "padding": null,
            "right": null,
            "top": null,
            "visibility": null,
            "width": null
          }
        },
        "986c65e9ee3346a28c86208454a60377": {
          "model_module": "@jupyter-widgets/base",
          "model_name": "LayoutModel",
          "model_module_version": "1.2.0",
          "state": {
            "_model_module": "@jupyter-widgets/base",
            "_model_module_version": "1.2.0",
            "_model_name": "LayoutModel",
            "_view_count": null,
            "_view_module": "@jupyter-widgets/base",
            "_view_module_version": "1.2.0",
            "_view_name": "LayoutView",
            "align_content": null,
            "align_items": null,
            "align_self": null,
            "border": null,
            "bottom": null,
            "display": null,
            "flex": null,
            "flex_flow": null,
            "grid_area": null,
            "grid_auto_columns": null,
            "grid_auto_flow": null,
            "grid_auto_rows": null,
            "grid_column": null,
            "grid_gap": null,
            "grid_row": null,
            "grid_template_areas": null,
            "grid_template_columns": null,
            "grid_template_rows": null,
            "height": null,
            "justify_content": null,
            "justify_items": null,
            "left": null,
            "margin": null,
            "max_height": null,
            "max_width": null,
            "min_height": null,
            "min_width": null,
            "object_fit": null,
            "object_position": null,
            "order": null,
            "overflow": null,
            "overflow_x": null,
            "overflow_y": null,
            "padding": null,
            "right": null,
            "top": null,
            "visibility": null,
            "width": null
          }
        },
        "56779d9ea68c4b8398dc2cf32e88184f": {
          "model_module": "@jupyter-widgets/controls",
          "model_name": "DescriptionStyleModel",
          "model_module_version": "1.5.0",
          "state": {
            "_model_module": "@jupyter-widgets/controls",
            "_model_module_version": "1.5.0",
            "_model_name": "DescriptionStyleModel",
            "_view_count": null,
            "_view_module": "@jupyter-widgets/base",
            "_view_module_version": "1.2.0",
            "_view_name": "StyleView",
            "description_width": ""
          }
        },
        "4682c748adc1485684f547b751e3cae9": {
          "model_module": "@jupyter-widgets/base",
          "model_name": "LayoutModel",
          "model_module_version": "1.2.0",
          "state": {
            "_model_module": "@jupyter-widgets/base",
            "_model_module_version": "1.2.0",
            "_model_name": "LayoutModel",
            "_view_count": null,
            "_view_module": "@jupyter-widgets/base",
            "_view_module_version": "1.2.0",
            "_view_name": "LayoutView",
            "align_content": null,
            "align_items": null,
            "align_self": null,
            "border": null,
            "bottom": null,
            "display": null,
            "flex": null,
            "flex_flow": null,
            "grid_area": null,
            "grid_auto_columns": null,
            "grid_auto_flow": null,
            "grid_auto_rows": null,
            "grid_column": null,
            "grid_gap": null,
            "grid_row": null,
            "grid_template_areas": null,
            "grid_template_columns": null,
            "grid_template_rows": null,
            "height": null,
            "justify_content": null,
            "justify_items": null,
            "left": null,
            "margin": null,
            "max_height": null,
            "max_width": null,
            "min_height": null,
            "min_width": null,
            "object_fit": null,
            "object_position": null,
            "order": null,
            "overflow": null,
            "overflow_x": null,
            "overflow_y": null,
            "padding": null,
            "right": null,
            "top": null,
            "visibility": null,
            "width": null
          }
        },
        "1022bd45ac184e3880db62a5a5b0ae3b": {
          "model_module": "@jupyter-widgets/controls",
          "model_name": "ProgressStyleModel",
          "model_module_version": "1.5.0",
          "state": {
            "_model_module": "@jupyter-widgets/controls",
            "_model_module_version": "1.5.0",
            "_model_name": "ProgressStyleModel",
            "_view_count": null,
            "_view_module": "@jupyter-widgets/base",
            "_view_module_version": "1.2.0",
            "_view_name": "StyleView",
            "bar_color": null,
            "description_width": ""
          }
        },
        "db9d41ba3bd54d36a33f5a6254fc4548": {
          "model_module": "@jupyter-widgets/base",
          "model_name": "LayoutModel",
          "model_module_version": "1.2.0",
          "state": {
            "_model_module": "@jupyter-widgets/base",
            "_model_module_version": "1.2.0",
            "_model_name": "LayoutModel",
            "_view_count": null,
            "_view_module": "@jupyter-widgets/base",
            "_view_module_version": "1.2.0",
            "_view_name": "LayoutView",
            "align_content": null,
            "align_items": null,
            "align_self": null,
            "border": null,
            "bottom": null,
            "display": null,
            "flex": null,
            "flex_flow": null,
            "grid_area": null,
            "grid_auto_columns": null,
            "grid_auto_flow": null,
            "grid_auto_rows": null,
            "grid_column": null,
            "grid_gap": null,
            "grid_row": null,
            "grid_template_areas": null,
            "grid_template_columns": null,
            "grid_template_rows": null,
            "height": null,
            "justify_content": null,
            "justify_items": null,
            "left": null,
            "margin": null,
            "max_height": null,
            "max_width": null,
            "min_height": null,
            "min_width": null,
            "object_fit": null,
            "object_position": null,
            "order": null,
            "overflow": null,
            "overflow_x": null,
            "overflow_y": null,
            "padding": null,
            "right": null,
            "top": null,
            "visibility": null,
            "width": null
          }
        },
        "62634986ed07462296d33bb92e585362": {
          "model_module": "@jupyter-widgets/controls",
          "model_name": "DescriptionStyleModel",
          "model_module_version": "1.5.0",
          "state": {
            "_model_module": "@jupyter-widgets/controls",
            "_model_module_version": "1.5.0",
            "_model_name": "DescriptionStyleModel",
            "_view_count": null,
            "_view_module": "@jupyter-widgets/base",
            "_view_module_version": "1.2.0",
            "_view_name": "StyleView",
            "description_width": ""
          }
        },
        "9866d028dcf94fd2b378deea6e03638b": {
          "model_module": "@jupyter-widgets/controls",
          "model_name": "HBoxModel",
          "model_module_version": "1.5.0",
          "state": {
            "_dom_classes": [],
            "_model_module": "@jupyter-widgets/controls",
            "_model_module_version": "1.5.0",
            "_model_name": "HBoxModel",
            "_view_count": null,
            "_view_module": "@jupyter-widgets/controls",
            "_view_module_version": "1.5.0",
            "_view_name": "HBoxView",
            "box_style": "",
            "children": [
              "IPY_MODEL_45109581db9b417b8ff1b01993363fd1",
              "IPY_MODEL_3f2ecddb6db74ad696126f2b4361771f",
              "IPY_MODEL_312fec9f58c448b6b19b291182d93768"
            ],
            "layout": "IPY_MODEL_357f217c34ba4985b6bef425a09132e9"
          }
        },
        "45109581db9b417b8ff1b01993363fd1": {
          "model_module": "@jupyter-widgets/controls",
          "model_name": "HTMLModel",
          "model_module_version": "1.5.0",
          "state": {
            "_dom_classes": [],
            "_model_module": "@jupyter-widgets/controls",
            "_model_module_version": "1.5.0",
            "_model_name": "HTMLModel",
            "_view_count": null,
            "_view_module": "@jupyter-widgets/controls",
            "_view_module_version": "1.5.0",
            "_view_name": "HTMLView",
            "description": "",
            "description_tooltip": null,
            "layout": "IPY_MODEL_e779c9de982840ef8c2ed2b20feaffed",
            "placeholder": "​",
            "style": "IPY_MODEL_7adf51e3c54f4abcac3942dfae4d1fe4",
            "value": "config.json: 100%"
          }
        },
        "3f2ecddb6db74ad696126f2b4361771f": {
          "model_module": "@jupyter-widgets/controls",
          "model_name": "FloatProgressModel",
          "model_module_version": "1.5.0",
          "state": {
            "_dom_classes": [],
            "_model_module": "@jupyter-widgets/controls",
            "_model_module_version": "1.5.0",
            "_model_name": "FloatProgressModel",
            "_view_count": null,
            "_view_module": "@jupyter-widgets/controls",
            "_view_module_version": "1.5.0",
            "_view_name": "ProgressView",
            "bar_style": "success",
            "description": "",
            "description_tooltip": null,
            "layout": "IPY_MODEL_085912c2f8c24dac9fa5e6bdc7353adf",
            "max": 838,
            "min": 0,
            "orientation": "horizontal",
            "style": "IPY_MODEL_13ce05010ec3413586eaa1a9f9241603",
            "value": 838
          }
        },
        "312fec9f58c448b6b19b291182d93768": {
          "model_module": "@jupyter-widgets/controls",
          "model_name": "HTMLModel",
          "model_module_version": "1.5.0",
          "state": {
            "_dom_classes": [],
            "_model_module": "@jupyter-widgets/controls",
            "_model_module_version": "1.5.0",
            "_model_name": "HTMLModel",
            "_view_count": null,
            "_view_module": "@jupyter-widgets/controls",
            "_view_module_version": "1.5.0",
            "_view_name": "HTMLView",
            "description": "",
            "description_tooltip": null,
            "layout": "IPY_MODEL_01e56720689b44d9a6765b2d11e494c2",
            "placeholder": "​",
            "style": "IPY_MODEL_6555295065344f2a97cb3dc933dded88",
            "value": " 838/838 [00:00&lt;00:00, 94.7kB/s]"
          }
        },
        "357f217c34ba4985b6bef425a09132e9": {
          "model_module": "@jupyter-widgets/base",
          "model_name": "LayoutModel",
          "model_module_version": "1.2.0",
          "state": {
            "_model_module": "@jupyter-widgets/base",
            "_model_module_version": "1.2.0",
            "_model_name": "LayoutModel",
            "_view_count": null,
            "_view_module": "@jupyter-widgets/base",
            "_view_module_version": "1.2.0",
            "_view_name": "LayoutView",
            "align_content": null,
            "align_items": null,
            "align_self": null,
            "border": null,
            "bottom": null,
            "display": null,
            "flex": null,
            "flex_flow": null,
            "grid_area": null,
            "grid_auto_columns": null,
            "grid_auto_flow": null,
            "grid_auto_rows": null,
            "grid_column": null,
            "grid_gap": null,
            "grid_row": null,
            "grid_template_areas": null,
            "grid_template_columns": null,
            "grid_template_rows": null,
            "height": null,
            "justify_content": null,
            "justify_items": null,
            "left": null,
            "margin": null,
            "max_height": null,
            "max_width": null,
            "min_height": null,
            "min_width": null,
            "object_fit": null,
            "object_position": null,
            "order": null,
            "overflow": null,
            "overflow_x": null,
            "overflow_y": null,
            "padding": null,
            "right": null,
            "top": null,
            "visibility": null,
            "width": null
          }
        },
        "e779c9de982840ef8c2ed2b20feaffed": {
          "model_module": "@jupyter-widgets/base",
          "model_name": "LayoutModel",
          "model_module_version": "1.2.0",
          "state": {
            "_model_module": "@jupyter-widgets/base",
            "_model_module_version": "1.2.0",
            "_model_name": "LayoutModel",
            "_view_count": null,
            "_view_module": "@jupyter-widgets/base",
            "_view_module_version": "1.2.0",
            "_view_name": "LayoutView",
            "align_content": null,
            "align_items": null,
            "align_self": null,
            "border": null,
            "bottom": null,
            "display": null,
            "flex": null,
            "flex_flow": null,
            "grid_area": null,
            "grid_auto_columns": null,
            "grid_auto_flow": null,
            "grid_auto_rows": null,
            "grid_column": null,
            "grid_gap": null,
            "grid_row": null,
            "grid_template_areas": null,
            "grid_template_columns": null,
            "grid_template_rows": null,
            "height": null,
            "justify_content": null,
            "justify_items": null,
            "left": null,
            "margin": null,
            "max_height": null,
            "max_width": null,
            "min_height": null,
            "min_width": null,
            "object_fit": null,
            "object_position": null,
            "order": null,
            "overflow": null,
            "overflow_x": null,
            "overflow_y": null,
            "padding": null,
            "right": null,
            "top": null,
            "visibility": null,
            "width": null
          }
        },
        "7adf51e3c54f4abcac3942dfae4d1fe4": {
          "model_module": "@jupyter-widgets/controls",
          "model_name": "DescriptionStyleModel",
          "model_module_version": "1.5.0",
          "state": {
            "_model_module": "@jupyter-widgets/controls",
            "_model_module_version": "1.5.0",
            "_model_name": "DescriptionStyleModel",
            "_view_count": null,
            "_view_module": "@jupyter-widgets/base",
            "_view_module_version": "1.2.0",
            "_view_name": "StyleView",
            "description_width": ""
          }
        },
        "085912c2f8c24dac9fa5e6bdc7353adf": {
          "model_module": "@jupyter-widgets/base",
          "model_name": "LayoutModel",
          "model_module_version": "1.2.0",
          "state": {
            "_model_module": "@jupyter-widgets/base",
            "_model_module_version": "1.2.0",
            "_model_name": "LayoutModel",
            "_view_count": null,
            "_view_module": "@jupyter-widgets/base",
            "_view_module_version": "1.2.0",
            "_view_name": "LayoutView",
            "align_content": null,
            "align_items": null,
            "align_self": null,
            "border": null,
            "bottom": null,
            "display": null,
            "flex": null,
            "flex_flow": null,
            "grid_area": null,
            "grid_auto_columns": null,
            "grid_auto_flow": null,
            "grid_auto_rows": null,
            "grid_column": null,
            "grid_gap": null,
            "grid_row": null,
            "grid_template_areas": null,
            "grid_template_columns": null,
            "grid_template_rows": null,
            "height": null,
            "justify_content": null,
            "justify_items": null,
            "left": null,
            "margin": null,
            "max_height": null,
            "max_width": null,
            "min_height": null,
            "min_width": null,
            "object_fit": null,
            "object_position": null,
            "order": null,
            "overflow": null,
            "overflow_x": null,
            "overflow_y": null,
            "padding": null,
            "right": null,
            "top": null,
            "visibility": null,
            "width": null
          }
        },
        "13ce05010ec3413586eaa1a9f9241603": {
          "model_module": "@jupyter-widgets/controls",
          "model_name": "ProgressStyleModel",
          "model_module_version": "1.5.0",
          "state": {
            "_model_module": "@jupyter-widgets/controls",
            "_model_module_version": "1.5.0",
            "_model_name": "ProgressStyleModel",
            "_view_count": null,
            "_view_module": "@jupyter-widgets/base",
            "_view_module_version": "1.2.0",
            "_view_name": "StyleView",
            "bar_color": null,
            "description_width": ""
          }
        },
        "01e56720689b44d9a6765b2d11e494c2": {
          "model_module": "@jupyter-widgets/base",
          "model_name": "LayoutModel",
          "model_module_version": "1.2.0",
          "state": {
            "_model_module": "@jupyter-widgets/base",
            "_model_module_version": "1.2.0",
            "_model_name": "LayoutModel",
            "_view_count": null,
            "_view_module": "@jupyter-widgets/base",
            "_view_module_version": "1.2.0",
            "_view_name": "LayoutView",
            "align_content": null,
            "align_items": null,
            "align_self": null,
            "border": null,
            "bottom": null,
            "display": null,
            "flex": null,
            "flex_flow": null,
            "grid_area": null,
            "grid_auto_columns": null,
            "grid_auto_flow": null,
            "grid_auto_rows": null,
            "grid_column": null,
            "grid_gap": null,
            "grid_row": null,
            "grid_template_areas": null,
            "grid_template_columns": null,
            "grid_template_rows": null,
            "height": null,
            "justify_content": null,
            "justify_items": null,
            "left": null,
            "margin": null,
            "max_height": null,
            "max_width": null,
            "min_height": null,
            "min_width": null,
            "object_fit": null,
            "object_position": null,
            "order": null,
            "overflow": null,
            "overflow_x": null,
            "overflow_y": null,
            "padding": null,
            "right": null,
            "top": null,
            "visibility": null,
            "width": null
          }
        },
        "6555295065344f2a97cb3dc933dded88": {
          "model_module": "@jupyter-widgets/controls",
          "model_name": "DescriptionStyleModel",
          "model_module_version": "1.5.0",
          "state": {
            "_model_module": "@jupyter-widgets/controls",
            "_model_module_version": "1.5.0",
            "_model_name": "DescriptionStyleModel",
            "_view_count": null,
            "_view_module": "@jupyter-widgets/base",
            "_view_module_version": "1.2.0",
            "_view_name": "StyleView",
            "description_width": ""
          }
        },
        "ac6c21e857434109a8c1b7f08cd6747f": {
          "model_module": "@jupyter-widgets/controls",
          "model_name": "HBoxModel",
          "model_module_version": "1.5.0",
          "state": {
            "_dom_classes": [],
            "_model_module": "@jupyter-widgets/controls",
            "_model_module_version": "1.5.0",
            "_model_name": "HBoxModel",
            "_view_count": null,
            "_view_module": "@jupyter-widgets/controls",
            "_view_module_version": "1.5.0",
            "_view_name": "HBoxView",
            "box_style": "",
            "children": [
              "IPY_MODEL_97676d4993c54858ab9b0a904855ad65",
              "IPY_MODEL_228b850d338949debaea195c6c3fcf24",
              "IPY_MODEL_a5daf11f9bc249b298f2a4f7db15252a"
            ],
            "layout": "IPY_MODEL_9df3933338f948c8a7e55a9444c697f1"
          }
        },
        "97676d4993c54858ab9b0a904855ad65": {
          "model_module": "@jupyter-widgets/controls",
          "model_name": "HTMLModel",
          "model_module_version": "1.5.0",
          "state": {
            "_dom_classes": [],
            "_model_module": "@jupyter-widgets/controls",
            "_model_module_version": "1.5.0",
            "_model_name": "HTMLModel",
            "_view_count": null,
            "_view_module": "@jupyter-widgets/controls",
            "_view_module_version": "1.5.0",
            "_view_name": "HTMLView",
            "description": "",
            "description_tooltip": null,
            "layout": "IPY_MODEL_185ac8dc1bbc4798b2aa3357d107b50a",
            "placeholder": "​",
            "style": "IPY_MODEL_7dcc861077ea435c818a57ee7461813a",
            "value": "tokenizer_config.json: 100%"
          }
        },
        "228b850d338949debaea195c6c3fcf24": {
          "model_module": "@jupyter-widgets/controls",
          "model_name": "FloatProgressModel",
          "model_module_version": "1.5.0",
          "state": {
            "_dom_classes": [],
            "_model_module": "@jupyter-widgets/controls",
            "_model_module_version": "1.5.0",
            "_model_name": "FloatProgressModel",
            "_view_count": null,
            "_view_module": "@jupyter-widgets/controls",
            "_view_module_version": "1.5.0",
            "_view_name": "ProgressView",
            "bar_style": "success",
            "description": "",
            "description_tooltip": null,
            "layout": "IPY_MODEL_31ca2da599f64bd08b57f1e6e546d28b",
            "max": 50560,
            "min": 0,
            "orientation": "horizontal",
            "style": "IPY_MODEL_f258b0267b7f4192945763fe3f9da2ef",
            "value": 50560
          }
        },
        "a5daf11f9bc249b298f2a4f7db15252a": {
          "model_module": "@jupyter-widgets/controls",
          "model_name": "HTMLModel",
          "model_module_version": "1.5.0",
          "state": {
            "_dom_classes": [],
            "_model_module": "@jupyter-widgets/controls",
            "_model_module_version": "1.5.0",
            "_model_name": "HTMLModel",
            "_view_count": null,
            "_view_module": "@jupyter-widgets/controls",
            "_view_module_version": "1.5.0",
            "_view_name": "HTMLView",
            "description": "",
            "description_tooltip": null,
            "layout": "IPY_MODEL_b5aa9a6b0bde4c77b31684d620dc8cff",
            "placeholder": "​",
            "style": "IPY_MODEL_c9a9184d2aa34442a0280247c16d09a2",
            "value": " 50.6k/50.6k [00:00&lt;00:00, 5.51MB/s]"
          }
        },
        "9df3933338f948c8a7e55a9444c697f1": {
          "model_module": "@jupyter-widgets/base",
          "model_name": "LayoutModel",
          "model_module_version": "1.2.0",
          "state": {
            "_model_module": "@jupyter-widgets/base",
            "_model_module_version": "1.2.0",
            "_model_name": "LayoutModel",
            "_view_count": null,
            "_view_module": "@jupyter-widgets/base",
            "_view_module_version": "1.2.0",
            "_view_name": "LayoutView",
            "align_content": null,
            "align_items": null,
            "align_self": null,
            "border": null,
            "bottom": null,
            "display": null,
            "flex": null,
            "flex_flow": null,
            "grid_area": null,
            "grid_auto_columns": null,
            "grid_auto_flow": null,
            "grid_auto_rows": null,
            "grid_column": null,
            "grid_gap": null,
            "grid_row": null,
            "grid_template_areas": null,
            "grid_template_columns": null,
            "grid_template_rows": null,
            "height": null,
            "justify_content": null,
            "justify_items": null,
            "left": null,
            "margin": null,
            "max_height": null,
            "max_width": null,
            "min_height": null,
            "min_width": null,
            "object_fit": null,
            "object_position": null,
            "order": null,
            "overflow": null,
            "overflow_x": null,
            "overflow_y": null,
            "padding": null,
            "right": null,
            "top": null,
            "visibility": null,
            "width": null
          }
        },
        "185ac8dc1bbc4798b2aa3357d107b50a": {
          "model_module": "@jupyter-widgets/base",
          "model_name": "LayoutModel",
          "model_module_version": "1.2.0",
          "state": {
            "_model_module": "@jupyter-widgets/base",
            "_model_module_version": "1.2.0",
            "_model_name": "LayoutModel",
            "_view_count": null,
            "_view_module": "@jupyter-widgets/base",
            "_view_module_version": "1.2.0",
            "_view_name": "LayoutView",
            "align_content": null,
            "align_items": null,
            "align_self": null,
            "border": null,
            "bottom": null,
            "display": null,
            "flex": null,
            "flex_flow": null,
            "grid_area": null,
            "grid_auto_columns": null,
            "grid_auto_flow": null,
            "grid_auto_rows": null,
            "grid_column": null,
            "grid_gap": null,
            "grid_row": null,
            "grid_template_areas": null,
            "grid_template_columns": null,
            "grid_template_rows": null,
            "height": null,
            "justify_content": null,
            "justify_items": null,
            "left": null,
            "margin": null,
            "max_height": null,
            "max_width": null,
            "min_height": null,
            "min_width": null,
            "object_fit": null,
            "object_position": null,
            "order": null,
            "overflow": null,
            "overflow_x": null,
            "overflow_y": null,
            "padding": null,
            "right": null,
            "top": null,
            "visibility": null,
            "width": null
          }
        },
        "7dcc861077ea435c818a57ee7461813a": {
          "model_module": "@jupyter-widgets/controls",
          "model_name": "DescriptionStyleModel",
          "model_module_version": "1.5.0",
          "state": {
            "_model_module": "@jupyter-widgets/controls",
            "_model_module_version": "1.5.0",
            "_model_name": "DescriptionStyleModel",
            "_view_count": null,
            "_view_module": "@jupyter-widgets/base",
            "_view_module_version": "1.2.0",
            "_view_name": "StyleView",
            "description_width": ""
          }
        },
        "31ca2da599f64bd08b57f1e6e546d28b": {
          "model_module": "@jupyter-widgets/base",
          "model_name": "LayoutModel",
          "model_module_version": "1.2.0",
          "state": {
            "_model_module": "@jupyter-widgets/base",
            "_model_module_version": "1.2.0",
            "_model_name": "LayoutModel",
            "_view_count": null,
            "_view_module": "@jupyter-widgets/base",
            "_view_module_version": "1.2.0",
            "_view_name": "LayoutView",
            "align_content": null,
            "align_items": null,
            "align_self": null,
            "border": null,
            "bottom": null,
            "display": null,
            "flex": null,
            "flex_flow": null,
            "grid_area": null,
            "grid_auto_columns": null,
            "grid_auto_flow": null,
            "grid_auto_rows": null,
            "grid_column": null,
            "grid_gap": null,
            "grid_row": null,
            "grid_template_areas": null,
            "grid_template_columns": null,
            "grid_template_rows": null,
            "height": null,
            "justify_content": null,
            "justify_items": null,
            "left": null,
            "margin": null,
            "max_height": null,
            "max_width": null,
            "min_height": null,
            "min_width": null,
            "object_fit": null,
            "object_position": null,
            "order": null,
            "overflow": null,
            "overflow_x": null,
            "overflow_y": null,
            "padding": null,
            "right": null,
            "top": null,
            "visibility": null,
            "width": null
          }
        },
        "f258b0267b7f4192945763fe3f9da2ef": {
          "model_module": "@jupyter-widgets/controls",
          "model_name": "ProgressStyleModel",
          "model_module_version": "1.5.0",
          "state": {
            "_model_module": "@jupyter-widgets/controls",
            "_model_module_version": "1.5.0",
            "_model_name": "ProgressStyleModel",
            "_view_count": null,
            "_view_module": "@jupyter-widgets/base",
            "_view_module_version": "1.2.0",
            "_view_name": "StyleView",
            "bar_color": null,
            "description_width": ""
          }
        },
        "b5aa9a6b0bde4c77b31684d620dc8cff": {
          "model_module": "@jupyter-widgets/base",
          "model_name": "LayoutModel",
          "model_module_version": "1.2.0",
          "state": {
            "_model_module": "@jupyter-widgets/base",
            "_model_module_version": "1.2.0",
            "_model_name": "LayoutModel",
            "_view_count": null,
            "_view_module": "@jupyter-widgets/base",
            "_view_module_version": "1.2.0",
            "_view_name": "LayoutView",
            "align_content": null,
            "align_items": null,
            "align_self": null,
            "border": null,
            "bottom": null,
            "display": null,
            "flex": null,
            "flex_flow": null,
            "grid_area": null,
            "grid_auto_columns": null,
            "grid_auto_flow": null,
            "grid_auto_rows": null,
            "grid_column": null,
            "grid_gap": null,
            "grid_row": null,
            "grid_template_areas": null,
            "grid_template_columns": null,
            "grid_template_rows": null,
            "height": null,
            "justify_content": null,
            "justify_items": null,
            "left": null,
            "margin": null,
            "max_height": null,
            "max_width": null,
            "min_height": null,
            "min_width": null,
            "object_fit": null,
            "object_position": null,
            "order": null,
            "overflow": null,
            "overflow_x": null,
            "overflow_y": null,
            "padding": null,
            "right": null,
            "top": null,
            "visibility": null,
            "width": null
          }
        },
        "c9a9184d2aa34442a0280247c16d09a2": {
          "model_module": "@jupyter-widgets/controls",
          "model_name": "DescriptionStyleModel",
          "model_module_version": "1.5.0",
          "state": {
            "_model_module": "@jupyter-widgets/controls",
            "_model_module_version": "1.5.0",
            "_model_name": "DescriptionStyleModel",
            "_view_count": null,
            "_view_module": "@jupyter-widgets/base",
            "_view_module_version": "1.2.0",
            "_view_name": "StyleView",
            "description_width": ""
          }
        },
        "1f24d14d8a444eb6b668551c51a51f91": {
          "model_module": "@jupyter-widgets/controls",
          "model_name": "HBoxModel",
          "model_module_version": "1.5.0",
          "state": {
            "_dom_classes": [],
            "_model_module": "@jupyter-widgets/controls",
            "_model_module_version": "1.5.0",
            "_model_name": "HBoxModel",
            "_view_count": null,
            "_view_module": "@jupyter-widgets/controls",
            "_view_module_version": "1.5.0",
            "_view_name": "HBoxView",
            "box_style": "",
            "children": [
              "IPY_MODEL_beb400dec7eb4c0ab3614eabf9ee5ffa",
              "IPY_MODEL_87e4c0f19bf7462dbeccb24265efdd28",
              "IPY_MODEL_ab9db950c4fa4eac87ad32c9130b458e"
            ],
            "layout": "IPY_MODEL_a7181d14ca66451a9e2ec93c472caf60"
          }
        },
        "beb400dec7eb4c0ab3614eabf9ee5ffa": {
          "model_module": "@jupyter-widgets/controls",
          "model_name": "HTMLModel",
          "model_module_version": "1.5.0",
          "state": {
            "_dom_classes": [],
            "_model_module": "@jupyter-widgets/controls",
            "_model_module_version": "1.5.0",
            "_model_name": "HTMLModel",
            "_view_count": null,
            "_view_module": "@jupyter-widgets/controls",
            "_view_module_version": "1.5.0",
            "_view_name": "HTMLView",
            "description": "",
            "description_tooltip": null,
            "layout": "IPY_MODEL_fffd465935e34729ab9726dc60e1fdd5",
            "placeholder": "​",
            "style": "IPY_MODEL_9a9b4f49387044f7b302308be277f590",
            "value": "tokenizer.json: 100%"
          }
        },
        "87e4c0f19bf7462dbeccb24265efdd28": {
          "model_module": "@jupyter-widgets/controls",
          "model_name": "FloatProgressModel",
          "model_module_version": "1.5.0",
          "state": {
            "_dom_classes": [],
            "_model_module": "@jupyter-widgets/controls",
            "_model_module_version": "1.5.0",
            "_model_name": "FloatProgressModel",
            "_view_count": null,
            "_view_module": "@jupyter-widgets/controls",
            "_view_module_version": "1.5.0",
            "_view_name": "ProgressView",
            "bar_style": "success",
            "description": "",
            "description_tooltip": null,
            "layout": "IPY_MODEL_f2cf984a278d4f689125f04b667fc0ff",
            "max": 17209920,
            "min": 0,
            "orientation": "horizontal",
            "style": "IPY_MODEL_8a3b9ce37ae349519bef43760edfcfea",
            "value": 17209920
          }
        },
        "ab9db950c4fa4eac87ad32c9130b458e": {
          "model_module": "@jupyter-widgets/controls",
          "model_name": "HTMLModel",
          "model_module_version": "1.5.0",
          "state": {
            "_dom_classes": [],
            "_model_module": "@jupyter-widgets/controls",
            "_model_module_version": "1.5.0",
            "_model_name": "HTMLModel",
            "_view_count": null,
            "_view_module": "@jupyter-widgets/controls",
            "_view_module_version": "1.5.0",
            "_view_name": "HTMLView",
            "description": "",
            "description_tooltip": null,
            "layout": "IPY_MODEL_d7b875a72c9c4a24b9e4ee1abf4b0188",
            "placeholder": "​",
            "style": "IPY_MODEL_02506512fa6e433aad076b072a66d75a",
            "value": " 17.2M/17.2M [00:00&lt;00:00, 46.5MB/s]"
          }
        },
        "a7181d14ca66451a9e2ec93c472caf60": {
          "model_module": "@jupyter-widgets/base",
          "model_name": "LayoutModel",
          "model_module_version": "1.2.0",
          "state": {
            "_model_module": "@jupyter-widgets/base",
            "_model_module_version": "1.2.0",
            "_model_name": "LayoutModel",
            "_view_count": null,
            "_view_module": "@jupyter-widgets/base",
            "_view_module_version": "1.2.0",
            "_view_name": "LayoutView",
            "align_content": null,
            "align_items": null,
            "align_self": null,
            "border": null,
            "bottom": null,
            "display": null,
            "flex": null,
            "flex_flow": null,
            "grid_area": null,
            "grid_auto_columns": null,
            "grid_auto_flow": null,
            "grid_auto_rows": null,
            "grid_column": null,
            "grid_gap": null,
            "grid_row": null,
            "grid_template_areas": null,
            "grid_template_columns": null,
            "grid_template_rows": null,
            "height": null,
            "justify_content": null,
            "justify_items": null,
            "left": null,
            "margin": null,
            "max_height": null,
            "max_width": null,
            "min_height": null,
            "min_width": null,
            "object_fit": null,
            "object_position": null,
            "order": null,
            "overflow": null,
            "overflow_x": null,
            "overflow_y": null,
            "padding": null,
            "right": null,
            "top": null,
            "visibility": null,
            "width": null
          }
        },
        "fffd465935e34729ab9726dc60e1fdd5": {
          "model_module": "@jupyter-widgets/base",
          "model_name": "LayoutModel",
          "model_module_version": "1.2.0",
          "state": {
            "_model_module": "@jupyter-widgets/base",
            "_model_module_version": "1.2.0",
            "_model_name": "LayoutModel",
            "_view_count": null,
            "_view_module": "@jupyter-widgets/base",
            "_view_module_version": "1.2.0",
            "_view_name": "LayoutView",
            "align_content": null,
            "align_items": null,
            "align_self": null,
            "border": null,
            "bottom": null,
            "display": null,
            "flex": null,
            "flex_flow": null,
            "grid_area": null,
            "grid_auto_columns": null,
            "grid_auto_flow": null,
            "grid_auto_rows": null,
            "grid_column": null,
            "grid_gap": null,
            "grid_row": null,
            "grid_template_areas": null,
            "grid_template_columns": null,
            "grid_template_rows": null,
            "height": null,
            "justify_content": null,
            "justify_items": null,
            "left": null,
            "margin": null,
            "max_height": null,
            "max_width": null,
            "min_height": null,
            "min_width": null,
            "object_fit": null,
            "object_position": null,
            "order": null,
            "overflow": null,
            "overflow_x": null,
            "overflow_y": null,
            "padding": null,
            "right": null,
            "top": null,
            "visibility": null,
            "width": null
          }
        },
        "9a9b4f49387044f7b302308be277f590": {
          "model_module": "@jupyter-widgets/controls",
          "model_name": "DescriptionStyleModel",
          "model_module_version": "1.5.0",
          "state": {
            "_model_module": "@jupyter-widgets/controls",
            "_model_module_version": "1.5.0",
            "_model_name": "DescriptionStyleModel",
            "_view_count": null,
            "_view_module": "@jupyter-widgets/base",
            "_view_module_version": "1.2.0",
            "_view_name": "StyleView",
            "description_width": ""
          }
        },
        "f2cf984a278d4f689125f04b667fc0ff": {
          "model_module": "@jupyter-widgets/base",
          "model_name": "LayoutModel",
          "model_module_version": "1.2.0",
          "state": {
            "_model_module": "@jupyter-widgets/base",
            "_model_module_version": "1.2.0",
            "_model_name": "LayoutModel",
            "_view_count": null,
            "_view_module": "@jupyter-widgets/base",
            "_view_module_version": "1.2.0",
            "_view_name": "LayoutView",
            "align_content": null,
            "align_items": null,
            "align_self": null,
            "border": null,
            "bottom": null,
            "display": null,
            "flex": null,
            "flex_flow": null,
            "grid_area": null,
            "grid_auto_columns": null,
            "grid_auto_flow": null,
            "grid_auto_rows": null,
            "grid_column": null,
            "grid_gap": null,
            "grid_row": null,
            "grid_template_areas": null,
            "grid_template_columns": null,
            "grid_template_rows": null,
            "height": null,
            "justify_content": null,
            "justify_items": null,
            "left": null,
            "margin": null,
            "max_height": null,
            "max_width": null,
            "min_height": null,
            "min_width": null,
            "object_fit": null,
            "object_position": null,
            "order": null,
            "overflow": null,
            "overflow_x": null,
            "overflow_y": null,
            "padding": null,
            "right": null,
            "top": null,
            "visibility": null,
            "width": null
          }
        },
        "8a3b9ce37ae349519bef43760edfcfea": {
          "model_module": "@jupyter-widgets/controls",
          "model_name": "ProgressStyleModel",
          "model_module_version": "1.5.0",
          "state": {
            "_model_module": "@jupyter-widgets/controls",
            "_model_module_version": "1.5.0",
            "_model_name": "ProgressStyleModel",
            "_view_count": null,
            "_view_module": "@jupyter-widgets/base",
            "_view_module_version": "1.2.0",
            "_view_name": "StyleView",
            "bar_color": null,
            "description_width": ""
          }
        },
        "d7b875a72c9c4a24b9e4ee1abf4b0188": {
          "model_module": "@jupyter-widgets/base",
          "model_name": "LayoutModel",
          "model_module_version": "1.2.0",
          "state": {
            "_model_module": "@jupyter-widgets/base",
            "_model_module_version": "1.2.0",
            "_model_name": "LayoutModel",
            "_view_count": null,
            "_view_module": "@jupyter-widgets/base",
            "_view_module_version": "1.2.0",
            "_view_name": "LayoutView",
            "align_content": null,
            "align_items": null,
            "align_self": null,
            "border": null,
            "bottom": null,
            "display": null,
            "flex": null,
            "flex_flow": null,
            "grid_area": null,
            "grid_auto_columns": null,
            "grid_auto_flow": null,
            "grid_auto_rows": null,
            "grid_column": null,
            "grid_gap": null,
            "grid_row": null,
            "grid_template_areas": null,
            "grid_template_columns": null,
            "grid_template_rows": null,
            "height": null,
            "justify_content": null,
            "justify_items": null,
            "left": null,
            "margin": null,
            "max_height": null,
            "max_width": null,
            "min_height": null,
            "min_width": null,
            "object_fit": null,
            "object_position": null,
            "order": null,
            "overflow": null,
            "overflow_x": null,
            "overflow_y": null,
            "padding": null,
            "right": null,
            "top": null,
            "visibility": null,
            "width": null
          }
        },
        "02506512fa6e433aad076b072a66d75a": {
          "model_module": "@jupyter-widgets/controls",
          "model_name": "DescriptionStyleModel",
          "model_module_version": "1.5.0",
          "state": {
            "_model_module": "@jupyter-widgets/controls",
            "_model_module_version": "1.5.0",
            "_model_name": "DescriptionStyleModel",
            "_view_count": null,
            "_view_module": "@jupyter-widgets/base",
            "_view_module_version": "1.2.0",
            "_view_name": "StyleView",
            "description_width": ""
          }
        },
        "c9f9a64f24b0420abaaac0f9e0630b67": {
          "model_module": "@jupyter-widgets/controls",
          "model_name": "HBoxModel",
          "model_module_version": "1.5.0",
          "state": {
            "_dom_classes": [],
            "_model_module": "@jupyter-widgets/controls",
            "_model_module_version": "1.5.0",
            "_model_name": "HBoxModel",
            "_view_count": null,
            "_view_module": "@jupyter-widgets/controls",
            "_view_module_version": "1.5.0",
            "_view_name": "HBoxView",
            "box_style": "",
            "children": [
              "IPY_MODEL_88826a37ade34608a4fe180bf3faeb5d",
              "IPY_MODEL_7e2d647f012f4f9897e7e97823f1e1fb",
              "IPY_MODEL_fe0c254bb25b4b1fbab8747e8ebb44d8"
            ],
            "layout": "IPY_MODEL_1ee1f14cb34f4c0b831aebd7c46b41e9"
          }
        },
        "88826a37ade34608a4fe180bf3faeb5d": {
          "model_module": "@jupyter-widgets/controls",
          "model_name": "HTMLModel",
          "model_module_version": "1.5.0",
          "state": {
            "_dom_classes": [],
            "_model_module": "@jupyter-widgets/controls",
            "_model_module_version": "1.5.0",
            "_model_name": "HTMLModel",
            "_view_count": null,
            "_view_module": "@jupyter-widgets/controls",
            "_view_module_version": "1.5.0",
            "_view_name": "HTMLView",
            "description": "",
            "description_tooltip": null,
            "layout": "IPY_MODEL_0a7f2ddc53c1445fb3bbae0ecd283e8f",
            "placeholder": "​",
            "style": "IPY_MODEL_3f2521a5b6a24c098f78556852dc17b8",
            "value": "special_tokens_map.json: 100%"
          }
        },
        "7e2d647f012f4f9897e7e97823f1e1fb": {
          "model_module": "@jupyter-widgets/controls",
          "model_name": "FloatProgressModel",
          "model_module_version": "1.5.0",
          "state": {
            "_dom_classes": [],
            "_model_module": "@jupyter-widgets/controls",
            "_model_module_version": "1.5.0",
            "_model_name": "FloatProgressModel",
            "_view_count": null,
            "_view_module": "@jupyter-widgets/controls",
            "_view_module_version": "1.5.0",
            "_view_name": "ProgressView",
            "bar_style": "success",
            "description": "",
            "description_tooltip": null,
            "layout": "IPY_MODEL_d4f6031d78d048c7825a2b2f9ef32615",
            "max": 335,
            "min": 0,
            "orientation": "horizontal",
            "style": "IPY_MODEL_5c913e511e9c4b7db96b0e0ee3721e58",
            "value": 335
          }
        },
        "fe0c254bb25b4b1fbab8747e8ebb44d8": {
          "model_module": "@jupyter-widgets/controls",
          "model_name": "HTMLModel",
          "model_module_version": "1.5.0",
          "state": {
            "_dom_classes": [],
            "_model_module": "@jupyter-widgets/controls",
            "_model_module_version": "1.5.0",
            "_model_name": "HTMLModel",
            "_view_count": null,
            "_view_module": "@jupyter-widgets/controls",
            "_view_module_version": "1.5.0",
            "_view_name": "HTMLView",
            "description": "",
            "description_tooltip": null,
            "layout": "IPY_MODEL_4accfb02ed304c6884e9e16debe76d11",
            "placeholder": "​",
            "style": "IPY_MODEL_97a005d71587470995ad44f0d3cf3220",
            "value": " 335/335 [00:00&lt;00:00, 40.9kB/s]"
          }
        },
        "1ee1f14cb34f4c0b831aebd7c46b41e9": {
          "model_module": "@jupyter-widgets/base",
          "model_name": "LayoutModel",
          "model_module_version": "1.2.0",
          "state": {
            "_model_module": "@jupyter-widgets/base",
            "_model_module_version": "1.2.0",
            "_model_name": "LayoutModel",
            "_view_count": null,
            "_view_module": "@jupyter-widgets/base",
            "_view_module_version": "1.2.0",
            "_view_name": "LayoutView",
            "align_content": null,
            "align_items": null,
            "align_self": null,
            "border": null,
            "bottom": null,
            "display": null,
            "flex": null,
            "flex_flow": null,
            "grid_area": null,
            "grid_auto_columns": null,
            "grid_auto_flow": null,
            "grid_auto_rows": null,
            "grid_column": null,
            "grid_gap": null,
            "grid_row": null,
            "grid_template_areas": null,
            "grid_template_columns": null,
            "grid_template_rows": null,
            "height": null,
            "justify_content": null,
            "justify_items": null,
            "left": null,
            "margin": null,
            "max_height": null,
            "max_width": null,
            "min_height": null,
            "min_width": null,
            "object_fit": null,
            "object_position": null,
            "order": null,
            "overflow": null,
            "overflow_x": null,
            "overflow_y": null,
            "padding": null,
            "right": null,
            "top": null,
            "visibility": null,
            "width": null
          }
        },
        "0a7f2ddc53c1445fb3bbae0ecd283e8f": {
          "model_module": "@jupyter-widgets/base",
          "model_name": "LayoutModel",
          "model_module_version": "1.2.0",
          "state": {
            "_model_module": "@jupyter-widgets/base",
            "_model_module_version": "1.2.0",
            "_model_name": "LayoutModel",
            "_view_count": null,
            "_view_module": "@jupyter-widgets/base",
            "_view_module_version": "1.2.0",
            "_view_name": "LayoutView",
            "align_content": null,
            "align_items": null,
            "align_self": null,
            "border": null,
            "bottom": null,
            "display": null,
            "flex": null,
            "flex_flow": null,
            "grid_area": null,
            "grid_auto_columns": null,
            "grid_auto_flow": null,
            "grid_auto_rows": null,
            "grid_column": null,
            "grid_gap": null,
            "grid_row": null,
            "grid_template_areas": null,
            "grid_template_columns": null,
            "grid_template_rows": null,
            "height": null,
            "justify_content": null,
            "justify_items": null,
            "left": null,
            "margin": null,
            "max_height": null,
            "max_width": null,
            "min_height": null,
            "min_width": null,
            "object_fit": null,
            "object_position": null,
            "order": null,
            "overflow": null,
            "overflow_x": null,
            "overflow_y": null,
            "padding": null,
            "right": null,
            "top": null,
            "visibility": null,
            "width": null
          }
        },
        "3f2521a5b6a24c098f78556852dc17b8": {
          "model_module": "@jupyter-widgets/controls",
          "model_name": "DescriptionStyleModel",
          "model_module_version": "1.5.0",
          "state": {
            "_model_module": "@jupyter-widgets/controls",
            "_model_module_version": "1.5.0",
            "_model_name": "DescriptionStyleModel",
            "_view_count": null,
            "_view_module": "@jupyter-widgets/base",
            "_view_module_version": "1.2.0",
            "_view_name": "StyleView",
            "description_width": ""
          }
        },
        "d4f6031d78d048c7825a2b2f9ef32615": {
          "model_module": "@jupyter-widgets/base",
          "model_name": "LayoutModel",
          "model_module_version": "1.2.0",
          "state": {
            "_model_module": "@jupyter-widgets/base",
            "_model_module_version": "1.2.0",
            "_model_name": "LayoutModel",
            "_view_count": null,
            "_view_module": "@jupyter-widgets/base",
            "_view_module_version": "1.2.0",
            "_view_name": "LayoutView",
            "align_content": null,
            "align_items": null,
            "align_self": null,
            "border": null,
            "bottom": null,
            "display": null,
            "flex": null,
            "flex_flow": null,
            "grid_area": null,
            "grid_auto_columns": null,
            "grid_auto_flow": null,
            "grid_auto_rows": null,
            "grid_column": null,
            "grid_gap": null,
            "grid_row": null,
            "grid_template_areas": null,
            "grid_template_columns": null,
            "grid_template_rows": null,
            "height": null,
            "justify_content": null,
            "justify_items": null,
            "left": null,
            "margin": null,
            "max_height": null,
            "max_width": null,
            "min_height": null,
            "min_width": null,
            "object_fit": null,
            "object_position": null,
            "order": null,
            "overflow": null,
            "overflow_x": null,
            "overflow_y": null,
            "padding": null,
            "right": null,
            "top": null,
            "visibility": null,
            "width": null
          }
        },
        "5c913e511e9c4b7db96b0e0ee3721e58": {
          "model_module": "@jupyter-widgets/controls",
          "model_name": "ProgressStyleModel",
          "model_module_version": "1.5.0",
          "state": {
            "_model_module": "@jupyter-widgets/controls",
            "_model_module_version": "1.5.0",
            "_model_name": "ProgressStyleModel",
            "_view_count": null,
            "_view_module": "@jupyter-widgets/base",
            "_view_module_version": "1.2.0",
            "_view_name": "StyleView",
            "bar_color": null,
            "description_width": ""
          }
        },
        "4accfb02ed304c6884e9e16debe76d11": {
          "model_module": "@jupyter-widgets/base",
          "model_name": "LayoutModel",
          "model_module_version": "1.2.0",
          "state": {
            "_model_module": "@jupyter-widgets/base",
            "_model_module_version": "1.2.0",
            "_model_name": "LayoutModel",
            "_view_count": null,
            "_view_module": "@jupyter-widgets/base",
            "_view_module_version": "1.2.0",
            "_view_name": "LayoutView",
            "align_content": null,
            "align_items": null,
            "align_self": null,
            "border": null,
            "bottom": null,
            "display": null,
            "flex": null,
            "flex_flow": null,
            "grid_area": null,
            "grid_auto_columns": null,
            "grid_auto_flow": null,
            "grid_auto_rows": null,
            "grid_column": null,
            "grid_gap": null,
            "grid_row": null,
            "grid_template_areas": null,
            "grid_template_columns": null,
            "grid_template_rows": null,
            "height": null,
            "justify_content": null,
            "justify_items": null,
            "left": null,
            "margin": null,
            "max_height": null,
            "max_width": null,
            "min_height": null,
            "min_width": null,
            "object_fit": null,
            "object_position": null,
            "order": null,
            "overflow": null,
            "overflow_x": null,
            "overflow_y": null,
            "padding": null,
            "right": null,
            "top": null,
            "visibility": null,
            "width": null
          }
        },
        "97a005d71587470995ad44f0d3cf3220": {
          "model_module": "@jupyter-widgets/controls",
          "model_name": "DescriptionStyleModel",
          "model_module_version": "1.5.0",
          "state": {
            "_model_module": "@jupyter-widgets/controls",
            "_model_module_version": "1.5.0",
            "_model_name": "DescriptionStyleModel",
            "_view_count": null,
            "_view_module": "@jupyter-widgets/base",
            "_view_module_version": "1.2.0",
            "_view_name": "StyleView",
            "description_width": ""
          }
        },
        "87e6c9d5037348928ff8c0c63058ec18": {
          "model_module": "@jupyter-widgets/controls",
          "model_name": "HBoxModel",
          "model_module_version": "1.5.0",
          "state": {
            "_dom_classes": [],
            "_model_module": "@jupyter-widgets/controls",
            "_model_module_version": "1.5.0",
            "_model_name": "HBoxModel",
            "_view_count": null,
            "_view_module": "@jupyter-widgets/controls",
            "_view_module_version": "1.5.0",
            "_view_name": "HBoxView",
            "box_style": "",
            "children": [
              "IPY_MODEL_c1bcb8c4699840fbb3e7c91551fb46eb",
              "IPY_MODEL_a464dec4fe6f4962b6f1c03fe7869d10",
              "IPY_MODEL_77f8c8f9852b43c19b54d895285410ef"
            ],
            "layout": "IPY_MODEL_c2841f77c7624960b28bd794ab6c6601"
          }
        },
        "c1bcb8c4699840fbb3e7c91551fb46eb": {
          "model_module": "@jupyter-widgets/controls",
          "model_name": "HTMLModel",
          "model_module_version": "1.5.0",
          "state": {
            "_dom_classes": [],
            "_model_module": "@jupyter-widgets/controls",
            "_model_module_version": "1.5.0",
            "_model_name": "HTMLModel",
            "_view_count": null,
            "_view_module": "@jupyter-widgets/controls",
            "_view_module_version": "1.5.0",
            "_view_name": "HTMLView",
            "description": "",
            "description_tooltip": null,
            "layout": "IPY_MODEL_b75325f29c7f496db42b8b0d064e4546",
            "placeholder": "​",
            "style": "IPY_MODEL_0435b9f89aa645aa80dbca6c26e2be20",
            "value": "model.safetensors: 100%"
          }
        },
        "a464dec4fe6f4962b6f1c03fe7869d10": {
          "model_module": "@jupyter-widgets/controls",
          "model_name": "FloatProgressModel",
          "model_module_version": "1.5.0",
          "state": {
            "_dom_classes": [],
            "_model_module": "@jupyter-widgets/controls",
            "_model_module_version": "1.5.0",
            "_model_name": "FloatProgressModel",
            "_view_count": null,
            "_view_module": "@jupyter-widgets/controls",
            "_view_module_version": "1.5.0",
            "_view_name": "ProgressView",
            "bar_style": "danger",
            "description": "",
            "description_tooltip": null,
            "layout": "IPY_MODEL_86098f66ae7f40988d8e8713159c91d8",
            "max": 2471645608,
            "min": 0,
            "orientation": "horizontal",
            "style": "IPY_MODEL_10b666698a414c4ba3afcee34d2162b3",
            "value": 2471645373
          }
        },
        "77f8c8f9852b43c19b54d895285410ef": {
          "model_module": "@jupyter-widgets/controls",
          "model_name": "HTMLModel",
          "model_module_version": "1.5.0",
          "state": {
            "_dom_classes": [],
            "_model_module": "@jupyter-widgets/controls",
            "_model_module_version": "1.5.0",
            "_model_name": "HTMLModel",
            "_view_count": null,
            "_view_module": "@jupyter-widgets/controls",
            "_view_module_version": "1.5.0",
            "_view_name": "HTMLView",
            "description": "",
            "description_tooltip": null,
            "layout": "IPY_MODEL_fc750c1476494974b73a9e7dba9f443d",
            "placeholder": "​",
            "style": "IPY_MODEL_cc2d063497a74fbea251cece9190b8e0",
            "value": " 2.47G/2.47G [00:07&lt;00:00, 1.15GB/s]"
          }
        },
        "c2841f77c7624960b28bd794ab6c6601": {
          "model_module": "@jupyter-widgets/base",
          "model_name": "LayoutModel",
          "model_module_version": "1.2.0",
          "state": {
            "_model_module": "@jupyter-widgets/base",
            "_model_module_version": "1.2.0",
            "_model_name": "LayoutModel",
            "_view_count": null,
            "_view_module": "@jupyter-widgets/base",
            "_view_module_version": "1.2.0",
            "_view_name": "LayoutView",
            "align_content": null,
            "align_items": null,
            "align_self": null,
            "border": null,
            "bottom": null,
            "display": null,
            "flex": null,
            "flex_flow": null,
            "grid_area": null,
            "grid_auto_columns": null,
            "grid_auto_flow": null,
            "grid_auto_rows": null,
            "grid_column": null,
            "grid_gap": null,
            "grid_row": null,
            "grid_template_areas": null,
            "grid_template_columns": null,
            "grid_template_rows": null,
            "height": null,
            "justify_content": null,
            "justify_items": null,
            "left": null,
            "margin": null,
            "max_height": null,
            "max_width": null,
            "min_height": null,
            "min_width": null,
            "object_fit": null,
            "object_position": null,
            "order": null,
            "overflow": null,
            "overflow_x": null,
            "overflow_y": null,
            "padding": null,
            "right": null,
            "top": null,
            "visibility": null,
            "width": null
          }
        },
        "b75325f29c7f496db42b8b0d064e4546": {
          "model_module": "@jupyter-widgets/base",
          "model_name": "LayoutModel",
          "model_module_version": "1.2.0",
          "state": {
            "_model_module": "@jupyter-widgets/base",
            "_model_module_version": "1.2.0",
            "_model_name": "LayoutModel",
            "_view_count": null,
            "_view_module": "@jupyter-widgets/base",
            "_view_module_version": "1.2.0",
            "_view_name": "LayoutView",
            "align_content": null,
            "align_items": null,
            "align_self": null,
            "border": null,
            "bottom": null,
            "display": null,
            "flex": null,
            "flex_flow": null,
            "grid_area": null,
            "grid_auto_columns": null,
            "grid_auto_flow": null,
            "grid_auto_rows": null,
            "grid_column": null,
            "grid_gap": null,
            "grid_row": null,
            "grid_template_areas": null,
            "grid_template_columns": null,
            "grid_template_rows": null,
            "height": null,
            "justify_content": null,
            "justify_items": null,
            "left": null,
            "margin": null,
            "max_height": null,
            "max_width": null,
            "min_height": null,
            "min_width": null,
            "object_fit": null,
            "object_position": null,
            "order": null,
            "overflow": null,
            "overflow_x": null,
            "overflow_y": null,
            "padding": null,
            "right": null,
            "top": null,
            "visibility": null,
            "width": null
          }
        },
        "0435b9f89aa645aa80dbca6c26e2be20": {
          "model_module": "@jupyter-widgets/controls",
          "model_name": "DescriptionStyleModel",
          "model_module_version": "1.5.0",
          "state": {
            "_model_module": "@jupyter-widgets/controls",
            "_model_module_version": "1.5.0",
            "_model_name": "DescriptionStyleModel",
            "_view_count": null,
            "_view_module": "@jupyter-widgets/base",
            "_view_module_version": "1.2.0",
            "_view_name": "StyleView",
            "description_width": ""
          }
        },
        "86098f66ae7f40988d8e8713159c91d8": {
          "model_module": "@jupyter-widgets/base",
          "model_name": "LayoutModel",
          "model_module_version": "1.2.0",
          "state": {
            "_model_module": "@jupyter-widgets/base",
            "_model_module_version": "1.2.0",
            "_model_name": "LayoutModel",
            "_view_count": null,
            "_view_module": "@jupyter-widgets/base",
            "_view_module_version": "1.2.0",
            "_view_name": "LayoutView",
            "align_content": null,
            "align_items": null,
            "align_self": null,
            "border": null,
            "bottom": null,
            "display": null,
            "flex": null,
            "flex_flow": null,
            "grid_area": null,
            "grid_auto_columns": null,
            "grid_auto_flow": null,
            "grid_auto_rows": null,
            "grid_column": null,
            "grid_gap": null,
            "grid_row": null,
            "grid_template_areas": null,
            "grid_template_columns": null,
            "grid_template_rows": null,
            "height": null,
            "justify_content": null,
            "justify_items": null,
            "left": null,
            "margin": null,
            "max_height": null,
            "max_width": null,
            "min_height": null,
            "min_width": null,
            "object_fit": null,
            "object_position": null,
            "order": null,
            "overflow": null,
            "overflow_x": null,
            "overflow_y": null,
            "padding": null,
            "right": null,
            "top": null,
            "visibility": null,
            "width": null
          }
        },
        "10b666698a414c4ba3afcee34d2162b3": {
          "model_module": "@jupyter-widgets/controls",
          "model_name": "ProgressStyleModel",
          "model_module_version": "1.5.0",
          "state": {
            "_model_module": "@jupyter-widgets/controls",
            "_model_module_version": "1.5.0",
            "_model_name": "ProgressStyleModel",
            "_view_count": null,
            "_view_module": "@jupyter-widgets/base",
            "_view_module_version": "1.2.0",
            "_view_name": "StyleView",
            "bar_color": null,
            "description_width": ""
          }
        },
        "fc750c1476494974b73a9e7dba9f443d": {
          "model_module": "@jupyter-widgets/base",
          "model_name": "LayoutModel",
          "model_module_version": "1.2.0",
          "state": {
            "_model_module": "@jupyter-widgets/base",
            "_model_module_version": "1.2.0",
            "_model_name": "LayoutModel",
            "_view_count": null,
            "_view_module": "@jupyter-widgets/base",
            "_view_module_version": "1.2.0",
            "_view_name": "LayoutView",
            "align_content": null,
            "align_items": null,
            "align_self": null,
            "border": null,
            "bottom": null,
            "display": null,
            "flex": null,
            "flex_flow": null,
            "grid_area": null,
            "grid_auto_columns": null,
            "grid_auto_flow": null,
            "grid_auto_rows": null,
            "grid_column": null,
            "grid_gap": null,
            "grid_row": null,
            "grid_template_areas": null,
            "grid_template_columns": null,
            "grid_template_rows": null,
            "height": null,
            "justify_content": null,
            "justify_items": null,
            "left": null,
            "margin": null,
            "max_height": null,
            "max_width": null,
            "min_height": null,
            "min_width": null,
            "object_fit": null,
            "object_position": null,
            "order": null,
            "overflow": null,
            "overflow_x": null,
            "overflow_y": null,
            "padding": null,
            "right": null,
            "top": null,
            "visibility": null,
            "width": null
          }
        },
        "cc2d063497a74fbea251cece9190b8e0": {
          "model_module": "@jupyter-widgets/controls",
          "model_name": "DescriptionStyleModel",
          "model_module_version": "1.5.0",
          "state": {
            "_model_module": "@jupyter-widgets/controls",
            "_model_module_version": "1.5.0",
            "_model_name": "DescriptionStyleModel",
            "_view_count": null,
            "_view_module": "@jupyter-widgets/base",
            "_view_module_version": "1.2.0",
            "_view_name": "StyleView",
            "description_width": ""
          }
        },
        "28b78f087d9e426badc4ee71b3ac875d": {
          "model_module": "@jupyter-widgets/controls",
          "model_name": "HBoxModel",
          "model_module_version": "1.5.0",
          "state": {
            "_dom_classes": [],
            "_model_module": "@jupyter-widgets/controls",
            "_model_module_version": "1.5.0",
            "_model_name": "HBoxModel",
            "_view_count": null,
            "_view_module": "@jupyter-widgets/controls",
            "_view_module_version": "1.5.0",
            "_view_name": "HBoxView",
            "box_style": "",
            "children": [
              "IPY_MODEL_62292fb8089b44da806d31591262b231",
              "IPY_MODEL_ca30cabcf9f74aafad5870e7a3c8e3d7",
              "IPY_MODEL_fa6f4b8f63a24c619e769aa3ea954915"
            ],
            "layout": "IPY_MODEL_024398ae84104126ad6911088c72725a"
          }
        },
        "62292fb8089b44da806d31591262b231": {
          "model_module": "@jupyter-widgets/controls",
          "model_name": "HTMLModel",
          "model_module_version": "1.5.0",
          "state": {
            "_dom_classes": [],
            "_model_module": "@jupyter-widgets/controls",
            "_model_module_version": "1.5.0",
            "_model_name": "HTMLModel",
            "_view_count": null,
            "_view_module": "@jupyter-widgets/controls",
            "_view_module_version": "1.5.0",
            "_view_name": "HTMLView",
            "description": "",
            "description_tooltip": null,
            "layout": "IPY_MODEL_5fb02878011e487ca96e198c1bdf06ec",
            "placeholder": "​",
            "style": "IPY_MODEL_1422e673130648f78d941b18870fc691",
            "value": "generation_config.json: 100%"
          }
        },
        "ca30cabcf9f74aafad5870e7a3c8e3d7": {
          "model_module": "@jupyter-widgets/controls",
          "model_name": "FloatProgressModel",
          "model_module_version": "1.5.0",
          "state": {
            "_dom_classes": [],
            "_model_module": "@jupyter-widgets/controls",
            "_model_module_version": "1.5.0",
            "_model_name": "FloatProgressModel",
            "_view_count": null,
            "_view_module": "@jupyter-widgets/controls",
            "_view_module_version": "1.5.0",
            "_view_name": "ProgressView",
            "bar_style": "success",
            "description": "",
            "description_tooltip": null,
            "layout": "IPY_MODEL_004a45af1872483fb589d27b19319c1a",
            "max": 180,
            "min": 0,
            "orientation": "horizontal",
            "style": "IPY_MODEL_e99e9bed42334523907d69e6384ef52a",
            "value": 180
          }
        },
        "fa6f4b8f63a24c619e769aa3ea954915": {
          "model_module": "@jupyter-widgets/controls",
          "model_name": "HTMLModel",
          "model_module_version": "1.5.0",
          "state": {
            "_dom_classes": [],
            "_model_module": "@jupyter-widgets/controls",
            "_model_module_version": "1.5.0",
            "_model_name": "HTMLModel",
            "_view_count": null,
            "_view_module": "@jupyter-widgets/controls",
            "_view_module_version": "1.5.0",
            "_view_name": "HTMLView",
            "description": "",
            "description_tooltip": null,
            "layout": "IPY_MODEL_2cefdb4020f042d487e105ae344a1f6b",
            "placeholder": "​",
            "style": "IPY_MODEL_30032b503df643dcac3631bc0050a445",
            "value": " 180/180 [00:00&lt;00:00, 23.0kB/s]"
          }
        },
        "024398ae84104126ad6911088c72725a": {
          "model_module": "@jupyter-widgets/base",
          "model_name": "LayoutModel",
          "model_module_version": "1.2.0",
          "state": {
            "_model_module": "@jupyter-widgets/base",
            "_model_module_version": "1.2.0",
            "_model_name": "LayoutModel",
            "_view_count": null,
            "_view_module": "@jupyter-widgets/base",
            "_view_module_version": "1.2.0",
            "_view_name": "LayoutView",
            "align_content": null,
            "align_items": null,
            "align_self": null,
            "border": null,
            "bottom": null,
            "display": null,
            "flex": null,
            "flex_flow": null,
            "grid_area": null,
            "grid_auto_columns": null,
            "grid_auto_flow": null,
            "grid_auto_rows": null,
            "grid_column": null,
            "grid_gap": null,
            "grid_row": null,
            "grid_template_areas": null,
            "grid_template_columns": null,
            "grid_template_rows": null,
            "height": null,
            "justify_content": null,
            "justify_items": null,
            "left": null,
            "margin": null,
            "max_height": null,
            "max_width": null,
            "min_height": null,
            "min_width": null,
            "object_fit": null,
            "object_position": null,
            "order": null,
            "overflow": null,
            "overflow_x": null,
            "overflow_y": null,
            "padding": null,
            "right": null,
            "top": null,
            "visibility": null,
            "width": null
          }
        },
        "5fb02878011e487ca96e198c1bdf06ec": {
          "model_module": "@jupyter-widgets/base",
          "model_name": "LayoutModel",
          "model_module_version": "1.2.0",
          "state": {
            "_model_module": "@jupyter-widgets/base",
            "_model_module_version": "1.2.0",
            "_model_name": "LayoutModel",
            "_view_count": null,
            "_view_module": "@jupyter-widgets/base",
            "_view_module_version": "1.2.0",
            "_view_name": "LayoutView",
            "align_content": null,
            "align_items": null,
            "align_self": null,
            "border": null,
            "bottom": null,
            "display": null,
            "flex": null,
            "flex_flow": null,
            "grid_area": null,
            "grid_auto_columns": null,
            "grid_auto_flow": null,
            "grid_auto_rows": null,
            "grid_column": null,
            "grid_gap": null,
            "grid_row": null,
            "grid_template_areas": null,
            "grid_template_columns": null,
            "grid_template_rows": null,
            "height": null,
            "justify_content": null,
            "justify_items": null,
            "left": null,
            "margin": null,
            "max_height": null,
            "max_width": null,
            "min_height": null,
            "min_width": null,
            "object_fit": null,
            "object_position": null,
            "order": null,
            "overflow": null,
            "overflow_x": null,
            "overflow_y": null,
            "padding": null,
            "right": null,
            "top": null,
            "visibility": null,
            "width": null
          }
        },
        "1422e673130648f78d941b18870fc691": {
          "model_module": "@jupyter-widgets/controls",
          "model_name": "DescriptionStyleModel",
          "model_module_version": "1.5.0",
          "state": {
            "_model_module": "@jupyter-widgets/controls",
            "_model_module_version": "1.5.0",
            "_model_name": "DescriptionStyleModel",
            "_view_count": null,
            "_view_module": "@jupyter-widgets/base",
            "_view_module_version": "1.2.0",
            "_view_name": "StyleView",
            "description_width": ""
          }
        },
        "004a45af1872483fb589d27b19319c1a": {
          "model_module": "@jupyter-widgets/base",
          "model_name": "LayoutModel",
          "model_module_version": "1.2.0",
          "state": {
            "_model_module": "@jupyter-widgets/base",
            "_model_module_version": "1.2.0",
            "_model_name": "LayoutModel",
            "_view_count": null,
            "_view_module": "@jupyter-widgets/base",
            "_view_module_version": "1.2.0",
            "_view_name": "LayoutView",
            "align_content": null,
            "align_items": null,
            "align_self": null,
            "border": null,
            "bottom": null,
            "display": null,
            "flex": null,
            "flex_flow": null,
            "grid_area": null,
            "grid_auto_columns": null,
            "grid_auto_flow": null,
            "grid_auto_rows": null,
            "grid_column": null,
            "grid_gap": null,
            "grid_row": null,
            "grid_template_areas": null,
            "grid_template_columns": null,
            "grid_template_rows": null,
            "height": null,
            "justify_content": null,
            "justify_items": null,
            "left": null,
            "margin": null,
            "max_height": null,
            "max_width": null,
            "min_height": null,
            "min_width": null,
            "object_fit": null,
            "object_position": null,
            "order": null,
            "overflow": null,
            "overflow_x": null,
            "overflow_y": null,
            "padding": null,
            "right": null,
            "top": null,
            "visibility": null,
            "width": null
          }
        },
        "e99e9bed42334523907d69e6384ef52a": {
          "model_module": "@jupyter-widgets/controls",
          "model_name": "ProgressStyleModel",
          "model_module_version": "1.5.0",
          "state": {
            "_model_module": "@jupyter-widgets/controls",
            "_model_module_version": "1.5.0",
            "_model_name": "ProgressStyleModel",
            "_view_count": null,
            "_view_module": "@jupyter-widgets/base",
            "_view_module_version": "1.2.0",
            "_view_name": "StyleView",
            "bar_color": null,
            "description_width": ""
          }
        },
        "2cefdb4020f042d487e105ae344a1f6b": {
          "model_module": "@jupyter-widgets/base",
          "model_name": "LayoutModel",
          "model_module_version": "1.2.0",
          "state": {
            "_model_module": "@jupyter-widgets/base",
            "_model_module_version": "1.2.0",
            "_model_name": "LayoutModel",
            "_view_count": null,
            "_view_module": "@jupyter-widgets/base",
            "_view_module_version": "1.2.0",
            "_view_name": "LayoutView",
            "align_content": null,
            "align_items": null,
            "align_self": null,
            "border": null,
            "bottom": null,
            "display": null,
            "flex": null,
            "flex_flow": null,
            "grid_area": null,
            "grid_auto_columns": null,
            "grid_auto_flow": null,
            "grid_auto_rows": null,
            "grid_column": null,
            "grid_gap": null,
            "grid_row": null,
            "grid_template_areas": null,
            "grid_template_columns": null,
            "grid_template_rows": null,
            "height": null,
            "justify_content": null,
            "justify_items": null,
            "left": null,
            "margin": null,
            "max_height": null,
            "max_width": null,
            "min_height": null,
            "min_width": null,
            "object_fit": null,
            "object_position": null,
            "order": null,
            "overflow": null,
            "overflow_x": null,
            "overflow_y": null,
            "padding": null,
            "right": null,
            "top": null,
            "visibility": null,
            "width": null
          }
        },
        "30032b503df643dcac3631bc0050a445": {
          "model_module": "@jupyter-widgets/controls",
          "model_name": "DescriptionStyleModel",
          "model_module_version": "1.5.0",
          "state": {
            "_model_module": "@jupyter-widgets/controls",
            "_model_module_version": "1.5.0",
            "_model_name": "DescriptionStyleModel",
            "_view_count": null,
            "_view_module": "@jupyter-widgets/base",
            "_view_module_version": "1.2.0",
            "_view_name": "StyleView",
            "description_width": ""
          }
        },
        "f60bd1455c7d4a2a87d09d8c923a004d": {
          "model_module": "@jupyter-widgets/controls",
          "model_name": "HBoxModel",
          "model_module_version": "1.5.0",
          "state": {
            "_dom_classes": [],
            "_model_module": "@jupyter-widgets/controls",
            "_model_module_version": "1.5.0",
            "_model_name": "HBoxModel",
            "_view_count": null,
            "_view_module": "@jupyter-widgets/controls",
            "_view_module_version": "1.5.0",
            "_view_name": "HBoxView",
            "box_style": "",
            "children": [
              "IPY_MODEL_32fb463c21f7455bb79c8204ea8f0786",
              "IPY_MODEL_98111c3debce459e851161caa872dc79",
              "IPY_MODEL_37abaa723d534bb3abe0bb243fe0920b"
            ],
            "layout": "IPY_MODEL_ab8656becad047e79153bfb8de46750e"
          }
        },
        "32fb463c21f7455bb79c8204ea8f0786": {
          "model_module": "@jupyter-widgets/controls",
          "model_name": "HTMLModel",
          "model_module_version": "1.5.0",
          "state": {
            "_dom_classes": [],
            "_model_module": "@jupyter-widgets/controls",
            "_model_module_version": "1.5.0",
            "_model_name": "HTMLModel",
            "_view_count": null,
            "_view_module": "@jupyter-widgets/controls",
            "_view_module_version": "1.5.0",
            "_view_name": "HTMLView",
            "description": "",
            "description_tooltip": null,
            "layout": "IPY_MODEL_60648081cded419393e81421dad14516",
            "placeholder": "​",
            "style": "IPY_MODEL_4eabde02bad64e2b98f38378e1a7d440",
            "value": "README.md: 100%"
          }
        },
        "98111c3debce459e851161caa872dc79": {
          "model_module": "@jupyter-widgets/controls",
          "model_name": "FloatProgressModel",
          "model_module_version": "1.5.0",
          "state": {
            "_dom_classes": [],
            "_model_module": "@jupyter-widgets/controls",
            "_model_module_version": "1.5.0",
            "_model_name": "FloatProgressModel",
            "_view_count": null,
            "_view_module": "@jupyter-widgets/controls",
            "_view_module_version": "1.5.0",
            "_view_name": "ProgressView",
            "bar_style": "success",
            "description": "",
            "description_tooltip": null,
            "layout": "IPY_MODEL_282cf5eaf0c94904b54af4870912bfe7",
            "max": 4987,
            "min": 0,
            "orientation": "horizontal",
            "style": "IPY_MODEL_178141c9ff3e4c61b109429935648918",
            "value": 4987
          }
        },
        "37abaa723d534bb3abe0bb243fe0920b": {
          "model_module": "@jupyter-widgets/controls",
          "model_name": "HTMLModel",
          "model_module_version": "1.5.0",
          "state": {
            "_dom_classes": [],
            "_model_module": "@jupyter-widgets/controls",
            "_model_module_version": "1.5.0",
            "_model_name": "HTMLModel",
            "_view_count": null,
            "_view_module": "@jupyter-widgets/controls",
            "_view_module_version": "1.5.0",
            "_view_name": "HTMLView",
            "description": "",
            "description_tooltip": null,
            "layout": "IPY_MODEL_5153e9db792c420cbe0f624b5aa46e65",
            "placeholder": "​",
            "style": "IPY_MODEL_a40cdadc9df84b3aa776f707db499425",
            "value": " 4.99k/4.99k [00:00&lt;00:00, 549kB/s]"
          }
        },
        "ab8656becad047e79153bfb8de46750e": {
          "model_module": "@jupyter-widgets/base",
          "model_name": "LayoutModel",
          "model_module_version": "1.2.0",
          "state": {
            "_model_module": "@jupyter-widgets/base",
            "_model_module_version": "1.2.0",
            "_model_name": "LayoutModel",
            "_view_count": null,
            "_view_module": "@jupyter-widgets/base",
            "_view_module_version": "1.2.0",
            "_view_name": "LayoutView",
            "align_content": null,
            "align_items": null,
            "align_self": null,
            "border": null,
            "bottom": null,
            "display": null,
            "flex": null,
            "flex_flow": null,
            "grid_area": null,
            "grid_auto_columns": null,
            "grid_auto_flow": null,
            "grid_auto_rows": null,
            "grid_column": null,
            "grid_gap": null,
            "grid_row": null,
            "grid_template_areas": null,
            "grid_template_columns": null,
            "grid_template_rows": null,
            "height": null,
            "justify_content": null,
            "justify_items": null,
            "left": null,
            "margin": null,
            "max_height": null,
            "max_width": null,
            "min_height": null,
            "min_width": null,
            "object_fit": null,
            "object_position": null,
            "order": null,
            "overflow": null,
            "overflow_x": null,
            "overflow_y": null,
            "padding": null,
            "right": null,
            "top": null,
            "visibility": null,
            "width": null
          }
        },
        "60648081cded419393e81421dad14516": {
          "model_module": "@jupyter-widgets/base",
          "model_name": "LayoutModel",
          "model_module_version": "1.2.0",
          "state": {
            "_model_module": "@jupyter-widgets/base",
            "_model_module_version": "1.2.0",
            "_model_name": "LayoutModel",
            "_view_count": null,
            "_view_module": "@jupyter-widgets/base",
            "_view_module_version": "1.2.0",
            "_view_name": "LayoutView",
            "align_content": null,
            "align_items": null,
            "align_self": null,
            "border": null,
            "bottom": null,
            "display": null,
            "flex": null,
            "flex_flow": null,
            "grid_area": null,
            "grid_auto_columns": null,
            "grid_auto_flow": null,
            "grid_auto_rows": null,
            "grid_column": null,
            "grid_gap": null,
            "grid_row": null,
            "grid_template_areas": null,
            "grid_template_columns": null,
            "grid_template_rows": null,
            "height": null,
            "justify_content": null,
            "justify_items": null,
            "left": null,
            "margin": null,
            "max_height": null,
            "max_width": null,
            "min_height": null,
            "min_width": null,
            "object_fit": null,
            "object_position": null,
            "order": null,
            "overflow": null,
            "overflow_x": null,
            "overflow_y": null,
            "padding": null,
            "right": null,
            "top": null,
            "visibility": null,
            "width": null
          }
        },
        "4eabde02bad64e2b98f38378e1a7d440": {
          "model_module": "@jupyter-widgets/controls",
          "model_name": "DescriptionStyleModel",
          "model_module_version": "1.5.0",
          "state": {
            "_model_module": "@jupyter-widgets/controls",
            "_model_module_version": "1.5.0",
            "_model_name": "DescriptionStyleModel",
            "_view_count": null,
            "_view_module": "@jupyter-widgets/base",
            "_view_module_version": "1.2.0",
            "_view_name": "StyleView",
            "description_width": ""
          }
        },
        "282cf5eaf0c94904b54af4870912bfe7": {
          "model_module": "@jupyter-widgets/base",
          "model_name": "LayoutModel",
          "model_module_version": "1.2.0",
          "state": {
            "_model_module": "@jupyter-widgets/base",
            "_model_module_version": "1.2.0",
            "_model_name": "LayoutModel",
            "_view_count": null,
            "_view_module": "@jupyter-widgets/base",
            "_view_module_version": "1.2.0",
            "_view_name": "LayoutView",
            "align_content": null,
            "align_items": null,
            "align_self": null,
            "border": null,
            "bottom": null,
            "display": null,
            "flex": null,
            "flex_flow": null,
            "grid_area": null,
            "grid_auto_columns": null,
            "grid_auto_flow": null,
            "grid_auto_rows": null,
            "grid_column": null,
            "grid_gap": null,
            "grid_row": null,
            "grid_template_areas": null,
            "grid_template_columns": null,
            "grid_template_rows": null,
            "height": null,
            "justify_content": null,
            "justify_items": null,
            "left": null,
            "margin": null,
            "max_height": null,
            "max_width": null,
            "min_height": null,
            "min_width": null,
            "object_fit": null,
            "object_position": null,
            "order": null,
            "overflow": null,
            "overflow_x": null,
            "overflow_y": null,
            "padding": null,
            "right": null,
            "top": null,
            "visibility": null,
            "width": null
          }
        },
        "178141c9ff3e4c61b109429935648918": {
          "model_module": "@jupyter-widgets/controls",
          "model_name": "ProgressStyleModel",
          "model_module_version": "1.5.0",
          "state": {
            "_model_module": "@jupyter-widgets/controls",
            "_model_module_version": "1.5.0",
            "_model_name": "ProgressStyleModel",
            "_view_count": null,
            "_view_module": "@jupyter-widgets/base",
            "_view_module_version": "1.2.0",
            "_view_name": "StyleView",
            "bar_color": null,
            "description_width": ""
          }
        },
        "5153e9db792c420cbe0f624b5aa46e65": {
          "model_module": "@jupyter-widgets/base",
          "model_name": "LayoutModel",
          "model_module_version": "1.2.0",
          "state": {
            "_model_module": "@jupyter-widgets/base",
            "_model_module_version": "1.2.0",
            "_model_name": "LayoutModel",
            "_view_count": null,
            "_view_module": "@jupyter-widgets/base",
            "_view_module_version": "1.2.0",
            "_view_name": "LayoutView",
            "align_content": null,
            "align_items": null,
            "align_self": null,
            "border": null,
            "bottom": null,
            "display": null,
            "flex": null,
            "flex_flow": null,
            "grid_area": null,
            "grid_auto_columns": null,
            "grid_auto_flow": null,
            "grid_auto_rows": null,
            "grid_column": null,
            "grid_gap": null,
            "grid_row": null,
            "grid_template_areas": null,
            "grid_template_columns": null,
            "grid_template_rows": null,
            "height": null,
            "justify_content": null,
            "justify_items": null,
            "left": null,
            "margin": null,
            "max_height": null,
            "max_width": null,
            "min_height": null,
            "min_width": null,
            "object_fit": null,
            "object_position": null,
            "order": null,
            "overflow": null,
            "overflow_x": null,
            "overflow_y": null,
            "padding": null,
            "right": null,
            "top": null,
            "visibility": null,
            "width": null
          }
        },
        "a40cdadc9df84b3aa776f707db499425": {
          "model_module": "@jupyter-widgets/controls",
          "model_name": "DescriptionStyleModel",
          "model_module_version": "1.5.0",
          "state": {
            "_model_module": "@jupyter-widgets/controls",
            "_model_module_version": "1.5.0",
            "_model_name": "DescriptionStyleModel",
            "_view_count": null,
            "_view_module": "@jupyter-widgets/base",
            "_view_module_version": "1.2.0",
            "_view_name": "StyleView",
            "description_width": ""
          }
        },
        "4644e27711d642958e73f90e9af155c3": {
          "model_module": "@jupyter-widgets/controls",
          "model_name": "HBoxModel",
          "model_module_version": "1.5.0",
          "state": {
            "_dom_classes": [],
            "_model_module": "@jupyter-widgets/controls",
            "_model_module_version": "1.5.0",
            "_model_name": "HBoxModel",
            "_view_count": null,
            "_view_module": "@jupyter-widgets/controls",
            "_view_module_version": "1.5.0",
            "_view_name": "HBoxView",
            "box_style": "",
            "children": [
              "IPY_MODEL_d8b4aaa7d77643158d1c0c781302739c",
              "IPY_MODEL_005f49d0c1744b53aa52ea8a84b56872",
              "IPY_MODEL_3c7d030909ec4ee7a38a4fb385f317fb"
            ],
            "layout": "IPY_MODEL_4cf868f05d1647229e1305ef63a91485"
          }
        },
        "d8b4aaa7d77643158d1c0c781302739c": {
          "model_module": "@jupyter-widgets/controls",
          "model_name": "HTMLModel",
          "model_module_version": "1.5.0",
          "state": {
            "_dom_classes": [],
            "_model_module": "@jupyter-widgets/controls",
            "_model_module_version": "1.5.0",
            "_model_name": "HTMLModel",
            "_view_count": null,
            "_view_module": "@jupyter-widgets/controls",
            "_view_module_version": "1.5.0",
            "_view_name": "HTMLView",
            "description": "",
            "description_tooltip": null,
            "layout": "IPY_MODEL_96df10551e7f4c14b3964bd1c77eb175",
            "placeholder": "​",
            "style": "IPY_MODEL_83390aa0cd3d4c339b68b64b7812840d",
            "value": "lambada_openai.py: 100%"
          }
        },
        "005f49d0c1744b53aa52ea8a84b56872": {
          "model_module": "@jupyter-widgets/controls",
          "model_name": "FloatProgressModel",
          "model_module_version": "1.5.0",
          "state": {
            "_dom_classes": [],
            "_model_module": "@jupyter-widgets/controls",
            "_model_module_version": "1.5.0",
            "_model_name": "FloatProgressModel",
            "_view_count": null,
            "_view_module": "@jupyter-widgets/controls",
            "_view_module_version": "1.5.0",
            "_view_name": "ProgressView",
            "bar_style": "success",
            "description": "",
            "description_tooltip": null,
            "layout": "IPY_MODEL_6b0afb048a554b31903c85c087c9cb65",
            "max": 4817,
            "min": 0,
            "orientation": "horizontal",
            "style": "IPY_MODEL_ffb433d95c4e4d6db7b030d0a13d3129",
            "value": 4817
          }
        },
        "3c7d030909ec4ee7a38a4fb385f317fb": {
          "model_module": "@jupyter-widgets/controls",
          "model_name": "HTMLModel",
          "model_module_version": "1.5.0",
          "state": {
            "_dom_classes": [],
            "_model_module": "@jupyter-widgets/controls",
            "_model_module_version": "1.5.0",
            "_model_name": "HTMLModel",
            "_view_count": null,
            "_view_module": "@jupyter-widgets/controls",
            "_view_module_version": "1.5.0",
            "_view_name": "HTMLView",
            "description": "",
            "description_tooltip": null,
            "layout": "IPY_MODEL_0189a693af414e6b82f68a860d6a4181",
            "placeholder": "​",
            "style": "IPY_MODEL_5e45ca4052b94dd496027862e986c872",
            "value": " 4.82k/4.82k [00:00&lt;00:00, 569kB/s]"
          }
        },
        "4cf868f05d1647229e1305ef63a91485": {
          "model_module": "@jupyter-widgets/base",
          "model_name": "LayoutModel",
          "model_module_version": "1.2.0",
          "state": {
            "_model_module": "@jupyter-widgets/base",
            "_model_module_version": "1.2.0",
            "_model_name": "LayoutModel",
            "_view_count": null,
            "_view_module": "@jupyter-widgets/base",
            "_view_module_version": "1.2.0",
            "_view_name": "LayoutView",
            "align_content": null,
            "align_items": null,
            "align_self": null,
            "border": null,
            "bottom": null,
            "display": null,
            "flex": null,
            "flex_flow": null,
            "grid_area": null,
            "grid_auto_columns": null,
            "grid_auto_flow": null,
            "grid_auto_rows": null,
            "grid_column": null,
            "grid_gap": null,
            "grid_row": null,
            "grid_template_areas": null,
            "grid_template_columns": null,
            "grid_template_rows": null,
            "height": null,
            "justify_content": null,
            "justify_items": null,
            "left": null,
            "margin": null,
            "max_height": null,
            "max_width": null,
            "min_height": null,
            "min_width": null,
            "object_fit": null,
            "object_position": null,
            "order": null,
            "overflow": null,
            "overflow_x": null,
            "overflow_y": null,
            "padding": null,
            "right": null,
            "top": null,
            "visibility": null,
            "width": null
          }
        },
        "96df10551e7f4c14b3964bd1c77eb175": {
          "model_module": "@jupyter-widgets/base",
          "model_name": "LayoutModel",
          "model_module_version": "1.2.0",
          "state": {
            "_model_module": "@jupyter-widgets/base",
            "_model_module_version": "1.2.0",
            "_model_name": "LayoutModel",
            "_view_count": null,
            "_view_module": "@jupyter-widgets/base",
            "_view_module_version": "1.2.0",
            "_view_name": "LayoutView",
            "align_content": null,
            "align_items": null,
            "align_self": null,
            "border": null,
            "bottom": null,
            "display": null,
            "flex": null,
            "flex_flow": null,
            "grid_area": null,
            "grid_auto_columns": null,
            "grid_auto_flow": null,
            "grid_auto_rows": null,
            "grid_column": null,
            "grid_gap": null,
            "grid_row": null,
            "grid_template_areas": null,
            "grid_template_columns": null,
            "grid_template_rows": null,
            "height": null,
            "justify_content": null,
            "justify_items": null,
            "left": null,
            "margin": null,
            "max_height": null,
            "max_width": null,
            "min_height": null,
            "min_width": null,
            "object_fit": null,
            "object_position": null,
            "order": null,
            "overflow": null,
            "overflow_x": null,
            "overflow_y": null,
            "padding": null,
            "right": null,
            "top": null,
            "visibility": null,
            "width": null
          }
        },
        "83390aa0cd3d4c339b68b64b7812840d": {
          "model_module": "@jupyter-widgets/controls",
          "model_name": "DescriptionStyleModel",
          "model_module_version": "1.5.0",
          "state": {
            "_model_module": "@jupyter-widgets/controls",
            "_model_module_version": "1.5.0",
            "_model_name": "DescriptionStyleModel",
            "_view_count": null,
            "_view_module": "@jupyter-widgets/base",
            "_view_module_version": "1.2.0",
            "_view_name": "StyleView",
            "description_width": ""
          }
        },
        "6b0afb048a554b31903c85c087c9cb65": {
          "model_module": "@jupyter-widgets/base",
          "model_name": "LayoutModel",
          "model_module_version": "1.2.0",
          "state": {
            "_model_module": "@jupyter-widgets/base",
            "_model_module_version": "1.2.0",
            "_model_name": "LayoutModel",
            "_view_count": null,
            "_view_module": "@jupyter-widgets/base",
            "_view_module_version": "1.2.0",
            "_view_name": "LayoutView",
            "align_content": null,
            "align_items": null,
            "align_self": null,
            "border": null,
            "bottom": null,
            "display": null,
            "flex": null,
            "flex_flow": null,
            "grid_area": null,
            "grid_auto_columns": null,
            "grid_auto_flow": null,
            "grid_auto_rows": null,
            "grid_column": null,
            "grid_gap": null,
            "grid_row": null,
            "grid_template_areas": null,
            "grid_template_columns": null,
            "grid_template_rows": null,
            "height": null,
            "justify_content": null,
            "justify_items": null,
            "left": null,
            "margin": null,
            "max_height": null,
            "max_width": null,
            "min_height": null,
            "min_width": null,
            "object_fit": null,
            "object_position": null,
            "order": null,
            "overflow": null,
            "overflow_x": null,
            "overflow_y": null,
            "padding": null,
            "right": null,
            "top": null,
            "visibility": null,
            "width": null
          }
        },
        "ffb433d95c4e4d6db7b030d0a13d3129": {
          "model_module": "@jupyter-widgets/controls",
          "model_name": "ProgressStyleModel",
          "model_module_version": "1.5.0",
          "state": {
            "_model_module": "@jupyter-widgets/controls",
            "_model_module_version": "1.5.0",
            "_model_name": "ProgressStyleModel",
            "_view_count": null,
            "_view_module": "@jupyter-widgets/base",
            "_view_module_version": "1.2.0",
            "_view_name": "StyleView",
            "bar_color": null,
            "description_width": ""
          }
        },
        "0189a693af414e6b82f68a860d6a4181": {
          "model_module": "@jupyter-widgets/base",
          "model_name": "LayoutModel",
          "model_module_version": "1.2.0",
          "state": {
            "_model_module": "@jupyter-widgets/base",
            "_model_module_version": "1.2.0",
            "_model_name": "LayoutModel",
            "_view_count": null,
            "_view_module": "@jupyter-widgets/base",
            "_view_module_version": "1.2.0",
            "_view_name": "LayoutView",
            "align_content": null,
            "align_items": null,
            "align_self": null,
            "border": null,
            "bottom": null,
            "display": null,
            "flex": null,
            "flex_flow": null,
            "grid_area": null,
            "grid_auto_columns": null,
            "grid_auto_flow": null,
            "grid_auto_rows": null,
            "grid_column": null,
            "grid_gap": null,
            "grid_row": null,
            "grid_template_areas": null,
            "grid_template_columns": null,
            "grid_template_rows": null,
            "height": null,
            "justify_content": null,
            "justify_items": null,
            "left": null,
            "margin": null,
            "max_height": null,
            "max_width": null,
            "min_height": null,
            "min_width": null,
            "object_fit": null,
            "object_position": null,
            "order": null,
            "overflow": null,
            "overflow_x": null,
            "overflow_y": null,
            "padding": null,
            "right": null,
            "top": null,
            "visibility": null,
            "width": null
          }
        },
        "5e45ca4052b94dd496027862e986c872": {
          "model_module": "@jupyter-widgets/controls",
          "model_name": "DescriptionStyleModel",
          "model_module_version": "1.5.0",
          "state": {
            "_model_module": "@jupyter-widgets/controls",
            "_model_module_version": "1.5.0",
            "_model_name": "DescriptionStyleModel",
            "_view_count": null,
            "_view_module": "@jupyter-widgets/base",
            "_view_module_version": "1.2.0",
            "_view_name": "StyleView",
            "description_width": ""
          }
        },
        "aab61b0b3a6b48a49fbbfb4ea5d73a97": {
          "model_module": "@jupyter-widgets/controls",
          "model_name": "HBoxModel",
          "model_module_version": "1.5.0",
          "state": {
            "_dom_classes": [],
            "_model_module": "@jupyter-widgets/controls",
            "_model_module_version": "1.5.0",
            "_model_name": "HBoxModel",
            "_view_count": null,
            "_view_module": "@jupyter-widgets/controls",
            "_view_module_version": "1.5.0",
            "_view_name": "HBoxView",
            "box_style": "",
            "children": [
              "IPY_MODEL_88301b79a60c4da6b903f58723741f9b",
              "IPY_MODEL_35878ffe427e4d64a2462b267c925420",
              "IPY_MODEL_5a776fdfe6a0415ca23aaf84308a3221"
            ],
            "layout": "IPY_MODEL_92fa0be7e0c043849fe81eae1860691c"
          }
        },
        "88301b79a60c4da6b903f58723741f9b": {
          "model_module": "@jupyter-widgets/controls",
          "model_name": "HTMLModel",
          "model_module_version": "1.5.0",
          "state": {
            "_dom_classes": [],
            "_model_module": "@jupyter-widgets/controls",
            "_model_module_version": "1.5.0",
            "_model_name": "HTMLModel",
            "_view_count": null,
            "_view_module": "@jupyter-widgets/controls",
            "_view_module_version": "1.5.0",
            "_view_name": "HTMLView",
            "description": "",
            "description_tooltip": null,
            "layout": "IPY_MODEL_94d0786158c84fd787e8fe2d6253f45e",
            "placeholder": "​",
            "style": "IPY_MODEL_e85e367ecdfe461794037d736cfff3d2",
            "value": "0000.parquet: 100%"
          }
        },
        "35878ffe427e4d64a2462b267c925420": {
          "model_module": "@jupyter-widgets/controls",
          "model_name": "FloatProgressModel",
          "model_module_version": "1.5.0",
          "state": {
            "_dom_classes": [],
            "_model_module": "@jupyter-widgets/controls",
            "_model_module_version": "1.5.0",
            "_model_name": "FloatProgressModel",
            "_view_count": null,
            "_view_module": "@jupyter-widgets/controls",
            "_view_module_version": "1.5.0",
            "_view_name": "ProgressView",
            "bar_style": "success",
            "description": "",
            "description_tooltip": null,
            "layout": "IPY_MODEL_546bd452d34247b9be542fde3470274e",
            "max": 1161402,
            "min": 0,
            "orientation": "horizontal",
            "style": "IPY_MODEL_0fc82cab2f964b599205481571ff2f2f",
            "value": 1161402
          }
        },
        "5a776fdfe6a0415ca23aaf84308a3221": {
          "model_module": "@jupyter-widgets/controls",
          "model_name": "HTMLModel",
          "model_module_version": "1.5.0",
          "state": {
            "_dom_classes": [],
            "_model_module": "@jupyter-widgets/controls",
            "_model_module_version": "1.5.0",
            "_model_name": "HTMLModel",
            "_view_count": null,
            "_view_module": "@jupyter-widgets/controls",
            "_view_module_version": "1.5.0",
            "_view_name": "HTMLView",
            "description": "",
            "description_tooltip": null,
            "layout": "IPY_MODEL_05e2ed70ca54481cb4aea8248d461034",
            "placeholder": "​",
            "style": "IPY_MODEL_b529f3fba20841a9b83bae9f74ee811c",
            "value": " 1.16M/1.16M [00:00&lt;00:00, 12.8MB/s]"
          }
        },
        "92fa0be7e0c043849fe81eae1860691c": {
          "model_module": "@jupyter-widgets/base",
          "model_name": "LayoutModel",
          "model_module_version": "1.2.0",
          "state": {
            "_model_module": "@jupyter-widgets/base",
            "_model_module_version": "1.2.0",
            "_model_name": "LayoutModel",
            "_view_count": null,
            "_view_module": "@jupyter-widgets/base",
            "_view_module_version": "1.2.0",
            "_view_name": "LayoutView",
            "align_content": null,
            "align_items": null,
            "align_self": null,
            "border": null,
            "bottom": null,
            "display": null,
            "flex": null,
            "flex_flow": null,
            "grid_area": null,
            "grid_auto_columns": null,
            "grid_auto_flow": null,
            "grid_auto_rows": null,
            "grid_column": null,
            "grid_gap": null,
            "grid_row": null,
            "grid_template_areas": null,
            "grid_template_columns": null,
            "grid_template_rows": null,
            "height": null,
            "justify_content": null,
            "justify_items": null,
            "left": null,
            "margin": null,
            "max_height": null,
            "max_width": null,
            "min_height": null,
            "min_width": null,
            "object_fit": null,
            "object_position": null,
            "order": null,
            "overflow": null,
            "overflow_x": null,
            "overflow_y": null,
            "padding": null,
            "right": null,
            "top": null,
            "visibility": null,
            "width": null
          }
        },
        "94d0786158c84fd787e8fe2d6253f45e": {
          "model_module": "@jupyter-widgets/base",
          "model_name": "LayoutModel",
          "model_module_version": "1.2.0",
          "state": {
            "_model_module": "@jupyter-widgets/base",
            "_model_module_version": "1.2.0",
            "_model_name": "LayoutModel",
            "_view_count": null,
            "_view_module": "@jupyter-widgets/base",
            "_view_module_version": "1.2.0",
            "_view_name": "LayoutView",
            "align_content": null,
            "align_items": null,
            "align_self": null,
            "border": null,
            "bottom": null,
            "display": null,
            "flex": null,
            "flex_flow": null,
            "grid_area": null,
            "grid_auto_columns": null,
            "grid_auto_flow": null,
            "grid_auto_rows": null,
            "grid_column": null,
            "grid_gap": null,
            "grid_row": null,
            "grid_template_areas": null,
            "grid_template_columns": null,
            "grid_template_rows": null,
            "height": null,
            "justify_content": null,
            "justify_items": null,
            "left": null,
            "margin": null,
            "max_height": null,
            "max_width": null,
            "min_height": null,
            "min_width": null,
            "object_fit": null,
            "object_position": null,
            "order": null,
            "overflow": null,
            "overflow_x": null,
            "overflow_y": null,
            "padding": null,
            "right": null,
            "top": null,
            "visibility": null,
            "width": null
          }
        },
        "e85e367ecdfe461794037d736cfff3d2": {
          "model_module": "@jupyter-widgets/controls",
          "model_name": "DescriptionStyleModel",
          "model_module_version": "1.5.0",
          "state": {
            "_model_module": "@jupyter-widgets/controls",
            "_model_module_version": "1.5.0",
            "_model_name": "DescriptionStyleModel",
            "_view_count": null,
            "_view_module": "@jupyter-widgets/base",
            "_view_module_version": "1.2.0",
            "_view_name": "StyleView",
            "description_width": ""
          }
        },
        "546bd452d34247b9be542fde3470274e": {
          "model_module": "@jupyter-widgets/base",
          "model_name": "LayoutModel",
          "model_module_version": "1.2.0",
          "state": {
            "_model_module": "@jupyter-widgets/base",
            "_model_module_version": "1.2.0",
            "_model_name": "LayoutModel",
            "_view_count": null,
            "_view_module": "@jupyter-widgets/base",
            "_view_module_version": "1.2.0",
            "_view_name": "LayoutView",
            "align_content": null,
            "align_items": null,
            "align_self": null,
            "border": null,
            "bottom": null,
            "display": null,
            "flex": null,
            "flex_flow": null,
            "grid_area": null,
            "grid_auto_columns": null,
            "grid_auto_flow": null,
            "grid_auto_rows": null,
            "grid_column": null,
            "grid_gap": null,
            "grid_row": null,
            "grid_template_areas": null,
            "grid_template_columns": null,
            "grid_template_rows": null,
            "height": null,
            "justify_content": null,
            "justify_items": null,
            "left": null,
            "margin": null,
            "max_height": null,
            "max_width": null,
            "min_height": null,
            "min_width": null,
            "object_fit": null,
            "object_position": null,
            "order": null,
            "overflow": null,
            "overflow_x": null,
            "overflow_y": null,
            "padding": null,
            "right": null,
            "top": null,
            "visibility": null,
            "width": null
          }
        },
        "0fc82cab2f964b599205481571ff2f2f": {
          "model_module": "@jupyter-widgets/controls",
          "model_name": "ProgressStyleModel",
          "model_module_version": "1.5.0",
          "state": {
            "_model_module": "@jupyter-widgets/controls",
            "_model_module_version": "1.5.0",
            "_model_name": "ProgressStyleModel",
            "_view_count": null,
            "_view_module": "@jupyter-widgets/base",
            "_view_module_version": "1.2.0",
            "_view_name": "StyleView",
            "bar_color": null,
            "description_width": ""
          }
        },
        "05e2ed70ca54481cb4aea8248d461034": {
          "model_module": "@jupyter-widgets/base",
          "model_name": "LayoutModel",
          "model_module_version": "1.2.0",
          "state": {
            "_model_module": "@jupyter-widgets/base",
            "_model_module_version": "1.2.0",
            "_model_name": "LayoutModel",
            "_view_count": null,
            "_view_module": "@jupyter-widgets/base",
            "_view_module_version": "1.2.0",
            "_view_name": "LayoutView",
            "align_content": null,
            "align_items": null,
            "align_self": null,
            "border": null,
            "bottom": null,
            "display": null,
            "flex": null,
            "flex_flow": null,
            "grid_area": null,
            "grid_auto_columns": null,
            "grid_auto_flow": null,
            "grid_auto_rows": null,
            "grid_column": null,
            "grid_gap": null,
            "grid_row": null,
            "grid_template_areas": null,
            "grid_template_columns": null,
            "grid_template_rows": null,
            "height": null,
            "justify_content": null,
            "justify_items": null,
            "left": null,
            "margin": null,
            "max_height": null,
            "max_width": null,
            "min_height": null,
            "min_width": null,
            "object_fit": null,
            "object_position": null,
            "order": null,
            "overflow": null,
            "overflow_x": null,
            "overflow_y": null,
            "padding": null,
            "right": null,
            "top": null,
            "visibility": null,
            "width": null
          }
        },
        "b529f3fba20841a9b83bae9f74ee811c": {
          "model_module": "@jupyter-widgets/controls",
          "model_name": "DescriptionStyleModel",
          "model_module_version": "1.5.0",
          "state": {
            "_model_module": "@jupyter-widgets/controls",
            "_model_module_version": "1.5.0",
            "_model_name": "DescriptionStyleModel",
            "_view_count": null,
            "_view_module": "@jupyter-widgets/base",
            "_view_module_version": "1.2.0",
            "_view_name": "StyleView",
            "description_width": ""
          }
        },
        "bd37c497e90b4021acd43b9f1eb8b2e8": {
          "model_module": "@jupyter-widgets/controls",
          "model_name": "HBoxModel",
          "model_module_version": "1.5.0",
          "state": {
            "_dom_classes": [],
            "_model_module": "@jupyter-widgets/controls",
            "_model_module_version": "1.5.0",
            "_model_name": "HBoxModel",
            "_view_count": null,
            "_view_module": "@jupyter-widgets/controls",
            "_view_module_version": "1.5.0",
            "_view_name": "HBoxView",
            "box_style": "",
            "children": [
              "IPY_MODEL_0caaee8750a0481bbb91b093dd0c8e02",
              "IPY_MODEL_8ba13e00f62d4f7aaf99f5281b052d71",
              "IPY_MODEL_0a4aa333e4f243b6a2e0dbbfdc895a0b"
            ],
            "layout": "IPY_MODEL_ba7976ab10234295bc2f8fc97de83b43"
          }
        },
        "0caaee8750a0481bbb91b093dd0c8e02": {
          "model_module": "@jupyter-widgets/controls",
          "model_name": "HTMLModel",
          "model_module_version": "1.5.0",
          "state": {
            "_dom_classes": [],
            "_model_module": "@jupyter-widgets/controls",
            "_model_module_version": "1.5.0",
            "_model_name": "HTMLModel",
            "_view_count": null,
            "_view_module": "@jupyter-widgets/controls",
            "_view_module_version": "1.5.0",
            "_view_name": "HTMLView",
            "description": "",
            "description_tooltip": null,
            "layout": "IPY_MODEL_09323e54dc9b4f5ab410640f4627e022",
            "placeholder": "​",
            "style": "IPY_MODEL_0ea11b00ba4d4934a72ddc9110cf6a23",
            "value": "Generating test split: 100%"
          }
        },
        "8ba13e00f62d4f7aaf99f5281b052d71": {
          "model_module": "@jupyter-widgets/controls",
          "model_name": "FloatProgressModel",
          "model_module_version": "1.5.0",
          "state": {
            "_dom_classes": [],
            "_model_module": "@jupyter-widgets/controls",
            "_model_module_version": "1.5.0",
            "_model_name": "FloatProgressModel",
            "_view_count": null,
            "_view_module": "@jupyter-widgets/controls",
            "_view_module_version": "1.5.0",
            "_view_name": "ProgressView",
            "bar_style": "success",
            "description": "",
            "description_tooltip": null,
            "layout": "IPY_MODEL_433f5fea99be4f9396667c26a3c23f5a",
            "max": 5153,
            "min": 0,
            "orientation": "horizontal",
            "style": "IPY_MODEL_3a0a14dedaf44fb89c05b56d231fbe9f",
            "value": 5153
          }
        },
        "0a4aa333e4f243b6a2e0dbbfdc895a0b": {
          "model_module": "@jupyter-widgets/controls",
          "model_name": "HTMLModel",
          "model_module_version": "1.5.0",
          "state": {
            "_dom_classes": [],
            "_model_module": "@jupyter-widgets/controls",
            "_model_module_version": "1.5.0",
            "_model_name": "HTMLModel",
            "_view_count": null,
            "_view_module": "@jupyter-widgets/controls",
            "_view_module_version": "1.5.0",
            "_view_name": "HTMLView",
            "description": "",
            "description_tooltip": null,
            "layout": "IPY_MODEL_898960cf65e043ec9d50c49f0bae1dc1",
            "placeholder": "​",
            "style": "IPY_MODEL_4dca00794be443ca96dd383051396927",
            "value": " 5153/5153 [00:00&lt;00:00, 200399.15 examples/s]"
          }
        },
        "ba7976ab10234295bc2f8fc97de83b43": {
          "model_module": "@jupyter-widgets/base",
          "model_name": "LayoutModel",
          "model_module_version": "1.2.0",
          "state": {
            "_model_module": "@jupyter-widgets/base",
            "_model_module_version": "1.2.0",
            "_model_name": "LayoutModel",
            "_view_count": null,
            "_view_module": "@jupyter-widgets/base",
            "_view_module_version": "1.2.0",
            "_view_name": "LayoutView",
            "align_content": null,
            "align_items": null,
            "align_self": null,
            "border": null,
            "bottom": null,
            "display": null,
            "flex": null,
            "flex_flow": null,
            "grid_area": null,
            "grid_auto_columns": null,
            "grid_auto_flow": null,
            "grid_auto_rows": null,
            "grid_column": null,
            "grid_gap": null,
            "grid_row": null,
            "grid_template_areas": null,
            "grid_template_columns": null,
            "grid_template_rows": null,
            "height": null,
            "justify_content": null,
            "justify_items": null,
            "left": null,
            "margin": null,
            "max_height": null,
            "max_width": null,
            "min_height": null,
            "min_width": null,
            "object_fit": null,
            "object_position": null,
            "order": null,
            "overflow": null,
            "overflow_x": null,
            "overflow_y": null,
            "padding": null,
            "right": null,
            "top": null,
            "visibility": null,
            "width": null
          }
        },
        "09323e54dc9b4f5ab410640f4627e022": {
          "model_module": "@jupyter-widgets/base",
          "model_name": "LayoutModel",
          "model_module_version": "1.2.0",
          "state": {
            "_model_module": "@jupyter-widgets/base",
            "_model_module_version": "1.2.0",
            "_model_name": "LayoutModel",
            "_view_count": null,
            "_view_module": "@jupyter-widgets/base",
            "_view_module_version": "1.2.0",
            "_view_name": "LayoutView",
            "align_content": null,
            "align_items": null,
            "align_self": null,
            "border": null,
            "bottom": null,
            "display": null,
            "flex": null,
            "flex_flow": null,
            "grid_area": null,
            "grid_auto_columns": null,
            "grid_auto_flow": null,
            "grid_auto_rows": null,
            "grid_column": null,
            "grid_gap": null,
            "grid_row": null,
            "grid_template_areas": null,
            "grid_template_columns": null,
            "grid_template_rows": null,
            "height": null,
            "justify_content": null,
            "justify_items": null,
            "left": null,
            "margin": null,
            "max_height": null,
            "max_width": null,
            "min_height": null,
            "min_width": null,
            "object_fit": null,
            "object_position": null,
            "order": null,
            "overflow": null,
            "overflow_x": null,
            "overflow_y": null,
            "padding": null,
            "right": null,
            "top": null,
            "visibility": null,
            "width": null
          }
        },
        "0ea11b00ba4d4934a72ddc9110cf6a23": {
          "model_module": "@jupyter-widgets/controls",
          "model_name": "DescriptionStyleModel",
          "model_module_version": "1.5.0",
          "state": {
            "_model_module": "@jupyter-widgets/controls",
            "_model_module_version": "1.5.0",
            "_model_name": "DescriptionStyleModel",
            "_view_count": null,
            "_view_module": "@jupyter-widgets/base",
            "_view_module_version": "1.2.0",
            "_view_name": "StyleView",
            "description_width": ""
          }
        },
        "433f5fea99be4f9396667c26a3c23f5a": {
          "model_module": "@jupyter-widgets/base",
          "model_name": "LayoutModel",
          "model_module_version": "1.2.0",
          "state": {
            "_model_module": "@jupyter-widgets/base",
            "_model_module_version": "1.2.0",
            "_model_name": "LayoutModel",
            "_view_count": null,
            "_view_module": "@jupyter-widgets/base",
            "_view_module_version": "1.2.0",
            "_view_name": "LayoutView",
            "align_content": null,
            "align_items": null,
            "align_self": null,
            "border": null,
            "bottom": null,
            "display": null,
            "flex": null,
            "flex_flow": null,
            "grid_area": null,
            "grid_auto_columns": null,
            "grid_auto_flow": null,
            "grid_auto_rows": null,
            "grid_column": null,
            "grid_gap": null,
            "grid_row": null,
            "grid_template_areas": null,
            "grid_template_columns": null,
            "grid_template_rows": null,
            "height": null,
            "justify_content": null,
            "justify_items": null,
            "left": null,
            "margin": null,
            "max_height": null,
            "max_width": null,
            "min_height": null,
            "min_width": null,
            "object_fit": null,
            "object_position": null,
            "order": null,
            "overflow": null,
            "overflow_x": null,
            "overflow_y": null,
            "padding": null,
            "right": null,
            "top": null,
            "visibility": null,
            "width": null
          }
        },
        "3a0a14dedaf44fb89c05b56d231fbe9f": {
          "model_module": "@jupyter-widgets/controls",
          "model_name": "ProgressStyleModel",
          "model_module_version": "1.5.0",
          "state": {
            "_model_module": "@jupyter-widgets/controls",
            "_model_module_version": "1.5.0",
            "_model_name": "ProgressStyleModel",
            "_view_count": null,
            "_view_module": "@jupyter-widgets/base",
            "_view_module_version": "1.2.0",
            "_view_name": "StyleView",
            "bar_color": null,
            "description_width": ""
          }
        },
        "898960cf65e043ec9d50c49f0bae1dc1": {
          "model_module": "@jupyter-widgets/base",
          "model_name": "LayoutModel",
          "model_module_version": "1.2.0",
          "state": {
            "_model_module": "@jupyter-widgets/base",
            "_model_module_version": "1.2.0",
            "_model_name": "LayoutModel",
            "_view_count": null,
            "_view_module": "@jupyter-widgets/base",
            "_view_module_version": "1.2.0",
            "_view_name": "LayoutView",
            "align_content": null,
            "align_items": null,
            "align_self": null,
            "border": null,
            "bottom": null,
            "display": null,
            "flex": null,
            "flex_flow": null,
            "grid_area": null,
            "grid_auto_columns": null,
            "grid_auto_flow": null,
            "grid_auto_rows": null,
            "grid_column": null,
            "grid_gap": null,
            "grid_row": null,
            "grid_template_areas": null,
            "grid_template_columns": null,
            "grid_template_rows": null,
            "height": null,
            "justify_content": null,
            "justify_items": null,
            "left": null,
            "margin": null,
            "max_height": null,
            "max_width": null,
            "min_height": null,
            "min_width": null,
            "object_fit": null,
            "object_position": null,
            "order": null,
            "overflow": null,
            "overflow_x": null,
            "overflow_y": null,
            "padding": null,
            "right": null,
            "top": null,
            "visibility": null,
            "width": null
          }
        },
        "4dca00794be443ca96dd383051396927": {
          "model_module": "@jupyter-widgets/controls",
          "model_name": "DescriptionStyleModel",
          "model_module_version": "1.5.0",
          "state": {
            "_model_module": "@jupyter-widgets/controls",
            "_model_module_version": "1.5.0",
            "_model_name": "DescriptionStyleModel",
            "_view_count": null,
            "_view_module": "@jupyter-widgets/base",
            "_view_module_version": "1.2.0",
            "_view_name": "StyleView",
            "description_width": ""
          }
        },
        "7bd48831d83247f794a0d91d9573d4ed": {
          "model_module": "@jupyter-widgets/controls",
          "model_name": "HBoxModel",
          "model_module_version": "1.5.0",
          "state": {
            "_dom_classes": [],
            "_model_module": "@jupyter-widgets/controls",
            "_model_module_version": "1.5.0",
            "_model_name": "HBoxModel",
            "_view_count": null,
            "_view_module": "@jupyter-widgets/controls",
            "_view_module_version": "1.5.0",
            "_view_name": "HBoxView",
            "box_style": "",
            "children": [
              "IPY_MODEL_49aa728a6ed14ba88d5e0bab537b3479",
              "IPY_MODEL_7f0014a7a0ba4572a2464bb7d262df39",
              "IPY_MODEL_707846c5908f43a3b6c173b571e928ae"
            ],
            "layout": "IPY_MODEL_f4082cb3fccd40759b95c4a51fbd060c"
          }
        },
        "49aa728a6ed14ba88d5e0bab537b3479": {
          "model_module": "@jupyter-widgets/controls",
          "model_name": "HTMLModel",
          "model_module_version": "1.5.0",
          "state": {
            "_dom_classes": [],
            "_model_module": "@jupyter-widgets/controls",
            "_model_module_version": "1.5.0",
            "_model_name": "HTMLModel",
            "_view_count": null,
            "_view_module": "@jupyter-widgets/controls",
            "_view_module_version": "1.5.0",
            "_view_name": "HTMLView",
            "description": "",
            "description_tooltip": null,
            "layout": "IPY_MODEL_f535659c52294e4d981d8d09b8a6a512",
            "placeholder": "​",
            "style": "IPY_MODEL_4b99e87e69214273ab08f280f639d2f7",
            "value": "README.md: 100%"
          }
        },
        "7f0014a7a0ba4572a2464bb7d262df39": {
          "model_module": "@jupyter-widgets/controls",
          "model_name": "FloatProgressModel",
          "model_module_version": "1.5.0",
          "state": {
            "_dom_classes": [],
            "_model_module": "@jupyter-widgets/controls",
            "_model_module_version": "1.5.0",
            "_model_name": "FloatProgressModel",
            "_view_count": null,
            "_view_module": "@jupyter-widgets/controls",
            "_view_module_version": "1.5.0",
            "_view_name": "ProgressView",
            "bar_style": "success",
            "description": "",
            "description_tooltip": null,
            "layout": "IPY_MODEL_e56692905ba64017bd41a52899950f31",
            "max": 7323,
            "min": 0,
            "orientation": "horizontal",
            "style": "IPY_MODEL_e0fad7d095e944b4bc32c9df11fd2055",
            "value": 7323
          }
        },
        "707846c5908f43a3b6c173b571e928ae": {
          "model_module": "@jupyter-widgets/controls",
          "model_name": "HTMLModel",
          "model_module_version": "1.5.0",
          "state": {
            "_dom_classes": [],
            "_model_module": "@jupyter-widgets/controls",
            "_model_module_version": "1.5.0",
            "_model_name": "HTMLModel",
            "_view_count": null,
            "_view_module": "@jupyter-widgets/controls",
            "_view_module_version": "1.5.0",
            "_view_name": "HTMLView",
            "description": "",
            "description_tooltip": null,
            "layout": "IPY_MODEL_cca39be3f99a47be849a29301cd1280b",
            "placeholder": "​",
            "style": "IPY_MODEL_16bb52cc1643439d84f5d8b0b18839f5",
            "value": " 7.32k/7.32k [00:00&lt;00:00, 846kB/s]"
          }
        },
        "f4082cb3fccd40759b95c4a51fbd060c": {
          "model_module": "@jupyter-widgets/base",
          "model_name": "LayoutModel",
          "model_module_version": "1.2.0",
          "state": {
            "_model_module": "@jupyter-widgets/base",
            "_model_module_version": "1.2.0",
            "_model_name": "LayoutModel",
            "_view_count": null,
            "_view_module": "@jupyter-widgets/base",
            "_view_module_version": "1.2.0",
            "_view_name": "LayoutView",
            "align_content": null,
            "align_items": null,
            "align_self": null,
            "border": null,
            "bottom": null,
            "display": null,
            "flex": null,
            "flex_flow": null,
            "grid_area": null,
            "grid_auto_columns": null,
            "grid_auto_flow": null,
            "grid_auto_rows": null,
            "grid_column": null,
            "grid_gap": null,
            "grid_row": null,
            "grid_template_areas": null,
            "grid_template_columns": null,
            "grid_template_rows": null,
            "height": null,
            "justify_content": null,
            "justify_items": null,
            "left": null,
            "margin": null,
            "max_height": null,
            "max_width": null,
            "min_height": null,
            "min_width": null,
            "object_fit": null,
            "object_position": null,
            "order": null,
            "overflow": null,
            "overflow_x": null,
            "overflow_y": null,
            "padding": null,
            "right": null,
            "top": null,
            "visibility": null,
            "width": null
          }
        },
        "f535659c52294e4d981d8d09b8a6a512": {
          "model_module": "@jupyter-widgets/base",
          "model_name": "LayoutModel",
          "model_module_version": "1.2.0",
          "state": {
            "_model_module": "@jupyter-widgets/base",
            "_model_module_version": "1.2.0",
            "_model_name": "LayoutModel",
            "_view_count": null,
            "_view_module": "@jupyter-widgets/base",
            "_view_module_version": "1.2.0",
            "_view_name": "LayoutView",
            "align_content": null,
            "align_items": null,
            "align_self": null,
            "border": null,
            "bottom": null,
            "display": null,
            "flex": null,
            "flex_flow": null,
            "grid_area": null,
            "grid_auto_columns": null,
            "grid_auto_flow": null,
            "grid_auto_rows": null,
            "grid_column": null,
            "grid_gap": null,
            "grid_row": null,
            "grid_template_areas": null,
            "grid_template_columns": null,
            "grid_template_rows": null,
            "height": null,
            "justify_content": null,
            "justify_items": null,
            "left": null,
            "margin": null,
            "max_height": null,
            "max_width": null,
            "min_height": null,
            "min_width": null,
            "object_fit": null,
            "object_position": null,
            "order": null,
            "overflow": null,
            "overflow_x": null,
            "overflow_y": null,
            "padding": null,
            "right": null,
            "top": null,
            "visibility": null,
            "width": null
          }
        },
        "4b99e87e69214273ab08f280f639d2f7": {
          "model_module": "@jupyter-widgets/controls",
          "model_name": "DescriptionStyleModel",
          "model_module_version": "1.5.0",
          "state": {
            "_model_module": "@jupyter-widgets/controls",
            "_model_module_version": "1.5.0",
            "_model_name": "DescriptionStyleModel",
            "_view_count": null,
            "_view_module": "@jupyter-widgets/base",
            "_view_module_version": "1.2.0",
            "_view_name": "StyleView",
            "description_width": ""
          }
        },
        "e56692905ba64017bd41a52899950f31": {
          "model_module": "@jupyter-widgets/base",
          "model_name": "LayoutModel",
          "model_module_version": "1.2.0",
          "state": {
            "_model_module": "@jupyter-widgets/base",
            "_model_module_version": "1.2.0",
            "_model_name": "LayoutModel",
            "_view_count": null,
            "_view_module": "@jupyter-widgets/base",
            "_view_module_version": "1.2.0",
            "_view_name": "LayoutView",
            "align_content": null,
            "align_items": null,
            "align_self": null,
            "border": null,
            "bottom": null,
            "display": null,
            "flex": null,
            "flex_flow": null,
            "grid_area": null,
            "grid_auto_columns": null,
            "grid_auto_flow": null,
            "grid_auto_rows": null,
            "grid_column": null,
            "grid_gap": null,
            "grid_row": null,
            "grid_template_areas": null,
            "grid_template_columns": null,
            "grid_template_rows": null,
            "height": null,
            "justify_content": null,
            "justify_items": null,
            "left": null,
            "margin": null,
            "max_height": null,
            "max_width": null,
            "min_height": null,
            "min_width": null,
            "object_fit": null,
            "object_position": null,
            "order": null,
            "overflow": null,
            "overflow_x": null,
            "overflow_y": null,
            "padding": null,
            "right": null,
            "top": null,
            "visibility": null,
            "width": null
          }
        },
        "e0fad7d095e944b4bc32c9df11fd2055": {
          "model_module": "@jupyter-widgets/controls",
          "model_name": "ProgressStyleModel",
          "model_module_version": "1.5.0",
          "state": {
            "_model_module": "@jupyter-widgets/controls",
            "_model_module_version": "1.5.0",
            "_model_name": "ProgressStyleModel",
            "_view_count": null,
            "_view_module": "@jupyter-widgets/base",
            "_view_module_version": "1.2.0",
            "_view_name": "StyleView",
            "bar_color": null,
            "description_width": ""
          }
        },
        "cca39be3f99a47be849a29301cd1280b": {
          "model_module": "@jupyter-widgets/base",
          "model_name": "LayoutModel",
          "model_module_version": "1.2.0",
          "state": {
            "_model_module": "@jupyter-widgets/base",
            "_model_module_version": "1.2.0",
            "_model_name": "LayoutModel",
            "_view_count": null,
            "_view_module": "@jupyter-widgets/base",
            "_view_module_version": "1.2.0",
            "_view_name": "LayoutView",
            "align_content": null,
            "align_items": null,
            "align_self": null,
            "border": null,
            "bottom": null,
            "display": null,
            "flex": null,
            "flex_flow": null,
            "grid_area": null,
            "grid_auto_columns": null,
            "grid_auto_flow": null,
            "grid_auto_rows": null,
            "grid_column": null,
            "grid_gap": null,
            "grid_row": null,
            "grid_template_areas": null,
            "grid_template_columns": null,
            "grid_template_rows": null,
            "height": null,
            "justify_content": null,
            "justify_items": null,
            "left": null,
            "margin": null,
            "max_height": null,
            "max_width": null,
            "min_height": null,
            "min_width": null,
            "object_fit": null,
            "object_position": null,
            "order": null,
            "overflow": null,
            "overflow_x": null,
            "overflow_y": null,
            "padding": null,
            "right": null,
            "top": null,
            "visibility": null,
            "width": null
          }
        },
        "16bb52cc1643439d84f5d8b0b18839f5": {
          "model_module": "@jupyter-widgets/controls",
          "model_name": "DescriptionStyleModel",
          "model_module_version": "1.5.0",
          "state": {
            "_model_module": "@jupyter-widgets/controls",
            "_model_module_version": "1.5.0",
            "_model_name": "DescriptionStyleModel",
            "_view_count": null,
            "_view_module": "@jupyter-widgets/base",
            "_view_module_version": "1.2.0",
            "_view_name": "StyleView",
            "description_width": ""
          }
        },
        "83369ec25f4f45449c5e74c124bbdc86": {
          "model_module": "@jupyter-widgets/controls",
          "model_name": "HBoxModel",
          "model_module_version": "1.5.0",
          "state": {
            "_dom_classes": [],
            "_model_module": "@jupyter-widgets/controls",
            "_model_module_version": "1.5.0",
            "_model_name": "HBoxModel",
            "_view_count": null,
            "_view_module": "@jupyter-widgets/controls",
            "_view_module_version": "1.5.0",
            "_view_name": "HBoxView",
            "box_style": "",
            "children": [
              "IPY_MODEL_d48dfb6243164e0fb3f13ce7a608df73",
              "IPY_MODEL_e69395ce863e4d13b8c584d34f8c37fe",
              "IPY_MODEL_25ea8994172743509b29b92d3821f0fd"
            ],
            "layout": "IPY_MODEL_d674a063644d4a94b6e9dcb9daaa630c"
          }
        },
        "d48dfb6243164e0fb3f13ce7a608df73": {
          "model_module": "@jupyter-widgets/controls",
          "model_name": "HTMLModel",
          "model_module_version": "1.5.0",
          "state": {
            "_dom_classes": [],
            "_model_module": "@jupyter-widgets/controls",
            "_model_module_version": "1.5.0",
            "_model_name": "HTMLModel",
            "_view_count": null,
            "_view_module": "@jupyter-widgets/controls",
            "_view_module_version": "1.5.0",
            "_view_name": "HTMLView",
            "description": "",
            "description_tooltip": null,
            "layout": "IPY_MODEL_6d54ff1e3bd24afcae02141d3b708388",
            "placeholder": "​",
            "style": "IPY_MODEL_da99b74d20c548bfb1c6e0d4724cad61",
            "value": "train-00000-of-00002.parquet: 100%"
          }
        },
        "e69395ce863e4d13b8c584d34f8c37fe": {
          "model_module": "@jupyter-widgets/controls",
          "model_name": "FloatProgressModel",
          "model_module_version": "1.5.0",
          "state": {
            "_dom_classes": [],
            "_model_module": "@jupyter-widgets/controls",
            "_model_module_version": "1.5.0",
            "_model_name": "FloatProgressModel",
            "_view_count": null,
            "_view_module": "@jupyter-widgets/controls",
            "_view_module_version": "1.5.0",
            "_view_name": "ProgressView",
            "bar_style": "danger",
            "description": "",
            "description_tooltip": null,
            "layout": "IPY_MODEL_6f07daed3c0b446c9f51499ebe389e76",
            "max": 268979256,
            "min": 0,
            "orientation": "horizontal",
            "style": "IPY_MODEL_c256e97ebef64c489e5aff20cd270bc2",
            "value": 268979231
          }
        },
        "25ea8994172743509b29b92d3821f0fd": {
          "model_module": "@jupyter-widgets/controls",
          "model_name": "HTMLModel",
          "model_module_version": "1.5.0",
          "state": {
            "_dom_classes": [],
            "_model_module": "@jupyter-widgets/controls",
            "_model_module_version": "1.5.0",
            "_model_name": "HTMLModel",
            "_view_count": null,
            "_view_module": "@jupyter-widgets/controls",
            "_view_module_version": "1.5.0",
            "_view_name": "HTMLView",
            "description": "",
            "description_tooltip": null,
            "layout": "IPY_MODEL_85c3deebb1f4405589c3dc791eaf8e16",
            "placeholder": "​",
            "style": "IPY_MODEL_142d2153282c4767ae6a93d316dd89ba",
            "value": " 269M/269M [00:01&lt;00:00, 315MB/s]"
          }
        },
        "d674a063644d4a94b6e9dcb9daaa630c": {
          "model_module": "@jupyter-widgets/base",
          "model_name": "LayoutModel",
          "model_module_version": "1.2.0",
          "state": {
            "_model_module": "@jupyter-widgets/base",
            "_model_module_version": "1.2.0",
            "_model_name": "LayoutModel",
            "_view_count": null,
            "_view_module": "@jupyter-widgets/base",
            "_view_module_version": "1.2.0",
            "_view_name": "LayoutView",
            "align_content": null,
            "align_items": null,
            "align_self": null,
            "border": null,
            "bottom": null,
            "display": null,
            "flex": null,
            "flex_flow": null,
            "grid_area": null,
            "grid_auto_columns": null,
            "grid_auto_flow": null,
            "grid_auto_rows": null,
            "grid_column": null,
            "grid_gap": null,
            "grid_row": null,
            "grid_template_areas": null,
            "grid_template_columns": null,
            "grid_template_rows": null,
            "height": null,
            "justify_content": null,
            "justify_items": null,
            "left": null,
            "margin": null,
            "max_height": null,
            "max_width": null,
            "min_height": null,
            "min_width": null,
            "object_fit": null,
            "object_position": null,
            "order": null,
            "overflow": null,
            "overflow_x": null,
            "overflow_y": null,
            "padding": null,
            "right": null,
            "top": null,
            "visibility": null,
            "width": null
          }
        },
        "6d54ff1e3bd24afcae02141d3b708388": {
          "model_module": "@jupyter-widgets/base",
          "model_name": "LayoutModel",
          "model_module_version": "1.2.0",
          "state": {
            "_model_module": "@jupyter-widgets/base",
            "_model_module_version": "1.2.0",
            "_model_name": "LayoutModel",
            "_view_count": null,
            "_view_module": "@jupyter-widgets/base",
            "_view_module_version": "1.2.0",
            "_view_name": "LayoutView",
            "align_content": null,
            "align_items": null,
            "align_self": null,
            "border": null,
            "bottom": null,
            "display": null,
            "flex": null,
            "flex_flow": null,
            "grid_area": null,
            "grid_auto_columns": null,
            "grid_auto_flow": null,
            "grid_auto_rows": null,
            "grid_column": null,
            "grid_gap": null,
            "grid_row": null,
            "grid_template_areas": null,
            "grid_template_columns": null,
            "grid_template_rows": null,
            "height": null,
            "justify_content": null,
            "justify_items": null,
            "left": null,
            "margin": null,
            "max_height": null,
            "max_width": null,
            "min_height": null,
            "min_width": null,
            "object_fit": null,
            "object_position": null,
            "order": null,
            "overflow": null,
            "overflow_x": null,
            "overflow_y": null,
            "padding": null,
            "right": null,
            "top": null,
            "visibility": null,
            "width": null
          }
        },
        "da99b74d20c548bfb1c6e0d4724cad61": {
          "model_module": "@jupyter-widgets/controls",
          "model_name": "DescriptionStyleModel",
          "model_module_version": "1.5.0",
          "state": {
            "_model_module": "@jupyter-widgets/controls",
            "_model_module_version": "1.5.0",
            "_model_name": "DescriptionStyleModel",
            "_view_count": null,
            "_view_module": "@jupyter-widgets/base",
            "_view_module_version": "1.2.0",
            "_view_name": "StyleView",
            "description_width": ""
          }
        },
        "6f07daed3c0b446c9f51499ebe389e76": {
          "model_module": "@jupyter-widgets/base",
          "model_name": "LayoutModel",
          "model_module_version": "1.2.0",
          "state": {
            "_model_module": "@jupyter-widgets/base",
            "_model_module_version": "1.2.0",
            "_model_name": "LayoutModel",
            "_view_count": null,
            "_view_module": "@jupyter-widgets/base",
            "_view_module_version": "1.2.0",
            "_view_name": "LayoutView",
            "align_content": null,
            "align_items": null,
            "align_self": null,
            "border": null,
            "bottom": null,
            "display": null,
            "flex": null,
            "flex_flow": null,
            "grid_area": null,
            "grid_auto_columns": null,
            "grid_auto_flow": null,
            "grid_auto_rows": null,
            "grid_column": null,
            "grid_gap": null,
            "grid_row": null,
            "grid_template_areas": null,
            "grid_template_columns": null,
            "grid_template_rows": null,
            "height": null,
            "justify_content": null,
            "justify_items": null,
            "left": null,
            "margin": null,
            "max_height": null,
            "max_width": null,
            "min_height": null,
            "min_width": null,
            "object_fit": null,
            "object_position": null,
            "order": null,
            "overflow": null,
            "overflow_x": null,
            "overflow_y": null,
            "padding": null,
            "right": null,
            "top": null,
            "visibility": null,
            "width": null
          }
        },
        "c256e97ebef64c489e5aff20cd270bc2": {
          "model_module": "@jupyter-widgets/controls",
          "model_name": "ProgressStyleModel",
          "model_module_version": "1.5.0",
          "state": {
            "_model_module": "@jupyter-widgets/controls",
            "_model_module_version": "1.5.0",
            "_model_name": "ProgressStyleModel",
            "_view_count": null,
            "_view_module": "@jupyter-widgets/base",
            "_view_module_version": "1.2.0",
            "_view_name": "StyleView",
            "bar_color": null,
            "description_width": ""
          }
        },
        "85c3deebb1f4405589c3dc791eaf8e16": {
          "model_module": "@jupyter-widgets/base",
          "model_name": "LayoutModel",
          "model_module_version": "1.2.0",
          "state": {
            "_model_module": "@jupyter-widgets/base",
            "_model_module_version": "1.2.0",
            "_model_name": "LayoutModel",
            "_view_count": null,
            "_view_module": "@jupyter-widgets/base",
            "_view_module_version": "1.2.0",
            "_view_name": "LayoutView",
            "align_content": null,
            "align_items": null,
            "align_self": null,
            "border": null,
            "bottom": null,
            "display": null,
            "flex": null,
            "flex_flow": null,
            "grid_area": null,
            "grid_auto_columns": null,
            "grid_auto_flow": null,
            "grid_auto_rows": null,
            "grid_column": null,
            "grid_gap": null,
            "grid_row": null,
            "grid_template_areas": null,
            "grid_template_columns": null,
            "grid_template_rows": null,
            "height": null,
            "justify_content": null,
            "justify_items": null,
            "left": null,
            "margin": null,
            "max_height": null,
            "max_width": null,
            "min_height": null,
            "min_width": null,
            "object_fit": null,
            "object_position": null,
            "order": null,
            "overflow": null,
            "overflow_x": null,
            "overflow_y": null,
            "padding": null,
            "right": null,
            "top": null,
            "visibility": null,
            "width": null
          }
        },
        "142d2153282c4767ae6a93d316dd89ba": {
          "model_module": "@jupyter-widgets/controls",
          "model_name": "DescriptionStyleModel",
          "model_module_version": "1.5.0",
          "state": {
            "_model_module": "@jupyter-widgets/controls",
            "_model_module_version": "1.5.0",
            "_model_name": "DescriptionStyleModel",
            "_view_count": null,
            "_view_module": "@jupyter-widgets/base",
            "_view_module_version": "1.2.0",
            "_view_name": "StyleView",
            "description_width": ""
          }
        },
        "2ada77b57ec24e3e8499da421fd6ba2e": {
          "model_module": "@jupyter-widgets/controls",
          "model_name": "HBoxModel",
          "model_module_version": "1.5.0",
          "state": {
            "_dom_classes": [],
            "_model_module": "@jupyter-widgets/controls",
            "_model_module_version": "1.5.0",
            "_model_name": "HBoxModel",
            "_view_count": null,
            "_view_module": "@jupyter-widgets/controls",
            "_view_module_version": "1.5.0",
            "_view_name": "HBoxView",
            "box_style": "",
            "children": [
              "IPY_MODEL_c4bc6f72722649d993237618c0106325",
              "IPY_MODEL_1803c2fc15084676a96a952f6141d761",
              "IPY_MODEL_09b80b1e7d274859b91a7cc16c2b210c"
            ],
            "layout": "IPY_MODEL_62a8dc37af684baaaea8d026129598c0"
          }
        },
        "c4bc6f72722649d993237618c0106325": {
          "model_module": "@jupyter-widgets/controls",
          "model_name": "HTMLModel",
          "model_module_version": "1.5.0",
          "state": {
            "_dom_classes": [],
            "_model_module": "@jupyter-widgets/controls",
            "_model_module_version": "1.5.0",
            "_model_name": "HTMLModel",
            "_view_count": null,
            "_view_module": "@jupyter-widgets/controls",
            "_view_module_version": "1.5.0",
            "_view_name": "HTMLView",
            "description": "",
            "description_tooltip": null,
            "layout": "IPY_MODEL_98aa4df13b6a4eb88f59075bd2467969",
            "placeholder": "​",
            "style": "IPY_MODEL_6f0eae56fb9945ca8960d0a9dd36598d",
            "value": "train-00001-of-00002.parquet: 100%"
          }
        },
        "1803c2fc15084676a96a952f6141d761": {
          "model_module": "@jupyter-widgets/controls",
          "model_name": "FloatProgressModel",
          "model_module_version": "1.5.0",
          "state": {
            "_dom_classes": [],
            "_model_module": "@jupyter-widgets/controls",
            "_model_module_version": "1.5.0",
            "_model_name": "FloatProgressModel",
            "_view_count": null,
            "_view_module": "@jupyter-widgets/controls",
            "_view_module_version": "1.5.0",
            "_view_name": "ProgressView",
            "bar_style": "danger",
            "description": "",
            "description_tooltip": null,
            "layout": "IPY_MODEL_3dc691e2591e45a2a93f9d2e3c586a8b",
            "max": 281232947,
            "min": 0,
            "orientation": "horizontal",
            "style": "IPY_MODEL_09ed6c00c1f54e858409571a7a5d0f40",
            "value": 281232921
          }
        },
        "09b80b1e7d274859b91a7cc16c2b210c": {
          "model_module": "@jupyter-widgets/controls",
          "model_name": "HTMLModel",
          "model_module_version": "1.5.0",
          "state": {
            "_dom_classes": [],
            "_model_module": "@jupyter-widgets/controls",
            "_model_module_version": "1.5.0",
            "_model_name": "HTMLModel",
            "_view_count": null,
            "_view_module": "@jupyter-widgets/controls",
            "_view_module_version": "1.5.0",
            "_view_name": "HTMLView",
            "description": "",
            "description_tooltip": null,
            "layout": "IPY_MODEL_c45566150cc746899b3b899cdf5fe9ce",
            "placeholder": "​",
            "style": "IPY_MODEL_9677debea1fc440aae2d742be98bc4ca",
            "value": " 281M/281M [00:01&lt;00:00, 174MB/s]"
          }
        },
        "62a8dc37af684baaaea8d026129598c0": {
          "model_module": "@jupyter-widgets/base",
          "model_name": "LayoutModel",
          "model_module_version": "1.2.0",
          "state": {
            "_model_module": "@jupyter-widgets/base",
            "_model_module_version": "1.2.0",
            "_model_name": "LayoutModel",
            "_view_count": null,
            "_view_module": "@jupyter-widgets/base",
            "_view_module_version": "1.2.0",
            "_view_name": "LayoutView",
            "align_content": null,
            "align_items": null,
            "align_self": null,
            "border": null,
            "bottom": null,
            "display": null,
            "flex": null,
            "flex_flow": null,
            "grid_area": null,
            "grid_auto_columns": null,
            "grid_auto_flow": null,
            "grid_auto_rows": null,
            "grid_column": null,
            "grid_gap": null,
            "grid_row": null,
            "grid_template_areas": null,
            "grid_template_columns": null,
            "grid_template_rows": null,
            "height": null,
            "justify_content": null,
            "justify_items": null,
            "left": null,
            "margin": null,
            "max_height": null,
            "max_width": null,
            "min_height": null,
            "min_width": null,
            "object_fit": null,
            "object_position": null,
            "order": null,
            "overflow": null,
            "overflow_x": null,
            "overflow_y": null,
            "padding": null,
            "right": null,
            "top": null,
            "visibility": null,
            "width": null
          }
        },
        "98aa4df13b6a4eb88f59075bd2467969": {
          "model_module": "@jupyter-widgets/base",
          "model_name": "LayoutModel",
          "model_module_version": "1.2.0",
          "state": {
            "_model_module": "@jupyter-widgets/base",
            "_model_module_version": "1.2.0",
            "_model_name": "LayoutModel",
            "_view_count": null,
            "_view_module": "@jupyter-widgets/base",
            "_view_module_version": "1.2.0",
            "_view_name": "LayoutView",
            "align_content": null,
            "align_items": null,
            "align_self": null,
            "border": null,
            "bottom": null,
            "display": null,
            "flex": null,
            "flex_flow": null,
            "grid_area": null,
            "grid_auto_columns": null,
            "grid_auto_flow": null,
            "grid_auto_rows": null,
            "grid_column": null,
            "grid_gap": null,
            "grid_row": null,
            "grid_template_areas": null,
            "grid_template_columns": null,
            "grid_template_rows": null,
            "height": null,
            "justify_content": null,
            "justify_items": null,
            "left": null,
            "margin": null,
            "max_height": null,
            "max_width": null,
            "min_height": null,
            "min_width": null,
            "object_fit": null,
            "object_position": null,
            "order": null,
            "overflow": null,
            "overflow_x": null,
            "overflow_y": null,
            "padding": null,
            "right": null,
            "top": null,
            "visibility": null,
            "width": null
          }
        },
        "6f0eae56fb9945ca8960d0a9dd36598d": {
          "model_module": "@jupyter-widgets/controls",
          "model_name": "DescriptionStyleModel",
          "model_module_version": "1.5.0",
          "state": {
            "_model_module": "@jupyter-widgets/controls",
            "_model_module_version": "1.5.0",
            "_model_name": "DescriptionStyleModel",
            "_view_count": null,
            "_view_module": "@jupyter-widgets/base",
            "_view_module_version": "1.2.0",
            "_view_name": "StyleView",
            "description_width": ""
          }
        },
        "3dc691e2591e45a2a93f9d2e3c586a8b": {
          "model_module": "@jupyter-widgets/base",
          "model_name": "LayoutModel",
          "model_module_version": "1.2.0",
          "state": {
            "_model_module": "@jupyter-widgets/base",
            "_model_module_version": "1.2.0",
            "_model_name": "LayoutModel",
            "_view_count": null,
            "_view_module": "@jupyter-widgets/base",
            "_view_module_version": "1.2.0",
            "_view_name": "LayoutView",
            "align_content": null,
            "align_items": null,
            "align_self": null,
            "border": null,
            "bottom": null,
            "display": null,
            "flex": null,
            "flex_flow": null,
            "grid_area": null,
            "grid_auto_columns": null,
            "grid_auto_flow": null,
            "grid_auto_rows": null,
            "grid_column": null,
            "grid_gap": null,
            "grid_row": null,
            "grid_template_areas": null,
            "grid_template_columns": null,
            "grid_template_rows": null,
            "height": null,
            "justify_content": null,
            "justify_items": null,
            "left": null,
            "margin": null,
            "max_height": null,
            "max_width": null,
            "min_height": null,
            "min_width": null,
            "object_fit": null,
            "object_position": null,
            "order": null,
            "overflow": null,
            "overflow_x": null,
            "overflow_y": null,
            "padding": null,
            "right": null,
            "top": null,
            "visibility": null,
            "width": null
          }
        },
        "09ed6c00c1f54e858409571a7a5d0f40": {
          "model_module": "@jupyter-widgets/controls",
          "model_name": "ProgressStyleModel",
          "model_module_version": "1.5.0",
          "state": {
            "_model_module": "@jupyter-widgets/controls",
            "_model_module_version": "1.5.0",
            "_model_name": "ProgressStyleModel",
            "_view_count": null,
            "_view_module": "@jupyter-widgets/base",
            "_view_module_version": "1.2.0",
            "_view_name": "StyleView",
            "bar_color": null,
            "description_width": ""
          }
        },
        "c45566150cc746899b3b899cdf5fe9ce": {
          "model_module": "@jupyter-widgets/base",
          "model_name": "LayoutModel",
          "model_module_version": "1.2.0",
          "state": {
            "_model_module": "@jupyter-widgets/base",
            "_model_module_version": "1.2.0",
            "_model_name": "LayoutModel",
            "_view_count": null,
            "_view_module": "@jupyter-widgets/base",
            "_view_module_version": "1.2.0",
            "_view_name": "LayoutView",
            "align_content": null,
            "align_items": null,
            "align_self": null,
            "border": null,
            "bottom": null,
            "display": null,
            "flex": null,
            "flex_flow": null,
            "grid_area": null,
            "grid_auto_columns": null,
            "grid_auto_flow": null,
            "grid_auto_rows": null,
            "grid_column": null,
            "grid_gap": null,
            "grid_row": null,
            "grid_template_areas": null,
            "grid_template_columns": null,
            "grid_template_rows": null,
            "height": null,
            "justify_content": null,
            "justify_items": null,
            "left": null,
            "margin": null,
            "max_height": null,
            "max_width": null,
            "min_height": null,
            "min_width": null,
            "object_fit": null,
            "object_position": null,
            "order": null,
            "overflow": null,
            "overflow_x": null,
            "overflow_y": null,
            "padding": null,
            "right": null,
            "top": null,
            "visibility": null,
            "width": null
          }
        },
        "9677debea1fc440aae2d742be98bc4ca": {
          "model_module": "@jupyter-widgets/controls",
          "model_name": "DescriptionStyleModel",
          "model_module_version": "1.5.0",
          "state": {
            "_model_module": "@jupyter-widgets/controls",
            "_model_module_version": "1.5.0",
            "_model_name": "DescriptionStyleModel",
            "_view_count": null,
            "_view_module": "@jupyter-widgets/base",
            "_view_module_version": "1.2.0",
            "_view_name": "StyleView",
            "description_width": ""
          }
        },
        "ff6b484d39c94eb7b95f71763ff1db05": {
          "model_module": "@jupyter-widgets/controls",
          "model_name": "HBoxModel",
          "model_module_version": "1.5.0",
          "state": {
            "_dom_classes": [],
            "_model_module": "@jupyter-widgets/controls",
            "_model_module_version": "1.5.0",
            "_model_name": "HBoxModel",
            "_view_count": null,
            "_view_module": "@jupyter-widgets/controls",
            "_view_module_version": "1.5.0",
            "_view_name": "HBoxView",
            "box_style": "",
            "children": [
              "IPY_MODEL_28424510286446729930377cd08019c7",
              "IPY_MODEL_703345c1d6494e0ab3631f5ae01d9bae",
              "IPY_MODEL_52af69c9533e43d5ba19a4033aad8b5b"
            ],
            "layout": "IPY_MODEL_833c9ca1a03a4197a2f4f8ac421dc29f"
          }
        },
        "28424510286446729930377cd08019c7": {
          "model_module": "@jupyter-widgets/controls",
          "model_name": "HTMLModel",
          "model_module_version": "1.5.0",
          "state": {
            "_dom_classes": [],
            "_model_module": "@jupyter-widgets/controls",
            "_model_module_version": "1.5.0",
            "_model_name": "HTMLModel",
            "_view_count": null,
            "_view_module": "@jupyter-widgets/controls",
            "_view_module_version": "1.5.0",
            "_view_name": "HTMLView",
            "description": "",
            "description_tooltip": null,
            "layout": "IPY_MODEL_5be9b25348b5452bbc5e1912c655338a",
            "placeholder": "​",
            "style": "IPY_MODEL_1f405a9f47534aab901aa2be326f49d2",
            "value": "test-00000-of-00001.parquet: 100%"
          }
        },
        "703345c1d6494e0ab3631f5ae01d9bae": {
          "model_module": "@jupyter-widgets/controls",
          "model_name": "FloatProgressModel",
          "model_module_version": "1.5.0",
          "state": {
            "_dom_classes": [],
            "_model_module": "@jupyter-widgets/controls",
            "_model_module_version": "1.5.0",
            "_model_name": "FloatProgressModel",
            "_view_count": null,
            "_view_module": "@jupyter-widgets/controls",
            "_view_module_version": "1.5.0",
            "_view_name": "ProgressView",
            "bar_style": "success",
            "description": "",
            "description_tooltip": null,
            "layout": "IPY_MODEL_7cd95691def546488672fe15ff2d17c9",
            "max": 1136216,
            "min": 0,
            "orientation": "horizontal",
            "style": "IPY_MODEL_e1bf113438b84c6fbfd10a4d121cb151",
            "value": 1136216
          }
        },
        "52af69c9533e43d5ba19a4033aad8b5b": {
          "model_module": "@jupyter-widgets/controls",
          "model_name": "HTMLModel",
          "model_module_version": "1.5.0",
          "state": {
            "_dom_classes": [],
            "_model_module": "@jupyter-widgets/controls",
            "_model_module_version": "1.5.0",
            "_model_name": "HTMLModel",
            "_view_count": null,
            "_view_module": "@jupyter-widgets/controls",
            "_view_module_version": "1.5.0",
            "_view_name": "HTMLView",
            "description": "",
            "description_tooltip": null,
            "layout": "IPY_MODEL_02f687605b2e4a82beb97d4b0d8ad483",
            "placeholder": "​",
            "style": "IPY_MODEL_536e6686a5554419b390fe76fb7ca8e6",
            "value": " 1.14M/1.14M [00:00&lt;00:00, 7.64MB/s]"
          }
        },
        "833c9ca1a03a4197a2f4f8ac421dc29f": {
          "model_module": "@jupyter-widgets/base",
          "model_name": "LayoutModel",
          "model_module_version": "1.2.0",
          "state": {
            "_model_module": "@jupyter-widgets/base",
            "_model_module_version": "1.2.0",
            "_model_name": "LayoutModel",
            "_view_count": null,
            "_view_module": "@jupyter-widgets/base",
            "_view_module_version": "1.2.0",
            "_view_name": "LayoutView",
            "align_content": null,
            "align_items": null,
            "align_self": null,
            "border": null,
            "bottom": null,
            "display": null,
            "flex": null,
            "flex_flow": null,
            "grid_area": null,
            "grid_auto_columns": null,
            "grid_auto_flow": null,
            "grid_auto_rows": null,
            "grid_column": null,
            "grid_gap": null,
            "grid_row": null,
            "grid_template_areas": null,
            "grid_template_columns": null,
            "grid_template_rows": null,
            "height": null,
            "justify_content": null,
            "justify_items": null,
            "left": null,
            "margin": null,
            "max_height": null,
            "max_width": null,
            "min_height": null,
            "min_width": null,
            "object_fit": null,
            "object_position": null,
            "order": null,
            "overflow": null,
            "overflow_x": null,
            "overflow_y": null,
            "padding": null,
            "right": null,
            "top": null,
            "visibility": null,
            "width": null
          }
        },
        "5be9b25348b5452bbc5e1912c655338a": {
          "model_module": "@jupyter-widgets/base",
          "model_name": "LayoutModel",
          "model_module_version": "1.2.0",
          "state": {
            "_model_module": "@jupyter-widgets/base",
            "_model_module_version": "1.2.0",
            "_model_name": "LayoutModel",
            "_view_count": null,
            "_view_module": "@jupyter-widgets/base",
            "_view_module_version": "1.2.0",
            "_view_name": "LayoutView",
            "align_content": null,
            "align_items": null,
            "align_self": null,
            "border": null,
            "bottom": null,
            "display": null,
            "flex": null,
            "flex_flow": null,
            "grid_area": null,
            "grid_auto_columns": null,
            "grid_auto_flow": null,
            "grid_auto_rows": null,
            "grid_column": null,
            "grid_gap": null,
            "grid_row": null,
            "grid_template_areas": null,
            "grid_template_columns": null,
            "grid_template_rows": null,
            "height": null,
            "justify_content": null,
            "justify_items": null,
            "left": null,
            "margin": null,
            "max_height": null,
            "max_width": null,
            "min_height": null,
            "min_width": null,
            "object_fit": null,
            "object_position": null,
            "order": null,
            "overflow": null,
            "overflow_x": null,
            "overflow_y": null,
            "padding": null,
            "right": null,
            "top": null,
            "visibility": null,
            "width": null
          }
        },
        "1f405a9f47534aab901aa2be326f49d2": {
          "model_module": "@jupyter-widgets/controls",
          "model_name": "DescriptionStyleModel",
          "model_module_version": "1.5.0",
          "state": {
            "_model_module": "@jupyter-widgets/controls",
            "_model_module_version": "1.5.0",
            "_model_name": "DescriptionStyleModel",
            "_view_count": null,
            "_view_module": "@jupyter-widgets/base",
            "_view_module_version": "1.2.0",
            "_view_name": "StyleView",
            "description_width": ""
          }
        },
        "7cd95691def546488672fe15ff2d17c9": {
          "model_module": "@jupyter-widgets/base",
          "model_name": "LayoutModel",
          "model_module_version": "1.2.0",
          "state": {
            "_model_module": "@jupyter-widgets/base",
            "_model_module_version": "1.2.0",
            "_model_name": "LayoutModel",
            "_view_count": null,
            "_view_module": "@jupyter-widgets/base",
            "_view_module_version": "1.2.0",
            "_view_name": "LayoutView",
            "align_content": null,
            "align_items": null,
            "align_self": null,
            "border": null,
            "bottom": null,
            "display": null,
            "flex": null,
            "flex_flow": null,
            "grid_area": null,
            "grid_auto_columns": null,
            "grid_auto_flow": null,
            "grid_auto_rows": null,
            "grid_column": null,
            "grid_gap": null,
            "grid_row": null,
            "grid_template_areas": null,
            "grid_template_columns": null,
            "grid_template_rows": null,
            "height": null,
            "justify_content": null,
            "justify_items": null,
            "left": null,
            "margin": null,
            "max_height": null,
            "max_width": null,
            "min_height": null,
            "min_width": null,
            "object_fit": null,
            "object_position": null,
            "order": null,
            "overflow": null,
            "overflow_x": null,
            "overflow_y": null,
            "padding": null,
            "right": null,
            "top": null,
            "visibility": null,
            "width": null
          }
        },
        "e1bf113438b84c6fbfd10a4d121cb151": {
          "model_module": "@jupyter-widgets/controls",
          "model_name": "ProgressStyleModel",
          "model_module_version": "1.5.0",
          "state": {
            "_model_module": "@jupyter-widgets/controls",
            "_model_module_version": "1.5.0",
            "_model_name": "ProgressStyleModel",
            "_view_count": null,
            "_view_module": "@jupyter-widgets/base",
            "_view_module_version": "1.2.0",
            "_view_name": "StyleView",
            "bar_color": null,
            "description_width": ""
          }
        },
        "02f687605b2e4a82beb97d4b0d8ad483": {
          "model_module": "@jupyter-widgets/base",
          "model_name": "LayoutModel",
          "model_module_version": "1.2.0",
          "state": {
            "_model_module": "@jupyter-widgets/base",
            "_model_module_version": "1.2.0",
            "_model_name": "LayoutModel",
            "_view_count": null,
            "_view_module": "@jupyter-widgets/base",
            "_view_module_version": "1.2.0",
            "_view_name": "LayoutView",
            "align_content": null,
            "align_items": null,
            "align_self": null,
            "border": null,
            "bottom": null,
            "display": null,
            "flex": null,
            "flex_flow": null,
            "grid_area": null,
            "grid_auto_columns": null,
            "grid_auto_flow": null,
            "grid_auto_rows": null,
            "grid_column": null,
            "grid_gap": null,
            "grid_row": null,
            "grid_template_areas": null,
            "grid_template_columns": null,
            "grid_template_rows": null,
            "height": null,
            "justify_content": null,
            "justify_items": null,
            "left": null,
            "margin": null,
            "max_height": null,
            "max_width": null,
            "min_height": null,
            "min_width": null,
            "object_fit": null,
            "object_position": null,
            "order": null,
            "overflow": null,
            "overflow_x": null,
            "overflow_y": null,
            "padding": null,
            "right": null,
            "top": null,
            "visibility": null,
            "width": null
          }
        },
        "536e6686a5554419b390fe76fb7ca8e6": {
          "model_module": "@jupyter-widgets/controls",
          "model_name": "DescriptionStyleModel",
          "model_module_version": "1.5.0",
          "state": {
            "_model_module": "@jupyter-widgets/controls",
            "_model_module_version": "1.5.0",
            "_model_name": "DescriptionStyleModel",
            "_view_count": null,
            "_view_module": "@jupyter-widgets/base",
            "_view_module_version": "1.2.0",
            "_view_name": "StyleView",
            "description_width": ""
          }
        },
        "549a0807d249484782b5712c8f218cb0": {
          "model_module": "@jupyter-widgets/controls",
          "model_name": "HBoxModel",
          "model_module_version": "1.5.0",
          "state": {
            "_dom_classes": [],
            "_model_module": "@jupyter-widgets/controls",
            "_model_module_version": "1.5.0",
            "_model_name": "HBoxModel",
            "_view_count": null,
            "_view_module": "@jupyter-widgets/controls",
            "_view_module_version": "1.5.0",
            "_view_name": "HBoxView",
            "box_style": "",
            "children": [
              "IPY_MODEL_bcbd2d11663a4a068a76b62b22814adb",
              "IPY_MODEL_0fb6b07fbb9c43a8b713f9ec78353c1a",
              "IPY_MODEL_6fb0bc8d0ec84dcc92f58fa489446424"
            ],
            "layout": "IPY_MODEL_7beaeb2513d54644a3b54601f4ced8ba"
          }
        },
        "bcbd2d11663a4a068a76b62b22814adb": {
          "model_module": "@jupyter-widgets/controls",
          "model_name": "HTMLModel",
          "model_module_version": "1.5.0",
          "state": {
            "_dom_classes": [],
            "_model_module": "@jupyter-widgets/controls",
            "_model_module_version": "1.5.0",
            "_model_name": "HTMLModel",
            "_view_count": null,
            "_view_module": "@jupyter-widgets/controls",
            "_view_module_version": "1.5.0",
            "_view_name": "HTMLView",
            "description": "",
            "description_tooltip": null,
            "layout": "IPY_MODEL_19d6a99232104ebeb8acf9e492052793",
            "placeholder": "​",
            "style": "IPY_MODEL_654787baaaa24ef2a1b735c6fb7b6258",
            "value": "validation-00000-of-00001.parquet: 100%"
          }
        },
        "0fb6b07fbb9c43a8b713f9ec78353c1a": {
          "model_module": "@jupyter-widgets/controls",
          "model_name": "FloatProgressModel",
          "model_module_version": "1.5.0",
          "state": {
            "_dom_classes": [],
            "_model_module": "@jupyter-widgets/controls",
            "_model_module_version": "1.5.0",
            "_model_name": "FloatProgressModel",
            "_view_count": null,
            "_view_module": "@jupyter-widgets/controls",
            "_view_module_version": "1.5.0",
            "_view_name": "ProgressView",
            "bar_style": "success",
            "description": "",
            "description_tooltip": null,
            "layout": "IPY_MODEL_88c22da8940c4f4e843b8e84c37afe5a",
            "max": 1078921,
            "min": 0,
            "orientation": "horizontal",
            "style": "IPY_MODEL_efcf6cbbe86547c890e2b2cca2e5ec34",
            "value": 1078921
          }
        },
        "6fb0bc8d0ec84dcc92f58fa489446424": {
          "model_module": "@jupyter-widgets/controls",
          "model_name": "HTMLModel",
          "model_module_version": "1.5.0",
          "state": {
            "_dom_classes": [],
            "_model_module": "@jupyter-widgets/controls",
            "_model_module_version": "1.5.0",
            "_model_name": "HTMLModel",
            "_view_count": null,
            "_view_module": "@jupyter-widgets/controls",
            "_view_module_version": "1.5.0",
            "_view_name": "HTMLView",
            "description": "",
            "description_tooltip": null,
            "layout": "IPY_MODEL_7896079520a448ecaf857e20f6d0cd10",
            "placeholder": "​",
            "style": "IPY_MODEL_bda181c4ed344cec981b4b2345730f57",
            "value": " 1.08M/1.08M [00:00&lt;00:00, 21.3MB/s]"
          }
        },
        "7beaeb2513d54644a3b54601f4ced8ba": {
          "model_module": "@jupyter-widgets/base",
          "model_name": "LayoutModel",
          "model_module_version": "1.2.0",
          "state": {
            "_model_module": "@jupyter-widgets/base",
            "_model_module_version": "1.2.0",
            "_model_name": "LayoutModel",
            "_view_count": null,
            "_view_module": "@jupyter-widgets/base",
            "_view_module_version": "1.2.0",
            "_view_name": "LayoutView",
            "align_content": null,
            "align_items": null,
            "align_self": null,
            "border": null,
            "bottom": null,
            "display": null,
            "flex": null,
            "flex_flow": null,
            "grid_area": null,
            "grid_auto_columns": null,
            "grid_auto_flow": null,
            "grid_auto_rows": null,
            "grid_column": null,
            "grid_gap": null,
            "grid_row": null,
            "grid_template_areas": null,
            "grid_template_columns": null,
            "grid_template_rows": null,
            "height": null,
            "justify_content": null,
            "justify_items": null,
            "left": null,
            "margin": null,
            "max_height": null,
            "max_width": null,
            "min_height": null,
            "min_width": null,
            "object_fit": null,
            "object_position": null,
            "order": null,
            "overflow": null,
            "overflow_x": null,
            "overflow_y": null,
            "padding": null,
            "right": null,
            "top": null,
            "visibility": null,
            "width": null
          }
        },
        "19d6a99232104ebeb8acf9e492052793": {
          "model_module": "@jupyter-widgets/base",
          "model_name": "LayoutModel",
          "model_module_version": "1.2.0",
          "state": {
            "_model_module": "@jupyter-widgets/base",
            "_model_module_version": "1.2.0",
            "_model_name": "LayoutModel",
            "_view_count": null,
            "_view_module": "@jupyter-widgets/base",
            "_view_module_version": "1.2.0",
            "_view_name": "LayoutView",
            "align_content": null,
            "align_items": null,
            "align_self": null,
            "border": null,
            "bottom": null,
            "display": null,
            "flex": null,
            "flex_flow": null,
            "grid_area": null,
            "grid_auto_columns": null,
            "grid_auto_flow": null,
            "grid_auto_rows": null,
            "grid_column": null,
            "grid_gap": null,
            "grid_row": null,
            "grid_template_areas": null,
            "grid_template_columns": null,
            "grid_template_rows": null,
            "height": null,
            "justify_content": null,
            "justify_items": null,
            "left": null,
            "margin": null,
            "max_height": null,
            "max_width": null,
            "min_height": null,
            "min_width": null,
            "object_fit": null,
            "object_position": null,
            "order": null,
            "overflow": null,
            "overflow_x": null,
            "overflow_y": null,
            "padding": null,
            "right": null,
            "top": null,
            "visibility": null,
            "width": null
          }
        },
        "654787baaaa24ef2a1b735c6fb7b6258": {
          "model_module": "@jupyter-widgets/controls",
          "model_name": "DescriptionStyleModel",
          "model_module_version": "1.5.0",
          "state": {
            "_model_module": "@jupyter-widgets/controls",
            "_model_module_version": "1.5.0",
            "_model_name": "DescriptionStyleModel",
            "_view_count": null,
            "_view_module": "@jupyter-widgets/base",
            "_view_module_version": "1.2.0",
            "_view_name": "StyleView",
            "description_width": ""
          }
        },
        "88c22da8940c4f4e843b8e84c37afe5a": {
          "model_module": "@jupyter-widgets/base",
          "model_name": "LayoutModel",
          "model_module_version": "1.2.0",
          "state": {
            "_model_module": "@jupyter-widgets/base",
            "_model_module_version": "1.2.0",
            "_model_name": "LayoutModel",
            "_view_count": null,
            "_view_module": "@jupyter-widgets/base",
            "_view_module_version": "1.2.0",
            "_view_name": "LayoutView",
            "align_content": null,
            "align_items": null,
            "align_self": null,
            "border": null,
            "bottom": null,
            "display": null,
            "flex": null,
            "flex_flow": null,
            "grid_area": null,
            "grid_auto_columns": null,
            "grid_auto_flow": null,
            "grid_auto_rows": null,
            "grid_column": null,
            "grid_gap": null,
            "grid_row": null,
            "grid_template_areas": null,
            "grid_template_columns": null,
            "grid_template_rows": null,
            "height": null,
            "justify_content": null,
            "justify_items": null,
            "left": null,
            "margin": null,
            "max_height": null,
            "max_width": null,
            "min_height": null,
            "min_width": null,
            "object_fit": null,
            "object_position": null,
            "order": null,
            "overflow": null,
            "overflow_x": null,
            "overflow_y": null,
            "padding": null,
            "right": null,
            "top": null,
            "visibility": null,
            "width": null
          }
        },
        "efcf6cbbe86547c890e2b2cca2e5ec34": {
          "model_module": "@jupyter-widgets/controls",
          "model_name": "ProgressStyleModel",
          "model_module_version": "1.5.0",
          "state": {
            "_model_module": "@jupyter-widgets/controls",
            "_model_module_version": "1.5.0",
            "_model_name": "ProgressStyleModel",
            "_view_count": null,
            "_view_module": "@jupyter-widgets/base",
            "_view_module_version": "1.2.0",
            "_view_name": "StyleView",
            "bar_color": null,
            "description_width": ""
          }
        },
        "7896079520a448ecaf857e20f6d0cd10": {
          "model_module": "@jupyter-widgets/base",
          "model_name": "LayoutModel",
          "model_module_version": "1.2.0",
          "state": {
            "_model_module": "@jupyter-widgets/base",
            "_model_module_version": "1.2.0",
            "_model_name": "LayoutModel",
            "_view_count": null,
            "_view_module": "@jupyter-widgets/base",
            "_view_module_version": "1.2.0",
            "_view_name": "LayoutView",
            "align_content": null,
            "align_items": null,
            "align_self": null,
            "border": null,
            "bottom": null,
            "display": null,
            "flex": null,
            "flex_flow": null,
            "grid_area": null,
            "grid_auto_columns": null,
            "grid_auto_flow": null,
            "grid_auto_rows": null,
            "grid_column": null,
            "grid_gap": null,
            "grid_row": null,
            "grid_template_areas": null,
            "grid_template_columns": null,
            "grid_template_rows": null,
            "height": null,
            "justify_content": null,
            "justify_items": null,
            "left": null,
            "margin": null,
            "max_height": null,
            "max_width": null,
            "min_height": null,
            "min_width": null,
            "object_fit": null,
            "object_position": null,
            "order": null,
            "overflow": null,
            "overflow_x": null,
            "overflow_y": null,
            "padding": null,
            "right": null,
            "top": null,
            "visibility": null,
            "width": null
          }
        },
        "bda181c4ed344cec981b4b2345730f57": {
          "model_module": "@jupyter-widgets/controls",
          "model_name": "DescriptionStyleModel",
          "model_module_version": "1.5.0",
          "state": {
            "_model_module": "@jupyter-widgets/controls",
            "_model_module_version": "1.5.0",
            "_model_name": "DescriptionStyleModel",
            "_view_count": null,
            "_view_module": "@jupyter-widgets/base",
            "_view_module_version": "1.2.0",
            "_view_name": "StyleView",
            "description_width": ""
          }
        },
        "5d770d7300354af0b02725125e5beaa6": {
          "model_module": "@jupyter-widgets/controls",
          "model_name": "HBoxModel",
          "model_module_version": "1.5.0",
          "state": {
            "_dom_classes": [],
            "_model_module": "@jupyter-widgets/controls",
            "_model_module_version": "1.5.0",
            "_model_name": "HBoxModel",
            "_view_count": null,
            "_view_module": "@jupyter-widgets/controls",
            "_view_module_version": "1.5.0",
            "_view_name": "HBoxView",
            "box_style": "",
            "children": [
              "IPY_MODEL_7c4e32d49a424a1580e1c3215399fc6a",
              "IPY_MODEL_2143f5d76eb34aafb3829315718584be",
              "IPY_MODEL_acee438def8444a69ddc705fa52963a1"
            ],
            "layout": "IPY_MODEL_b77e11c63e7e46c18963bce3af01f59b"
          }
        },
        "7c4e32d49a424a1580e1c3215399fc6a": {
          "model_module": "@jupyter-widgets/controls",
          "model_name": "HTMLModel",
          "model_module_version": "1.5.0",
          "state": {
            "_dom_classes": [],
            "_model_module": "@jupyter-widgets/controls",
            "_model_module_version": "1.5.0",
            "_model_name": "HTMLModel",
            "_view_count": null,
            "_view_module": "@jupyter-widgets/controls",
            "_view_module_version": "1.5.0",
            "_view_name": "HTMLView",
            "description": "",
            "description_tooltip": null,
            "layout": "IPY_MODEL_67afb4baedf34960903d1ebc3ba015c8",
            "placeholder": "​",
            "style": "IPY_MODEL_116e9a8b596c446c9b0d8faeb5cc8f4c",
            "value": "Generating train split: 100%"
          }
        },
        "2143f5d76eb34aafb3829315718584be": {
          "model_module": "@jupyter-widgets/controls",
          "model_name": "FloatProgressModel",
          "model_module_version": "1.5.0",
          "state": {
            "_dom_classes": [],
            "_model_module": "@jupyter-widgets/controls",
            "_model_module_version": "1.5.0",
            "_model_name": "FloatProgressModel",
            "_view_count": null,
            "_view_module": "@jupyter-widgets/controls",
            "_view_module_version": "1.5.0",
            "_view_name": "ProgressView",
            "bar_style": "success",
            "description": "",
            "description_tooltip": null,
            "layout": "IPY_MODEL_d20f82715fb34e65978038c4bbbd1c62",
            "max": 2662,
            "min": 0,
            "orientation": "horizontal",
            "style": "IPY_MODEL_1cde277f809b4b8288d3285a777a7eda",
            "value": 2662
          }
        },
        "acee438def8444a69ddc705fa52963a1": {
          "model_module": "@jupyter-widgets/controls",
          "model_name": "HTMLModel",
          "model_module_version": "1.5.0",
          "state": {
            "_dom_classes": [],
            "_model_module": "@jupyter-widgets/controls",
            "_model_module_version": "1.5.0",
            "_model_name": "HTMLModel",
            "_view_count": null,
            "_view_module": "@jupyter-widgets/controls",
            "_view_module_version": "1.5.0",
            "_view_name": "HTMLView",
            "description": "",
            "description_tooltip": null,
            "layout": "IPY_MODEL_8232e1b6319d416d993011f8e5b25235",
            "placeholder": "​",
            "style": "IPY_MODEL_e8ed2fa77d8f487fa418b43385199d52",
            "value": " 2662/2662 [00:05&lt;00:00, 503.23 examples/s]"
          }
        },
        "b77e11c63e7e46c18963bce3af01f59b": {
          "model_module": "@jupyter-widgets/base",
          "model_name": "LayoutModel",
          "model_module_version": "1.2.0",
          "state": {
            "_model_module": "@jupyter-widgets/base",
            "_model_module_version": "1.2.0",
            "_model_name": "LayoutModel",
            "_view_count": null,
            "_view_module": "@jupyter-widgets/base",
            "_view_module_version": "1.2.0",
            "_view_name": "LayoutView",
            "align_content": null,
            "align_items": null,
            "align_self": null,
            "border": null,
            "bottom": null,
            "display": null,
            "flex": null,
            "flex_flow": null,
            "grid_area": null,
            "grid_auto_columns": null,
            "grid_auto_flow": null,
            "grid_auto_rows": null,
            "grid_column": null,
            "grid_gap": null,
            "grid_row": null,
            "grid_template_areas": null,
            "grid_template_columns": null,
            "grid_template_rows": null,
            "height": null,
            "justify_content": null,
            "justify_items": null,
            "left": null,
            "margin": null,
            "max_height": null,
            "max_width": null,
            "min_height": null,
            "min_width": null,
            "object_fit": null,
            "object_position": null,
            "order": null,
            "overflow": null,
            "overflow_x": null,
            "overflow_y": null,
            "padding": null,
            "right": null,
            "top": null,
            "visibility": null,
            "width": null
          }
        },
        "67afb4baedf34960903d1ebc3ba015c8": {
          "model_module": "@jupyter-widgets/base",
          "model_name": "LayoutModel",
          "model_module_version": "1.2.0",
          "state": {
            "_model_module": "@jupyter-widgets/base",
            "_model_module_version": "1.2.0",
            "_model_name": "LayoutModel",
            "_view_count": null,
            "_view_module": "@jupyter-widgets/base",
            "_view_module_version": "1.2.0",
            "_view_name": "LayoutView",
            "align_content": null,
            "align_items": null,
            "align_self": null,
            "border": null,
            "bottom": null,
            "display": null,
            "flex": null,
            "flex_flow": null,
            "grid_area": null,
            "grid_auto_columns": null,
            "grid_auto_flow": null,
            "grid_auto_rows": null,
            "grid_column": null,
            "grid_gap": null,
            "grid_row": null,
            "grid_template_areas": null,
            "grid_template_columns": null,
            "grid_template_rows": null,
            "height": null,
            "justify_content": null,
            "justify_items": null,
            "left": null,
            "margin": null,
            "max_height": null,
            "max_width": null,
            "min_height": null,
            "min_width": null,
            "object_fit": null,
            "object_position": null,
            "order": null,
            "overflow": null,
            "overflow_x": null,
            "overflow_y": null,
            "padding": null,
            "right": null,
            "top": null,
            "visibility": null,
            "width": null
          }
        },
        "116e9a8b596c446c9b0d8faeb5cc8f4c": {
          "model_module": "@jupyter-widgets/controls",
          "model_name": "DescriptionStyleModel",
          "model_module_version": "1.5.0",
          "state": {
            "_model_module": "@jupyter-widgets/controls",
            "_model_module_version": "1.5.0",
            "_model_name": "DescriptionStyleModel",
            "_view_count": null,
            "_view_module": "@jupyter-widgets/base",
            "_view_module_version": "1.2.0",
            "_view_name": "StyleView",
            "description_width": ""
          }
        },
        "d20f82715fb34e65978038c4bbbd1c62": {
          "model_module": "@jupyter-widgets/base",
          "model_name": "LayoutModel",
          "model_module_version": "1.2.0",
          "state": {
            "_model_module": "@jupyter-widgets/base",
            "_model_module_version": "1.2.0",
            "_model_name": "LayoutModel",
            "_view_count": null,
            "_view_module": "@jupyter-widgets/base",
            "_view_module_version": "1.2.0",
            "_view_name": "LayoutView",
            "align_content": null,
            "align_items": null,
            "align_self": null,
            "border": null,
            "bottom": null,
            "display": null,
            "flex": null,
            "flex_flow": null,
            "grid_area": null,
            "grid_auto_columns": null,
            "grid_auto_flow": null,
            "grid_auto_rows": null,
            "grid_column": null,
            "grid_gap": null,
            "grid_row": null,
            "grid_template_areas": null,
            "grid_template_columns": null,
            "grid_template_rows": null,
            "height": null,
            "justify_content": null,
            "justify_items": null,
            "left": null,
            "margin": null,
            "max_height": null,
            "max_width": null,
            "min_height": null,
            "min_width": null,
            "object_fit": null,
            "object_position": null,
            "order": null,
            "overflow": null,
            "overflow_x": null,
            "overflow_y": null,
            "padding": null,
            "right": null,
            "top": null,
            "visibility": null,
            "width": null
          }
        },
        "1cde277f809b4b8288d3285a777a7eda": {
          "model_module": "@jupyter-widgets/controls",
          "model_name": "ProgressStyleModel",
          "model_module_version": "1.5.0",
          "state": {
            "_model_module": "@jupyter-widgets/controls",
            "_model_module_version": "1.5.0",
            "_model_name": "ProgressStyleModel",
            "_view_count": null,
            "_view_module": "@jupyter-widgets/base",
            "_view_module_version": "1.2.0",
            "_view_name": "StyleView",
            "bar_color": null,
            "description_width": ""
          }
        },
        "8232e1b6319d416d993011f8e5b25235": {
          "model_module": "@jupyter-widgets/base",
          "model_name": "LayoutModel",
          "model_module_version": "1.2.0",
          "state": {
            "_model_module": "@jupyter-widgets/base",
            "_model_module_version": "1.2.0",
            "_model_name": "LayoutModel",
            "_view_count": null,
            "_view_module": "@jupyter-widgets/base",
            "_view_module_version": "1.2.0",
            "_view_name": "LayoutView",
            "align_content": null,
            "align_items": null,
            "align_self": null,
            "border": null,
            "bottom": null,
            "display": null,
            "flex": null,
            "flex_flow": null,
            "grid_area": null,
            "grid_auto_columns": null,
            "grid_auto_flow": null,
            "grid_auto_rows": null,
            "grid_column": null,
            "grid_gap": null,
            "grid_row": null,
            "grid_template_areas": null,
            "grid_template_columns": null,
            "grid_template_rows": null,
            "height": null,
            "justify_content": null,
            "justify_items": null,
            "left": null,
            "margin": null,
            "max_height": null,
            "max_width": null,
            "min_height": null,
            "min_width": null,
            "object_fit": null,
            "object_position": null,
            "order": null,
            "overflow": null,
            "overflow_x": null,
            "overflow_y": null,
            "padding": null,
            "right": null,
            "top": null,
            "visibility": null,
            "width": null
          }
        },
        "e8ed2fa77d8f487fa418b43385199d52": {
          "model_module": "@jupyter-widgets/controls",
          "model_name": "DescriptionStyleModel",
          "model_module_version": "1.5.0",
          "state": {
            "_model_module": "@jupyter-widgets/controls",
            "_model_module_version": "1.5.0",
            "_model_name": "DescriptionStyleModel",
            "_view_count": null,
            "_view_module": "@jupyter-widgets/base",
            "_view_module_version": "1.2.0",
            "_view_name": "StyleView",
            "description_width": ""
          }
        },
        "e03b1ac024a24437bb6e1c478ce37237": {
          "model_module": "@jupyter-widgets/controls",
          "model_name": "HBoxModel",
          "model_module_version": "1.5.0",
          "state": {
            "_dom_classes": [],
            "_model_module": "@jupyter-widgets/controls",
            "_model_module_version": "1.5.0",
            "_model_name": "HBoxModel",
            "_view_count": null,
            "_view_module": "@jupyter-widgets/controls",
            "_view_module_version": "1.5.0",
            "_view_name": "HBoxView",
            "box_style": "",
            "children": [
              "IPY_MODEL_a40e376289514dd3a5526ac5be657ec2",
              "IPY_MODEL_45fbca679c43423bb713c2be2b29f9a2",
              "IPY_MODEL_0f1118a5698344d9ad40bd6c9451a97d"
            ],
            "layout": "IPY_MODEL_9bae202740344be5a5cc177e67cfc89c"
          }
        },
        "a40e376289514dd3a5526ac5be657ec2": {
          "model_module": "@jupyter-widgets/controls",
          "model_name": "HTMLModel",
          "model_module_version": "1.5.0",
          "state": {
            "_dom_classes": [],
            "_model_module": "@jupyter-widgets/controls",
            "_model_module_version": "1.5.0",
            "_model_name": "HTMLModel",
            "_view_count": null,
            "_view_module": "@jupyter-widgets/controls",
            "_view_module_version": "1.5.0",
            "_view_name": "HTMLView",
            "description": "",
            "description_tooltip": null,
            "layout": "IPY_MODEL_5ce7ea6ef7474e78af978f5888ebbc1f",
            "placeholder": "​",
            "style": "IPY_MODEL_9e3af00498e84e90b588befe4b085b2d",
            "value": "Generating test split: 100%"
          }
        },
        "45fbca679c43423bb713c2be2b29f9a2": {
          "model_module": "@jupyter-widgets/controls",
          "model_name": "FloatProgressModel",
          "model_module_version": "1.5.0",
          "state": {
            "_dom_classes": [],
            "_model_module": "@jupyter-widgets/controls",
            "_model_module_version": "1.5.0",
            "_model_name": "FloatProgressModel",
            "_view_count": null,
            "_view_module": "@jupyter-widgets/controls",
            "_view_module_version": "1.5.0",
            "_view_name": "ProgressView",
            "bar_style": "success",
            "description": "",
            "description_tooltip": null,
            "layout": "IPY_MODEL_b7b8d41bb77b456d8739cabfe7be1472",
            "max": 5153,
            "min": 0,
            "orientation": "horizontal",
            "style": "IPY_MODEL_28eb06485bd14e3da2428d2e00fd3c43",
            "value": 5153
          }
        },
        "0f1118a5698344d9ad40bd6c9451a97d": {
          "model_module": "@jupyter-widgets/controls",
          "model_name": "HTMLModel",
          "model_module_version": "1.5.0",
          "state": {
            "_dom_classes": [],
            "_model_module": "@jupyter-widgets/controls",
            "_model_module_version": "1.5.0",
            "_model_name": "HTMLModel",
            "_view_count": null,
            "_view_module": "@jupyter-widgets/controls",
            "_view_module_version": "1.5.0",
            "_view_name": "HTMLView",
            "description": "",
            "description_tooltip": null,
            "layout": "IPY_MODEL_aace01f0e55d4700bb65ba94274c2a73",
            "placeholder": "​",
            "style": "IPY_MODEL_e365b2d709c445d698b800c776327833",
            "value": " 5153/5153 [00:00&lt;00:00, 210499.52 examples/s]"
          }
        },
        "9bae202740344be5a5cc177e67cfc89c": {
          "model_module": "@jupyter-widgets/base",
          "model_name": "LayoutModel",
          "model_module_version": "1.2.0",
          "state": {
            "_model_module": "@jupyter-widgets/base",
            "_model_module_version": "1.2.0",
            "_model_name": "LayoutModel",
            "_view_count": null,
            "_view_module": "@jupyter-widgets/base",
            "_view_module_version": "1.2.0",
            "_view_name": "LayoutView",
            "align_content": null,
            "align_items": null,
            "align_self": null,
            "border": null,
            "bottom": null,
            "display": null,
            "flex": null,
            "flex_flow": null,
            "grid_area": null,
            "grid_auto_columns": null,
            "grid_auto_flow": null,
            "grid_auto_rows": null,
            "grid_column": null,
            "grid_gap": null,
            "grid_row": null,
            "grid_template_areas": null,
            "grid_template_columns": null,
            "grid_template_rows": null,
            "height": null,
            "justify_content": null,
            "justify_items": null,
            "left": null,
            "margin": null,
            "max_height": null,
            "max_width": null,
            "min_height": null,
            "min_width": null,
            "object_fit": null,
            "object_position": null,
            "order": null,
            "overflow": null,
            "overflow_x": null,
            "overflow_y": null,
            "padding": null,
            "right": null,
            "top": null,
            "visibility": null,
            "width": null
          }
        },
        "5ce7ea6ef7474e78af978f5888ebbc1f": {
          "model_module": "@jupyter-widgets/base",
          "model_name": "LayoutModel",
          "model_module_version": "1.2.0",
          "state": {
            "_model_module": "@jupyter-widgets/base",
            "_model_module_version": "1.2.0",
            "_model_name": "LayoutModel",
            "_view_count": null,
            "_view_module": "@jupyter-widgets/base",
            "_view_module_version": "1.2.0",
            "_view_name": "LayoutView",
            "align_content": null,
            "align_items": null,
            "align_self": null,
            "border": null,
            "bottom": null,
            "display": null,
            "flex": null,
            "flex_flow": null,
            "grid_area": null,
            "grid_auto_columns": null,
            "grid_auto_flow": null,
            "grid_auto_rows": null,
            "grid_column": null,
            "grid_gap": null,
            "grid_row": null,
            "grid_template_areas": null,
            "grid_template_columns": null,
            "grid_template_rows": null,
            "height": null,
            "justify_content": null,
            "justify_items": null,
            "left": null,
            "margin": null,
            "max_height": null,
            "max_width": null,
            "min_height": null,
            "min_width": null,
            "object_fit": null,
            "object_position": null,
            "order": null,
            "overflow": null,
            "overflow_x": null,
            "overflow_y": null,
            "padding": null,
            "right": null,
            "top": null,
            "visibility": null,
            "width": null
          }
        },
        "9e3af00498e84e90b588befe4b085b2d": {
          "model_module": "@jupyter-widgets/controls",
          "model_name": "DescriptionStyleModel",
          "model_module_version": "1.5.0",
          "state": {
            "_model_module": "@jupyter-widgets/controls",
            "_model_module_version": "1.5.0",
            "_model_name": "DescriptionStyleModel",
            "_view_count": null,
            "_view_module": "@jupyter-widgets/base",
            "_view_module_version": "1.2.0",
            "_view_name": "StyleView",
            "description_width": ""
          }
        },
        "b7b8d41bb77b456d8739cabfe7be1472": {
          "model_module": "@jupyter-widgets/base",
          "model_name": "LayoutModel",
          "model_module_version": "1.2.0",
          "state": {
            "_model_module": "@jupyter-widgets/base",
            "_model_module_version": "1.2.0",
            "_model_name": "LayoutModel",
            "_view_count": null,
            "_view_module": "@jupyter-widgets/base",
            "_view_module_version": "1.2.0",
            "_view_name": "LayoutView",
            "align_content": null,
            "align_items": null,
            "align_self": null,
            "border": null,
            "bottom": null,
            "display": null,
            "flex": null,
            "flex_flow": null,
            "grid_area": null,
            "grid_auto_columns": null,
            "grid_auto_flow": null,
            "grid_auto_rows": null,
            "grid_column": null,
            "grid_gap": null,
            "grid_row": null,
            "grid_template_areas": null,
            "grid_template_columns": null,
            "grid_template_rows": null,
            "height": null,
            "justify_content": null,
            "justify_items": null,
            "left": null,
            "margin": null,
            "max_height": null,
            "max_width": null,
            "min_height": null,
            "min_width": null,
            "object_fit": null,
            "object_position": null,
            "order": null,
            "overflow": null,
            "overflow_x": null,
            "overflow_y": null,
            "padding": null,
            "right": null,
            "top": null,
            "visibility": null,
            "width": null
          }
        },
        "28eb06485bd14e3da2428d2e00fd3c43": {
          "model_module": "@jupyter-widgets/controls",
          "model_name": "ProgressStyleModel",
          "model_module_version": "1.5.0",
          "state": {
            "_model_module": "@jupyter-widgets/controls",
            "_model_module_version": "1.5.0",
            "_model_name": "ProgressStyleModel",
            "_view_count": null,
            "_view_module": "@jupyter-widgets/base",
            "_view_module_version": "1.2.0",
            "_view_name": "StyleView",
            "bar_color": null,
            "description_width": ""
          }
        },
        "aace01f0e55d4700bb65ba94274c2a73": {
          "model_module": "@jupyter-widgets/base",
          "model_name": "LayoutModel",
          "model_module_version": "1.2.0",
          "state": {
            "_model_module": "@jupyter-widgets/base",
            "_model_module_version": "1.2.0",
            "_model_name": "LayoutModel",
            "_view_count": null,
            "_view_module": "@jupyter-widgets/base",
            "_view_module_version": "1.2.0",
            "_view_name": "LayoutView",
            "align_content": null,
            "align_items": null,
            "align_self": null,
            "border": null,
            "bottom": null,
            "display": null,
            "flex": null,
            "flex_flow": null,
            "grid_area": null,
            "grid_auto_columns": null,
            "grid_auto_flow": null,
            "grid_auto_rows": null,
            "grid_column": null,
            "grid_gap": null,
            "grid_row": null,
            "grid_template_areas": null,
            "grid_template_columns": null,
            "grid_template_rows": null,
            "height": null,
            "justify_content": null,
            "justify_items": null,
            "left": null,
            "margin": null,
            "max_height": null,
            "max_width": null,
            "min_height": null,
            "min_width": null,
            "object_fit": null,
            "object_position": null,
            "order": null,
            "overflow": null,
            "overflow_x": null,
            "overflow_y": null,
            "padding": null,
            "right": null,
            "top": null,
            "visibility": null,
            "width": null
          }
        },
        "e365b2d709c445d698b800c776327833": {
          "model_module": "@jupyter-widgets/controls",
          "model_name": "DescriptionStyleModel",
          "model_module_version": "1.5.0",
          "state": {
            "_model_module": "@jupyter-widgets/controls",
            "_model_module_version": "1.5.0",
            "_model_name": "DescriptionStyleModel",
            "_view_count": null,
            "_view_module": "@jupyter-widgets/base",
            "_view_module_version": "1.2.0",
            "_view_name": "StyleView",
            "description_width": ""
          }
        },
        "7fd6450caf434eb78d821d907a3f0afd": {
          "model_module": "@jupyter-widgets/controls",
          "model_name": "HBoxModel",
          "model_module_version": "1.5.0",
          "state": {
            "_dom_classes": [],
            "_model_module": "@jupyter-widgets/controls",
            "_model_module_version": "1.5.0",
            "_model_name": "HBoxModel",
            "_view_count": null,
            "_view_module": "@jupyter-widgets/controls",
            "_view_module_version": "1.5.0",
            "_view_name": "HBoxView",
            "box_style": "",
            "children": [
              "IPY_MODEL_51d151923a564e2eae6de977f2657b8d",
              "IPY_MODEL_55721587adf84b6282fb99b5d266449e",
              "IPY_MODEL_f597683f4b29439f8221d13d213dfce8"
            ],
            "layout": "IPY_MODEL_9cbe122e5ea141bb9809a4bcdfa27eb0"
          }
        },
        "51d151923a564e2eae6de977f2657b8d": {
          "model_module": "@jupyter-widgets/controls",
          "model_name": "HTMLModel",
          "model_module_version": "1.5.0",
          "state": {
            "_dom_classes": [],
            "_model_module": "@jupyter-widgets/controls",
            "_model_module_version": "1.5.0",
            "_model_name": "HTMLModel",
            "_view_count": null,
            "_view_module": "@jupyter-widgets/controls",
            "_view_module_version": "1.5.0",
            "_view_name": "HTMLView",
            "description": "",
            "description_tooltip": null,
            "layout": "IPY_MODEL_04f6169779784d03ba8e07f46908ff03",
            "placeholder": "​",
            "style": "IPY_MODEL_e682756bfe884abc85c25542cd98708e",
            "value": "Generating validation split: 100%"
          }
        },
        "55721587adf84b6282fb99b5d266449e": {
          "model_module": "@jupyter-widgets/controls",
          "model_name": "FloatProgressModel",
          "model_module_version": "1.5.0",
          "state": {
            "_dom_classes": [],
            "_model_module": "@jupyter-widgets/controls",
            "_model_module_version": "1.5.0",
            "_model_name": "FloatProgressModel",
            "_view_count": null,
            "_view_module": "@jupyter-widgets/controls",
            "_view_module_version": "1.5.0",
            "_view_name": "ProgressView",
            "bar_style": "success",
            "description": "",
            "description_tooltip": null,
            "layout": "IPY_MODEL_f7821dbbc9944af6aded84c05062c73e",
            "max": 4869,
            "min": 0,
            "orientation": "horizontal",
            "style": "IPY_MODEL_b6537897d1cd44ac8120fb7d758db301",
            "value": 4869
          }
        },
        "f597683f4b29439f8221d13d213dfce8": {
          "model_module": "@jupyter-widgets/controls",
          "model_name": "HTMLModel",
          "model_module_version": "1.5.0",
          "state": {
            "_dom_classes": [],
            "_model_module": "@jupyter-widgets/controls",
            "_model_module_version": "1.5.0",
            "_model_name": "HTMLModel",
            "_view_count": null,
            "_view_module": "@jupyter-widgets/controls",
            "_view_module_version": "1.5.0",
            "_view_name": "HTMLView",
            "description": "",
            "description_tooltip": null,
            "layout": "IPY_MODEL_928c8b1edc33468a84aa33d18031debc",
            "placeholder": "​",
            "style": "IPY_MODEL_63aeacc02f164efabfd1befc2d4d4f35",
            "value": " 4869/4869 [00:00&lt;00:00, 245271.80 examples/s]"
          }
        },
        "9cbe122e5ea141bb9809a4bcdfa27eb0": {
          "model_module": "@jupyter-widgets/base",
          "model_name": "LayoutModel",
          "model_module_version": "1.2.0",
          "state": {
            "_model_module": "@jupyter-widgets/base",
            "_model_module_version": "1.2.0",
            "_model_name": "LayoutModel",
            "_view_count": null,
            "_view_module": "@jupyter-widgets/base",
            "_view_module_version": "1.2.0",
            "_view_name": "LayoutView",
            "align_content": null,
            "align_items": null,
            "align_self": null,
            "border": null,
            "bottom": null,
            "display": null,
            "flex": null,
            "flex_flow": null,
            "grid_area": null,
            "grid_auto_columns": null,
            "grid_auto_flow": null,
            "grid_auto_rows": null,
            "grid_column": null,
            "grid_gap": null,
            "grid_row": null,
            "grid_template_areas": null,
            "grid_template_columns": null,
            "grid_template_rows": null,
            "height": null,
            "justify_content": null,
            "justify_items": null,
            "left": null,
            "margin": null,
            "max_height": null,
            "max_width": null,
            "min_height": null,
            "min_width": null,
            "object_fit": null,
            "object_position": null,
            "order": null,
            "overflow": null,
            "overflow_x": null,
            "overflow_y": null,
            "padding": null,
            "right": null,
            "top": null,
            "visibility": null,
            "width": null
          }
        },
        "04f6169779784d03ba8e07f46908ff03": {
          "model_module": "@jupyter-widgets/base",
          "model_name": "LayoutModel",
          "model_module_version": "1.2.0",
          "state": {
            "_model_module": "@jupyter-widgets/base",
            "_model_module_version": "1.2.0",
            "_model_name": "LayoutModel",
            "_view_count": null,
            "_view_module": "@jupyter-widgets/base",
            "_view_module_version": "1.2.0",
            "_view_name": "LayoutView",
            "align_content": null,
            "align_items": null,
            "align_self": null,
            "border": null,
            "bottom": null,
            "display": null,
            "flex": null,
            "flex_flow": null,
            "grid_area": null,
            "grid_auto_columns": null,
            "grid_auto_flow": null,
            "grid_auto_rows": null,
            "grid_column": null,
            "grid_gap": null,
            "grid_row": null,
            "grid_template_areas": null,
            "grid_template_columns": null,
            "grid_template_rows": null,
            "height": null,
            "justify_content": null,
            "justify_items": null,
            "left": null,
            "margin": null,
            "max_height": null,
            "max_width": null,
            "min_height": null,
            "min_width": null,
            "object_fit": null,
            "object_position": null,
            "order": null,
            "overflow": null,
            "overflow_x": null,
            "overflow_y": null,
            "padding": null,
            "right": null,
            "top": null,
            "visibility": null,
            "width": null
          }
        },
        "e682756bfe884abc85c25542cd98708e": {
          "model_module": "@jupyter-widgets/controls",
          "model_name": "DescriptionStyleModel",
          "model_module_version": "1.5.0",
          "state": {
            "_model_module": "@jupyter-widgets/controls",
            "_model_module_version": "1.5.0",
            "_model_name": "DescriptionStyleModel",
            "_view_count": null,
            "_view_module": "@jupyter-widgets/base",
            "_view_module_version": "1.2.0",
            "_view_name": "StyleView",
            "description_width": ""
          }
        },
        "f7821dbbc9944af6aded84c05062c73e": {
          "model_module": "@jupyter-widgets/base",
          "model_name": "LayoutModel",
          "model_module_version": "1.2.0",
          "state": {
            "_model_module": "@jupyter-widgets/base",
            "_model_module_version": "1.2.0",
            "_model_name": "LayoutModel",
            "_view_count": null,
            "_view_module": "@jupyter-widgets/base",
            "_view_module_version": "1.2.0",
            "_view_name": "LayoutView",
            "align_content": null,
            "align_items": null,
            "align_self": null,
            "border": null,
            "bottom": null,
            "display": null,
            "flex": null,
            "flex_flow": null,
            "grid_area": null,
            "grid_auto_columns": null,
            "grid_auto_flow": null,
            "grid_auto_rows": null,
            "grid_column": null,
            "grid_gap": null,
            "grid_row": null,
            "grid_template_areas": null,
            "grid_template_columns": null,
            "grid_template_rows": null,
            "height": null,
            "justify_content": null,
            "justify_items": null,
            "left": null,
            "margin": null,
            "max_height": null,
            "max_width": null,
            "min_height": null,
            "min_width": null,
            "object_fit": null,
            "object_position": null,
            "order": null,
            "overflow": null,
            "overflow_x": null,
            "overflow_y": null,
            "padding": null,
            "right": null,
            "top": null,
            "visibility": null,
            "width": null
          }
        },
        "b6537897d1cd44ac8120fb7d758db301": {
          "model_module": "@jupyter-widgets/controls",
          "model_name": "ProgressStyleModel",
          "model_module_version": "1.5.0",
          "state": {
            "_model_module": "@jupyter-widgets/controls",
            "_model_module_version": "1.5.0",
            "_model_name": "ProgressStyleModel",
            "_view_count": null,
            "_view_module": "@jupyter-widgets/base",
            "_view_module_version": "1.2.0",
            "_view_name": "StyleView",
            "bar_color": null,
            "description_width": ""
          }
        },
        "928c8b1edc33468a84aa33d18031debc": {
          "model_module": "@jupyter-widgets/base",
          "model_name": "LayoutModel",
          "model_module_version": "1.2.0",
          "state": {
            "_model_module": "@jupyter-widgets/base",
            "_model_module_version": "1.2.0",
            "_model_name": "LayoutModel",
            "_view_count": null,
            "_view_module": "@jupyter-widgets/base",
            "_view_module_version": "1.2.0",
            "_view_name": "LayoutView",
            "align_content": null,
            "align_items": null,
            "align_self": null,
            "border": null,
            "bottom": null,
            "display": null,
            "flex": null,
            "flex_flow": null,
            "grid_area": null,
            "grid_auto_columns": null,
            "grid_auto_flow": null,
            "grid_auto_rows": null,
            "grid_column": null,
            "grid_gap": null,
            "grid_row": null,
            "grid_template_areas": null,
            "grid_template_columns": null,
            "grid_template_rows": null,
            "height": null,
            "justify_content": null,
            "justify_items": null,
            "left": null,
            "margin": null,
            "max_height": null,
            "max_width": null,
            "min_height": null,
            "min_width": null,
            "object_fit": null,
            "object_position": null,
            "order": null,
            "overflow": null,
            "overflow_x": null,
            "overflow_y": null,
            "padding": null,
            "right": null,
            "top": null,
            "visibility": null,
            "width": null
          }
        },
        "63aeacc02f164efabfd1befc2d4d4f35": {
          "model_module": "@jupyter-widgets/controls",
          "model_name": "DescriptionStyleModel",
          "model_module_version": "1.5.0",
          "state": {
            "_model_module": "@jupyter-widgets/controls",
            "_model_module_version": "1.5.0",
            "_model_name": "DescriptionStyleModel",
            "_view_count": null,
            "_view_module": "@jupyter-widgets/base",
            "_view_module_version": "1.2.0",
            "_view_name": "StyleView",
            "description_width": ""
          }
        }
      }
    }
  },
  "cells": [
    {
      "cell_type": "code",
      "execution_count": null,
      "metadata": {
        "colab": {
          "base_uri": "https://localhost:8080/"
        },
        "id": "rPIiRu5bazlp",
        "outputId": "13856092-1ccd-4cce-f1db-9be8b7521f59"
      },
      "outputs": [
        {
          "output_type": "stream",
          "name": "stdout",
          "text": [
            "\u001b[2K   \u001b[90m━━━━━━━━━━━━━━━━━━━━━━━━━━━━━━━━━━━━━━━━\u001b[0m \u001b[32m67.0/67.0 MB\u001b[0m \u001b[31m25.2 MB/s\u001b[0m eta \u001b[36m0:00:00\u001b[0m\n",
            "\u001b[2K   \u001b[90m━━━━━━━━━━━━━━━━━━━━━━━━━━━━━━━━━━━━━━━━\u001b[0m \u001b[32m363.4/363.4 MB\u001b[0m \u001b[31m2.9 MB/s\u001b[0m eta \u001b[36m0:00:00\u001b[0m\n",
            "\u001b[2K   \u001b[90m━━━━━━━━━━━━━━━━━━━━━━━━━━━━━━━━━━━━━━━━\u001b[0m \u001b[32m13.8/13.8 MB\u001b[0m \u001b[31m61.4 MB/s\u001b[0m eta \u001b[36m0:00:00\u001b[0m\n",
            "\u001b[2K   \u001b[90m━━━━━━━━━━━━━━━━━━━━━━━━━━━━━━━━━━━━━━━━\u001b[0m \u001b[32m24.6/24.6 MB\u001b[0m \u001b[31m79.8 MB/s\u001b[0m eta \u001b[36m0:00:00\u001b[0m\n",
            "\u001b[2K   \u001b[90m━━━━━━━━━━━━━━━━━━━━━━━━━━━━━━━━━━━━━━━━\u001b[0m \u001b[32m883.7/883.7 kB\u001b[0m \u001b[31m51.8 MB/s\u001b[0m eta \u001b[36m0:00:00\u001b[0m\n",
            "\u001b[2K   \u001b[90m━━━━━━━━━━━━━━━━━━━━━━━━━━━━━━━━━━━━━━━━\u001b[0m \u001b[32m664.8/664.8 MB\u001b[0m \u001b[31m1.8 MB/s\u001b[0m eta \u001b[36m0:00:00\u001b[0m\n",
            "\u001b[2K   \u001b[90m━━━━━━━━━━━━━━━━━━━━━━━━━━━━━━━━━━━━━━━━\u001b[0m \u001b[32m211.5/211.5 MB\u001b[0m \u001b[31m11.2 MB/s\u001b[0m eta \u001b[36m0:00:00\u001b[0m\n",
            "\u001b[2K   \u001b[90m━━━━━━━━━━━━━━━━━━━━━━━━━━━━━━━━━━━━━━━━\u001b[0m \u001b[32m56.3/56.3 MB\u001b[0m \u001b[31m12.3 MB/s\u001b[0m eta \u001b[36m0:00:00\u001b[0m\n",
            "\u001b[2K   \u001b[90m━━━━━━━━━━━━━━━━━━━━━━━━━━━━━━━━━━━━━━━━\u001b[0m \u001b[32m127.9/127.9 MB\u001b[0m \u001b[31m18.3 MB/s\u001b[0m eta \u001b[36m0:00:00\u001b[0m\n",
            "\u001b[2K   \u001b[90m━━━━━━━━━━━━━━━━━━━━━━━━━━━━━━━━━━━━━━━━\u001b[0m \u001b[32m207.5/207.5 MB\u001b[0m \u001b[31m6.3 MB/s\u001b[0m eta \u001b[36m0:00:00\u001b[0m\n",
            "\u001b[2K   \u001b[90m━━━━━━━━━━━━━━━━━━━━━━━━━━━━━━━━━━━━━━━━\u001b[0m \u001b[32m21.1/21.1 MB\u001b[0m \u001b[31m92.4 MB/s\u001b[0m eta \u001b[36m0:00:00\u001b[0m\n",
            "\u001b[2K     \u001b[90m━━━━━━━━━━━━━━━━━━━━━━━━━━━━━━━━━━━━━━━━\u001b[0m \u001b[32m50.5/50.5 kB\u001b[0m \u001b[31m2.1 MB/s\u001b[0m eta \u001b[36m0:00:00\u001b[0m\n",
            "\u001b[?25h  Preparing metadata (setup.py) ... \u001b[?25l\u001b[?25hdone\n",
            "\u001b[2K     \u001b[90m━━━━━━━━━━━━━━━━━━━━━━━━━━━━━━━━━━━━━━━━\u001b[0m \u001b[32m51.8/51.8 kB\u001b[0m \u001b[31m5.5 MB/s\u001b[0m eta \u001b[36m0:00:00\u001b[0m\n",
            "\u001b[?25h  Preparing metadata (setup.py) ... \u001b[?25l\u001b[?25hdone\n",
            "  Preparing metadata (setup.py) ... \u001b[?25l\u001b[?25hdone\n",
            "\u001b[2K   \u001b[90m━━━━━━━━━━━━━━━━━━━━━━━━━━━━━━━━━━━━━━━━\u001b[0m \u001b[32m3.9/3.9 MB\u001b[0m \u001b[31m52.8 MB/s\u001b[0m eta \u001b[36m0:00:00\u001b[0m\n",
            "\u001b[2K   \u001b[90m━━━━━━━━━━━━━━━━━━━━━━━━━━━━━━━━━━━━━━━━\u001b[0m \u001b[32m491.5/491.5 kB\u001b[0m \u001b[31m41.9 MB/s\u001b[0m eta \u001b[36m0:00:00\u001b[0m\n",
            "\u001b[2K   \u001b[90m━━━━━━━━━━━━━━━━━━━━━━━━━━━━━━━━━━━━━━━━\u001b[0m \u001b[32m84.0/84.0 kB\u001b[0m \u001b[31m9.4 MB/s\u001b[0m eta \u001b[36m0:00:00\u001b[0m\n",
            "\u001b[2K   \u001b[90m━━━━━━━━━━━━━━━━━━━━━━━━━━━━━━━━━━━━━━━━\u001b[0m \u001b[32m243.3/243.3 kB\u001b[0m \u001b[31m22.5 MB/s\u001b[0m eta \u001b[36m0:00:00\u001b[0m\n",
            "\u001b[2K   \u001b[90m━━━━━━━━━━━━━━━━━━━━━━━━━━━━━━━━━━━━━━━━\u001b[0m \u001b[32m104.1/104.1 kB\u001b[0m \u001b[31m11.3 MB/s\u001b[0m eta \u001b[36m0:00:00\u001b[0m\n",
            "\u001b[2K   \u001b[90m━━━━━━━━━━━━━━━━━━━━━━━━━━━━━━━━━━━━━━━━\u001b[0m \u001b[32m91.1/91.1 kB\u001b[0m \u001b[31m9.1 MB/s\u001b[0m eta \u001b[36m0:00:00\u001b[0m\n",
            "\u001b[2K   \u001b[90m━━━━━━━━━━━━━━━━━━━━━━━━━━━━━━━━━━━━━━━━\u001b[0m \u001b[32m193.6/193.6 kB\u001b[0m \u001b[31m19.5 MB/s\u001b[0m eta \u001b[36m0:00:00\u001b[0m\n",
            "\u001b[?25h  Building wheel for rouge-score (setup.py) ... \u001b[?25l\u001b[?25hdone\n",
            "  Building wheel for sqlitedict (setup.py) ... \u001b[?25l\u001b[?25hdone\n",
            "  Building wheel for word2number (setup.py) ... \u001b[?25l\u001b[?25hdone\n",
            "\u001b[31mERROR: pip's dependency resolver does not currently take into account all the packages that are installed. This behaviour is the source of the following dependency conflicts.\n",
            "gcsfs 2025.3.2 requires fsspec==2025.3.2, but you have fsspec 2025.3.0 which is incompatible.\u001b[0m\u001b[31m\n",
            "\u001b[0m"
          ]
        }
      ],
      "source": [
        "# !pip install -q transformers\n",
        "!pip install -q bitsandbytes\n",
        "# !pip install -q datasets\n",
        "# !pip install -q torch\n",
        "!pip install -q lm-eval"
      ]
    },
    {
      "cell_type": "code",
      "source": [
        "import torch\n",
        "from torch.optim import AdamW\n",
        "from transformers import (AutoModelForCausalLM, Gemma3ForConditionalGeneration, AutoProcessor,\n",
        "                          AutoTokenizer, BitsAndBytesConfig, Trainer, TrainingArguments)\n",
        "from tqdm import tqdm\n",
        "from datasets import load_dataset\n",
        "from torch.nn import functional as F\n",
        "from torch.utils.data import DataLoader"
      ],
      "metadata": {
        "id": "dEepIRL5bdN9"
      },
      "execution_count": null,
      "outputs": []
    },
    {
      "cell_type": "code",
      "source": [
        "import os\n",
        "import wandb\n",
        "from google.colab import userdata\n",
        "\n",
        "os.environ[\"HF_TOKEN\"] =  userdata.get('HF_TOKEN')\n",
        "WANDB_API_KEY =  userdata.get('WANDB_API_KEY')\n",
        "\n",
        "os.environ['CUDA_LAUNCH_BLOCKING'] = '1'\n",
        "\n",
        "WANDB_PROJECT_NAME = \"Distil_Gemma_LLama\"\n",
        "wandb.login(key=WANDB_API_KEY)\n",
        "if len(WANDB_PROJECT_NAME) > 0:\n",
        "    os.environ[\"WANDB_PROJECT\"] = WANDB_PROJECT_NAME"
      ],
      "metadata": {
        "id": "A4Lpf2DKbnTR",
        "colab": {
          "base_uri": "https://localhost:8080/"
        },
        "outputId": "085fcb16-66fb-4098-f8c9-bee73cb6fa87"
      },
      "execution_count": null,
      "outputs": [
        {
          "output_type": "stream",
          "name": "stderr",
          "text": [
            "\u001b[34m\u001b[1mwandb\u001b[0m: \u001b[33mWARNING\u001b[0m If you're specifying your api key in code, ensure this code is not shared publicly.\n",
            "\u001b[34m\u001b[1mwandb\u001b[0m: \u001b[33mWARNING\u001b[0m Consider setting the WANDB_API_KEY environment variable, or running `wandb login` from the command line.\n",
            "\u001b[34m\u001b[1mwandb\u001b[0m: No netrc file found, creating one.\n",
            "\u001b[34m\u001b[1mwandb\u001b[0m: Appending key for api.wandb.ai to your netrc file: /root/.netrc\n",
            "\u001b[34m\u001b[1mwandb\u001b[0m: Currently logged in as: \u001b[33mmohamed-ahmed\u001b[0m to \u001b[32mhttps://api.wandb.ai\u001b[0m. Use \u001b[1m`wandb login --relogin`\u001b[0m to force relogin\n"
          ]
        }
      ]
    },
    {
      "cell_type": "code",
      "source": [],
      "metadata": {
        "id": "xwbBqwk5gZRm"
      },
      "execution_count": null,
      "outputs": []
    },
    {
      "cell_type": "code",
      "source": [],
      "metadata": {
        "id": "_JZksBRSZ4jE"
      },
      "execution_count": null,
      "outputs": []
    },
    {
      "cell_type": "code",
      "source": [],
      "metadata": {
        "id": "T6QuEBumZ4f0"
      },
      "execution_count": null,
      "outputs": []
    },
    {
      "cell_type": "code",
      "source": [],
      "metadata": {
        "id": "JXDxNyHCZ4cc"
      },
      "execution_count": null,
      "outputs": []
    },
    {
      "cell_type": "code",
      "source": [
        "teacher_model_name = \"google/gemma-3-4b-it\"\n",
        "student_model_name = \"meta-llama/Llama-3.2-1B\""
      ],
      "metadata": {
        "id": "9Xuj1-dRde3M"
      },
      "execution_count": null,
      "outputs": []
    },
    {
      "cell_type": "code",
      "source": [
        "# tokenizer = AutoTokenizer.from_pretrained(teacher_model_name)\n",
        "# tokenizer.pad_token = tokenizer.eos_token\n",
        "# tokenizer.pad_token"
      ],
      "metadata": {
        "id": "708xzjXMeDTp"
      },
      "execution_count": null,
      "outputs": []
    },
    {
      "cell_type": "code",
      "source": [
        "tokenizer = AutoTokenizer.from_pretrained(student_model_name)\n",
        "tokenizer.pad_token = tokenizer.eos_token\n",
        "tokenizer.pad_token"
      ],
      "metadata": {
        "colab": {
          "base_uri": "https://localhost:8080/",
          "height": 35
        },
        "id": "-pfvANZnT6_c",
        "outputId": "da6417f5-953e-4a7e-a134-e903e134db89"
      },
      "execution_count": null,
      "outputs": [
        {
          "output_type": "execute_result",
          "data": {
            "text/plain": [
              "'<|end_of_text|>'"
            ],
            "application/vnd.google.colaboratory.intrinsic+json": {
              "type": "string"
            }
          },
          "metadata": {},
          "execution_count": 6
        }
      ]
    },
    {
      "cell_type": "code",
      "source": [
        "device = torch.device(\"cuda\" if torch.cuda.is_available() else \"cpu\")\n",
        "\n",
        "# if torch.cuda.get_device_capability()[0] >= 8:\n",
        "#     !pip install -qqq flash-attn\n",
        "#     torch_dtype = torch.bfloat16\n",
        "#     attn_implementation = \"flash_attention_2\"\n",
        "# else:\n",
        "#     torch_dtype = torch.float16\n",
        "#     attn_implementation = \"eager\"\n",
        "\n",
        "torch_dtype = torch.bfloat16\n",
        "attn_implementation = \"eager\""
      ],
      "metadata": {
        "id": "CxBj1H0blEJy"
      },
      "execution_count": null,
      "outputs": []
    },
    {
      "cell_type": "code",
      "source": [
        "quantization_config = BitsAndBytesConfig(load_in_4bit=True,\n",
        "                                         bnb_4bit_use_double_quant=True,\n",
        "                                         bnb_4bit_quant_type=\"nf4\",\n",
        "                                         bnb_4bit_compute_dtype=torch_dtype,\n",
        "                                         llm_int8_enable_fp32_cpu_offload=False)"
      ],
      "metadata": {
        "id": "H_NUYQYkkw_Y"
      },
      "execution_count": null,
      "outputs": []
    },
    {
      "cell_type": "code",
      "source": [
        "# teacher_model = Gemma3ForConditionalGeneration.from_pretrained(teacher_model_name,\n",
        "#                                                                quantization_config=quantization_config,\n",
        "#                                                                device_map=\"auto\",\n",
        "#                                                                trust_remote_code=True,\n",
        "#                                                                torch_dtype=torch_dtype,\n",
        "#                                                                attn_implementation=attn_implementation)\n",
        "\n",
        "# student_model = AutoModelForCausalLM.from_pretrained(student_model_name,\n",
        "#                                                      quantization_config=quantization_config,\n",
        "#                                                      device_map=\"auto\",\n",
        "#                                                      trust_remote_code=True,\n",
        "#                                                      attn_implementation=attn_implementation)\n",
        "\n",
        "teacher_model = Gemma3ForConditionalGeneration.from_pretrained(teacher_model_name,\n",
        "                                                               quantization_config=quantization_config,\n",
        "                                                               device_map=\"auto\",\n",
        "                                                               trust_remote_code=True,\n",
        "                                                               torch_dtype=torch_dtype,\n",
        "                                                               attn_implementation=attn_implementation)\n",
        "\n",
        "student_model = AutoModelForCausalLM.from_pretrained(student_model_name,\n",
        "                                                     torch_dtype=torch_dtype,\n",
        "                                                     device_map=\"auto\")"
      ],
      "metadata": {
        "colab": {
          "base_uri": "https://localhost:8080/",
          "height": 49,
          "referenced_widgets": [
            "57b4b3492eec4eb2809568bd180854ec",
            "a43ba2bcbd634aa2acdca0dd8d7383fd",
            "782615cf64384d3ca1c2128e61095451",
            "efecf9a32cc04659803201585fe3cc12",
            "63fefa72e0494a0297b4bde3564306dd",
            "9c1a10367c154b3eb3179660acb5987d",
            "98ed062776404ce09479851b476fe52d",
            "4e1ab8cc2a5b4001a8a2ee74868aaa86",
            "ece918b4896f48dba6f0ebd042e3ef35",
            "8c4cb4adf5aa4186b917719cecea0b1a",
            "7f216c583c4c4050a36813fb03e98b78"
          ]
        },
        "id": "kjhUfsRDef4E",
        "outputId": "2ee578cd-08d3-481f-b52a-87abd9fc288e"
      },
      "execution_count": null,
      "outputs": [
        {
          "output_type": "display_data",
          "data": {
            "text/plain": [
              "Loading checkpoint shards:   0%|          | 0/2 [00:00<?, ?it/s]"
            ],
            "application/vnd.jupyter.widget-view+json": {
              "version_major": 2,
              "version_minor": 0,
              "model_id": "57b4b3492eec4eb2809568bd180854ec"
            }
          },
          "metadata": {}
        }
      ]
    },
    {
      "cell_type": "code",
      "source": [
        "# import torch\n",
        "# from transformers import AutoProcessor, Gemma3ForConditionalGeneration\n",
        "\n",
        "# ckpt = \"google/gemma-3-4b-it\"\n",
        "# model = Gemma3ForConditionalGeneration.from_pretrained(\n",
        "#     ckpt,\n",
        "#     device_map=\"auto\",\n",
        "#     torch_dtype=torch_dtype)\n",
        "\n",
        "# processor = AutoProcessor.from_pretrained(ckpt)\n",
        "\n",
        "# messages = [\n",
        "#     {\n",
        "#         \"role\": \"user\",\n",
        "#         \"content\": [\n",
        "#             # {\"type\": \"image\", \"url\": \"https://huggingface.co/spaces/big-vision/paligemma-hf/resolve/main/examples/password.jpg\"},\n",
        "#             {\"type\": \"text\", \"text\": \"What is the password?\"}\n",
        "#         ]\n",
        "#     }\n",
        "# ]\n",
        "\n",
        "# max_length = 512\n",
        "# inputs = processor.apply_chat_template(\n",
        "#     messages, add_generation_prompt=True, tokenize=True,\n",
        "#     return_dict=True, return_tensors=\"pt\", padding_side=\"right\",\n",
        "#     padding=\"max_length\", truncation=True, max_length=max_length,\n",
        "# ).to(model.device)\n",
        "\n",
        "\n",
        "# teacher_labels = inputs[\"input_ids\"].clone()\n",
        "# teacher_labels[teacher_labels == processor.tokenizer.pad_token_id] = -100\n",
        "# inputs[\"labels\"] = teacher_labels\n",
        "\n",
        "# model.eval()\n",
        "# with torch.no_grad():\n",
        "#     teacher_outputs = model(\n",
        "#         input_ids=inputs[\"input_ids\"],\n",
        "#         attention_mask=inputs[\"attention_mask\"],\n",
        "#         labels=inputs[\"labels\"],\n",
        "#         output_hidden_states=True\n",
        "#     )\n",
        "# teacher_logits = teacher_outputs.logits\n",
        "\n",
        "# # input_len = inputs[\"input_ids\"].shape[-1]\n",
        "\n",
        "# # generation = model.generate(**inputs, max_new_tokens=100, do_sample=False)\n",
        "# # generation = generation[0][input_len:]\n",
        "\n",
        "# # decoded = processor.decode(generation, skip_special_tokens=True)\n",
        "# # print(decoded)\n",
        "\n",
        "# teacher_logits"
      ],
      "metadata": {
        "id": "-5X_LN15Qga9"
      },
      "execution_count": null,
      "outputs": []
    },
    {
      "cell_type": "code",
      "source": [
        "dataset = load_dataset(\"lavita/medical-qa-datasets\", \"all-processed\", split=\"train\")\n",
        "original_dataset = dataset\n",
        "dataset = dataset.select(range(1000))"
      ],
      "metadata": {
        "id": "y-eAHbJZgabi"
      },
      "execution_count": null,
      "outputs": []
    },
    {
      "cell_type": "code",
      "source": [
        "dataset.column_names"
      ],
      "metadata": {
        "colab": {
          "base_uri": "https://localhost:8080/"
        },
        "id": "ciYJmyUiPAwv",
        "outputId": "38218c3f-fbce-463e-9bfb-36024410f3ae"
      },
      "execution_count": null,
      "outputs": [
        {
          "output_type": "execute_result",
          "data": {
            "text/plain": [
              "['instruction', 'input', 'output', '__index_level_0__']"
            ]
          },
          "metadata": {},
          "execution_count": 12
        }
      ]
    },
    {
      "cell_type": "code",
      "source": [
        "def format_prompt(example):\n",
        "    return {\n",
        "        \"prompt\": f\"Instruction: {example['instruction']}\\nQuestion{example['input']}\\nAnswer: {example['output']}\"\n",
        "    }\n",
        "\n",
        "formatted_dataset = dataset.map(format_prompt)"
      ],
      "metadata": {
        "id": "UxvCySJMOe-Q"
      },
      "execution_count": null,
      "outputs": []
    },
    {
      "cell_type": "code",
      "source": [
        "print(formatted_dataset['prompt'][0])"
      ],
      "metadata": {
        "colab": {
          "base_uri": "https://localhost:8080/"
        },
        "id": "BerBNR4_MYi6",
        "outputId": "1aff7ef3-0b0d-4f53-d8da-3921511efac5"
      },
      "execution_count": null,
      "outputs": [
        {
          "output_type": "stream",
          "name": "stdout",
          "text": [
            "Instruction: If you are a doctor, please answer the medical questions based on the patient's description.\n",
            "Questionhi. im a home health aide and i have a client with scoliosis in the back and kidney disease. her feet ankles and calves have been swollen for the past 2 weeks. mostly in her feet. she started a patch for pain in her legs 3 weeks ago. she started swelling up almost a week after she started the patch and the pain doctor cut the dose in half and she is still swollen. she has no blood clots in her legs because one of her doctors checked and they said it might be because of her back. what do you think? im concerned because she has been swollen up for to long and theres only so much i can do being her home health aide. we both want to get to the bottom of this swelling she is having\n",
            "Answer: hi, thanks for contacting chatbot. swelling in the legs and feet can come from many causes, one of them being general circulation or ineffectiveness of the kidneys to rid the body of excess water. most times, people with lower extremity swelling will be placed on diuretics (\\\"water pills\\\") to see if that helps reduce the swelling. if the veins are not working as properly as they were, there may be a need for compression stockings, assuming the arteries are normal. it would be good to get the situation evaluated being that there are so many causes. i hope this answers your question, if you have any further questions, i am here to help. thanks.\n"
          ]
        }
      ]
    },
    {
      "cell_type": "code",
      "source": [
        "def process_distillation_data(samples, teacher_processor, student_tokenizer, max_length=128):\n",
        "    prompts = samples[\"prompt\"]\n",
        "    if not isinstance(prompts, list):\n",
        "        prompts = [prompts]\n",
        "\n",
        "    # Process teacher inputs (text-only)\n",
        "    teacher_inputs = teacher_processor(\n",
        "        text=prompts,\n",
        "        padding=\"max_length\",\n",
        "        truncation=True,\n",
        "        max_length=max_length,\n",
        "        return_tensors=\"pt\",\n",
        "        padding_side=\"right\"\n",
        "    )\n",
        "\n",
        "    teacher_input_ids = teacher_inputs[\"input_ids\"]\n",
        "    teacher_attention_mask = teacher_inputs[\"attention_mask\"]\n",
        "\n",
        "    teacher_labels = teacher_input_ids.clone()\n",
        "    teacher_labels[teacher_labels == teacher_processor.tokenizer.pad_token_id] = -100\n",
        "\n",
        "    # Process student inputs (text-only)\n",
        "    student_inputs = student_tokenizer(\n",
        "        prompts,\n",
        "        padding=\"max_length\",\n",
        "        truncation=True,\n",
        "        max_length=max_length,\n",
        "        return_tensors=\"pt\",\n",
        "        padding_side=\"right\"\n",
        "    )\n",
        "\n",
        "    student_input_ids = student_inputs[\"input_ids\"]\n",
        "    student_attention_mask = student_inputs[\"attention_mask\"]\n",
        "\n",
        "    student_labels = student_input_ids.clone()\n",
        "    student_labels[student_labels == student_tokenizer.pad_token_id] = -100\n",
        "\n",
        "    return {\n",
        "        \"teacher_input_ids\": teacher_input_ids,\n",
        "        \"teacher_labels\": teacher_labels,\n",
        "        \"teacher_attention_mask\": teacher_attention_mask,\n",
        "        \"student_input_ids\": student_input_ids,\n",
        "        \"student_labels\": student_labels,\n",
        "        \"student_attention_mask\": student_attention_mask\n",
        "    }\n",
        "\n",
        "\n",
        "def create_tokenize_function(teacher_processor, student_tokenizer, max_length=128, text_column=\"prompt\"):\n",
        "\n",
        "    def tokenize_function(examples):\n",
        "        prompts = examples[text_column]\n",
        "\n",
        "        # Process teacher inputs\n",
        "        teacher_inputs = teacher_processor(\n",
        "            text=prompts,\n",
        "            padding=\"max_length\",\n",
        "            truncation=True,\n",
        "            max_length=max_length,\n",
        "            return_tensors=\"pt\",\n",
        "            padding_side=\"right\"\n",
        "        )\n",
        "\n",
        "        # Process student inputs\n",
        "        student_inputs = student_tokenizer(\n",
        "            prompts,\n",
        "            padding=\"max_length\",\n",
        "            truncation=True,\n",
        "            max_length=max_length,\n",
        "            return_tensors=\"pt\",\n",
        "            padding_side=\"right\"\n",
        "        )\n",
        "\n",
        "        return {\n",
        "            \"teacher_input_ids\": teacher_inputs[\"input_ids\"].tolist(),\n",
        "            \"teacher_attention_mask\": teacher_inputs[\"attention_mask\"].tolist(),\n",
        "            \"teacher_labels\": teacher_inputs[\"input_ids\"].tolist(),\n",
        "            \"student_input_ids\": student_inputs[\"input_ids\"].tolist(),\n",
        "            \"student_attention_mask\": student_inputs[\"attention_mask\"].tolist(),\n",
        "            \"student_labels\": student_inputs[\"input_ids\"].tolist(),\n",
        "        }\n",
        "\n",
        "    return tokenize_function\n",
        "\n",
        "\n",
        "def create_distillation_batch(text_prompts, teacher_processor, student_tokenizer, max_length=128):\n",
        "    if isinstance(text_prompts, str):\n",
        "        text_prompts = [text_prompts]\n",
        "\n",
        "    samples = {\"prompt\": text_prompts}\n",
        "\n",
        "    return process_distillation_data(samples, teacher_processor, student_tokenizer, max_length)"
      ],
      "metadata": {
        "id": "a2F473azHA1U"
      },
      "execution_count": null,
      "outputs": []
    },
    {
      "cell_type": "code",
      "source": [
        "teacher_processor = AutoProcessor.from_pretrained(teacher_model_name)\n",
        "student_tokenizer = AutoTokenizer.from_pretrained(student_model_name)\n",
        "student_tokenizer.pad_token = student_tokenizer.eos_token\n",
        "student_tokenizer.pad_token\n",
        "\n",
        "max_length = 512\n",
        "tokenize_function = create_tokenize_function(\n",
        "    teacher_processor=teacher_processor,\n",
        "    student_tokenizer=student_tokenizer,\n",
        "    max_length=max_length,\n",
        "    text_column=\"prompt\"\n",
        ")\n",
        "\n",
        "print(\"Tokenizing dataset .... \")\n",
        "\n",
        "tokenized_dataset = formatted_dataset.map(\n",
        "    tokenize_function,\n",
        "    batched=True,\n",
        "    batch_size=32,\n",
        "    remove_columns=formatted_dataset.column_names,\n",
        "    desc=\"Processing samples for distillation\",\n",
        "    load_from_cache_file=False\n",
        ")"
      ],
      "metadata": {
        "colab": {
          "base_uri": "https://localhost:8080/",
          "height": 105,
          "referenced_widgets": [
            "62ca69aefb934df4970b3b8c666e8b75",
            "d6ff2792baab438e874a187f9fb57b5b",
            "da9a539ce24c4594a22473715d5abc62",
            "1c520652326f49c7a55c6a3191267077",
            "52377abfa6c84243b6436033013b8643",
            "c8c5f3749e7e4d668875ec7abaadf909",
            "97fa78fadf17427d97409d4df570928a",
            "d100961fffb5482f8cfae1d3b97f88aa",
            "6c4d6cba9898419d80ea9d92810f773e",
            "da2c040b1ea1422eaac3b3aa37f34139",
            "c1cd4371608149339a838e9f0219bb7a"
          ]
        },
        "id": "N15Tm14wHA4y",
        "outputId": "64933841-a6e0-48b7-b1ca-4b2942a1c956"
      },
      "execution_count": null,
      "outputs": [
        {
          "output_type": "stream",
          "name": "stderr",
          "text": [
            "Using a slow image processor as `use_fast` is unset and a slow processor was saved with this model. `use_fast=True` will be the default behavior in v4.52, even if the model was saved with a slow processor. This will result in minor differences in outputs. You'll still be able to use a slow processor with `use_fast=False`.\n"
          ]
        },
        {
          "output_type": "stream",
          "name": "stdout",
          "text": [
            "Tokenizing dataset .... \n"
          ]
        },
        {
          "output_type": "display_data",
          "data": {
            "text/plain": [
              "Processing samples for distillation:   0%|          | 0/1000 [00:00<?, ? examples/s]"
            ],
            "application/vnd.jupyter.widget-view+json": {
              "version_major": 2,
              "version_minor": 0,
              "model_id": "62ca69aefb934df4970b3b8c666e8b75"
            }
          },
          "metadata": {}
        }
      ]
    },
    {
      "cell_type": "code",
      "source": [
        "tokenized_dataset.set_format(\"torch\")"
      ],
      "metadata": {
        "id": "VzbieVwkqAv6"
      },
      "execution_count": null,
      "outputs": []
    },
    {
      "cell_type": "code",
      "source": [
        "dataloader = DataLoader(\n",
        "    tokenized_dataset,\n",
        "    batch_size=3,\n",
        "    shuffle=True\n",
        ")"
      ],
      "metadata": {
        "id": "h0hkYX4Wii3r"
      },
      "execution_count": null,
      "outputs": []
    },
    {
      "cell_type": "markdown",
      "source": [
        "### Optimizer"
      ],
      "metadata": {
        "id": "oYb99GQ2qK5_"
      }
    },
    {
      "cell_type": "code",
      "source": [
        "lr = 1e-6\n",
        "optimizer = AdamW(student_model.parameters(), lr=lr)"
      ],
      "metadata": {
        "id": "qfARX98FqCn9"
      },
      "execution_count": null,
      "outputs": []
    },
    {
      "cell_type": "markdown",
      "source": [
        "### Training Loop"
      ],
      "metadata": {
        "id": "Rhc2WyymqPOi"
      }
    },
    {
      "cell_type": "code",
      "source": [
        "num_epochs = 10\n",
        "temperature = 2.0\n",
        "alpha = 1\n",
        "accumulation_steps = 8"
      ],
      "metadata": {
        "id": "FWma9UXmqNQc"
      },
      "execution_count": null,
      "outputs": []
    },
    {
      "cell_type": "code",
      "source": [
        "# batch = next(iter(dataloader))\n",
        "# batch"
      ],
      "metadata": {
        "id": "BoGlfuLHGVwr"
      },
      "execution_count": null,
      "outputs": []
    },
    {
      "cell_type": "code",
      "source": [
        "# teacher_model.eval()\n",
        "# with torch.no_grad():\n",
        "#     teacher_outputs = teacher_model(\n",
        "#         input_ids=batch[\"teacher_input_ids\"].to(device),\n",
        "#         attention_mask=batch[\"teacher_attention_mask\"].to(device),\n",
        "#         labels=batch[\"teacher_labels\"].to(device),\n",
        "#         output_hidden_states=True\n",
        "#     )\n",
        "# teacher_outputs.logits"
      ],
      "metadata": {
        "id": "g7kvxnZNF3iW"
      },
      "execution_count": null,
      "outputs": []
    },
    {
      "cell_type": "code",
      "source": [
        "# student_model.eval()\n",
        "# with torch.no_grad():\n",
        "#     student_outputs = student_model(\n",
        "#         input_ids=batch[\"student_input_ids\"].to(device),\n",
        "#         attention_mask=batch[\"student_attention_mask\"].to(device),\n",
        "#         labels=batch[\"student_labels\"].to(device),\n",
        "#         output_hidden_states=True\n",
        "#     )\n",
        "# student_outputs.logits\n",
        "# student_outputs.loss"
      ],
      "metadata": {
        "id": "aaHQ6hDaqAp4"
      },
      "execution_count": null,
      "outputs": []
    },
    {
      "cell_type": "code",
      "source": [],
      "metadata": {
        "id": "Osok6P2lq6cr"
      },
      "execution_count": null,
      "outputs": []
    },
    {
      "cell_type": "code",
      "source": [
        "# import torch\n",
        "# import torch.nn as nn\n",
        "# import torch.nn.functional as F\n",
        "# from tqdm import tqdm\n",
        "\n",
        "# # Initialize projection layer if needed (outside the loop for efficiency)\n",
        "# teacher_proj = None\n",
        "# student_vocab_size = student_model.get_input_embeddings().weight.size(0)\n",
        "# teacher_vocab_size = teacher_model.get_input_embeddings().weight.size(0)\n",
        "\n",
        "# # if teacher_vocab_size != student_vocab_size:\n",
        "# #     teacher_proj = nn.Linear(\n",
        "# #         teacher_vocab_size,\n",
        "# #         student_vocab_size,\n",
        "# #         dtype=torch.float16,\n",
        "# #         bias=False\n",
        "# #     ).to(device)\n",
        "# #     print(f\"Initialized projection layer: {teacher_vocab_size} -> {student_vocab_size}\")\n",
        "\n",
        "# hidden_dim = 8\n",
        "# if teacher_vocab_size != student_vocab_size:\n",
        "#     teacher_proj = nn.Sequential(\n",
        "#         nn.Linear(teacher_vocab_size, hidden_dim, bias=False, dtype=torch.float16),\n",
        "#         nn.Linear(hidden_dim, student_vocab_size, bias=False, dtype=torch.float16)\n",
        "#     ).to(device)\n",
        "#     print(f\"Initialized projection layer: {teacher_vocab_size} -> {student_vocab_size}\")\n",
        "\n",
        "# # Knowledge distillation parameters\n",
        "# alpha = 0.7  # Weight for soft loss (0.7) vs hard loss (0.3)\n",
        "\n",
        "# for epoch in range(num_epochs):\n",
        "#     ### 1 - Model Preparation ###\n",
        "#     student_model.train()\n",
        "#     teacher_model.eval()  # Ensure teacher is in eval mode\n",
        "\n",
        "#     total_loss = 0\n",
        "#     total_hard_loss = 0\n",
        "#     total_soft_loss = 0\n",
        "\n",
        "#     for batch_idx, batch in tqdm(enumerate(dataloader), total=len(dataloader)):\n",
        "#         ### 2 - Data Processing ###\n",
        "#         input_ids = batch[\"input_ids\"].to(device)\n",
        "#         attention_mask = batch[\"attention_mask\"].to(device)\n",
        "#         labels = batch[\"labels\"].to(device)\n",
        "\n",
        "#         ### 3 - Teacher Model Inference ###\n",
        "#         with torch.no_grad():\n",
        "#             teacher_outputs = teacher_model(\n",
        "#                 input_ids=input_ids,\n",
        "#                 attention_mask=attention_mask,\n",
        "#                 labels=labels,  # Include labels for consistency\n",
        "#                 output_hidden_states=True\n",
        "#             )\n",
        "#             teacher_logits = teacher_outputs.logits\n",
        "\n",
        "#         ### 4 - Student Model Inference ###\n",
        "#         student_outputs = student_model(\n",
        "#             input_ids=input_ids,\n",
        "#             attention_mask=attention_mask,\n",
        "#             labels=labels,\n",
        "#             output_hidden_states=True\n",
        "#         )\n",
        "#         student_logits = student_outputs.logits\n",
        "\n",
        "#         ### 5 - Align Sequence Lengths ###\n",
        "#         min_seq_len = min(student_logits.size(1), teacher_logits.size(1))\n",
        "#         student_logits = student_logits[:, :min_seq_len, :]\n",
        "#         teacher_logits = teacher_logits[:, :min_seq_len, :]\n",
        "\n",
        "#         ### 6 - Apply Projection if Needed ###\n",
        "#         if teacher_proj is not None:\n",
        "#             teacher_logits = teacher_logits.to(device).to(torch.float16)\n",
        "#             teacher_logits = teacher_proj(teacher_logits)\n",
        "\n",
        "#         ### 7 - Compute Hard Loss (Standard Cross-Entropy) ###\n",
        "#         hard_loss = student_outputs.loss\n",
        "\n",
        "#         ### 8 - Compute Soft Loss (Knowledge Distillation) ###\n",
        "#         # Apply temperature scaling\n",
        "#         student_log_probs = F.log_softmax(student_logits / temperature, dim=-1)\n",
        "#         teacher_probs = F.softmax(teacher_logits / temperature, dim=-1)\n",
        "\n",
        "#         # KL Divergence loss\n",
        "#         soft_loss = F.kl_div(\n",
        "#             student_log_probs,\n",
        "#             teacher_probs,\n",
        "#             reduction='batchmean'\n",
        "#         ) * (temperature ** 2)\n",
        "\n",
        "#         ### 9 - Combine Losses ###\n",
        "#         total_batch_loss = alpha * soft_loss + (1 - alpha) * hard_loss\n",
        "\n",
        "#         # Scale for gradient accumulation\n",
        "#         total_batch_loss = total_batch_loss / accumulation_steps\n",
        "\n",
        "#         ### 10 - Backward Pass ###\n",
        "#         total_batch_loss.backward()\n",
        "\n",
        "#         ### 11 - Optimization with Gradient Accumulation ###\n",
        "#         if ((batch_idx + 1) % accumulation_steps == 0) or (batch_idx + 1 == len(dataloader)):\n",
        "#             optimizer.step()\n",
        "#             optimizer.zero_grad()\n",
        "\n",
        "#         ### 12 - Loss Tracking ###\n",
        "#         # Scale losses back up for reporting\n",
        "#         batch_total_loss = total_batch_loss.item() * accumulation_steps\n",
        "#         batch_hard_loss = hard_loss.item()\n",
        "#         batch_soft_loss = soft_loss.item()\n",
        "\n",
        "#         total_loss += batch_total_loss\n",
        "#         total_hard_loss += batch_hard_loss\n",
        "#         total_soft_loss += batch_soft_loss\n",
        "\n",
        "#         if (batch_idx + 1) % 100 == 0:\n",
        "#             print(f\"Epoch {epoch+1}/{num_epochs}, Batch {batch_idx+1}\")\n",
        "#             print(f\"  Total Loss: {batch_total_loss:.4f}\")\n",
        "#             print(f\"  Hard Loss: {batch_hard_loss:.4f}\")\n",
        "#             print(f\"  Soft Loss: {batch_soft_loss:.4f}\")\n",
        "\n",
        "#     ### 13 - Epoch-Level Reporting ###\n",
        "#     avg_total_loss = total_loss / len(dataloader)\n",
        "#     avg_hard_loss = total_hard_loss / len(dataloader)\n",
        "#     avg_soft_loss = total_soft_loss / len(dataloader)\n",
        "\n",
        "#     print(f\"\\nEpoch {epoch+1}/{num_epochs} Summary:\")\n",
        "#     print(f\"  Average Total Loss: {avg_total_loss:.4f}\")\n",
        "#     print(f\"  Average Hard Loss: {avg_hard_loss:.4f}\")\n",
        "#     print(f\"  Average Soft Loss: {avg_soft_loss:.4f}\")\n",
        "#     print(\"-\" * 50)"
      ],
      "metadata": {
        "id": "lf0nbJFgqo37"
      },
      "execution_count": null,
      "outputs": []
    },
    {
      "cell_type": "code",
      "source": [
        "import torch\n",
        "import torch.nn as nn\n",
        "import torch.nn.functional as F\n",
        "from tqdm import tqdm\n",
        "\n",
        "teacher_proj = None\n",
        "student_vocab_size = student_model.get_input_embeddings().weight.size(0)\n",
        "teacher_vocab_size = teacher_model.get_input_embeddings().weight.size(0)\n",
        "\n",
        "hidden_dim = 4096\n",
        "if teacher_vocab_size != student_vocab_size:\n",
        "    teacher_proj = nn.Sequential(\n",
        "        nn.Linear(teacher_vocab_size, hidden_dim, bias=False, dtype=torch.float16),\n",
        "        nn.ReLU(),\n",
        "        nn.Linear(hidden_dim, student_vocab_size, bias=False, dtype=torch.float16)\n",
        "    ).to(device)\n",
        "\n",
        "    with torch.no_grad():\n",
        "        nn.init.xavier_uniform_(teacher_proj[0].weight)\n",
        "        nn.init.xavier_uniform_(teacher_proj[2].weight)\n",
        "        teacher_proj[0].weight *= 0.1\n",
        "        teacher_proj[2].weight *= 0.1\n",
        "\n",
        "    print(f\"Initialized projection layer: {teacher_vocab_size} -> {student_vocab_size}\")\n",
        "\n",
        "# Knowledge distillation parameters\n",
        "alpha = 0.7  # Weight for soft loss (0.7) vs hard loss (0.3)\n",
        "temperature = 4.0  # temperature parameter\n",
        "accumulation_steps = 1\n",
        "\n",
        "print(\"Checking student model for NaN parameters...\")\n",
        "nan_params = []\n",
        "for name, param in student_model.named_parameters():\n",
        "    if torch.isnan(param).any() or torch.isinf(param).any():\n",
        "        nan_params.append(name)\n",
        "        print(f\"NaN/Inf detected in parameter: {name}\")\n",
        "\n",
        "if nan_params:\n",
        "    print(\"CRITICAL: Model has NaN parameters! Reinitialize the model or restore from checkpoint.\")\n",
        "    # Option 1: Reinitialize problematic layers\n",
        "    for name, module in student_model.named_modules():\n",
        "        if any(pname.startswith(name) for pname in nan_params):\n",
        "            if hasattr(module, 'weight') and module.weight is not None:\n",
        "                nn.init.normal_(module.weight, mean=0.0, std=0.02)\n",
        "            if hasattr(module, 'bias') and module.bias is not None:\n",
        "                nn.init.zeros_(module.bias)\n",
        "    print(\"Reinitialized problematic parameters\")\n",
        "\n",
        "print(f\"Learning rate: {optimizer.param_groups[0]['lr']}\")\n",
        "if optimizer.param_groups[0]['lr'] == 0 or optimizer.param_groups[0]['lr'] > 1e-4:\n",
        "    print(\"WARNING: Learning rate might be problematic!\")\n",
        "    # Reset to a very safe learning rate\n",
        "    for param_group in optimizer.param_groups:\n",
        "        param_group['lr'] = 1e-7  # Even more conservative\n",
        "\n",
        "# Check for any existing gradient accumulation\n",
        "optimizer.zero_grad()\n",
        "\n",
        "# Enable anomaly detection for debugging\n",
        "torch.autograd.set_detect_anomaly(True)\n",
        "\n",
        "for epoch in range(num_epochs):\n",
        "    ### 1 - Model Preparation ###\n",
        "    student_model.train()\n",
        "    teacher_model.eval()\n",
        "\n",
        "    total_loss = 0\n",
        "    total_hard_loss = 0\n",
        "    total_soft_loss = 0\n",
        "    num_valid_batches = 0\n",
        "\n",
        "    for batch_idx, batch in tqdm(enumerate(dataloader), total=len(dataloader)):\n",
        "        ### 2 - Data Processing and Validation ###\n",
        "        try:\n",
        "            teacher_input_ids = batch[\"teacher_input_ids\"].to(device)\n",
        "            teacher_attention_mask = batch[\"teacher_attention_mask\"].to(device)\n",
        "            teacher_labels = batch[\"teacher_labels\"].to(device)\n",
        "\n",
        "            student_input_ids = batch[\"student_input_ids\"].to(device)\n",
        "            student_attention_mask = batch[\"student_attention_mask\"].to(device)\n",
        "            student_labels = batch[\"student_labels\"].to(device)\n",
        "\n",
        "            # CRITICAL: Check for invalid labels\n",
        "            if torch.isnan(student_labels).any() or torch.isinf(student_labels).any():\n",
        "                print(f\"Invalid labels detected at batch {batch_idx}\")\n",
        "                continue\n",
        "\n",
        "            # Check if all labels are -100 (ignore_index)\n",
        "            valid_labels = (student_labels != -100).sum()\n",
        "            if valid_labels == 0:\n",
        "                print(f\"No valid labels in batch {batch_idx}\")\n",
        "                continue\n",
        "\n",
        "            print(f\"Batch {batch_idx}: Valid labels = {valid_labels.item()}\")\n",
        "\n",
        "        except Exception as e:\n",
        "            print(f\"Error in data processing at batch {batch_idx}: {e}\")\n",
        "            continue\n",
        "\n",
        "        ### 3 - Teacher Model Inference ###\n",
        "        try:\n",
        "            with torch.no_grad():\n",
        "                teacher_outputs = teacher_model(\n",
        "                    input_ids=teacher_input_ids,\n",
        "                    attention_mask=teacher_attention_mask,\n",
        "                    labels=teacher_labels,\n",
        "                    output_hidden_states=True\n",
        "                )\n",
        "                teacher_logits = teacher_outputs.logits\n",
        "\n",
        "                # Check teacher outputs for NaN\n",
        "                if torch.isnan(teacher_logits).any():\n",
        "                    print(f\"NaN in teacher logits at batch {batch_idx}\")\n",
        "                    continue\n",
        "\n",
        "        except Exception as e:\n",
        "            print(f\"Error in teacher inference at batch {batch_idx}: {e}\")\n",
        "            continue\n",
        "\n",
        "        ### 4 - Student Model Inference ###\n",
        "        try:\n",
        "            # CRITICAL: Check for NaN in inputs before forward pass\n",
        "            if torch.isnan(student_input_ids.float()).any():\n",
        "                print(f\"NaN in student input_ids at batch {batch_idx}\")\n",
        "                continue\n",
        "            if torch.isnan(student_attention_mask.float()).any():\n",
        "                print(f\"NaN in student attention_mask at batch {batch_idx}\")\n",
        "                continue\n",
        "\n",
        "            student_outputs = student_model(\n",
        "                input_ids=student_input_ids,\n",
        "                attention_mask=student_attention_mask,\n",
        "                labels=student_labels,\n",
        "                output_hidden_states=True\n",
        "            )\n",
        "            student_logits = student_outputs.logits\n",
        "\n",
        "            # Check student outputs for NaN/Inf\n",
        "            if torch.isnan(student_logits).any() or torch.isinf(student_logits).any():\n",
        "                print(f\"NaN/Inf in student logits at batch {batch_idx}\")\n",
        "                print(f\"  Logits stats: min={student_logits.min():.4f}, max={student_logits.max():.4f}\")\n",
        "\n",
        "                # Check which parameters have NaN after this forward pass\n",
        "                for name, param in student_model.named_parameters():\n",
        "                    if torch.isnan(param).any():\n",
        "                        print(f\"  NaN in parameter {name} after forward pass\")\n",
        "\n",
        "                # EMERGENCY: Reinitialize the problematic parameters\n",
        "                print(\"EMERGENCY: Reinitializing model parameters due to NaN\")\n",
        "                for name, module in student_model.named_modules():\n",
        "                    if hasattr(module, 'weight') and module.weight is not None:\n",
        "                        if torch.isnan(module.weight).any():\n",
        "                            nn.init.normal_(module.weight, mean=0.0, std=0.02)\n",
        "                            print(f\"  Reinitialized {name}.weight\")\n",
        "                    if hasattr(module, 'bias') and module.bias is not None:\n",
        "                        if torch.isnan(module.bias).any():\n",
        "                            nn.init.zeros_(module.bias)\n",
        "                            print(f\"  Reinitialized {name}.bias\")\n",
        "\n",
        "                # Skip this batch\n",
        "                continue\n",
        "\n",
        "        except Exception as e:\n",
        "            print(f\"Error in student inference at batch {batch_idx}: {e}\")\n",
        "            continue\n",
        "\n",
        "        ### 5 - Align Sequence Lengths ###\n",
        "        min_seq_len = min(student_logits.size(1), teacher_logits.size(1))\n",
        "        student_logits = student_logits[:, :min_seq_len, :]\n",
        "        teacher_logits = teacher_logits[:, :min_seq_len, :]\n",
        "\n",
        "        ### 6 - Apply Projection if Needed ###\n",
        "        if teacher_proj is not None:\n",
        "            try:\n",
        "                teacher_logits = teacher_proj(teacher_logits.to(torch.float16))\n",
        "                if torch.isnan(teacher_logits).any():\n",
        "                    print(f\"NaN after projection at batch {batch_idx}\")\n",
        "                    continue\n",
        "            except Exception as e:\n",
        "                print(f\"Error in projection at batch {batch_idx}: {e}\")\n",
        "                continue\n",
        "\n",
        "        ### 7 - Compute Hard Loss (FIXED) ###\n",
        "        # CRITICAL: Manually compute cross-entropy to debug\n",
        "        try:\n",
        "            # Get the aligned labels\n",
        "            student_labels_aligned = student_labels[:, :min_seq_len]\n",
        "\n",
        "            # Create mask for valid positions\n",
        "            mask = (student_labels_aligned != -100)\n",
        "\n",
        "            if mask.sum() == 0:\n",
        "                print(f\"No valid positions for loss computation at batch {batch_idx}\")\n",
        "                continue\n",
        "\n",
        "            # Flatten for cross-entropy computation\n",
        "            flat_logits = student_logits.view(-1, student_logits.size(-1))\n",
        "            flat_labels = student_labels_aligned.view(-1)\n",
        "\n",
        "            # Compute cross-entropy manually with proper handling\n",
        "            hard_loss = F.cross_entropy(\n",
        "                flat_logits,\n",
        "                flat_labels,\n",
        "                ignore_index=-100,\n",
        "                reduction='mean'\n",
        "            )\n",
        "\n",
        "            print(f\"Batch {batch_idx} - hard_loss: {hard_loss}\")\n",
        "\n",
        "            # Check for NaN in hard loss\n",
        "            if torch.isnan(hard_loss) or torch.isinf(hard_loss):\n",
        "                print(f\"Invalid hard loss at batch {batch_idx}: {hard_loss}\")\n",
        "                # Debug information\n",
        "                print(f\"  Logits range: [{flat_logits.min():.4f}, {flat_logits.max():.4f}]\")\n",
        "                print(f\"  Labels range: [{flat_labels.min()}, {flat_labels.max()}]\")\n",
        "                print(f\"  Valid labels: {mask.sum()}\")\n",
        "                continue\n",
        "\n",
        "        except Exception as e:\n",
        "            print(f\"Error computing hard loss at batch {batch_idx}: {e}\")\n",
        "            continue\n",
        "\n",
        "        ### 8 - Compute Soft Loss (Knowledge Distillation) ###\n",
        "        try:\n",
        "            # Only compute on non-padded positions - use student_labels for mask\n",
        "            mask = (student_labels_aligned != -100).float()\n",
        "\n",
        "            if mask.sum() == 0:\n",
        "                soft_loss = torch.tensor(0.0, device=device)\n",
        "            else:\n",
        "                # Apply temperature scaling with stability checks\n",
        "                student_logits_temp = student_logits / temperature\n",
        "                teacher_logits_temp = teacher_logits / temperature\n",
        "\n",
        "                # Check for extreme values before softmax\n",
        "                if torch.abs(student_logits_temp).max() > 50 or torch.abs(teacher_logits_temp).max() > 50:\n",
        "                    print(f\"Extreme logit values at batch {batch_idx}\")\n",
        "                    continue\n",
        "\n",
        "                student_log_probs = F.log_softmax(student_logits_temp, dim=-1)\n",
        "                teacher_probs = F.softmax(teacher_logits_temp, dim=-1)\n",
        "\n",
        "                # Check for NaN in probabilities\n",
        "                if torch.isnan(student_log_probs).any() or torch.isnan(teacher_probs).any():\n",
        "                    print(f\"NaN detected in probabilities at batch {batch_idx}\")\n",
        "                    continue\n",
        "\n",
        "                # Compute KL divergence only on valid positions\n",
        "                kl_loss = F.kl_div(\n",
        "                    student_log_probs,\n",
        "                    teacher_probs,\n",
        "                    reduction='none',\n",
        "                    log_target=False\n",
        "                )\n",
        "\n",
        "                # Apply mask and compute mean\n",
        "                kl_per_token = kl_loss.sum(-1)  # Sum over vocab dimension\n",
        "                masked_kl = kl_per_token * mask  # Apply mask\n",
        "                soft_loss = masked_kl.sum() / mask.sum()  # Average over valid tokens\n",
        "                soft_loss = soft_loss * (temperature ** 2)  # Scale by temperature squared\n",
        "\n",
        "            print(f\"Batch {batch_idx} - soft_loss: {soft_loss}\")\n",
        "\n",
        "            # Check for NaN in soft loss\n",
        "            if torch.isnan(soft_loss) or torch.isinf(soft_loss):\n",
        "                print(f\"Invalid soft loss at batch {batch_idx}: {soft_loss}\")\n",
        "                continue\n",
        "\n",
        "        except Exception as e:\n",
        "            print(f\"Error computing soft loss at batch {batch_idx}: {e}\")\n",
        "            continue\n",
        "\n",
        "        ### 9 - Combine Losses ###\n",
        "        total_batch_loss = alpha * soft_loss + (1 - alpha) * hard_loss\n",
        "\n",
        "        print(f\"Batch {batch_idx} - total_batch_loss: {total_batch_loss}\")\n",
        "\n",
        "        # Final NaN check\n",
        "        if torch.isnan(total_batch_loss) or torch.isinf(total_batch_loss):\n",
        "            print(f\"Invalid total loss at batch {batch_idx}: {total_batch_loss}\")\n",
        "            continue\n",
        "\n",
        "        # Scale for gradient accumulation\n",
        "        total_batch_loss = total_batch_loss / accumulation_steps\n",
        "\n",
        "        ### 10 - Backward Pass with Error Handling ###\n",
        "        try:\n",
        "            total_batch_loss.backward()\n",
        "\n",
        "            # Check for NaN gradients\n",
        "            has_nan_grad = False\n",
        "            for name, param in student_model.named_parameters():\n",
        "                if param.grad is not None and torch.isnan(param.grad).any():\n",
        "                    print(f\"NaN gradient in {name}\")\n",
        "                    has_nan_grad = True\n",
        "                    break\n",
        "\n",
        "            if has_nan_grad:\n",
        "                optimizer.zero_grad()\n",
        "                continue\n",
        "\n",
        "            # Gradient clipping to prevent explosion\n",
        "            grad_norm = torch.nn.utils.clip_grad_norm_(student_model.parameters(), max_norm=1.0)\n",
        "            if teacher_proj is not None:\n",
        "                torch.nn.utils.clip_grad_norm_(teacher_proj.parameters(), max_norm=1.0)\n",
        "\n",
        "            print(f\"Batch {batch_idx} - gradient norm: {grad_norm:.4f}\")\n",
        "\n",
        "        except Exception as e:\n",
        "            print(f\"Error in backward pass at batch {batch_idx}: {e}\")\n",
        "            optimizer.zero_grad()\n",
        "            continue\n",
        "\n",
        "        ### 11 - Optimization with Gradient Accumulation ###\n",
        "        if ((batch_idx + 1) % accumulation_steps == 0) or (batch_idx + 1 == len(dataloader)):\n",
        "            try:\n",
        "                optimizer.step()\n",
        "                optimizer.zero_grad()\n",
        "            except Exception as e:\n",
        "                print(f\"Error in optimizer step at batch {batch_idx}: {e}\")\n",
        "                optimizer.zero_grad()\n",
        "                continue\n",
        "\n",
        "        ### 12 - Loss Tracking ###\n",
        "        # Scale losses back up for reporting\n",
        "        batch_total_loss = total_batch_loss.item() * accumulation_steps\n",
        "        batch_hard_loss = hard_loss.item()\n",
        "        batch_soft_loss = soft_loss.item()\n",
        "\n",
        "        # Only track valid (non-NaN) losses\n",
        "        if not (torch.isnan(torch.tensor(batch_total_loss)) or\n",
        "                torch.isnan(torch.tensor(batch_hard_loss)) or\n",
        "                torch.isnan(torch.tensor(batch_soft_loss))):\n",
        "            total_loss += batch_total_loss\n",
        "            total_hard_loss += batch_hard_loss\n",
        "            total_soft_loss += batch_soft_loss\n",
        "            num_valid_batches += 1\n",
        "\n",
        "        if (batch_idx + 1) % 10 == 0:  # More frequent reporting for debugging\n",
        "            print(f\"Epoch {epoch+1}/{num_epochs}, Batch {batch_idx+1}\")\n",
        "            print(f\"  Total Loss: {batch_total_loss:.4f}\")\n",
        "            print(f\"  Hard Loss: {batch_hard_loss:.4f}\")\n",
        "            print(f\"  Soft Loss: {batch_soft_loss:.4f}\")\n",
        "\n",
        "    ### 13 - Epoch-Level Reporting ###\n",
        "    if num_valid_batches > 0:\n",
        "        avg_total_loss = total_loss / num_valid_batches\n",
        "        avg_hard_loss = total_hard_loss / num_valid_batches\n",
        "        avg_soft_loss = total_soft_loss / num_valid_batches\n",
        "    else:\n",
        "        avg_total_loss = avg_hard_loss = avg_soft_loss = float('nan')\n",
        "\n",
        "    print(f\"\\nEpoch {epoch+1}/{num_epochs} Summary:\")\n",
        "    print(f\"  Average Total Loss: {avg_total_loss:.4f}\")\n",
        "    print(f\"  Average Hard Loss: {avg_hard_loss:.4f}\")\n",
        "    print(f\"  Average Soft Loss: {avg_soft_loss:.4f}\")\n",
        "    print(f\"  Valid Batches: {num_valid_batches}/{len(dataloader)}\")\n",
        "    print(\"-\" * 50)"
      ],
      "metadata": {
        "colab": {
          "base_uri": "https://localhost:8080/"
        },
        "id": "SwGhNRxc5Ffs",
        "outputId": "e20f87f6-31be-4a3b-ab8e-eca240b2ba91"
      },
      "execution_count": null,
      "outputs": [
        {
          "output_type": "stream",
          "name": "stdout",
          "text": [
            "Initialized projection layer: 262208 -> 128256\n",
            "Checking student model for NaN parameters...\n",
            "Learning rate: 1e-06\n"
          ]
        },
        {
          "output_type": "stream",
          "name": "stderr",
          "text": [
            "\r  0%|          | 0/334 [00:00<?, ?it/s]"
          ]
        },
        {
          "output_type": "stream",
          "name": "stdout",
          "text": [
            "Batch 0: Valid labels = 1536\n",
            "Batch 0 - hard_loss: 11.125\n",
            "Batch 0 - soft_loss: 3.087339401245117\n",
            "Batch 0 - total_batch_loss: 5.504887580871582\n"
          ]
        },
        {
          "output_type": "stream",
          "name": "stderr",
          "text": [
            "\r  0%|          | 1/334 [00:02<12:18,  2.22s/it]"
          ]
        },
        {
          "output_type": "stream",
          "name": "stdout",
          "text": [
            "Batch 0 - gradient norm: 209.0000\n",
            "Batch 1: Valid labels = 1536\n",
            "Batch 1 - hard_loss: 11.75\n",
            "Batch 1 - soft_loss: 3.3279716968536377\n",
            "Batch 1 - total_batch_loss: 5.860830307006836\n"
          ]
        },
        {
          "output_type": "stream",
          "name": "stderr",
          "text": [
            "\r  1%|          | 2/334 [00:03<09:53,  1.79s/it]"
          ]
        },
        {
          "output_type": "stream",
          "name": "stdout",
          "text": [
            "Batch 1 - gradient norm: 181.0000\n",
            "Batch 2: Valid labels = 1536\n",
            "Batch 2 - hard_loss: 10.0\n",
            "Batch 2 - soft_loss: 2.845135450363159\n",
            "Batch 2 - total_batch_loss: 4.9915947914123535\n"
          ]
        },
        {
          "output_type": "stream",
          "name": "stderr",
          "text": [
            "\r  1%|          | 3/334 [00:05<09:03,  1.64s/it]"
          ]
        },
        {
          "output_type": "stream",
          "name": "stdout",
          "text": [
            "Batch 2 - gradient norm: 284.0000\n",
            "Batch 3: Valid labels = 1536\n",
            "Batch 3 - hard_loss: 10.375\n",
            "Batch 3 - soft_loss: 3.0844409465789795\n",
            "Batch 3 - total_batch_loss: 5.268483638763428\n"
          ]
        },
        {
          "output_type": "stream",
          "name": "stderr",
          "text": [
            "\r  1%|          | 4/334 [00:06<08:39,  1.57s/it]"
          ]
        },
        {
          "output_type": "stream",
          "name": "stdout",
          "text": [
            "Batch 3 - gradient norm: 229.0000\n",
            "Batch 4: Valid labels = 1536\n",
            "Batch 4 - hard_loss: 9.9375\n",
            "Batch 4 - soft_loss: 3.122007369995117\n",
            "Batch 4 - total_batch_loss: 5.1697797775268555\n"
          ]
        },
        {
          "output_type": "stream",
          "name": "stderr",
          "text": [
            "\r  1%|▏         | 5/334 [00:08<08:25,  1.54s/it]"
          ]
        },
        {
          "output_type": "stream",
          "name": "stdout",
          "text": [
            "Batch 4 - gradient norm: 218.0000\n",
            "Batch 5: Valid labels = 1536\n",
            "Batch 5 - hard_loss: 8.75\n",
            "Batch 5 - soft_loss: 2.9412362575531006\n",
            "Batch 5 - total_batch_loss: 4.683865547180176\n"
          ]
        },
        {
          "output_type": "stream",
          "name": "stderr",
          "text": [
            "\r  2%|▏         | 6/334 [00:09<08:15,  1.51s/it]"
          ]
        },
        {
          "output_type": "stream",
          "name": "stdout",
          "text": [
            "Batch 5 - gradient norm: 266.0000\n",
            "Batch 6: Valid labels = 1536\n",
            "Batch 6 - hard_loss: 10.0\n",
            "Batch 6 - soft_loss: 2.982964277267456\n",
            "Batch 6 - total_batch_loss: 5.088074684143066\n"
          ]
        },
        {
          "output_type": "stream",
          "name": "stderr",
          "text": [
            "\r  2%|▏         | 7/334 [00:11<08:08,  1.49s/it]"
          ]
        },
        {
          "output_type": "stream",
          "name": "stdout",
          "text": [
            "Batch 6 - gradient norm: 244.0000\n",
            "Batch 7: Valid labels = 1536\n",
            "Batch 7 - hard_loss: 9.5625\n",
            "Batch 7 - soft_loss: 2.946136474609375\n",
            "Batch 7 - total_batch_loss: 4.937295436859131\n"
          ]
        },
        {
          "output_type": "stream",
          "name": "stderr",
          "text": [
            "\r  2%|▏         | 8/334 [00:12<08:04,  1.48s/it]"
          ]
        },
        {
          "output_type": "stream",
          "name": "stdout",
          "text": [
            "Batch 7 - gradient norm: 262.0000\n",
            "Batch 8: Valid labels = 1536\n",
            "Batch 8 - hard_loss: 9.0625\n",
            "Batch 8 - soft_loss: 2.998805284500122\n",
            "Batch 8 - total_batch_loss: 4.817914009094238\n"
          ]
        },
        {
          "output_type": "stream",
          "name": "stderr",
          "text": [
            "\r  3%|▎         | 9/334 [00:13<08:03,  1.49s/it]"
          ]
        },
        {
          "output_type": "stream",
          "name": "stdout",
          "text": [
            "Batch 8 - gradient norm: 260.0000\n",
            "Batch 9: Valid labels = 1536\n",
            "Batch 9 - hard_loss: 9.375\n",
            "Batch 9 - soft_loss: 3.1544086933135986\n",
            "Batch 9 - total_batch_loss: 5.020586013793945\n"
          ]
        },
        {
          "output_type": "stream",
          "name": "stderr",
          "text": [
            "\r  3%|▎         | 10/334 [00:15<08:04,  1.50s/it]"
          ]
        },
        {
          "output_type": "stream",
          "name": "stdout",
          "text": [
            "Batch 9 - gradient norm: 237.0000\n",
            "Epoch 1/10, Batch 10\n",
            "  Total Loss: 5.0206\n",
            "  Hard Loss: 9.3750\n",
            "  Soft Loss: 3.1544\n",
            "Batch 10: Valid labels = 1536\n",
            "Batch 10 - hard_loss: 8.0\n",
            "Batch 10 - soft_loss: 2.829364776611328\n",
            "Batch 10 - total_batch_loss: 4.386805534362793\n"
          ]
        },
        {
          "output_type": "stream",
          "name": "stderr",
          "text": [
            "\r  3%|▎         | 11/334 [00:16<08:00,  1.49s/it]"
          ]
        },
        {
          "output_type": "stream",
          "name": "stdout",
          "text": [
            "Batch 10 - gradient norm: 320.0000\n",
            "Batch 11: Valid labels = 1536\n",
            "Batch 11 - hard_loss: 9.125\n",
            "Batch 11 - soft_loss: 3.1706764698028564\n",
            "Batch 11 - total_batch_loss: 4.953848838806152\n"
          ]
        },
        {
          "output_type": "stream",
          "name": "stderr",
          "text": [
            "\r  4%|▎         | 12/334 [00:18<07:56,  1.48s/it]"
          ]
        },
        {
          "output_type": "stream",
          "name": "stdout",
          "text": [
            "Batch 11 - gradient norm: 210.0000\n",
            "Batch 12: Valid labels = 1536\n",
            "Batch 12 - hard_loss: 9.1875\n",
            "Batch 12 - soft_loss: 3.147017478942871\n",
            "Batch 12 - total_batch_loss: 4.952912330627441\n"
          ]
        },
        {
          "output_type": "stream",
          "name": "stderr",
          "text": [
            "\r  4%|▍         | 13/334 [00:19<07:53,  1.48s/it]"
          ]
        },
        {
          "output_type": "stream",
          "name": "stdout",
          "text": [
            "Batch 12 - gradient norm: 214.0000\n",
            "Batch 13: Valid labels = 1536\n",
            "Batch 13 - hard_loss: 8.0625\n",
            "Batch 13 - soft_loss: 2.9381754398345947\n",
            "Batch 13 - total_batch_loss: 4.478597640991211\n"
          ]
        },
        {
          "output_type": "stream",
          "name": "stderr",
          "text": [
            "\r  4%|▍         | 14/334 [00:21<07:52,  1.48s/it]"
          ]
        },
        {
          "output_type": "stream",
          "name": "stdout",
          "text": [
            "Batch 13 - gradient norm: 276.0000\n",
            "Batch 14: Valid labels = 1536\n",
            "Batch 14 - hard_loss: 7.65625\n",
            "Batch 14 - soft_loss: 2.980217695236206\n",
            "Batch 14 - total_batch_loss: 4.383027076721191\n"
          ]
        },
        {
          "output_type": "stream",
          "name": "stderr",
          "text": [
            "\r  4%|▍         | 15/334 [00:22<07:50,  1.48s/it]"
          ]
        },
        {
          "output_type": "stream",
          "name": "stdout",
          "text": [
            "Batch 14 - gradient norm: 274.0000\n",
            "Batch 15: Valid labels = 1536\n",
            "Batch 15 - hard_loss: 7.3125\n",
            "Batch 15 - soft_loss: 2.8864924907684326\n",
            "Batch 15 - total_batch_loss: 4.20804500579834\n"
          ]
        },
        {
          "output_type": "stream",
          "name": "stderr",
          "text": [
            "\r  5%|▍         | 16/334 [00:24<07:48,  1.47s/it]"
          ]
        },
        {
          "output_type": "stream",
          "name": "stdout",
          "text": [
            "Batch 15 - gradient norm: 290.0000\n",
            "Batch 16: Valid labels = 1536\n",
            "Batch 16 - hard_loss: 7.5\n",
            "Batch 16 - soft_loss: 2.91828989982605\n",
            "Batch 16 - total_batch_loss: 4.292802810668945\n"
          ]
        },
        {
          "output_type": "stream",
          "name": "stderr",
          "text": [
            "\r  5%|▌         | 17/334 [00:25<07:47,  1.47s/it]"
          ]
        },
        {
          "output_type": "stream",
          "name": "stdout",
          "text": [
            "Batch 16 - gradient norm: 278.0000\n",
            "Batch 17: Valid labels = 1536\n",
            "Batch 17 - hard_loss: 5.8125\n",
            "Batch 17 - soft_loss: 2.5396535396575928\n",
            "Batch 17 - total_batch_loss: 3.519944906234741\n"
          ]
        },
        {
          "output_type": "stream",
          "name": "stderr",
          "text": [
            "\r  5%|▌         | 18/334 [00:27<07:45,  1.47s/it]"
          ]
        },
        {
          "output_type": "stream",
          "name": "stdout",
          "text": [
            "Batch 17 - gradient norm: 334.0000\n",
            "Batch 18: Valid labels = 1536\n",
            "Batch 18 - hard_loss: 6.90625\n",
            "Batch 18 - soft_loss: 2.7364280223846436\n",
            "Batch 18 - total_batch_loss: 3.993624687194824\n"
          ]
        },
        {
          "output_type": "stream",
          "name": "stderr",
          "text": [
            "\r  6%|▌         | 19/334 [00:28<07:43,  1.47s/it]"
          ]
        },
        {
          "output_type": "stream",
          "name": "stdout",
          "text": [
            "Batch 18 - gradient norm: 330.0000\n",
            "Batch 19: Valid labels = 1536\n",
            "Batch 19 - hard_loss: 6.34375\n",
            "Batch 19 - soft_loss: 2.6576180458068848\n",
            "Batch 19 - total_batch_loss: 3.766582489013672\n"
          ]
        },
        {
          "output_type": "stream",
          "name": "stderr",
          "text": [
            "\r  6%|▌         | 20/334 [00:30<07:41,  1.47s/it]"
          ]
        },
        {
          "output_type": "stream",
          "name": "stdout",
          "text": [
            "Batch 19 - gradient norm: 314.0000\n",
            "Epoch 1/10, Batch 20\n",
            "  Total Loss: 3.7666\n",
            "  Hard Loss: 6.3438\n",
            "  Soft Loss: 2.6576\n",
            "Batch 20: Valid labels = 1536\n",
            "Batch 20 - hard_loss: 5.78125\n",
            "Batch 20 - soft_loss: 2.5836875438690186\n",
            "Batch 20 - total_batch_loss: 3.5429563522338867\n"
          ]
        },
        {
          "output_type": "stream",
          "name": "stderr",
          "text": [
            "\r  6%|▋         | 21/334 [00:31<07:39,  1.47s/it]"
          ]
        },
        {
          "output_type": "stream",
          "name": "stdout",
          "text": [
            "Batch 20 - gradient norm: 320.0000\n",
            "Batch 21: Valid labels = 1536\n",
            "Batch 21 - hard_loss: 10.8125\n",
            "Batch 21 - soft_loss: 3.5304393768310547\n",
            "Batch 21 - total_batch_loss: 5.721307754516602\n"
          ]
        },
        {
          "output_type": "stream",
          "name": "stderr",
          "text": [
            "\r  7%|▋         | 22/334 [00:33<07:38,  1.47s/it]"
          ]
        },
        {
          "output_type": "stream",
          "name": "stdout",
          "text": [
            "Batch 21 - gradient norm: 115.5000\n",
            "Batch 22: Valid labels = 1536\n",
            "Batch 22 - hard_loss: 6.9375\n",
            "Batch 22 - soft_loss: 2.918729066848755\n",
            "Batch 22 - total_batch_loss: 4.121235370635986\n"
          ]
        },
        {
          "output_type": "stream",
          "name": "stderr",
          "text": [
            "\r  7%|▋         | 23/334 [00:34<07:36,  1.47s/it]"
          ]
        },
        {
          "output_type": "stream",
          "name": "stdout",
          "text": [
            "Batch 22 - gradient norm: 230.0000\n",
            "Batch 23: Valid labels = 1536\n",
            "Batch 23 - hard_loss: 5.5625\n",
            "Batch 23 - soft_loss: 2.692180871963501\n",
            "Batch 23 - total_batch_loss: 3.5564017295837402\n"
          ]
        },
        {
          "output_type": "stream",
          "name": "stderr",
          "text": [
            "\r  7%|▋         | 24/334 [00:36<07:34,  1.47s/it]"
          ]
        },
        {
          "output_type": "stream",
          "name": "stdout",
          "text": [
            "Batch 23 - gradient norm: 270.0000\n",
            "Batch 24: Valid labels = 1536\n",
            "Batch 24 - hard_loss: 6.5\n",
            "Batch 24 - soft_loss: 2.853314161300659\n",
            "Batch 24 - total_batch_loss: 3.9504449367523193\n"
          ]
        },
        {
          "output_type": "stream",
          "name": "stderr",
          "text": [
            "\r  7%|▋         | 25/334 [00:37<07:33,  1.47s/it]"
          ]
        },
        {
          "output_type": "stream",
          "name": "stdout",
          "text": [
            "Batch 24 - gradient norm: 264.0000\n",
            "Batch 25: Valid labels = 1536\n",
            "Batch 25 - hard_loss: 5.15625\n",
            "Batch 25 - soft_loss: 2.6468067169189453\n",
            "Batch 25 - total_batch_loss: 3.39963960647583\n"
          ]
        },
        {
          "output_type": "stream",
          "name": "stderr",
          "text": [
            "\r  8%|▊         | 26/334 [00:39<07:32,  1.47s/it]"
          ]
        },
        {
          "output_type": "stream",
          "name": "stdout",
          "text": [
            "Batch 25 - gradient norm: 241.0000\n",
            "Batch 26: Valid labels = 1536\n",
            "Batch 26 - hard_loss: 5.6875\n",
            "Batch 26 - soft_loss: 2.6749942302703857\n",
            "Batch 26 - total_batch_loss: 3.5756208896636963\n"
          ]
        },
        {
          "output_type": "stream",
          "name": "stderr",
          "text": [
            "\r  8%|▊         | 27/334 [00:40<07:30,  1.47s/it]"
          ]
        },
        {
          "output_type": "stream",
          "name": "stdout",
          "text": [
            "Batch 26 - gradient norm: 238.0000\n",
            "Batch 27: Valid labels = 1536\n",
            "Batch 27 - hard_loss: 5.40625\n",
            "Batch 27 - soft_loss: 2.567031145095825\n",
            "Batch 27 - total_batch_loss: 3.421921730041504\n"
          ]
        },
        {
          "output_type": "stream",
          "name": "stderr",
          "text": [
            "\r  8%|▊         | 28/334 [00:41<07:28,  1.47s/it]"
          ]
        },
        {
          "output_type": "stream",
          "name": "stdout",
          "text": [
            "Batch 27 - gradient norm: 255.0000\n",
            "Batch 28: Valid labels = 1536\n",
            "Batch 28 - hard_loss: 5.34375\n",
            "Batch 28 - soft_loss: 2.564197540283203\n",
            "Batch 28 - total_batch_loss: 3.396500587463379\n"
          ]
        },
        {
          "output_type": "stream",
          "name": "stderr",
          "text": [
            "\r  9%|▊         | 29/334 [00:43<07:29,  1.47s/it]"
          ]
        },
        {
          "output_type": "stream",
          "name": "stdout",
          "text": [
            "Batch 28 - gradient norm: 225.0000\n",
            "Batch 29: Valid labels = 1536\n",
            "Batch 29 - hard_loss: 6.1875\n",
            "Batch 29 - soft_loss: 2.744427442550659\n",
            "Batch 29 - total_batch_loss: 3.7804741859436035\n"
          ]
        },
        {
          "output_type": "stream",
          "name": "stderr",
          "text": [
            "\r  9%|▉         | 30/334 [00:44<07:27,  1.47s/it]"
          ]
        },
        {
          "output_type": "stream",
          "name": "stdout",
          "text": [
            "Batch 29 - gradient norm: 197.0000\n",
            "Epoch 1/10, Batch 30\n",
            "  Total Loss: 3.7805\n",
            "  Hard Loss: 6.1875\n",
            "  Soft Loss: 2.7444\n",
            "Batch 30: Valid labels = 1536\n",
            "Batch 30 - hard_loss: 5.25\n",
            "Batch 30 - soft_loss: 2.692540168762207\n",
            "Batch 30 - total_batch_loss: 3.4629030227661133\n"
          ]
        },
        {
          "output_type": "stream",
          "name": "stderr",
          "text": [
            "\r  9%|▉         | 31/334 [00:46<07:26,  1.47s/it]"
          ]
        },
        {
          "output_type": "stream",
          "name": "stdout",
          "text": [
            "Batch 30 - gradient norm: 190.0000\n",
            "Batch 31: Valid labels = 1536\n",
            "Batch 31 - hard_loss: 6.40625\n",
            "Batch 31 - soft_loss: 2.71697735786438\n",
            "Batch 31 - total_batch_loss: 3.823759078979492\n"
          ]
        },
        {
          "output_type": "stream",
          "name": "stderr",
          "text": [
            "\r 10%|▉         | 32/334 [00:47<07:24,  1.47s/it]"
          ]
        },
        {
          "output_type": "stream",
          "name": "stdout",
          "text": [
            "Batch 31 - gradient norm: 170.0000\n",
            "Batch 32: Valid labels = 1536\n",
            "Batch 32 - hard_loss: 5.59375\n",
            "Batch 32 - soft_loss: 2.8165767192840576\n",
            "Batch 32 - total_batch_loss: 3.6512911319732666\n"
          ]
        },
        {
          "output_type": "stream",
          "name": "stderr",
          "text": [
            "\r 10%|▉         | 33/334 [00:49<07:23,  1.47s/it]"
          ]
        },
        {
          "output_type": "stream",
          "name": "stdout",
          "text": [
            "Batch 32 - gradient norm: 151.0000\n",
            "Batch 33: Valid labels = 1536\n",
            "Batch 33 - hard_loss: 5.375\n",
            "Batch 33 - soft_loss: 2.7253735065460205\n",
            "Batch 33 - total_batch_loss: 3.517136573791504\n"
          ]
        },
        {
          "output_type": "stream",
          "name": "stderr",
          "text": [
            "\r 10%|█         | 34/334 [00:50<07:23,  1.48s/it]"
          ]
        },
        {
          "output_type": "stream",
          "name": "stdout",
          "text": [
            "Batch 33 - gradient norm: 141.0000\n",
            "Batch 34: Valid labels = 1536\n",
            "Batch 34 - hard_loss: 3.203125\n",
            "Batch 34 - soft_loss: 2.2417495250701904\n",
            "Batch 34 - total_batch_loss: 2.5301620960235596\n"
          ]
        },
        {
          "output_type": "stream",
          "name": "stderr",
          "text": [
            "\r 10%|█         | 35/334 [00:52<07:20,  1.47s/it]"
          ]
        },
        {
          "output_type": "stream",
          "name": "stdout",
          "text": [
            "Batch 34 - gradient norm: 178.0000\n",
            "Batch 35: Valid labels = 1536\n",
            "Batch 35 - hard_loss: 6.0625\n",
            "Batch 35 - soft_loss: 2.7500216960906982\n",
            "Batch 35 - total_batch_loss: 3.7453277111053467\n"
          ]
        },
        {
          "output_type": "stream",
          "name": "stderr",
          "text": [
            "\r 11%|█         | 36/334 [00:53<07:18,  1.47s/it]"
          ]
        },
        {
          "output_type": "stream",
          "name": "stdout",
          "text": [
            "Batch 35 - gradient norm: 132.0000\n",
            "Batch 36: Valid labels = 1536\n",
            "Batch 36 - hard_loss: 4.90625\n",
            "Batch 36 - soft_loss: 2.5828959941864014\n",
            "Batch 36 - total_batch_loss: 3.2767772674560547\n"
          ]
        },
        {
          "output_type": "stream",
          "name": "stderr",
          "text": [
            "\r 11%|█         | 37/334 [00:55<07:17,  1.47s/it]"
          ]
        },
        {
          "output_type": "stream",
          "name": "stdout",
          "text": [
            "Batch 36 - gradient norm: 145.0000\n",
            "Batch 37: Valid labels = 1536\n",
            "Batch 37 - hard_loss: 5.15625\n",
            "Batch 37 - soft_loss: 2.547927141189575\n",
            "Batch 37 - total_batch_loss: 3.3304238319396973\n"
          ]
        },
        {
          "output_type": "stream",
          "name": "stderr",
          "text": [
            "\r 11%|█▏        | 38/334 [00:56<07:15,  1.47s/it]"
          ]
        },
        {
          "output_type": "stream",
          "name": "stdout",
          "text": [
            "Batch 37 - gradient norm: 125.5000\n",
            "Batch 38: Valid labels = 1536\n",
            "Batch 38 - hard_loss: 5.21875\n",
            "Batch 38 - soft_loss: 2.5254364013671875\n",
            "Batch 38 - total_batch_loss: 3.330305576324463\n"
          ]
        },
        {
          "output_type": "stream",
          "name": "stderr",
          "text": [
            "\r 12%|█▏        | 39/334 [00:58<07:13,  1.47s/it]"
          ]
        },
        {
          "output_type": "stream",
          "name": "stdout",
          "text": [
            "Batch 38 - gradient norm: 132.0000\n",
            "Batch 39: Valid labels = 1536\n",
            "Batch 39 - hard_loss: 4.59375\n",
            "Batch 39 - soft_loss: 2.617563486099243\n",
            "Batch 39 - total_batch_loss: 3.207294464111328\n"
          ]
        },
        {
          "output_type": "stream",
          "name": "stderr",
          "text": [
            "\r 12%|█▏        | 40/334 [00:59<07:12,  1.47s/it]"
          ]
        },
        {
          "output_type": "stream",
          "name": "stdout",
          "text": [
            "Batch 39 - gradient norm: 110.5000\n",
            "Epoch 1/10, Batch 40\n",
            "  Total Loss: 3.2073\n",
            "  Hard Loss: 4.5938\n",
            "  Soft Loss: 2.6176\n",
            "Batch 40: Valid labels = 1536\n",
            "Batch 40 - hard_loss: 5.46875\n",
            "Batch 40 - soft_loss: 2.65869140625\n",
            "Batch 40 - total_batch_loss: 3.501708984375\n"
          ]
        },
        {
          "output_type": "stream",
          "name": "stderr",
          "text": [
            "\r 12%|█▏        | 41/334 [01:01<07:13,  1.48s/it]"
          ]
        },
        {
          "output_type": "stream",
          "name": "stdout",
          "text": [
            "Batch 40 - gradient norm: 99.0000\n",
            "Batch 41: Valid labels = 1536\n",
            "Batch 41 - hard_loss: 4.78125\n",
            "Batch 41 - soft_loss: 2.5021562576293945\n",
            "Batch 41 - total_batch_loss: 3.189009189605713\n"
          ]
        },
        {
          "output_type": "stream",
          "name": "stderr",
          "text": [
            "\r 13%|█▎        | 42/334 [01:02<07:15,  1.49s/it]"
          ]
        },
        {
          "output_type": "stream",
          "name": "stdout",
          "text": [
            "Batch 41 - gradient norm: 110.5000\n",
            "Batch 42: Valid labels = 1536\n",
            "Batch 42 - hard_loss: 8.375\n",
            "Batch 42 - soft_loss: 3.1243438720703125\n",
            "Batch 42 - total_batch_loss: 4.702665328979492\n"
          ]
        },
        {
          "output_type": "stream",
          "name": "stderr",
          "text": [
            "\r 13%|█▎        | 43/334 [01:04<07:12,  1.49s/it]"
          ]
        },
        {
          "output_type": "stream",
          "name": "stdout",
          "text": [
            "Batch 42 - gradient norm: 67.0000\n",
            "Batch 43: Valid labels = 1536\n",
            "Batch 43 - hard_loss: 3.609375\n",
            "Batch 43 - soft_loss: 2.2949249744415283\n",
            "Batch 43 - total_batch_loss: 2.692384958267212\n"
          ]
        },
        {
          "output_type": "stream",
          "name": "stderr",
          "text": [
            "\r 13%|█▎        | 44/334 [01:05<07:08,  1.48s/it]"
          ]
        },
        {
          "output_type": "stream",
          "name": "stdout",
          "text": [
            "Batch 43 - gradient norm: 96.0000\n",
            "Batch 44: Valid labels = 1536\n",
            "Batch 44 - hard_loss: 4.21875\n",
            "Batch 44 - soft_loss: 2.451220989227295\n",
            "Batch 44 - total_batch_loss: 2.9814796447753906\n"
          ]
        },
        {
          "output_type": "stream",
          "name": "stderr",
          "text": [
            "\r 13%|█▎        | 45/334 [01:07<07:06,  1.48s/it]"
          ]
        },
        {
          "output_type": "stream",
          "name": "stdout",
          "text": [
            "Batch 44 - gradient norm: 89.0000\n",
            "Batch 45: Valid labels = 1536\n",
            "Batch 45 - hard_loss: 2.953125\n",
            "Batch 45 - soft_loss: 2.200915575027466\n",
            "Batch 45 - total_batch_loss: 2.4273595809936523\n"
          ]
        },
        {
          "output_type": "stream",
          "name": "stderr",
          "text": [
            "\r 14%|█▍        | 46/334 [01:08<07:03,  1.47s/it]"
          ]
        },
        {
          "output_type": "stream",
          "name": "stdout",
          "text": [
            "Batch 45 - gradient norm: 104.0000\n",
            "Batch 46: Valid labels = 1536\n",
            "Batch 46 - hard_loss: 7.8125\n",
            "Batch 46 - soft_loss: 3.0205910205841064\n",
            "Batch 46 - total_batch_loss: 4.458163738250732\n"
          ]
        },
        {
          "output_type": "stream",
          "name": "stderr",
          "text": [
            "\r 14%|█▍        | 47/334 [01:09<07:03,  1.47s/it]"
          ]
        },
        {
          "output_type": "stream",
          "name": "stdout",
          "text": [
            "Batch 46 - gradient norm: 61.7500\n",
            "Batch 47: Valid labels = 1536\n",
            "Batch 47 - hard_loss: 6.375\n",
            "Batch 47 - soft_loss: 2.9159634113311768\n",
            "Batch 47 - total_batch_loss: 3.9552369117736816\n"
          ]
        },
        {
          "output_type": "stream",
          "name": "stderr",
          "text": [
            "\r 14%|█▍        | 48/334 [01:11<07:01,  1.47s/it]"
          ]
        },
        {
          "output_type": "stream",
          "name": "stdout",
          "text": [
            "Batch 47 - gradient norm: 59.2500\n",
            "Batch 48: Valid labels = 1536\n",
            "Batch 48 - hard_loss: 5.625\n",
            "Batch 48 - soft_loss: 2.7137298583984375\n",
            "Batch 48 - total_batch_loss: 3.587110996246338\n"
          ]
        },
        {
          "output_type": "stream",
          "name": "stderr",
          "text": [
            "\r 15%|█▍        | 49/334 [01:12<06:59,  1.47s/it]"
          ]
        },
        {
          "output_type": "stream",
          "name": "stdout",
          "text": [
            "Batch 48 - gradient norm: 66.5000\n",
            "Batch 49: Valid labels = 1536\n",
            "Batch 49 - hard_loss: 4.5\n",
            "Batch 49 - soft_loss: 2.5196123123168945\n",
            "Batch 49 - total_batch_loss: 3.115291118621826\n"
          ]
        },
        {
          "output_type": "stream",
          "name": "stderr",
          "text": [
            "\r 15%|█▍        | 50/334 [01:14<06:58,  1.47s/it]"
          ]
        },
        {
          "output_type": "stream",
          "name": "stdout",
          "text": [
            "Batch 49 - gradient norm: 68.5000\n",
            "Epoch 1/10, Batch 50\n",
            "  Total Loss: 3.1153\n",
            "  Hard Loss: 4.5000\n",
            "  Soft Loss: 2.5196\n",
            "Batch 50: Valid labels = 1536\n",
            "Batch 50 - hard_loss: 3.4375\n",
            "Batch 50 - soft_loss: 2.321720838546753\n",
            "Batch 50 - total_batch_loss: 2.656454563140869\n"
          ]
        },
        {
          "output_type": "stream",
          "name": "stderr",
          "text": [
            "\r 15%|█▌        | 51/334 [01:15<06:56,  1.47s/it]"
          ]
        },
        {
          "output_type": "stream",
          "name": "stdout",
          "text": [
            "Batch 50 - gradient norm: 78.0000\n",
            "Batch 51: Valid labels = 1536\n",
            "Batch 51 - hard_loss: 6.0625\n",
            "Batch 51 - soft_loss: 2.76758074760437\n",
            "Batch 51 - total_batch_loss: 3.7576189041137695\n"
          ]
        },
        {
          "output_type": "stream",
          "name": "stderr",
          "text": [
            "\r 16%|█▌        | 52/334 [01:17<06:54,  1.47s/it]"
          ]
        },
        {
          "output_type": "stream",
          "name": "stdout",
          "text": [
            "Batch 51 - gradient norm: 67.5000\n",
            "Batch 52: Valid labels = 1536\n",
            "Batch 52 - hard_loss: 4.78125\n",
            "Batch 52 - soft_loss: 2.4615137577056885\n",
            "Batch 52 - total_batch_loss: 3.16055965423584\n"
          ]
        },
        {
          "output_type": "stream",
          "name": "stderr",
          "text": [
            "\r 16%|█▌        | 53/334 [01:18<06:53,  1.47s/it]"
          ]
        },
        {
          "output_type": "stream",
          "name": "stdout",
          "text": [
            "Batch 52 - gradient norm: 67.5000\n",
            "Batch 53: Valid labels = 1536\n",
            "Batch 53 - hard_loss: 2.78125\n",
            "Batch 53 - soft_loss: 2.0635573863983154\n",
            "Batch 53 - total_batch_loss: 2.2804276943206787\n"
          ]
        },
        {
          "output_type": "stream",
          "name": "stderr",
          "text": [
            "\r 16%|█▌        | 54/334 [01:20<06:50,  1.47s/it]"
          ]
        },
        {
          "output_type": "stream",
          "name": "stdout",
          "text": [
            "Batch 53 - gradient norm: 82.0000\n",
            "Batch 54: Valid labels = 1536\n",
            "Batch 54 - hard_loss: 5.03125\n",
            "Batch 54 - soft_loss: 2.4953300952911377\n",
            "Batch 54 - total_batch_loss: 3.2545435428619385\n"
          ]
        },
        {
          "output_type": "stream",
          "name": "stderr",
          "text": [
            "\r 16%|█▋        | 55/334 [01:21<06:49,  1.47s/it]"
          ]
        },
        {
          "output_type": "stream",
          "name": "stdout",
          "text": [
            "Batch 54 - gradient norm: 59.7500\n",
            "Batch 55: Valid labels = 1536\n",
            "Batch 55 - hard_loss: 5.3125\n",
            "Batch 55 - soft_loss: 2.5873496532440186\n",
            "Batch 55 - total_batch_loss: 3.4048948287963867\n"
          ]
        },
        {
          "output_type": "stream",
          "name": "stderr",
          "text": [
            "\r 17%|█▋        | 56/334 [01:23<06:47,  1.47s/it]"
          ]
        },
        {
          "output_type": "stream",
          "name": "stdout",
          "text": [
            "Batch 55 - gradient norm: 56.5000\n",
            "Batch 56: Valid labels = 1536\n",
            "Batch 56 - hard_loss: 4.59375\n",
            "Batch 56 - soft_loss: 2.4160866737365723\n",
            "Batch 56 - total_batch_loss: 3.066260814666748\n"
          ]
        },
        {
          "output_type": "stream",
          "name": "stderr",
          "text": [
            "\r 17%|█▋        | 57/334 [01:24<06:47,  1.47s/it]"
          ]
        },
        {
          "output_type": "stream",
          "name": "stdout",
          "text": [
            "Batch 56 - gradient norm: 60.7500\n",
            "Batch 57: Valid labels = 1536\n",
            "Batch 57 - hard_loss: 5.46875\n",
            "Batch 57 - soft_loss: 2.594841241836548\n",
            "Batch 57 - total_batch_loss: 3.4570138454437256\n"
          ]
        },
        {
          "output_type": "stream",
          "name": "stderr",
          "text": [
            "\r 17%|█▋        | 58/334 [01:26<06:47,  1.48s/it]"
          ]
        },
        {
          "output_type": "stream",
          "name": "stdout",
          "text": [
            "Batch 57 - gradient norm: 54.2500\n",
            "Batch 58: Valid labels = 1536\n",
            "Batch 58 - hard_loss: 6.125\n",
            "Batch 58 - soft_loss: 2.72113037109375\n",
            "Batch 58 - total_batch_loss: 3.7407288551330566\n"
          ]
        },
        {
          "output_type": "stream",
          "name": "stderr",
          "text": [
            "\r 18%|█▊        | 59/334 [01:27<06:46,  1.48s/it]"
          ]
        },
        {
          "output_type": "stream",
          "name": "stdout",
          "text": [
            "Batch 58 - gradient norm: 49.5000\n",
            "Batch 59: Valid labels = 1536\n",
            "Batch 59 - hard_loss: 4.125\n",
            "Batch 59 - soft_loss: 2.2082831859588623\n",
            "Batch 59 - total_batch_loss: 2.7801733016967773\n"
          ]
        },
        {
          "output_type": "stream",
          "name": "stderr",
          "text": [
            "\r 18%|█▊        | 60/334 [01:29<06:44,  1.48s/it]"
          ]
        },
        {
          "output_type": "stream",
          "name": "stdout",
          "text": [
            "Batch 59 - gradient norm: 60.0000\n",
            "Epoch 1/10, Batch 60\n",
            "  Total Loss: 2.7802\n",
            "  Hard Loss: 4.1250\n",
            "  Soft Loss: 2.2083\n",
            "Batch 60: Valid labels = 1536\n",
            "Batch 60 - hard_loss: 5.875\n",
            "Batch 60 - soft_loss: 2.780562162399292\n",
            "Batch 60 - total_batch_loss: 3.7120184898376465\n"
          ]
        },
        {
          "output_type": "stream",
          "name": "stderr",
          "text": [
            "\r 18%|█▊        | 61/334 [01:30<06:43,  1.48s/it]"
          ]
        },
        {
          "output_type": "stream",
          "name": "stdout",
          "text": [
            "Batch 60 - gradient norm: 47.0000\n",
            "Batch 61: Valid labels = 1536\n",
            "Batch 61 - hard_loss: 4.3125\n",
            "Batch 61 - soft_loss: 2.2655999660491943\n",
            "Batch 61 - total_batch_loss: 2.8827948570251465\n"
          ]
        },
        {
          "output_type": "stream",
          "name": "stderr",
          "text": [
            "\r 19%|█▊        | 62/334 [01:32<06:41,  1.48s/it]"
          ]
        },
        {
          "output_type": "stream",
          "name": "stdout",
          "text": [
            "Batch 61 - gradient norm: 51.2500\n",
            "Batch 62: Valid labels = 1536\n",
            "Batch 62 - hard_loss: 8.4375\n",
            "Batch 62 - soft_loss: 3.274280309677124\n",
            "Batch 62 - total_batch_loss: 4.823246002197266\n"
          ]
        },
        {
          "output_type": "stream",
          "name": "stderr",
          "text": [
            "\r 19%|█▉        | 63/334 [01:33<06:40,  1.48s/it]"
          ]
        },
        {
          "output_type": "stream",
          "name": "stdout",
          "text": [
            "Batch 62 - gradient norm: 46.2500\n",
            "Batch 63: Valid labels = 1536\n",
            "Batch 63 - hard_loss: 4.84375\n",
            "Batch 63 - soft_loss: 2.3872225284576416\n",
            "Batch 63 - total_batch_loss: 3.124180793762207\n"
          ]
        },
        {
          "output_type": "stream",
          "name": "stderr",
          "text": [
            "\r 19%|█▉        | 64/334 [01:35<06:38,  1.48s/it]"
          ]
        },
        {
          "output_type": "stream",
          "name": "stdout",
          "text": [
            "Batch 63 - gradient norm: 48.2500\n",
            "Batch 64: Valid labels = 1536\n",
            "Batch 64 - hard_loss: 7.6875\n",
            "Batch 64 - soft_loss: 3.0148565769195557\n",
            "Batch 64 - total_batch_loss: 4.42289924621582\n"
          ]
        },
        {
          "output_type": "stream",
          "name": "stderr",
          "text": [
            "\r 19%|█▉        | 65/334 [01:36<06:38,  1.48s/it]"
          ]
        },
        {
          "output_type": "stream",
          "name": "stdout",
          "text": [
            "Batch 64 - gradient norm: 43.7500\n",
            "Batch 65: Valid labels = 1536\n",
            "Batch 65 - hard_loss: 5.875\n",
            "Batch 65 - soft_loss: 2.5967819690704346\n",
            "Batch 65 - total_batch_loss: 3.5833723545074463\n"
          ]
        },
        {
          "output_type": "stream",
          "name": "stderr",
          "text": [
            "\r 20%|█▉        | 66/334 [01:38<06:36,  1.48s/it]"
          ]
        },
        {
          "output_type": "stream",
          "name": "stdout",
          "text": [
            "Batch 65 - gradient norm: 46.2500\n",
            "Batch 66: Valid labels = 1536\n",
            "Batch 66 - hard_loss: 6.78125\n",
            "Batch 66 - soft_loss: 2.6772422790527344\n",
            "Batch 66 - total_batch_loss: 3.9053196907043457\n"
          ]
        },
        {
          "output_type": "stream",
          "name": "stderr",
          "text": [
            "\r 20%|██        | 67/334 [01:39<06:34,  1.48s/it]"
          ]
        },
        {
          "output_type": "stream",
          "name": "stdout",
          "text": [
            "Batch 66 - gradient norm: 45.0000\n",
            "Batch 67: Valid labels = 1536\n",
            "Batch 67 - hard_loss: 4.40625\n",
            "Batch 67 - soft_loss: 2.258164167404175\n",
            "Batch 67 - total_batch_loss: 2.9010274410247803\n"
          ]
        },
        {
          "output_type": "stream",
          "name": "stderr",
          "text": [
            "\r 20%|██        | 68/334 [01:40<06:32,  1.47s/it]"
          ]
        },
        {
          "output_type": "stream",
          "name": "stdout",
          "text": [
            "Batch 67 - gradient norm: 48.2500\n",
            "Batch 68: Valid labels = 1536\n",
            "Batch 68 - hard_loss: 4.625\n",
            "Batch 68 - soft_loss: 2.2627954483032227\n",
            "Batch 68 - total_batch_loss: 2.974581718444824\n"
          ]
        },
        {
          "output_type": "stream",
          "name": "stderr",
          "text": [
            "\r 21%|██        | 69/334 [01:42<06:29,  1.47s/it]"
          ]
        },
        {
          "output_type": "stream",
          "name": "stdout",
          "text": [
            "Batch 68 - gradient norm: 47.0000\n",
            "Batch 69: Valid labels = 1536\n",
            "Batch 69 - hard_loss: 7.71875\n",
            "Batch 69 - soft_loss: 2.863363265991211\n",
            "Batch 69 - total_batch_loss: 4.316854476928711\n"
          ]
        },
        {
          "output_type": "stream",
          "name": "stderr",
          "text": [
            "\r 21%|██        | 70/334 [01:43<06:28,  1.47s/it]"
          ]
        },
        {
          "output_type": "stream",
          "name": "stdout",
          "text": [
            "Batch 69 - gradient norm: 47.0000\n",
            "Epoch 1/10, Batch 70\n",
            "  Total Loss: 4.3169\n",
            "  Hard Loss: 7.7188\n",
            "  Soft Loss: 2.8634\n",
            "Batch 70: Valid labels = 1536\n",
            "Batch 70 - hard_loss: 3.25\n",
            "Batch 70 - soft_loss: 1.971090316772461\n",
            "Batch 70 - total_batch_loss: 2.356325626373291\n"
          ]
        },
        {
          "output_type": "stream",
          "name": "stderr",
          "text": [
            "\r 21%|██▏       | 71/334 [01:45<06:27,  1.47s/it]"
          ]
        },
        {
          "output_type": "stream",
          "name": "stdout",
          "text": [
            "Batch 70 - gradient norm: 49.7500\n",
            "Batch 71: Valid labels = 1536\n",
            "Batch 71 - hard_loss: 4.5625\n",
            "Batch 71 - soft_loss: 2.1993656158447266\n",
            "Batch 71 - total_batch_loss: 2.9067435264587402\n"
          ]
        },
        {
          "output_type": "stream",
          "name": "stderr",
          "text": [
            "\r 22%|██▏       | 72/334 [01:46<06:25,  1.47s/it]"
          ]
        },
        {
          "output_type": "stream",
          "name": "stdout",
          "text": [
            "Batch 71 - gradient norm: 44.5000\n",
            "Batch 72: Valid labels = 1536\n",
            "Batch 72 - hard_loss: 4.65625\n",
            "Batch 72 - soft_loss: 2.1782491207122803\n",
            "Batch 72 - total_batch_loss: 2.9232118129730225\n"
          ]
        },
        {
          "output_type": "stream",
          "name": "stderr",
          "text": [
            "\r 22%|██▏       | 73/334 [01:48<06:24,  1.47s/it]"
          ]
        },
        {
          "output_type": "stream",
          "name": "stdout",
          "text": [
            "Batch 72 - gradient norm: 46.5000\n",
            "Batch 73: Valid labels = 1536\n",
            "Batch 73 - hard_loss: 7.15625\n",
            "Batch 73 - soft_loss: 2.870304822921753\n",
            "Batch 73 - total_batch_loss: 4.149838447570801\n"
          ]
        },
        {
          "output_type": "stream",
          "name": "stderr",
          "text": [
            "\r 22%|██▏       | 74/334 [01:49<06:23,  1.48s/it]"
          ]
        },
        {
          "output_type": "stream",
          "name": "stdout",
          "text": [
            "Batch 73 - gradient norm: 40.5000\n",
            "Batch 74: Valid labels = 1536\n",
            "Batch 74 - hard_loss: 2.8125\n",
            "Batch 74 - soft_loss: 1.822047233581543\n",
            "Batch 74 - total_batch_loss: 2.11918306350708\n"
          ]
        },
        {
          "output_type": "stream",
          "name": "stderr",
          "text": [
            "\r 22%|██▏       | 75/334 [01:51<06:23,  1.48s/it]"
          ]
        },
        {
          "output_type": "stream",
          "name": "stdout",
          "text": [
            "Batch 74 - gradient norm: 54.7500\n",
            "Batch 75: Valid labels = 1536\n",
            "Batch 75 - hard_loss: 3.546875\n",
            "Batch 75 - soft_loss: 1.975450873374939\n",
            "Batch 75 - total_batch_loss: 2.4453155994415283\n"
          ]
        },
        {
          "output_type": "stream",
          "name": "stderr",
          "text": [
            "\r 23%|██▎       | 76/334 [01:52<06:21,  1.48s/it]"
          ]
        },
        {
          "output_type": "stream",
          "name": "stdout",
          "text": [
            "Batch 75 - gradient norm: 43.0000\n",
            "Batch 76: Valid labels = 1536\n",
            "Batch 76 - hard_loss: 5.71875\n",
            "Batch 76 - soft_loss: 2.449172019958496\n",
            "Batch 76 - total_batch_loss: 3.4331703186035156\n"
          ]
        },
        {
          "output_type": "stream",
          "name": "stderr",
          "text": [
            "\r 23%|██▎       | 77/334 [01:54<06:19,  1.48s/it]"
          ]
        },
        {
          "output_type": "stream",
          "name": "stdout",
          "text": [
            "Batch 76 - gradient norm: 44.0000\n",
            "Batch 77: Valid labels = 1536\n",
            "Batch 77 - hard_loss: 4.9375\n",
            "Batch 77 - soft_loss: 2.302433729171753\n",
            "Batch 77 - total_batch_loss: 3.096078634262085\n"
          ]
        },
        {
          "output_type": "stream",
          "name": "stderr",
          "text": [
            "\r 23%|██▎       | 78/334 [01:55<06:16,  1.47s/it]"
          ]
        },
        {
          "output_type": "stream",
          "name": "stdout",
          "text": [
            "Batch 77 - gradient norm: 40.0000\n",
            "Batch 78: Valid labels = 1536\n",
            "Batch 78 - hard_loss: 4.15625\n",
            "Batch 78 - soft_loss: 2.188403367996216\n",
            "Batch 78 - total_batch_loss: 2.7818822860717773\n"
          ]
        },
        {
          "output_type": "stream",
          "name": "stderr",
          "text": [
            "\r 24%|██▎       | 79/334 [01:57<06:14,  1.47s/it]"
          ]
        },
        {
          "output_type": "stream",
          "name": "stdout",
          "text": [
            "Batch 78 - gradient norm: 40.0000\n",
            "Batch 79: Valid labels = 1536\n",
            "Batch 79 - hard_loss: 4.65625\n",
            "Batch 79 - soft_loss: 2.3168089389801025\n",
            "Batch 79 - total_batch_loss: 3.0202035903930664\n"
          ]
        },
        {
          "output_type": "stream",
          "name": "stderr",
          "text": [
            "\r 24%|██▍       | 80/334 [01:58<06:12,  1.47s/it]"
          ]
        },
        {
          "output_type": "stream",
          "name": "stdout",
          "text": [
            "Batch 79 - gradient norm: 38.0000\n",
            "Epoch 1/10, Batch 80\n",
            "  Total Loss: 3.0202\n",
            "  Hard Loss: 4.6562\n",
            "  Soft Loss: 2.3168\n",
            "Batch 80: Valid labels = 1536\n",
            "Batch 80 - hard_loss: 3.296875\n",
            "Batch 80 - soft_loss: 1.8639205694198608\n",
            "Batch 80 - total_batch_loss: 2.293025493621826\n"
          ]
        },
        {
          "output_type": "stream",
          "name": "stderr",
          "text": [
            "\r 24%|██▍       | 81/334 [02:00<06:11,  1.47s/it]"
          ]
        },
        {
          "output_type": "stream",
          "name": "stdout",
          "text": [
            "Batch 80 - gradient norm: 43.5000\n",
            "Batch 81: Valid labels = 1536\n",
            "Batch 81 - hard_loss: 5.96875\n",
            "Batch 81 - soft_loss: 2.610783100128174\n",
            "Batch 81 - total_batch_loss: 3.616610527038574\n"
          ]
        },
        {
          "output_type": "stream",
          "name": "stderr",
          "text": [
            "\r 25%|██▍       | 82/334 [02:01<06:12,  1.48s/it]"
          ]
        },
        {
          "output_type": "stream",
          "name": "stdout",
          "text": [
            "Batch 81 - gradient norm: 36.2500\n",
            "Batch 82: Valid labels = 1536\n",
            "Batch 82 - hard_loss: 8.8125\n",
            "Batch 82 - soft_loss: 2.9565975666046143\n",
            "Batch 82 - total_batch_loss: 4.710243225097656\n"
          ]
        },
        {
          "output_type": "stream",
          "name": "stderr",
          "text": [
            "\r 25%|██▍       | 83/334 [02:03<06:11,  1.48s/it]"
          ]
        },
        {
          "output_type": "stream",
          "name": "stdout",
          "text": [
            "Batch 82 - gradient norm: 44.2500\n",
            "Batch 83: Valid labels = 1536\n",
            "Batch 83 - hard_loss: 4.375\n",
            "Batch 83 - soft_loss: 2.026122570037842\n",
            "Batch 83 - total_batch_loss: 2.730785846710205\n"
          ]
        },
        {
          "output_type": "stream",
          "name": "stderr",
          "text": [
            "\r 25%|██▌       | 84/334 [02:04<06:09,  1.48s/it]"
          ]
        },
        {
          "output_type": "stream",
          "name": "stdout",
          "text": [
            "Batch 83 - gradient norm: 44.0000\n",
            "Batch 84: Valid labels = 1536\n",
            "Batch 84 - hard_loss: 5.53125\n",
            "Batch 84 - soft_loss: 2.409233808517456\n",
            "Batch 84 - total_batch_loss: 3.3427135944366455\n"
          ]
        },
        {
          "output_type": "stream",
          "name": "stderr",
          "text": [
            "\r 25%|██▌       | 85/334 [02:06<06:07,  1.48s/it]"
          ]
        },
        {
          "output_type": "stream",
          "name": "stdout",
          "text": [
            "Batch 84 - gradient norm: 38.5000\n",
            "Batch 85: Valid labels = 1536\n",
            "Batch 85 - hard_loss: 4.59375\n",
            "Batch 85 - soft_loss: 2.1351449489593506\n",
            "Batch 85 - total_batch_loss: 2.8696014881134033\n"
          ]
        },
        {
          "output_type": "stream",
          "name": "stderr",
          "text": [
            "\r 26%|██▌       | 86/334 [02:07<06:05,  1.47s/it]"
          ]
        },
        {
          "output_type": "stream",
          "name": "stdout",
          "text": [
            "Batch 85 - gradient norm: 40.0000\n",
            "Batch 86: Valid labels = 1536\n",
            "Batch 86 - hard_loss: 3.421875\n",
            "Batch 86 - soft_loss: 1.850162148475647\n",
            "Batch 86 - total_batch_loss: 2.3185510635375977\n"
          ]
        },
        {
          "output_type": "stream",
          "name": "stderr",
          "text": [
            "\r 26%|██▌       | 87/334 [02:08<06:03,  1.47s/it]"
          ]
        },
        {
          "output_type": "stream",
          "name": "stdout",
          "text": [
            "Batch 86 - gradient norm: 41.5000\n",
            "Batch 87: Valid labels = 1536\n",
            "Batch 87 - hard_loss: 7.78125\n",
            "Batch 87 - soft_loss: 2.6749584674835205\n",
            "Batch 87 - total_batch_loss: 4.200595855712891\n"
          ]
        },
        {
          "output_type": "stream",
          "name": "stderr",
          "text": [
            "\r 26%|██▋       | 88/334 [02:10<06:02,  1.47s/it]"
          ]
        },
        {
          "output_type": "stream",
          "name": "stdout",
          "text": [
            "Batch 87 - gradient norm: 46.2500\n",
            "Batch 88: Valid labels = 1536\n",
            "Batch 88 - hard_loss: 4.4375\n",
            "Batch 88 - soft_loss: 2.1088905334472656\n",
            "Batch 88 - total_batch_loss: 2.8043484687805176\n"
          ]
        },
        {
          "output_type": "stream",
          "name": "stderr",
          "text": [
            "\r 27%|██▋       | 89/334 [02:11<06:00,  1.47s/it]"
          ]
        },
        {
          "output_type": "stream",
          "name": "stdout",
          "text": [
            "Batch 88 - gradient norm: 38.5000\n",
            "Batch 89: Valid labels = 1536\n",
            "Batch 89 - hard_loss: 3.40625\n",
            "Batch 89 - soft_loss: 1.7481130361557007\n",
            "Batch 89 - total_batch_loss: 2.2471165657043457\n"
          ]
        },
        {
          "output_type": "stream",
          "name": "stderr",
          "text": [
            "\r 27%|██▋       | 90/334 [02:13<05:59,  1.47s/it]"
          ]
        },
        {
          "output_type": "stream",
          "name": "stdout",
          "text": [
            "Batch 89 - gradient norm: 42.0000\n",
            "Epoch 1/10, Batch 90\n",
            "  Total Loss: 2.2471\n",
            "  Hard Loss: 3.4062\n",
            "  Soft Loss: 1.7481\n",
            "Batch 90: Valid labels = 1536\n",
            "Batch 90 - hard_loss: 3.609375\n",
            "Batch 90 - soft_loss: 1.9034404754638672\n",
            "Batch 90 - total_batch_loss: 2.4183459281921387\n"
          ]
        },
        {
          "output_type": "stream",
          "name": "stderr",
          "text": [
            "\r 27%|██▋       | 91/334 [02:14<05:57,  1.47s/it]"
          ]
        },
        {
          "output_type": "stream",
          "name": "stdout",
          "text": [
            "Batch 90 - gradient norm: 36.2500\n",
            "Batch 91: Valid labels = 1536\n",
            "Batch 91 - hard_loss: 7.46875\n",
            "Batch 91 - soft_loss: 2.7792465686798096\n",
            "Batch 91 - total_batch_loss: 4.179847717285156\n"
          ]
        },
        {
          "output_type": "stream",
          "name": "stderr",
          "text": [
            "\r 28%|██▊       | 92/334 [02:16<05:57,  1.48s/it]"
          ]
        },
        {
          "output_type": "stream",
          "name": "stdout",
          "text": [
            "Batch 91 - gradient norm: 37.7500\n",
            "Batch 92: Valid labels = 1536\n",
            "Batch 92 - hard_loss: 7.78125\n",
            "Batch 92 - soft_loss: 2.81489634513855\n",
            "Batch 92 - total_batch_loss: 4.298552513122559\n"
          ]
        },
        {
          "output_type": "stream",
          "name": "stderr",
          "text": [
            "\r 28%|██▊       | 93/334 [02:17<05:55,  1.47s/it]"
          ]
        },
        {
          "output_type": "stream",
          "name": "stdout",
          "text": [
            "Batch 92 - gradient norm: 39.2500\n",
            "Batch 93: Valid labels = 1536\n",
            "Batch 93 - hard_loss: 3.53125\n",
            "Batch 93 - soft_loss: 1.7830573320388794\n",
            "Batch 93 - total_batch_loss: 2.3106400966644287\n"
          ]
        },
        {
          "output_type": "stream",
          "name": "stderr",
          "text": [
            "\r 28%|██▊       | 94/334 [02:19<05:53,  1.47s/it]"
          ]
        },
        {
          "output_type": "stream",
          "name": "stdout",
          "text": [
            "Batch 93 - gradient norm: 36.5000\n",
            "Batch 94: Valid labels = 1536\n",
            "Batch 94 - hard_loss: 2.328125\n",
            "Batch 94 - soft_loss: 1.5950103998184204\n",
            "Batch 94 - total_batch_loss: 1.8157260417938232\n"
          ]
        },
        {
          "output_type": "stream",
          "name": "stderr",
          "text": [
            "\r 28%|██▊       | 95/334 [02:20<05:51,  1.47s/it]"
          ]
        },
        {
          "output_type": "stream",
          "name": "stdout",
          "text": [
            "Batch 94 - gradient norm: 42.2500\n",
            "Batch 95: Valid labels = 1536\n",
            "Batch 95 - hard_loss: 6.0625\n",
            "Batch 95 - soft_loss: 2.6502456665039062\n",
            "Batch 95 - total_batch_loss: 3.6754844188690186\n"
          ]
        },
        {
          "output_type": "stream",
          "name": "stderr",
          "text": [
            "\r 29%|██▊       | 96/334 [02:22<05:50,  1.47s/it]"
          ]
        },
        {
          "output_type": "stream",
          "name": "stdout",
          "text": [
            "Batch 95 - gradient norm: 32.2500\n",
            "Batch 96: Valid labels = 1536\n",
            "Batch 96 - hard_loss: 4.53125\n",
            "Batch 96 - soft_loss: 1.9901108741760254\n",
            "Batch 96 - total_batch_loss: 2.7524526119232178\n"
          ]
        },
        {
          "output_type": "stream",
          "name": "stderr",
          "text": [
            "\r 29%|██▉       | 97/334 [02:23<05:49,  1.47s/it]"
          ]
        },
        {
          "output_type": "stream",
          "name": "stdout",
          "text": [
            "Batch 96 - gradient norm: 37.0000\n",
            "Batch 97: Valid labels = 1536\n",
            "Batch 97 - hard_loss: 4.71875\n",
            "Batch 97 - soft_loss: 2.114560842514038\n",
            "Batch 97 - total_batch_loss: 2.8942551612854004\n"
          ]
        },
        {
          "output_type": "stream",
          "name": "stderr",
          "text": [
            "\r 29%|██▉       | 98/334 [02:25<05:48,  1.47s/it]"
          ]
        },
        {
          "output_type": "stream",
          "name": "stdout",
          "text": [
            "Batch 97 - gradient norm: 35.7500\n",
            "Batch 98: Valid labels = 1536\n",
            "Batch 98 - hard_loss: 2.75\n",
            "Batch 98 - soft_loss: 1.522077202796936\n",
            "Batch 98 - total_batch_loss: 1.8896727561950684\n"
          ]
        },
        {
          "output_type": "stream",
          "name": "stderr",
          "text": [
            "\r 30%|██▉       | 99/334 [02:26<05:46,  1.48s/it]"
          ]
        },
        {
          "output_type": "stream",
          "name": "stdout",
          "text": [
            "Batch 98 - gradient norm: 38.2500\n",
            "Batch 99: Valid labels = 1536\n",
            "Batch 99 - hard_loss: 2.890625\n",
            "Batch 99 - soft_loss: 1.6478790044784546\n",
            "Batch 99 - total_batch_loss: 2.020702838897705\n"
          ]
        },
        {
          "output_type": "stream",
          "name": "stderr",
          "text": [
            "\r 30%|██▉       | 100/334 [02:28<05:44,  1.47s/it]"
          ]
        },
        {
          "output_type": "stream",
          "name": "stdout",
          "text": [
            "Batch 99 - gradient norm: 34.7500\n",
            "Epoch 1/10, Batch 100\n",
            "  Total Loss: 2.0207\n",
            "  Hard Loss: 2.8906\n",
            "  Soft Loss: 1.6479\n",
            "Batch 100: Valid labels = 1536\n",
            "Batch 100 - hard_loss: 3.140625\n",
            "Batch 100 - soft_loss: 1.6652542352676392\n",
            "Batch 100 - total_batch_loss: 2.107084274291992\n"
          ]
        },
        {
          "output_type": "stream",
          "name": "stderr",
          "text": [
            "\r 30%|███       | 101/334 [02:29<05:43,  1.47s/it]"
          ]
        },
        {
          "output_type": "stream",
          "name": "stdout",
          "text": [
            "Batch 100 - gradient norm: 40.2500\n",
            "Batch 101: Valid labels = 1536\n",
            "Batch 101 - hard_loss: 5.8125\n",
            "Batch 101 - soft_loss: 2.3264830112457275\n",
            "Batch 101 - total_batch_loss: 3.370725631713867\n"
          ]
        },
        {
          "output_type": "stream",
          "name": "stderr",
          "text": [
            "\r 31%|███       | 102/334 [02:31<05:44,  1.49s/it]"
          ]
        },
        {
          "output_type": "stream",
          "name": "stdout",
          "text": [
            "Batch 101 - gradient norm: 34.5000\n",
            "Batch 102: Valid labels = 1536\n",
            "Batch 102 - hard_loss: 3.90625\n",
            "Batch 102 - soft_loss: 1.933384895324707\n",
            "Batch 102 - total_batch_loss: 2.5252442359924316\n"
          ]
        },
        {
          "output_type": "stream",
          "name": "stderr",
          "text": [
            "\r 31%|███       | 103/334 [02:32<05:42,  1.48s/it]"
          ]
        },
        {
          "output_type": "stream",
          "name": "stdout",
          "text": [
            "Batch 102 - gradient norm: 32.0000\n",
            "Batch 103: Valid labels = 1536\n",
            "Batch 103 - hard_loss: 7.03125\n",
            "Batch 103 - soft_loss: 2.724172592163086\n",
            "Batch 103 - total_batch_loss: 4.016295909881592\n"
          ]
        },
        {
          "output_type": "stream",
          "name": "stderr",
          "text": [
            "\r 31%|███       | 104/334 [02:34<05:40,  1.48s/it]"
          ]
        },
        {
          "output_type": "stream",
          "name": "stdout",
          "text": [
            "Batch 103 - gradient norm: 37.5000\n",
            "Batch 104: Valid labels = 1536\n",
            "Batch 104 - hard_loss: 4.84375\n",
            "Batch 104 - soft_loss: 2.112905740737915\n",
            "Batch 104 - total_batch_loss: 2.932158946990967\n"
          ]
        },
        {
          "output_type": "stream",
          "name": "stderr",
          "text": [
            "\r 31%|███▏      | 105/334 [02:35<05:38,  1.48s/it]"
          ]
        },
        {
          "output_type": "stream",
          "name": "stdout",
          "text": [
            "Batch 104 - gradient norm: 32.7500\n",
            "Batch 105: Valid labels = 1536\n",
            "Batch 105 - hard_loss: 2.0\n",
            "Batch 105 - soft_loss: 1.4070253372192383\n",
            "Batch 105 - total_batch_loss: 1.5864801406860352\n"
          ]
        },
        {
          "output_type": "stream",
          "name": "stderr",
          "text": [
            "\r 32%|███▏      | 106/334 [02:37<05:38,  1.48s/it]"
          ]
        },
        {
          "output_type": "stream",
          "name": "stdout",
          "text": [
            "Batch 105 - gradient norm: 36.7500\n",
            "Batch 106: Valid labels = 1536\n",
            "Batch 106 - hard_loss: 3.4375\n",
            "Batch 106 - soft_loss: 1.811073660850525\n",
            "Batch 106 - total_batch_loss: 2.299001693725586\n"
          ]
        },
        {
          "output_type": "stream",
          "name": "stderr",
          "text": [
            "\r 32%|███▏      | 107/334 [02:38<05:35,  1.48s/it]"
          ]
        },
        {
          "output_type": "stream",
          "name": "stdout",
          "text": [
            "Batch 106 - gradient norm: 30.7500\n",
            "Batch 107: Valid labels = 1536\n",
            "Batch 107 - hard_loss: 3.421875\n",
            "Batch 107 - soft_loss: 1.6910501718521118\n",
            "Batch 107 - total_batch_loss: 2.2071726322174072\n"
          ]
        },
        {
          "output_type": "stream",
          "name": "stderr",
          "text": [
            "\r 32%|███▏      | 108/334 [02:39<05:34,  1.48s/it]"
          ]
        },
        {
          "output_type": "stream",
          "name": "stdout",
          "text": [
            "Batch 107 - gradient norm: 40.7500\n",
            "Batch 108: Valid labels = 1536\n",
            "Batch 108 - hard_loss: 4.875\n",
            "Batch 108 - soft_loss: 1.997854232788086\n",
            "Batch 108 - total_batch_loss: 2.859435558319092\n"
          ]
        },
        {
          "output_type": "stream",
          "name": "stderr",
          "text": [
            "\r 33%|███▎      | 109/334 [02:41<05:32,  1.48s/it]"
          ]
        },
        {
          "output_type": "stream",
          "name": "stdout",
          "text": [
            "Batch 108 - gradient norm: 35.5000\n",
            "Batch 109: Valid labels = 1536\n",
            "Batch 109 - hard_loss: 1.4453125\n",
            "Batch 109 - soft_loss: 1.180631399154663\n",
            "Batch 109 - total_batch_loss: 1.260035753250122\n"
          ]
        },
        {
          "output_type": "stream",
          "name": "stderr",
          "text": [
            "\r 33%|███▎      | 110/334 [02:42<05:31,  1.48s/it]"
          ]
        },
        {
          "output_type": "stream",
          "name": "stdout",
          "text": [
            "Batch 109 - gradient norm: 38.5000\n",
            "Epoch 1/10, Batch 110\n",
            "  Total Loss: 1.2600\n",
            "  Hard Loss: 1.4453\n",
            "  Soft Loss: 1.1806\n",
            "Batch 110: Valid labels = 1536\n",
            "Batch 110 - hard_loss: 2.671875\n",
            "Batch 110 - soft_loss: 1.5069680213928223\n",
            "Batch 110 - total_batch_loss: 1.8556588888168335\n"
          ]
        },
        {
          "output_type": "stream",
          "name": "stderr",
          "text": [
            "\r 33%|███▎      | 111/334 [02:44<05:30,  1.48s/it]"
          ]
        },
        {
          "output_type": "stream",
          "name": "stdout",
          "text": [
            "Batch 110 - gradient norm: 32.2500\n",
            "Batch 111: Valid labels = 1536\n",
            "Batch 111 - hard_loss: 6.09375\n",
            "Batch 111 - soft_loss: 2.4708664417266846\n",
            "Batch 111 - total_batch_loss: 3.5577316284179688\n"
          ]
        },
        {
          "output_type": "stream",
          "name": "stderr",
          "text": [
            "\r 34%|███▎      | 112/334 [02:45<05:28,  1.48s/it]"
          ]
        },
        {
          "output_type": "stream",
          "name": "stdout",
          "text": [
            "Batch 111 - gradient norm: 33.0000\n",
            "Batch 112: Valid labels = 1536\n",
            "Batch 112 - hard_loss: 9.6875\n",
            "Batch 112 - soft_loss: 3.191452741622925\n",
            "Batch 112 - total_batch_loss: 5.1402668952941895\n"
          ]
        },
        {
          "output_type": "stream",
          "name": "stderr",
          "text": [
            "\r 34%|███▍      | 113/334 [02:47<05:26,  1.48s/it]"
          ]
        },
        {
          "output_type": "stream",
          "name": "stdout",
          "text": [
            "Batch 112 - gradient norm: 47.7500\n",
            "Batch 113: Valid labels = 1536\n",
            "Batch 113 - hard_loss: 5.4375\n",
            "Batch 113 - soft_loss: 2.166358470916748\n",
            "Batch 113 - total_batch_loss: 3.149263381958008\n"
          ]
        },
        {
          "output_type": "stream",
          "name": "stderr",
          "text": [
            "\r 34%|███▍      | 114/334 [02:48<05:24,  1.48s/it]"
          ]
        },
        {
          "output_type": "stream",
          "name": "stdout",
          "text": [
            "Batch 113 - gradient norm: 33.7500\n",
            "Batch 114: Valid labels = 1536\n",
            "Batch 114 - hard_loss: 6.9375\n",
            "Batch 114 - soft_loss: 2.5045132637023926\n",
            "Batch 114 - total_batch_loss: 3.831284284591675\n"
          ]
        },
        {
          "output_type": "stream",
          "name": "stderr",
          "text": [
            "\r 34%|███▍      | 115/334 [02:50<05:23,  1.48s/it]"
          ]
        },
        {
          "output_type": "stream",
          "name": "stdout",
          "text": [
            "Batch 114 - gradient norm: 37.0000\n",
            "Batch 115: Valid labels = 1536\n",
            "Batch 115 - hard_loss: 5.375\n",
            "Batch 115 - soft_loss: 2.208451509475708\n",
            "Batch 115 - total_batch_loss: 3.1552910804748535\n"
          ]
        },
        {
          "output_type": "stream",
          "name": "stderr",
          "text": [
            "\r 35%|███▍      | 116/334 [02:51<05:21,  1.48s/it]"
          ]
        },
        {
          "output_type": "stream",
          "name": "stdout",
          "text": [
            "Batch 115 - gradient norm: 32.5000\n",
            "Batch 116: Valid labels = 1536\n",
            "Batch 116 - hard_loss: 6.53125\n",
            "Batch 116 - soft_loss: 2.3792307376861572\n",
            "Batch 116 - total_batch_loss: 3.626399040222168\n"
          ]
        },
        {
          "output_type": "stream",
          "name": "stderr",
          "text": [
            "\r 35%|███▌      | 117/334 [02:53<05:20,  1.48s/it]"
          ]
        },
        {
          "output_type": "stream",
          "name": "stdout",
          "text": [
            "Batch 116 - gradient norm: 35.2500\n",
            "Batch 117: Valid labels = 1536\n",
            "Batch 117 - hard_loss: 2.75\n",
            "Batch 117 - soft_loss: 1.45358407497406\n",
            "Batch 117 - total_batch_loss: 1.841727614402771\n"
          ]
        },
        {
          "output_type": "stream",
          "name": "stderr",
          "text": [
            "\r 35%|███▌      | 118/334 [02:54<05:18,  1.47s/it]"
          ]
        },
        {
          "output_type": "stream",
          "name": "stdout",
          "text": [
            "Batch 117 - gradient norm: 30.3750\n",
            "Batch 118: Valid labels = 1536\n",
            "Batch 118 - hard_loss: 2.734375\n",
            "Batch 118 - soft_loss: 1.5109225511550903\n",
            "Batch 118 - total_batch_loss: 1.8779582977294922\n"
          ]
        },
        {
          "output_type": "stream",
          "name": "stderr",
          "text": [
            "\r 36%|███▌      | 119/334 [02:56<05:16,  1.47s/it]"
          ]
        },
        {
          "output_type": "stream",
          "name": "stdout",
          "text": [
            "Batch 118 - gradient norm: 33.5000\n",
            "Batch 119: Valid labels = 1536\n",
            "Batch 119 - hard_loss: 6.375\n",
            "Batch 119 - soft_loss: 2.521352529525757\n",
            "Batch 119 - total_batch_loss: 3.679009199142456\n"
          ]
        },
        {
          "output_type": "stream",
          "name": "stderr",
          "text": [
            "\r 36%|███▌      | 120/334 [02:57<05:15,  1.47s/it]"
          ]
        },
        {
          "output_type": "stream",
          "name": "stdout",
          "text": [
            "Batch 119 - gradient norm: 34.7500\n",
            "Epoch 1/10, Batch 120\n",
            "  Total Loss: 3.6790\n",
            "  Hard Loss: 6.3750\n",
            "  Soft Loss: 2.5214\n",
            "Batch 120: Valid labels = 1536\n",
            "Batch 120 - hard_loss: 3.96875\n",
            "Batch 120 - soft_loss: 1.9535551071166992\n",
            "Batch 120 - total_batch_loss: 2.554988384246826\n"
          ]
        },
        {
          "output_type": "stream",
          "name": "stderr",
          "text": [
            "\r 36%|███▌      | 121/334 [02:59<05:14,  1.47s/it]"
          ]
        },
        {
          "output_type": "stream",
          "name": "stdout",
          "text": [
            "Batch 120 - gradient norm: 28.1250\n",
            "Batch 121: Valid labels = 1536\n",
            "Batch 121 - hard_loss: 2.484375\n",
            "Batch 121 - soft_loss: 1.409471869468689\n",
            "Batch 121 - total_batch_loss: 1.7327240705490112\n"
          ]
        },
        {
          "output_type": "stream",
          "name": "stderr",
          "text": [
            "\r 37%|███▋      | 122/334 [03:00<05:14,  1.48s/it]"
          ]
        },
        {
          "output_type": "stream",
          "name": "stdout",
          "text": [
            "Batch 121 - gradient norm: 28.2500\n",
            "Batch 122: Valid labels = 1536\n",
            "Batch 122 - hard_loss: 2.171875\n",
            "Batch 122 - soft_loss: 1.284638524055481\n",
            "Batch 122 - total_batch_loss: 1.5515906810760498\n"
          ]
        },
        {
          "output_type": "stream",
          "name": "stderr",
          "text": [
            "\r 37%|███▋      | 123/334 [03:02<05:36,  1.60s/it]"
          ]
        },
        {
          "output_type": "stream",
          "name": "stdout",
          "text": [
            "Batch 122 - gradient norm: 29.8750\n",
            "Batch 123: Valid labels = 1536\n",
            "Batch 123 - hard_loss: 6.0\n",
            "Batch 123 - soft_loss: 2.487736940383911\n",
            "Batch 123 - total_batch_loss: 3.5382909774780273\n"
          ]
        },
        {
          "output_type": "stream",
          "name": "stderr",
          "text": [
            "\r 37%|███▋      | 124/334 [03:03<05:26,  1.56s/it]"
          ]
        },
        {
          "output_type": "stream",
          "name": "stdout",
          "text": [
            "Batch 123 - gradient norm: 30.1250\n",
            "Batch 124: Valid labels = 1536\n",
            "Batch 124 - hard_loss: 3.078125\n",
            "Batch 124 - soft_loss: 1.56686270236969\n",
            "Batch 124 - total_batch_loss: 2.018678903579712\n"
          ]
        },
        {
          "output_type": "stream",
          "name": "stderr",
          "text": [
            "\r 37%|███▋      | 125/334 [03:05<05:20,  1.53s/it]"
          ]
        },
        {
          "output_type": "stream",
          "name": "stdout",
          "text": [
            "Batch 124 - gradient norm: 28.7500\n",
            "Batch 125: Valid labels = 1536\n",
            "Batch 125 - hard_loss: 1.546875\n",
            "Batch 125 - soft_loss: 1.1168845891952515\n",
            "Batch 125 - total_batch_loss: 1.246662974357605\n"
          ]
        },
        {
          "output_type": "stream",
          "name": "stderr",
          "text": [
            "\r 38%|███▊      | 126/334 [03:06<05:13,  1.51s/it]"
          ]
        },
        {
          "output_type": "stream",
          "name": "stdout",
          "text": [
            "Batch 125 - gradient norm: 31.3750\n",
            "Batch 126: Valid labels = 1536\n",
            "Batch 126 - hard_loss: 4.375\n",
            "Batch 126 - soft_loss: 1.95650053024292\n",
            "Batch 126 - total_batch_loss: 2.6820502281188965\n"
          ]
        },
        {
          "output_type": "stream",
          "name": "stderr",
          "text": [
            "\r 38%|███▊      | 127/334 [03:08<05:10,  1.50s/it]"
          ]
        },
        {
          "output_type": "stream",
          "name": "stdout",
          "text": [
            "Batch 126 - gradient norm: 29.0000\n",
            "Batch 127: Valid labels = 1536\n",
            "Batch 127 - hard_loss: 2.90625\n",
            "Batch 127 - soft_loss: 1.4834827184677124\n",
            "Batch 127 - total_batch_loss: 1.909531593322754\n"
          ]
        },
        {
          "output_type": "stream",
          "name": "stderr",
          "text": [
            "\r 38%|███▊      | 128/334 [03:09<05:06,  1.49s/it]"
          ]
        },
        {
          "output_type": "stream",
          "name": "stdout",
          "text": [
            "Batch 127 - gradient norm: 27.3750\n",
            "Batch 128: Valid labels = 1536\n",
            "Batch 128 - hard_loss: 6.34375\n",
            "Batch 128 - soft_loss: 2.5022199153900146\n",
            "Batch 128 - total_batch_loss: 3.657804012298584\n"
          ]
        },
        {
          "output_type": "stream",
          "name": "stderr",
          "text": [
            "\r 39%|███▊      | 129/334 [03:11<05:04,  1.48s/it]"
          ]
        },
        {
          "output_type": "stream",
          "name": "stdout",
          "text": [
            "Batch 128 - gradient norm: 36.2500\n",
            "Batch 129: Valid labels = 1536\n",
            "Batch 129 - hard_loss: 6.03125\n",
            "Batch 129 - soft_loss: 2.5630311965942383\n",
            "Batch 129 - total_batch_loss: 3.606621742248535\n"
          ]
        },
        {
          "output_type": "stream",
          "name": "stderr",
          "text": [
            "\r 39%|███▉      | 130/334 [03:12<05:03,  1.49s/it]"
          ]
        },
        {
          "output_type": "stream",
          "name": "stdout",
          "text": [
            "Batch 129 - gradient norm: 31.3750\n",
            "Epoch 1/10, Batch 130\n",
            "  Total Loss: 3.6066\n",
            "  Hard Loss: 6.0312\n",
            "  Soft Loss: 2.5630\n",
            "Batch 130: Valid labels = 1536\n",
            "Batch 130 - hard_loss: 4.59375\n",
            "Batch 130 - soft_loss: 2.023969888687134\n",
            "Batch 130 - total_batch_loss: 2.791779041290283\n"
          ]
        },
        {
          "output_type": "stream",
          "name": "stderr",
          "text": [
            "\r 39%|███▉      | 131/334 [03:14<05:00,  1.48s/it]"
          ]
        },
        {
          "output_type": "stream",
          "name": "stdout",
          "text": [
            "Batch 130 - gradient norm: 28.7500\n",
            "Batch 131: Valid labels = 1536\n",
            "Batch 131 - hard_loss: 7.09375\n",
            "Batch 131 - soft_loss: 2.6655733585357666\n",
            "Batch 131 - total_batch_loss: 3.990901470184326\n"
          ]
        },
        {
          "output_type": "stream",
          "name": "stderr",
          "text": [
            "\r 40%|███▉      | 132/334 [03:15<04:59,  1.48s/it]"
          ]
        },
        {
          "output_type": "stream",
          "name": "stdout",
          "text": [
            "Batch 131 - gradient norm: 36.2500\n",
            "Batch 132: Valid labels = 1536\n",
            "Batch 132 - hard_loss: 3.234375\n",
            "Batch 132 - soft_loss: 1.702688217163086\n",
            "Batch 132 - total_batch_loss: 2.1606316566467285\n"
          ]
        },
        {
          "output_type": "stream",
          "name": "stderr",
          "text": [
            "\r 40%|███▉      | 133/334 [03:17<04:56,  1.48s/it]"
          ]
        },
        {
          "output_type": "stream",
          "name": "stdout",
          "text": [
            "Batch 132 - gradient norm: 25.3750\n",
            "Batch 133: Valid labels = 1536\n",
            "Batch 133 - hard_loss: 3.0\n",
            "Batch 133 - soft_loss: 1.5429052114486694\n",
            "Batch 133 - total_batch_loss: 1.9784711599349976\n"
          ]
        },
        {
          "output_type": "stream",
          "name": "stderr",
          "text": [
            "\r 40%|████      | 134/334 [03:18<04:54,  1.47s/it]"
          ]
        },
        {
          "output_type": "stream",
          "name": "stdout",
          "text": [
            "Batch 133 - gradient norm: 26.5000\n",
            "Batch 134: Valid labels = 1536\n",
            "Batch 134 - hard_loss: 3.09375\n",
            "Batch 134 - soft_loss: 1.662078857421875\n",
            "Batch 134 - total_batch_loss: 2.093142509460449\n"
          ]
        },
        {
          "output_type": "stream",
          "name": "stderr",
          "text": [
            "\r 40%|████      | 135/334 [03:20<04:53,  1.48s/it]"
          ]
        },
        {
          "output_type": "stream",
          "name": "stdout",
          "text": [
            "Batch 134 - gradient norm: 25.7500\n",
            "Batch 135: Valid labels = 1536\n",
            "Batch 135 - hard_loss: 4.28125\n",
            "Batch 135 - soft_loss: 1.9138799905776978\n",
            "Batch 135 - total_batch_loss: 2.6209659576416016\n"
          ]
        },
        {
          "output_type": "stream",
          "name": "stderr",
          "text": [
            "\r 41%|████      | 136/334 [03:21<04:52,  1.48s/it]"
          ]
        },
        {
          "output_type": "stream",
          "name": "stdout",
          "text": [
            "Batch 135 - gradient norm: 27.8750\n",
            "Batch 136: Valid labels = 1536\n",
            "Batch 136 - hard_loss: 5.34375\n",
            "Batch 136 - soft_loss: 2.356410026550293\n",
            "Batch 136 - total_batch_loss: 3.251049518585205\n"
          ]
        },
        {
          "output_type": "stream",
          "name": "stderr",
          "text": [
            "\r 41%|████      | 137/334 [03:23<04:51,  1.48s/it]"
          ]
        },
        {
          "output_type": "stream",
          "name": "stdout",
          "text": [
            "Batch 136 - gradient norm: 31.3750\n",
            "Batch 137: Valid labels = 1536\n",
            "Batch 137 - hard_loss: 6.28125\n",
            "Batch 137 - soft_loss: 2.3962631225585938\n",
            "Batch 137 - total_batch_loss: 3.5601966381073\n"
          ]
        },
        {
          "output_type": "stream",
          "name": "stderr",
          "text": [
            "\r 41%|████▏     | 138/334 [03:24<04:52,  1.49s/it]"
          ]
        },
        {
          "output_type": "stream",
          "name": "stdout",
          "text": [
            "Batch 137 - gradient norm: 32.7500\n",
            "Batch 138: Valid labels = 1536\n",
            "Batch 138 - hard_loss: 5.40625\n",
            "Batch 138 - soft_loss: 2.214991569519043\n",
            "Batch 138 - total_batch_loss: 3.1754941940307617\n"
          ]
        },
        {
          "output_type": "stream",
          "name": "stderr",
          "text": [
            "\r 42%|████▏     | 139/334 [03:26<04:49,  1.49s/it]"
          ]
        },
        {
          "output_type": "stream",
          "name": "stdout",
          "text": [
            "Batch 138 - gradient norm: 35.5000\n",
            "Batch 139: Valid labels = 1536\n",
            "Batch 139 - hard_loss: 6.625\n",
            "Batch 139 - soft_loss: 2.1053578853607178\n",
            "Batch 139 - total_batch_loss: 3.458125591278076\n"
          ]
        },
        {
          "output_type": "stream",
          "name": "stderr",
          "text": [
            "\r 42%|████▏     | 140/334 [03:27<04:47,  1.48s/it]"
          ]
        },
        {
          "output_type": "stream",
          "name": "stdout",
          "text": [
            "Batch 139 - gradient norm: 37.2500\n",
            "Epoch 1/10, Batch 140\n",
            "  Total Loss: 3.4581\n",
            "  Hard Loss: 6.6250\n",
            "  Soft Loss: 2.1054\n",
            "Batch 140: Valid labels = 1536\n",
            "Batch 140 - hard_loss: 4.34375\n",
            "Batch 140 - soft_loss: 1.8940033912658691\n",
            "Batch 140 - total_batch_loss: 2.6304898262023926\n"
          ]
        },
        {
          "output_type": "stream",
          "name": "stderr",
          "text": [
            "\r 42%|████▏     | 141/334 [03:29<04:46,  1.48s/it]"
          ]
        },
        {
          "output_type": "stream",
          "name": "stdout",
          "text": [
            "Batch 140 - gradient norm: 29.1250\n",
            "Batch 141: Valid labels = 1536\n",
            "Batch 141 - hard_loss: 1.765625\n",
            "Batch 141 - soft_loss: 1.0980377197265625\n",
            "Batch 141 - total_batch_loss: 1.2998764514923096\n"
          ]
        },
        {
          "output_type": "stream",
          "name": "stderr",
          "text": [
            "\r 43%|████▎     | 142/334 [03:30<04:43,  1.48s/it]"
          ]
        },
        {
          "output_type": "stream",
          "name": "stdout",
          "text": [
            "Batch 141 - gradient norm: 32.0000\n",
            "Batch 142: Valid labels = 1536\n",
            "Batch 142 - hard_loss: 5.65625\n",
            "Batch 142 - soft_loss: 2.1391541957855225\n",
            "Batch 142 - total_batch_loss: 3.192720413208008\n"
          ]
        },
        {
          "output_type": "stream",
          "name": "stderr",
          "text": [
            "\r 43%|████▎     | 143/334 [03:32<04:42,  1.48s/it]"
          ]
        },
        {
          "output_type": "stream",
          "name": "stdout",
          "text": [
            "Batch 142 - gradient norm: 39.5000\n",
            "Batch 143: Valid labels = 1536\n",
            "Batch 143 - hard_loss: 4.5625\n",
            "Batch 143 - soft_loss: 2.0136795043945312\n",
            "Batch 143 - total_batch_loss: 2.7767629623413086\n"
          ]
        },
        {
          "output_type": "stream",
          "name": "stderr",
          "text": [
            "\r 43%|████▎     | 144/334 [03:33<04:40,  1.48s/it]"
          ]
        },
        {
          "output_type": "stream",
          "name": "stdout",
          "text": [
            "Batch 143 - gradient norm: 33.0000\n",
            "Batch 144: Valid labels = 1536\n",
            "Batch 144 - hard_loss: 3.0\n",
            "Batch 144 - soft_loss: 1.5083513259887695\n",
            "Batch 144 - total_batch_loss: 1.954283356666565\n"
          ]
        },
        {
          "output_type": "stream",
          "name": "stderr",
          "text": [
            "\r 43%|████▎     | 145/334 [03:34<04:38,  1.48s/it]"
          ]
        },
        {
          "output_type": "stream",
          "name": "stdout",
          "text": [
            "Batch 144 - gradient norm: 25.3750\n",
            "Batch 145: Valid labels = 1536\n",
            "Batch 145 - hard_loss: 3.546875\n",
            "Batch 145 - soft_loss: 1.5102466344833374\n",
            "Batch 145 - total_batch_loss: 2.1196727752685547\n"
          ]
        },
        {
          "output_type": "stream",
          "name": "stderr",
          "text": [
            "\r 44%|████▎     | 146/334 [03:36<04:38,  1.48s/it]"
          ]
        },
        {
          "output_type": "stream",
          "name": "stdout",
          "text": [
            "Batch 145 - gradient norm: 32.2500\n",
            "Batch 146: Valid labels = 1536\n",
            "Batch 146 - hard_loss: 2.4375\n",
            "Batch 146 - soft_loss: 1.3296443223953247\n",
            "Batch 146 - total_batch_loss: 1.661219835281372\n"
          ]
        },
        {
          "output_type": "stream",
          "name": "stderr",
          "text": [
            "\r 44%|████▍     | 147/334 [03:37<04:36,  1.48s/it]"
          ]
        },
        {
          "output_type": "stream",
          "name": "stdout",
          "text": [
            "Batch 146 - gradient norm: 26.5000\n",
            "Batch 147: Valid labels = 1536\n",
            "Batch 147 - hard_loss: 4.34375\n",
            "Batch 147 - soft_loss: 1.8202563524246216\n",
            "Batch 147 - total_batch_loss: 2.578866958618164\n"
          ]
        },
        {
          "output_type": "stream",
          "name": "stderr",
          "text": [
            "\r 44%|████▍     | 148/334 [03:39<04:34,  1.48s/it]"
          ]
        },
        {
          "output_type": "stream",
          "name": "stdout",
          "text": [
            "Batch 147 - gradient norm: 38.0000\n",
            "Batch 148: Valid labels = 1536\n",
            "Batch 148 - hard_loss: 3.640625\n",
            "Batch 148 - soft_loss: 1.6946663856506348\n",
            "Batch 148 - total_batch_loss: 2.2800164222717285\n"
          ]
        },
        {
          "output_type": "stream",
          "name": "stderr",
          "text": [
            "\r 45%|████▍     | 149/334 [03:40<04:32,  1.48s/it]"
          ]
        },
        {
          "output_type": "stream",
          "name": "stdout",
          "text": [
            "Batch 148 - gradient norm: 30.0000\n",
            "Batch 149: Valid labels = 1536\n",
            "Batch 149 - hard_loss: 2.984375\n",
            "Batch 149 - soft_loss: 1.45940363407135\n",
            "Batch 149 - total_batch_loss: 1.9161137342453003\n"
          ]
        },
        {
          "output_type": "stream",
          "name": "stderr",
          "text": [
            "\r 45%|████▍     | 150/334 [03:42<04:31,  1.47s/it]"
          ]
        },
        {
          "output_type": "stream",
          "name": "stdout",
          "text": [
            "Batch 149 - gradient norm: 29.6250\n",
            "Epoch 1/10, Batch 150\n",
            "  Total Loss: 1.9161\n",
            "  Hard Loss: 2.9844\n",
            "  Soft Loss: 1.4594\n",
            "Batch 150: Valid labels = 1536\n",
            "Batch 150 - hard_loss: 3.3125\n",
            "Batch 150 - soft_loss: 1.5794731378555298\n",
            "Batch 150 - total_batch_loss: 2.0978188514709473\n"
          ]
        },
        {
          "output_type": "stream",
          "name": "stderr",
          "text": [
            "\r 45%|████▌     | 151/334 [03:43<04:30,  1.48s/it]"
          ]
        },
        {
          "output_type": "stream",
          "name": "stdout",
          "text": [
            "Batch 150 - gradient norm: 30.6250\n",
            "Batch 151: Valid labels = 1536\n",
            "Batch 151 - hard_loss: 4.125\n",
            "Batch 151 - soft_loss: 1.8159923553466797\n",
            "Batch 151 - total_batch_loss: 2.5055694580078125\n"
          ]
        },
        {
          "output_type": "stream",
          "name": "stderr",
          "text": [
            "\r 46%|████▌     | 152/334 [03:45<04:28,  1.48s/it]"
          ]
        },
        {
          "output_type": "stream",
          "name": "stdout",
          "text": [
            "Batch 151 - gradient norm: 34.2500\n",
            "Batch 152: Valid labels = 1536\n",
            "Batch 152 - hard_loss: 11.3125\n",
            "Batch 152 - soft_loss: 3.358898401260376\n",
            "Batch 152 - total_batch_loss: 5.741853713989258\n"
          ]
        },
        {
          "output_type": "stream",
          "name": "stderr",
          "text": [
            "\r 46%|████▌     | 153/334 [03:46<04:27,  1.48s/it]"
          ]
        },
        {
          "output_type": "stream",
          "name": "stdout",
          "text": [
            "Batch 152 - gradient norm: 97.0000\n",
            "Batch 153: Valid labels = 1536\n",
            "Batch 153 - hard_loss: 5.59375\n",
            "Batch 153 - soft_loss: 2.2215054035186768\n",
            "Batch 153 - total_batch_loss: 3.2347412109375\n"
          ]
        },
        {
          "output_type": "stream",
          "name": "stderr",
          "text": [
            "\r 46%|████▌     | 154/334 [03:48<04:26,  1.48s/it]"
          ]
        },
        {
          "output_type": "stream",
          "name": "stdout",
          "text": [
            "Batch 153 - gradient norm: 38.0000\n",
            "Batch 154: Valid labels = 1536\n",
            "Batch 154 - hard_loss: 4.125\n",
            "Batch 154 - soft_loss: 1.7734317779541016\n",
            "Batch 154 - total_batch_loss: 2.4757771492004395\n"
          ]
        },
        {
          "output_type": "stream",
          "name": "stderr",
          "text": [
            "\r 46%|████▋     | 155/334 [03:49<04:25,  1.48s/it]"
          ]
        },
        {
          "output_type": "stream",
          "name": "stdout",
          "text": [
            "Batch 154 - gradient norm: 34.0000\n",
            "Batch 155: Valid labels = 1536\n",
            "Batch 155 - hard_loss: 2.890625\n",
            "Batch 155 - soft_loss: 1.392871379852295\n",
            "Batch 155 - total_batch_loss: 1.8421974182128906\n"
          ]
        },
        {
          "output_type": "stream",
          "name": "stderr",
          "text": [
            "\r 47%|████▋     | 156/334 [03:51<04:23,  1.48s/it]"
          ]
        },
        {
          "output_type": "stream",
          "name": "stdout",
          "text": [
            "Batch 155 - gradient norm: 35.0000\n",
            "Batch 156: Valid labels = 1536\n",
            "Batch 156 - hard_loss: 5.09375\n",
            "Batch 156 - soft_loss: 2.0219058990478516\n",
            "Batch 156 - total_batch_loss: 2.9465842247009277\n"
          ]
        },
        {
          "output_type": "stream",
          "name": "stderr",
          "text": [
            "\r 47%|████▋     | 157/334 [03:52<04:21,  1.48s/it]"
          ]
        },
        {
          "output_type": "stream",
          "name": "stdout",
          "text": [
            "Batch 156 - gradient norm: 50.5000\n",
            "Batch 157: Valid labels = 1536\n",
            "Batch 157 - hard_loss: 6.65625\n",
            "Batch 157 - soft_loss: 2.490905523300171\n",
            "Batch 157 - total_batch_loss: 3.74363374710083\n"
          ]
        },
        {
          "output_type": "stream",
          "name": "stderr",
          "text": [
            "\r 47%|████▋     | 158/334 [03:54<04:19,  1.48s/it]"
          ]
        },
        {
          "output_type": "stream",
          "name": "stdout",
          "text": [
            "Batch 157 - gradient norm: 58.2500\n",
            "Batch 158: Valid labels = 1536\n",
            "Batch 158 - hard_loss: 3.90625\n",
            "Batch 158 - soft_loss: 1.5333398580551147\n",
            "Batch 158 - total_batch_loss: 2.245213031768799\n"
          ]
        },
        {
          "output_type": "stream",
          "name": "stderr",
          "text": [
            "\r 48%|████▊     | 159/334 [03:55<04:18,  1.48s/it]"
          ]
        },
        {
          "output_type": "stream",
          "name": "stdout",
          "text": [
            "Batch 158 - gradient norm: 38.7500\n",
            "Batch 159: Valid labels = 1536\n",
            "Batch 159 - hard_loss: 3.453125\n",
            "Batch 159 - soft_loss: 1.521662712097168\n",
            "Batch 159 - total_batch_loss: 2.1042263507843018\n"
          ]
        },
        {
          "output_type": "stream",
          "name": "stderr",
          "text": [
            "\r 48%|████▊     | 160/334 [03:57<04:16,  1.47s/it]"
          ]
        },
        {
          "output_type": "stream",
          "name": "stdout",
          "text": [
            "Batch 159 - gradient norm: 31.8750\n",
            "Epoch 1/10, Batch 160\n",
            "  Total Loss: 2.1042\n",
            "  Hard Loss: 3.4531\n",
            "  Soft Loss: 1.5217\n",
            "Batch 160: Valid labels = 1536\n",
            "Batch 160 - hard_loss: 3.453125\n",
            "Batch 160 - soft_loss: 1.5081185102462769\n",
            "Batch 160 - total_batch_loss: 2.094745397567749\n"
          ]
        },
        {
          "output_type": "stream",
          "name": "stderr",
          "text": [
            "\r 48%|████▊     | 161/334 [03:58<04:15,  1.48s/it]"
          ]
        },
        {
          "output_type": "stream",
          "name": "stdout",
          "text": [
            "Batch 160 - gradient norm: 42.0000\n",
            "Batch 161: Valid labels = 1536\n",
            "Batch 161 - hard_loss: 4.09375\n",
            "Batch 161 - soft_loss: 1.6318374872207642\n",
            "Batch 161 - total_batch_loss: 2.3688488006591797\n"
          ]
        },
        {
          "output_type": "stream",
          "name": "stderr",
          "text": [
            "\r 49%|████▊     | 162/334 [04:00<04:14,  1.48s/it]"
          ]
        },
        {
          "output_type": "stream",
          "name": "stdout",
          "text": [
            "Batch 161 - gradient norm: 44.2500\n",
            "Batch 162: Valid labels = 1536\n",
            "Batch 162 - hard_loss: 2.546875\n",
            "Batch 162 - soft_loss: 1.219119668006897\n",
            "Batch 162 - total_batch_loss: 1.6190087795257568\n"
          ]
        },
        {
          "output_type": "stream",
          "name": "stderr",
          "text": [
            "\r 49%|████▉     | 163/334 [04:01<04:12,  1.48s/it]"
          ]
        },
        {
          "output_type": "stream",
          "name": "stdout",
          "text": [
            "Batch 162 - gradient norm: 39.2500\n",
            "Batch 163: Valid labels = 1536\n",
            "Batch 163 - hard_loss: 4.46875\n",
            "Batch 163 - soft_loss: 1.6978145837783813\n",
            "Batch 163 - total_batch_loss: 2.5322203636169434\n"
          ]
        },
        {
          "output_type": "stream",
          "name": "stderr",
          "text": [
            "\r 49%|████▉     | 164/334 [04:03<04:11,  1.48s/it]"
          ]
        },
        {
          "output_type": "stream",
          "name": "stdout",
          "text": [
            "Batch 163 - gradient norm: 49.2500\n",
            "Batch 164: Valid labels = 1536\n",
            "Batch 164 - hard_loss: 4.78125\n",
            "Batch 164 - soft_loss: 1.7279983758926392\n",
            "Batch 164 - total_batch_loss: 2.647099018096924\n"
          ]
        },
        {
          "output_type": "stream",
          "name": "stderr",
          "text": [
            "\r 49%|████▉     | 165/334 [04:04<04:09,  1.48s/it]"
          ]
        },
        {
          "output_type": "stream",
          "name": "stdout",
          "text": [
            "Batch 164 - gradient norm: 48.2500\n",
            "Batch 165: Valid labels = 1536\n",
            "Batch 165 - hard_loss: 8.0625\n",
            "Batch 165 - soft_loss: 2.373410224914551\n",
            "Batch 165 - total_batch_loss: 4.083261966705322\n"
          ]
        },
        {
          "output_type": "stream",
          "name": "stderr",
          "text": [
            "\r 50%|████▉     | 166/334 [04:06<04:07,  1.47s/it]"
          ]
        },
        {
          "output_type": "stream",
          "name": "stdout",
          "text": [
            "Batch 165 - gradient norm: 94.5000\n",
            "Batch 166: Valid labels = 1536\n",
            "Batch 166 - hard_loss: 6.21875\n",
            "Batch 166 - soft_loss: 1.9162529706954956\n",
            "Batch 166 - total_batch_loss: 3.208564519882202\n"
          ]
        },
        {
          "output_type": "stream",
          "name": "stderr",
          "text": [
            "\r 50%|█████     | 167/334 [04:07<04:06,  1.48s/it]"
          ]
        },
        {
          "output_type": "stream",
          "name": "stdout",
          "text": [
            "Batch 166 - gradient norm: 67.5000\n",
            "Batch 167: Valid labels = 1536\n",
            "Batch 167 - hard_loss: 4.53125\n",
            "Batch 167 - soft_loss: 1.5585166215896606\n",
            "Batch 167 - total_batch_loss: 2.450336456298828\n"
          ]
        },
        {
          "output_type": "stream",
          "name": "stderr",
          "text": [
            "\r 50%|█████     | 168/334 [04:08<04:04,  1.47s/it]"
          ]
        },
        {
          "output_type": "stream",
          "name": "stdout",
          "text": [
            "Batch 167 - gradient norm: 52.2500\n",
            "Batch 168: Valid labels = 1536\n",
            "Batch 168 - hard_loss: 6.375\n",
            "Batch 168 - soft_loss: 1.9824689626693726\n",
            "Batch 168 - total_batch_loss: 3.301790714263916\n"
          ]
        },
        {
          "output_type": "stream",
          "name": "stderr",
          "text": [
            "\r 51%|█████     | 169/334 [04:10<04:03,  1.48s/it]"
          ]
        },
        {
          "output_type": "stream",
          "name": "stdout",
          "text": [
            "Batch 168 - gradient norm: 86.5000\n",
            "Batch 169: Valid labels = 1536\n",
            "Batch 169 - hard_loss: 5.46875\n",
            "Batch 169 - soft_loss: 1.7323540449142456\n",
            "Batch 169 - total_batch_loss: 2.8532729148864746\n"
          ]
        },
        {
          "output_type": "stream",
          "name": "stderr",
          "text": [
            "\r 51%|█████     | 170/334 [04:11<04:03,  1.48s/it]"
          ]
        },
        {
          "output_type": "stream",
          "name": "stdout",
          "text": [
            "Batch 169 - gradient norm: 70.5000\n",
            "Epoch 1/10, Batch 170\n",
            "  Total Loss: 2.8533\n",
            "  Hard Loss: 5.4688\n",
            "  Soft Loss: 1.7324\n",
            "Batch 170: Valid labels = 1536\n",
            "Batch 170 - hard_loss: 4.0\n",
            "Batch 170 - soft_loss: 1.6122411489486694\n",
            "Batch 170 - total_batch_loss: 2.331693649291992\n"
          ]
        },
        {
          "output_type": "stream",
          "name": "stderr",
          "text": [
            "\r 51%|█████     | 171/334 [04:13<04:01,  1.48s/it]"
          ]
        },
        {
          "output_type": "stream",
          "name": "stdout",
          "text": [
            "Batch 170 - gradient norm: 46.0000\n",
            "Batch 171: Valid labels = 1536\n",
            "Batch 171 - hard_loss: 4.625\n",
            "Batch 171 - soft_loss: 1.5694373846054077\n",
            "Batch 171 - total_batch_loss: 2.4892311096191406\n"
          ]
        },
        {
          "output_type": "stream",
          "name": "stderr",
          "text": [
            "\r 51%|█████▏    | 172/334 [04:14<04:00,  1.48s/it]"
          ]
        },
        {
          "output_type": "stream",
          "name": "stdout",
          "text": [
            "Batch 171 - gradient norm: 53.5000\n",
            "Batch 172: Valid labels = 1536\n",
            "Batch 172 - hard_loss: 2.5625\n",
            "Batch 172 - soft_loss: 1.2293576002120972\n",
            "Batch 172 - total_batch_loss: 1.6300815343856812\n"
          ]
        },
        {
          "output_type": "stream",
          "name": "stderr",
          "text": [
            "\r 52%|█████▏    | 173/334 [04:16<03:58,  1.48s/it]"
          ]
        },
        {
          "output_type": "stream",
          "name": "stdout",
          "text": [
            "Batch 172 - gradient norm: 33.0000\n",
            "Batch 173: Valid labels = 1536\n",
            "Batch 173 - hard_loss: 3.890625\n",
            "Batch 173 - soft_loss: 1.4968065023422241\n",
            "Batch 173 - total_batch_loss: 2.211827039718628\n"
          ]
        },
        {
          "output_type": "stream",
          "name": "stderr",
          "text": [
            "\r 52%|█████▏    | 174/334 [04:17<03:56,  1.48s/it]"
          ]
        },
        {
          "output_type": "stream",
          "name": "stdout",
          "text": [
            "Batch 173 - gradient norm: 52.0000\n",
            "Batch 174: Valid labels = 1536\n",
            "Batch 174 - hard_loss: 3.171875\n",
            "Batch 174 - soft_loss: 1.3174710273742676\n",
            "Batch 174 - total_batch_loss: 1.8753547668457031\n"
          ]
        },
        {
          "output_type": "stream",
          "name": "stderr",
          "text": [
            "\r 52%|█████▏    | 175/334 [04:19<03:55,  1.48s/it]"
          ]
        },
        {
          "output_type": "stream",
          "name": "stdout",
          "text": [
            "Batch 174 - gradient norm: 36.0000\n",
            "Batch 175: Valid labels = 1536\n",
            "Batch 175 - hard_loss: 4.28125\n",
            "Batch 175 - soft_loss: 1.5496643781661987\n",
            "Batch 175 - total_batch_loss: 2.3660149574279785\n"
          ]
        },
        {
          "output_type": "stream",
          "name": "stderr",
          "text": [
            "\r 53%|█████▎    | 176/334 [04:20<03:53,  1.48s/it]"
          ]
        },
        {
          "output_type": "stream",
          "name": "stdout",
          "text": [
            "Batch 175 - gradient norm: 49.0000\n",
            "Batch 176: Valid labels = 1536\n",
            "Batch 176 - hard_loss: 4.1875\n",
            "Batch 176 - soft_loss: 1.53731107711792\n",
            "Batch 176 - total_batch_loss: 2.333930253982544\n"
          ]
        },
        {
          "output_type": "stream",
          "name": "stderr",
          "text": [
            "\r 53%|█████▎    | 177/334 [04:22<03:52,  1.48s/it]"
          ]
        },
        {
          "output_type": "stream",
          "name": "stdout",
          "text": [
            "Batch 176 - gradient norm: 48.2500\n",
            "Batch 177: Valid labels = 1536\n",
            "Batch 177 - hard_loss: 5.9375\n",
            "Batch 177 - soft_loss: 1.9343342781066895\n",
            "Batch 177 - total_batch_loss: 3.135283946990967\n"
          ]
        },
        {
          "output_type": "stream",
          "name": "stderr",
          "text": [
            "\r 53%|█████▎    | 178/334 [04:23<03:51,  1.48s/it]"
          ]
        },
        {
          "output_type": "stream",
          "name": "stdout",
          "text": [
            "Batch 177 - gradient norm: 65.0000\n",
            "Batch 178: Valid labels = 1536\n",
            "Batch 178 - hard_loss: 4.34375\n",
            "Batch 178 - soft_loss: 1.5531858205795288\n",
            "Batch 178 - total_batch_loss: 2.3919177055358887\n"
          ]
        },
        {
          "output_type": "stream",
          "name": "stderr",
          "text": [
            "\r 54%|█████▎    | 179/334 [04:25<03:49,  1.48s/it]"
          ]
        },
        {
          "output_type": "stream",
          "name": "stdout",
          "text": [
            "Batch 178 - gradient norm: 78.5000\n",
            "Batch 179: Valid labels = 1536\n",
            "Batch 179 - hard_loss: 6.0\n",
            "Batch 179 - soft_loss: 1.9021250009536743\n",
            "Batch 179 - total_batch_loss: 3.1283626556396484\n"
          ]
        },
        {
          "output_type": "stream",
          "name": "stderr",
          "text": [
            "\r 54%|█████▍    | 180/334 [04:26<03:48,  1.48s/it]"
          ]
        },
        {
          "output_type": "stream",
          "name": "stdout",
          "text": [
            "Batch 179 - gradient norm: 117.5000\n",
            "Epoch 1/10, Batch 180\n",
            "  Total Loss: 3.1284\n",
            "  Hard Loss: 6.0000\n",
            "  Soft Loss: 1.9021\n",
            "Batch 180: Valid labels = 1536\n",
            "Batch 180 - hard_loss: 2.625\n",
            "Batch 180 - soft_loss: 1.0915838479995728\n",
            "Batch 180 - total_batch_loss: 1.553171157836914\n"
          ]
        },
        {
          "output_type": "stream",
          "name": "stderr",
          "text": [
            "\r 54%|█████▍    | 181/334 [04:28<03:45,  1.47s/it]"
          ]
        },
        {
          "output_type": "stream",
          "name": "stdout",
          "text": [
            "Batch 180 - gradient norm: 36.2500\n",
            "Batch 181: Valid labels = 1536\n",
            "Batch 181 - hard_loss: 2.1875\n",
            "Batch 181 - soft_loss: 1.0630394220352173\n",
            "Batch 181 - total_batch_loss: 1.4003775119781494\n"
          ]
        },
        {
          "output_type": "stream",
          "name": "stderr",
          "text": [
            "\r 54%|█████▍    | 182/334 [04:29<03:43,  1.47s/it]"
          ]
        },
        {
          "output_type": "stream",
          "name": "stdout",
          "text": [
            "Batch 181 - gradient norm: 34.5000\n",
            "Batch 182: Valid labels = 1536\n"
          ]
        }
      ]
    },
    {
      "cell_type": "code",
      "source": [],
      "metadata": {
        "id": "mfhzX5GSuyCx"
      },
      "execution_count": null,
      "outputs": []
    },
    {
      "cell_type": "code",
      "source": [],
      "metadata": {
        "id": "06uwakrH6EOf"
      },
      "execution_count": null,
      "outputs": []
    },
    {
      "cell_type": "markdown",
      "source": [
        "### Store the Model"
      ],
      "metadata": {
        "id": "_YANWUfsv8vQ"
      }
    },
    {
      "cell_type": "code",
      "source": [
        "distil_student_model_name = \"pruned_distil_Gemma_3_Llama-3.2-1B\""
      ],
      "metadata": {
        "id": "BPZb4_hUv6Tl"
      },
      "execution_count": null,
      "outputs": []
    },
    {
      "cell_type": "code",
      "source": [
        "student_model.save_pretrained(distil_student_model_name)\n",
        "tokenizer.save_pretrained(distil_student_model_name)"
      ],
      "metadata": {
        "id": "0ko1sQXTt2Df",
        "colab": {
          "base_uri": "https://localhost:8080/"
        },
        "outputId": "a700e484-0ed9-4346-be5b-0d97010563f2"
      },
      "execution_count": null,
      "outputs": [
        {
          "output_type": "execute_result",
          "data": {
            "text/plain": [
              "('pruned_distil_Gemma_3_Llama-3.2-1B/tokenizer_config.json',\n",
              " 'pruned_distil_Gemma_3_Llama-3.2-1B/special_tokens_map.json',\n",
              " 'pruned_distil_Gemma_3_Llama-3.2-1B/tokenizer.json')"
            ]
          },
          "metadata": {},
          "execution_count": 34
        }
      ]
    },
    {
      "cell_type": "code",
      "source": [
        "student_model.push_to_hub(distil_student_model_name,\n",
        "                          private=False,\n",
        "                          use_temp_dir=False)\n",
        "tokenizer.push_to_hub(distil_student_model_name,\n",
        "                      private=False,\n",
        "                      use_temp_dir=False)"
      ],
      "metadata": {
        "id": "tJuSThUcwNJC",
        "colab": {
          "base_uri": "https://localhost:8080/",
          "height": 248,
          "referenced_widgets": [
            "956bfe9109af4b7a829ed1a77edaa0aa",
            "66ee86649ab247429ed77348578e1a55",
            "7f56ef0232174b3892605b4f25093c77",
            "309c636fe09046739598b8b2c97274ab",
            "9f935f2b72464f2480c1f2d5912f0be5",
            "3bce85d8204b4367bcf3ec7f2e06202e",
            "2631fbf119be4a16bd01a0de5eb3f0c0",
            "2db4162c39124474abda3d74cb043d09",
            "767fd525b16a4a748a61e6a2e0b0669b",
            "c2f8f1dea54a47d0ac44b9469451e642",
            "2645dfb92d6e427bb10f9b840d38f67e",
            "8f7a5650dedc49309c750068f96784c7",
            "d72425e2bda74dc990bede98bfb89e14",
            "cfabf8840da6474a935239d836d4af24",
            "410781d026b640b9a8dd673e81fabcfe",
            "fcc4cf630e164330af85f2fbd5374ca7",
            "f8a0c4821ebf4d2ea20b75f5ab7d6d8a",
            "a88cff638f294406836dc4751a3195fa",
            "4deea90213034a9396ecf4bea4a8232c",
            "336b2cf7730642309e674ae3e40cc34a",
            "4fa082dae575474180af601fb919bd58",
            "92c3280f256341b38636d9d0db0734c2",
            "2e2212eb4a40416181220959f4672c7e",
            "888fff6942314d44901723d39da5d25f",
            "33ccb14719f84e78b0872cf6c1158f04",
            "609d0394d1c54b8cbf6cd3c58b849153",
            "f11d73faee2a4c198004ac0f48da0a5b",
            "ef872b9417664d448d437f3b271fef4f",
            "2e76934a31fe47e187935b9724c7c14b",
            "740998269f824d959d31e2ca4ea36ead",
            "a5c9ef4c215b48dfb3aa1db4d0bbe402",
            "fb395240639f4020a0baf955d8924b00",
            "a7808394aaba4426b7a1b52cd6898d91",
            "6693f698281f40628cc847161e9441c0",
            "8822a80c1746452dbee41d5e4c354f68",
            "6166ef1dc13d4cb7b1101cf7a631be98",
            "d5fd9f1321cd4057afbb22eb4af6a7bc",
            "c5cc17e507ac4d8ab93cd78bc858ebd1",
            "5ad2a075c8cd4b449b407ab9a298a1c8",
            "b6ca7349dedc46b38c7ef193e21cf1ad",
            "6130b8e85d814c29937d807efc61ef4d",
            "58bfc59e124e45e087677882f05edf5b",
            "22489debd95d4bd0b9d9d86733e38805",
            "549400529aff4848a4bf8afc1b76db2e",
            "e52d714ad2db4d518888a074b664b950",
            "4343cbd27cd44c3aa885bf25ba222b50",
            "b337a5920d574fd38d7f1be25d8e6aac",
            "e5f85057c6174714aa9542ab32869c30",
            "6eaeade50a4948e7b526c9b877b9cf7f",
            "986c65e9ee3346a28c86208454a60377",
            "56779d9ea68c4b8398dc2cf32e88184f",
            "4682c748adc1485684f547b751e3cae9",
            "1022bd45ac184e3880db62a5a5b0ae3b",
            "db9d41ba3bd54d36a33f5a6254fc4548",
            "62634986ed07462296d33bb92e585362"
          ]
        },
        "outputId": "7733ef41-3f27-49a6-fac0-65412331b7a9"
      },
      "execution_count": null,
      "outputs": [
        {
          "output_type": "display_data",
          "data": {
            "text/plain": [
              "  0%|          | 0/1 [00:00<?, ?it/s]"
            ],
            "application/vnd.jupyter.widget-view+json": {
              "version_major": 2,
              "version_minor": 0,
              "model_id": "956bfe9109af4b7a829ed1a77edaa0aa"
            }
          },
          "metadata": {}
        },
        {
          "output_type": "display_data",
          "data": {
            "text/plain": [
              "model.safetensors:   0%|          | 0.00/2.47G [00:00<?, ?B/s]"
            ],
            "application/vnd.jupyter.widget-view+json": {
              "version_major": 2,
              "version_minor": 0,
              "model_id": "8f7a5650dedc49309c750068f96784c7"
            }
          },
          "metadata": {}
        },
        {
          "output_type": "display_data",
          "data": {
            "text/plain": [
              "README.md:   0%|          | 0.00/5.17k [00:00<?, ?B/s]"
            ],
            "application/vnd.jupyter.widget-view+json": {
              "version_major": 2,
              "version_minor": 0,
              "model_id": "2e2212eb4a40416181220959f4672c7e"
            }
          },
          "metadata": {}
        },
        {
          "output_type": "display_data",
          "data": {
            "text/plain": [
              "  0%|          | 0/1 [00:00<?, ?it/s]"
            ],
            "application/vnd.jupyter.widget-view+json": {
              "version_major": 2,
              "version_minor": 0,
              "model_id": "6693f698281f40628cc847161e9441c0"
            }
          },
          "metadata": {}
        },
        {
          "output_type": "display_data",
          "data": {
            "text/plain": [
              "tokenizer.json:   0%|          | 0.00/17.2M [00:00<?, ?B/s]"
            ],
            "application/vnd.jupyter.widget-view+json": {
              "version_major": 2,
              "version_minor": 0,
              "model_id": "e52d714ad2db4d518888a074b664b950"
            }
          },
          "metadata": {}
        },
        {
          "output_type": "execute_result",
          "data": {
            "text/plain": [
              "CommitInfo(commit_url='https://huggingface.co/TachyHealthResearch/pruned_distil_Gemma_3_Llama-3.2-1B/commit/72ee56f189fa27337a782d42584995f36cea1686', commit_message='Upload tokenizer', commit_description='', oid='72ee56f189fa27337a782d42584995f36cea1686', pr_url=None, repo_url=RepoUrl('https://huggingface.co/TachyHealthResearch/pruned_distil_Gemma_3_Llama-3.2-1B', endpoint='https://huggingface.co', repo_type='model', repo_id='TachyHealthResearch/pruned_distil_Gemma_3_Llama-3.2-1B'), pr_revision=None, pr_num=None)"
            ],
            "application/vnd.google.colaboratory.intrinsic+json": {
              "type": "string"
            }
          },
          "metadata": {},
          "execution_count": 35
        }
      ]
    },
    {
      "cell_type": "code",
      "source": [],
      "metadata": {
        "id": "_qETQkZzxZ1v"
      },
      "execution_count": null,
      "outputs": []
    },
    {
      "cell_type": "markdown",
      "source": [
        "### Evaluating the model"
      ],
      "metadata": {
        "id": "gptUkZiew62L"
      }
    },
    {
      "cell_type": "code",
      "source": [
        "from lm_eval import evaluator, tasks, models\n",
        "\n",
        "def evaluate_hf_model(model_name, tasks=['arc_easy'], num_fewshot=0):\n",
        "    model_args = f\"pretrained={model_name},device=cuda\"\n",
        "    tasks = tasks\n",
        "\n",
        "    results = evaluator.simple_evaluate(\n",
        "      model=\"hf\",\n",
        "      model_args=model_args,\n",
        "      tasks=tasks,\n",
        "      num_fewshot=0,\n",
        "      limit=None,\n",
        "      bootstrap_iters=10\n",
        "    )\n",
        "\n",
        "    metrics = results.get('results', {})\n",
        "    return metrics"
      ],
      "metadata": {
        "id": "j0dZT-crw5LA"
      },
      "execution_count": null,
      "outputs": []
    },
    {
      "cell_type": "code",
      "source": [
        "tasks = ['lambada']\n",
        "\n",
        "metrics_pruned_kd = evaluate_hf_model(\"TachyHealthResearch/pruned_distil_Gemma_3_Llama-3.2-1B\", tasks=tasks)\n",
        "\n",
        "metrics_pruned_kd"
      ],
      "metadata": {
        "id": "LmzMsVRFxPyJ",
        "colab": {
          "base_uri": "https://localhost:8080/",
          "height": 1000,
          "referenced_widgets": [
            "9866d028dcf94fd2b378deea6e03638b",
            "45109581db9b417b8ff1b01993363fd1",
            "3f2ecddb6db74ad696126f2b4361771f",
            "312fec9f58c448b6b19b291182d93768",
            "357f217c34ba4985b6bef425a09132e9",
            "e779c9de982840ef8c2ed2b20feaffed",
            "7adf51e3c54f4abcac3942dfae4d1fe4",
            "085912c2f8c24dac9fa5e6bdc7353adf",
            "13ce05010ec3413586eaa1a9f9241603",
            "01e56720689b44d9a6765b2d11e494c2",
            "6555295065344f2a97cb3dc933dded88",
            "ac6c21e857434109a8c1b7f08cd6747f",
            "97676d4993c54858ab9b0a904855ad65",
            "228b850d338949debaea195c6c3fcf24",
            "a5daf11f9bc249b298f2a4f7db15252a",
            "9df3933338f948c8a7e55a9444c697f1",
            "185ac8dc1bbc4798b2aa3357d107b50a",
            "7dcc861077ea435c818a57ee7461813a",
            "31ca2da599f64bd08b57f1e6e546d28b",
            "f258b0267b7f4192945763fe3f9da2ef",
            "b5aa9a6b0bde4c77b31684d620dc8cff",
            "c9a9184d2aa34442a0280247c16d09a2",
            "1f24d14d8a444eb6b668551c51a51f91",
            "beb400dec7eb4c0ab3614eabf9ee5ffa",
            "87e4c0f19bf7462dbeccb24265efdd28",
            "ab9db950c4fa4eac87ad32c9130b458e",
            "a7181d14ca66451a9e2ec93c472caf60",
            "fffd465935e34729ab9726dc60e1fdd5",
            "9a9b4f49387044f7b302308be277f590",
            "f2cf984a278d4f689125f04b667fc0ff",
            "8a3b9ce37ae349519bef43760edfcfea",
            "d7b875a72c9c4a24b9e4ee1abf4b0188",
            "02506512fa6e433aad076b072a66d75a",
            "c9f9a64f24b0420abaaac0f9e0630b67",
            "88826a37ade34608a4fe180bf3faeb5d",
            "7e2d647f012f4f9897e7e97823f1e1fb",
            "fe0c254bb25b4b1fbab8747e8ebb44d8",
            "1ee1f14cb34f4c0b831aebd7c46b41e9",
            "0a7f2ddc53c1445fb3bbae0ecd283e8f",
            "3f2521a5b6a24c098f78556852dc17b8",
            "d4f6031d78d048c7825a2b2f9ef32615",
            "5c913e511e9c4b7db96b0e0ee3721e58",
            "4accfb02ed304c6884e9e16debe76d11",
            "97a005d71587470995ad44f0d3cf3220",
            "87e6c9d5037348928ff8c0c63058ec18",
            "c1bcb8c4699840fbb3e7c91551fb46eb",
            "a464dec4fe6f4962b6f1c03fe7869d10",
            "77f8c8f9852b43c19b54d895285410ef",
            "c2841f77c7624960b28bd794ab6c6601",
            "b75325f29c7f496db42b8b0d064e4546",
            "0435b9f89aa645aa80dbca6c26e2be20",
            "86098f66ae7f40988d8e8713159c91d8",
            "10b666698a414c4ba3afcee34d2162b3",
            "fc750c1476494974b73a9e7dba9f443d",
            "cc2d063497a74fbea251cece9190b8e0",
            "28b78f087d9e426badc4ee71b3ac875d",
            "62292fb8089b44da806d31591262b231",
            "ca30cabcf9f74aafad5870e7a3c8e3d7",
            "fa6f4b8f63a24c619e769aa3ea954915",
            "024398ae84104126ad6911088c72725a",
            "5fb02878011e487ca96e198c1bdf06ec",
            "1422e673130648f78d941b18870fc691",
            "004a45af1872483fb589d27b19319c1a",
            "e99e9bed42334523907d69e6384ef52a",
            "2cefdb4020f042d487e105ae344a1f6b",
            "30032b503df643dcac3631bc0050a445",
            "f60bd1455c7d4a2a87d09d8c923a004d",
            "32fb463c21f7455bb79c8204ea8f0786",
            "98111c3debce459e851161caa872dc79",
            "37abaa723d534bb3abe0bb243fe0920b",
            "ab8656becad047e79153bfb8de46750e",
            "60648081cded419393e81421dad14516",
            "4eabde02bad64e2b98f38378e1a7d440",
            "282cf5eaf0c94904b54af4870912bfe7",
            "178141c9ff3e4c61b109429935648918",
            "5153e9db792c420cbe0f624b5aa46e65",
            "a40cdadc9df84b3aa776f707db499425",
            "4644e27711d642958e73f90e9af155c3",
            "d8b4aaa7d77643158d1c0c781302739c",
            "005f49d0c1744b53aa52ea8a84b56872",
            "3c7d030909ec4ee7a38a4fb385f317fb",
            "4cf868f05d1647229e1305ef63a91485",
            "96df10551e7f4c14b3964bd1c77eb175",
            "83390aa0cd3d4c339b68b64b7812840d",
            "6b0afb048a554b31903c85c087c9cb65",
            "ffb433d95c4e4d6db7b030d0a13d3129",
            "0189a693af414e6b82f68a860d6a4181",
            "5e45ca4052b94dd496027862e986c872",
            "aab61b0b3a6b48a49fbbfb4ea5d73a97",
            "88301b79a60c4da6b903f58723741f9b",
            "35878ffe427e4d64a2462b267c925420",
            "5a776fdfe6a0415ca23aaf84308a3221",
            "92fa0be7e0c043849fe81eae1860691c",
            "94d0786158c84fd787e8fe2d6253f45e",
            "e85e367ecdfe461794037d736cfff3d2",
            "546bd452d34247b9be542fde3470274e",
            "0fc82cab2f964b599205481571ff2f2f",
            "05e2ed70ca54481cb4aea8248d461034",
            "b529f3fba20841a9b83bae9f74ee811c",
            "bd37c497e90b4021acd43b9f1eb8b2e8",
            "0caaee8750a0481bbb91b093dd0c8e02",
            "8ba13e00f62d4f7aaf99f5281b052d71",
            "0a4aa333e4f243b6a2e0dbbfdc895a0b",
            "ba7976ab10234295bc2f8fc97de83b43",
            "09323e54dc9b4f5ab410640f4627e022",
            "0ea11b00ba4d4934a72ddc9110cf6a23",
            "433f5fea99be4f9396667c26a3c23f5a",
            "3a0a14dedaf44fb89c05b56d231fbe9f",
            "898960cf65e043ec9d50c49f0bae1dc1",
            "4dca00794be443ca96dd383051396927",
            "7bd48831d83247f794a0d91d9573d4ed",
            "49aa728a6ed14ba88d5e0bab537b3479",
            "7f0014a7a0ba4572a2464bb7d262df39",
            "707846c5908f43a3b6c173b571e928ae",
            "f4082cb3fccd40759b95c4a51fbd060c",
            "f535659c52294e4d981d8d09b8a6a512",
            "4b99e87e69214273ab08f280f639d2f7",
            "e56692905ba64017bd41a52899950f31",
            "e0fad7d095e944b4bc32c9df11fd2055",
            "cca39be3f99a47be849a29301cd1280b",
            "16bb52cc1643439d84f5d8b0b18839f5",
            "83369ec25f4f45449c5e74c124bbdc86",
            "d48dfb6243164e0fb3f13ce7a608df73",
            "e69395ce863e4d13b8c584d34f8c37fe",
            "25ea8994172743509b29b92d3821f0fd",
            "d674a063644d4a94b6e9dcb9daaa630c",
            "6d54ff1e3bd24afcae02141d3b708388",
            "da99b74d20c548bfb1c6e0d4724cad61",
            "6f07daed3c0b446c9f51499ebe389e76",
            "c256e97ebef64c489e5aff20cd270bc2",
            "85c3deebb1f4405589c3dc791eaf8e16",
            "142d2153282c4767ae6a93d316dd89ba",
            "2ada77b57ec24e3e8499da421fd6ba2e",
            "c4bc6f72722649d993237618c0106325",
            "1803c2fc15084676a96a952f6141d761",
            "09b80b1e7d274859b91a7cc16c2b210c",
            "62a8dc37af684baaaea8d026129598c0",
            "98aa4df13b6a4eb88f59075bd2467969",
            "6f0eae56fb9945ca8960d0a9dd36598d",
            "3dc691e2591e45a2a93f9d2e3c586a8b",
            "09ed6c00c1f54e858409571a7a5d0f40",
            "c45566150cc746899b3b899cdf5fe9ce",
            "9677debea1fc440aae2d742be98bc4ca",
            "ff6b484d39c94eb7b95f71763ff1db05",
            "28424510286446729930377cd08019c7",
            "703345c1d6494e0ab3631f5ae01d9bae",
            "52af69c9533e43d5ba19a4033aad8b5b",
            "833c9ca1a03a4197a2f4f8ac421dc29f",
            "5be9b25348b5452bbc5e1912c655338a",
            "1f405a9f47534aab901aa2be326f49d2",
            "7cd95691def546488672fe15ff2d17c9",
            "e1bf113438b84c6fbfd10a4d121cb151",
            "02f687605b2e4a82beb97d4b0d8ad483",
            "536e6686a5554419b390fe76fb7ca8e6",
            "549a0807d249484782b5712c8f218cb0",
            "bcbd2d11663a4a068a76b62b22814adb",
            "0fb6b07fbb9c43a8b713f9ec78353c1a",
            "6fb0bc8d0ec84dcc92f58fa489446424",
            "7beaeb2513d54644a3b54601f4ced8ba",
            "19d6a99232104ebeb8acf9e492052793",
            "654787baaaa24ef2a1b735c6fb7b6258",
            "88c22da8940c4f4e843b8e84c37afe5a",
            "efcf6cbbe86547c890e2b2cca2e5ec34",
            "7896079520a448ecaf857e20f6d0cd10",
            "bda181c4ed344cec981b4b2345730f57",
            "5d770d7300354af0b02725125e5beaa6",
            "7c4e32d49a424a1580e1c3215399fc6a",
            "2143f5d76eb34aafb3829315718584be",
            "acee438def8444a69ddc705fa52963a1",
            "b77e11c63e7e46c18963bce3af01f59b",
            "67afb4baedf34960903d1ebc3ba015c8",
            "116e9a8b596c446c9b0d8faeb5cc8f4c",
            "d20f82715fb34e65978038c4bbbd1c62",
            "1cde277f809b4b8288d3285a777a7eda",
            "8232e1b6319d416d993011f8e5b25235",
            "e8ed2fa77d8f487fa418b43385199d52",
            "e03b1ac024a24437bb6e1c478ce37237",
            "a40e376289514dd3a5526ac5be657ec2",
            "45fbca679c43423bb713c2be2b29f9a2",
            "0f1118a5698344d9ad40bd6c9451a97d",
            "9bae202740344be5a5cc177e67cfc89c",
            "5ce7ea6ef7474e78af978f5888ebbc1f",
            "9e3af00498e84e90b588befe4b085b2d",
            "b7b8d41bb77b456d8739cabfe7be1472",
            "28eb06485bd14e3da2428d2e00fd3c43",
            "aace01f0e55d4700bb65ba94274c2a73",
            "e365b2d709c445d698b800c776327833",
            "7fd6450caf434eb78d821d907a3f0afd",
            "51d151923a564e2eae6de977f2657b8d",
            "55721587adf84b6282fb99b5d266449e",
            "f597683f4b29439f8221d13d213dfce8",
            "9cbe122e5ea141bb9809a4bcdfa27eb0",
            "04f6169779784d03ba8e07f46908ff03",
            "e682756bfe884abc85c25542cd98708e",
            "f7821dbbc9944af6aded84c05062c73e",
            "b6537897d1cd44ac8120fb7d758db301",
            "928c8b1edc33468a84aa33d18031debc",
            "63aeacc02f164efabfd1befc2d4d4f35"
          ]
        },
        "outputId": "e36ab820-a9bf-4161-e5be-5b519d05c951"
      },
      "execution_count": null,
      "outputs": [
        {
          "output_type": "display_data",
          "data": {
            "text/plain": [
              "config.json:   0%|          | 0.00/838 [00:00<?, ?B/s]"
            ],
            "application/vnd.jupyter.widget-view+json": {
              "version_major": 2,
              "version_minor": 0,
              "model_id": "9866d028dcf94fd2b378deea6e03638b"
            }
          },
          "metadata": {}
        },
        {
          "output_type": "display_data",
          "data": {
            "text/plain": [
              "tokenizer_config.json:   0%|          | 0.00/50.6k [00:00<?, ?B/s]"
            ],
            "application/vnd.jupyter.widget-view+json": {
              "version_major": 2,
              "version_minor": 0,
              "model_id": "ac6c21e857434109a8c1b7f08cd6747f"
            }
          },
          "metadata": {}
        },
        {
          "output_type": "display_data",
          "data": {
            "text/plain": [
              "tokenizer.json:   0%|          | 0.00/17.2M [00:00<?, ?B/s]"
            ],
            "application/vnd.jupyter.widget-view+json": {
              "version_major": 2,
              "version_minor": 0,
              "model_id": "1f24d14d8a444eb6b668551c51a51f91"
            }
          },
          "metadata": {}
        },
        {
          "output_type": "display_data",
          "data": {
            "text/plain": [
              "special_tokens_map.json:   0%|          | 0.00/335 [00:00<?, ?B/s]"
            ],
            "application/vnd.jupyter.widget-view+json": {
              "version_major": 2,
              "version_minor": 0,
              "model_id": "c9f9a64f24b0420abaaac0f9e0630b67"
            }
          },
          "metadata": {}
        },
        {
          "output_type": "display_data",
          "data": {
            "text/plain": [
              "model.safetensors:   0%|          | 0.00/2.47G [00:00<?, ?B/s]"
            ],
            "application/vnd.jupyter.widget-view+json": {
              "version_major": 2,
              "version_minor": 0,
              "model_id": "87e6c9d5037348928ff8c0c63058ec18"
            }
          },
          "metadata": {}
        },
        {
          "output_type": "display_data",
          "data": {
            "text/plain": [
              "generation_config.json:   0%|          | 0.00/180 [00:00<?, ?B/s]"
            ],
            "application/vnd.jupyter.widget-view+json": {
              "version_major": 2,
              "version_minor": 0,
              "model_id": "28b78f087d9e426badc4ee71b3ac875d"
            }
          },
          "metadata": {}
        },
        {
          "output_type": "display_data",
          "data": {
            "text/plain": [
              "README.md:   0%|          | 0.00/4.99k [00:00<?, ?B/s]"
            ],
            "application/vnd.jupyter.widget-view+json": {
              "version_major": 2,
              "version_minor": 0,
              "model_id": "f60bd1455c7d4a2a87d09d8c923a004d"
            }
          },
          "metadata": {}
        },
        {
          "output_type": "display_data",
          "data": {
            "text/plain": [
              "lambada_openai.py:   0%|          | 0.00/4.82k [00:00<?, ?B/s]"
            ],
            "application/vnd.jupyter.widget-view+json": {
              "version_major": 2,
              "version_minor": 0,
              "model_id": "4644e27711d642958e73f90e9af155c3"
            }
          },
          "metadata": {}
        },
        {
          "output_type": "stream",
          "name": "stderr",
          "text": [
            "Xet Storage is enabled for this repo, but the 'hf_xet' package is not installed. Falling back to regular HTTP download. For better performance, install the package with: `pip install huggingface_hub[hf_xet]` or `pip install hf_xet`\n",
            "WARNING:huggingface_hub.file_download:Xet Storage is enabled for this repo, but the 'hf_xet' package is not installed. Falling back to regular HTTP download. For better performance, install the package with: `pip install huggingface_hub[hf_xet]` or `pip install hf_xet`\n"
          ]
        },
        {
          "output_type": "display_data",
          "data": {
            "text/plain": [
              "0000.parquet:   0%|          | 0.00/1.16M [00:00<?, ?B/s]"
            ],
            "application/vnd.jupyter.widget-view+json": {
              "version_major": 2,
              "version_minor": 0,
              "model_id": "aab61b0b3a6b48a49fbbfb4ea5d73a97"
            }
          },
          "metadata": {}
        },
        {
          "output_type": "display_data",
          "data": {
            "text/plain": [
              "Generating test split:   0%|          | 0/5153 [00:00<?, ? examples/s]"
            ],
            "application/vnd.jupyter.widget-view+json": {
              "version_major": 2,
              "version_minor": 0,
              "model_id": "bd37c497e90b4021acd43b9f1eb8b2e8"
            }
          },
          "metadata": {}
        },
        {
          "output_type": "stream",
          "name": "stderr",
          "text": [
            "WARNING:lm_eval.api.task:[Task: lambada_openai] has_training_docs and has_validation_docs are False, using test_docs as fewshot_docs but this is not recommended.\n",
            "WARNING:lm_eval.api.task:[Task: lambada_openai] has_training_docs and has_validation_docs are False, using test_docs as fewshot_docs but this is not recommended.\n"
          ]
        },
        {
          "output_type": "display_data",
          "data": {
            "text/plain": [
              "README.md:   0%|          | 0.00/7.32k [00:00<?, ?B/s]"
            ],
            "application/vnd.jupyter.widget-view+json": {
              "version_major": 2,
              "version_minor": 0,
              "model_id": "7bd48831d83247f794a0d91d9573d4ed"
            }
          },
          "metadata": {}
        },
        {
          "output_type": "display_data",
          "data": {
            "text/plain": [
              "train-00000-of-00002.parquet:   0%|          | 0.00/269M [00:00<?, ?B/s]"
            ],
            "application/vnd.jupyter.widget-view+json": {
              "version_major": 2,
              "version_minor": 0,
              "model_id": "83369ec25f4f45449c5e74c124bbdc86"
            }
          },
          "metadata": {}
        },
        {
          "output_type": "display_data",
          "data": {
            "text/plain": [
              "train-00001-of-00002.parquet:   0%|          | 0.00/281M [00:00<?, ?B/s]"
            ],
            "application/vnd.jupyter.widget-view+json": {
              "version_major": 2,
              "version_minor": 0,
              "model_id": "2ada77b57ec24e3e8499da421fd6ba2e"
            }
          },
          "metadata": {}
        },
        {
          "output_type": "display_data",
          "data": {
            "text/plain": [
              "test-00000-of-00001.parquet:   0%|          | 0.00/1.14M [00:00<?, ?B/s]"
            ],
            "application/vnd.jupyter.widget-view+json": {
              "version_major": 2,
              "version_minor": 0,
              "model_id": "ff6b484d39c94eb7b95f71763ff1db05"
            }
          },
          "metadata": {}
        },
        {
          "output_type": "display_data",
          "data": {
            "text/plain": [
              "validation-00000-of-00001.parquet:   0%|          | 0.00/1.08M [00:00<?, ?B/s]"
            ],
            "application/vnd.jupyter.widget-view+json": {
              "version_major": 2,
              "version_minor": 0,
              "model_id": "549a0807d249484782b5712c8f218cb0"
            }
          },
          "metadata": {}
        },
        {
          "output_type": "display_data",
          "data": {
            "text/plain": [
              "Generating train split:   0%|          | 0/2662 [00:00<?, ? examples/s]"
            ],
            "application/vnd.jupyter.widget-view+json": {
              "version_major": 2,
              "version_minor": 0,
              "model_id": "5d770d7300354af0b02725125e5beaa6"
            }
          },
          "metadata": {}
        },
        {
          "output_type": "display_data",
          "data": {
            "text/plain": [
              "Generating test split:   0%|          | 0/5153 [00:00<?, ? examples/s]"
            ],
            "application/vnd.jupyter.widget-view+json": {
              "version_major": 2,
              "version_minor": 0,
              "model_id": "e03b1ac024a24437bb6e1c478ce37237"
            }
          },
          "metadata": {}
        },
        {
          "output_type": "display_data",
          "data": {
            "text/plain": [
              "Generating validation split:   0%|          | 0/4869 [00:00<?, ? examples/s]"
            ],
            "application/vnd.jupyter.widget-view+json": {
              "version_major": 2,
              "version_minor": 0,
              "model_id": "7fd6450caf434eb78d821d907a3f0afd"
            }
          },
          "metadata": {}
        },
        {
          "output_type": "stream",
          "name": "stderr",
          "text": [
            "WARNING:lm_eval.evaluator:Overwriting default num_fewshot of lambada_standard from None to 0\n",
            "WARNING:lm_eval.evaluator:Overwriting default num_fewshot of lambada_openai from None to 0\n",
            "100%|██████████| 5153/5153 [00:09<00:00, 570.10it/s]\n",
            "100%|██████████| 5153/5153 [00:09<00:00, 570.87it/s]\n",
            "Running loglikelihood requests: 100%|██████████| 10306/10306 [05:56<00:00, 28.87it/s]\n"
          ]
        },
        {
          "output_type": "stream",
          "name": "stdout",
          "text": [
            "bootstrapping for stddev: perplexity\n"
          ]
        },
        {
          "output_type": "stream",
          "name": "stderr",
          "text": [
            "100%|██████████| 1/1 [00:00<00:00, 91.61it/s]\n"
          ]
        },
        {
          "output_type": "stream",
          "name": "stdout",
          "text": [
            "bootstrapping for stddev: perplexity\n"
          ]
        },
        {
          "output_type": "stream",
          "name": "stderr",
          "text": [
            "100%|██████████| 1/1 [00:00<00:00, 110.81it/s]\n"
          ]
        },
        {
          "output_type": "execute_result",
          "data": {
            "text/plain": [
              "{'lambada_openai': {'alias': 'lambada_openai',\n",
              "  'perplexity,none': 5.703459960872111,\n",
              "  'perplexity_stderr,none': 0.19244903316877648,\n",
              "  'acc,none': 0.6295361925092179,\n",
              "  'acc_stderr,none': 0.006728144610304273},\n",
              " 'lambada_standard': {'alias': 'lambada_standard',\n",
              "  'perplexity,none': 8.854622024627842,\n",
              "  'perplexity_stderr,none': 0.38517807743498733,\n",
              "  'acc,none': 0.5350281389481856,\n",
              "  'acc_stderr,none': 0.006948862533178278}}"
            ]
          },
          "metadata": {},
          "execution_count": 37
        }
      ]
    },
    {
      "cell_type": "code",
      "source": [],
      "metadata": {
        "id": "fbGgWSH8WovD"
      },
      "execution_count": null,
      "outputs": []
    },
    {
      "cell_type": "code",
      "source": [],
      "metadata": {
        "id": "NHRaWKeUWoxo"
      },
      "execution_count": null,
      "outputs": []
    },
    {
      "cell_type": "code",
      "source": [],
      "metadata": {
        "id": "ZPnIgHjYWpCS"
      },
      "execution_count": null,
      "outputs": []
    }
  ]
}